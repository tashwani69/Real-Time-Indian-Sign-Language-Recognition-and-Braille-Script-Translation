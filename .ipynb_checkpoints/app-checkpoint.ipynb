{
 "cells": [
  {
   "cell_type": "code",
   "execution_count": 1,
   "id": "73a182dc",
   "metadata": {},
   "outputs": [],
   "source": [
    "import cv2\n",
    "import numpy as np\n",
    "import os\n",
    "from matplotlib import pyplot as plt\n",
    "import time\n",
    "import mediapipe as mp"
   ]
  },
  {
   "cell_type": "code",
   "execution_count": 2,
   "id": "53b9a108",
   "metadata": {},
   "outputs": [],
   "source": [
    "from keras.models import load_model\n",
    "import tensorflow as tf\n",
    "gpus = tf.config.experimental.list_physical_devices('GPU')\n",
    "if gpus:\n",
    "  try:\n",
    "    tf.config.experimental.set_virtual_device_configuration(\n",
    "        gpus[0],[tf.config.experimental.VirtualDeviceConfiguration(memory_limit=512)])\n",
    "  except RuntimeError as e:\n",
    "    print(e)"
   ]
  },
  {
   "cell_type": "code",
   "execution_count": 3,
   "id": "7186a0e5",
   "metadata": {},
   "outputs": [],
   "source": [
    "mp_holistic = mp.solutions.holistic # Holistic model\n",
    "mp_drawing = mp.solutions.drawing_utils # Drawing utilities"
   ]
  },
  {
   "cell_type": "code",
   "execution_count": 4,
   "id": "7b1143dd",
   "metadata": {},
   "outputs": [],
   "source": [
    "def mediapipe_detection(image, model):\n",
    "    image = cv2.cvtColor(image, cv2.COLOR_BGR2RGB) # COLOR CONVERSION BGR 2 RGB\n",
    "    image.flags.writeable = False                  # Image is no longer writeable\n",
    "    results = model.process(image)                 # Make prediction\n",
    "    image.flags.writeable = True                   # Image is now writeable \n",
    "    image = cv2.cvtColor(image, cv2.COLOR_RGB2BGR) # COLOR COVERSION RGB 2 BGR\n",
    "    return image, results"
   ]
  },
  {
   "cell_type": "code",
   "execution_count": 5,
   "id": "2939ef1e",
   "metadata": {},
   "outputs": [],
   "source": [
    "def draw_landmarks(image, results):\n",
    "    mp_drawing.draw_landmarks(image, results.face_landmarks, mp_holistic.FACEMESH_TESSELATION) # Draw face connections\n",
    "    mp_drawing.draw_landmarks(image, results.pose_landmarks, mp_holistic.POSE_CONNECTIONS) # Draw pose connections\n",
    "    mp_drawing.draw_landmarks(image, results.left_hand_landmarks, mp_holistic.HAND_CONNECTIONS) # Draw left hand connections\n",
    "    mp_drawing.draw_landmarks(image, results.right_hand_landmarks, mp_holistic.HAND_CONNECTIONS) # Draw right hand connections"
   ]
  },
  {
   "cell_type": "code",
   "execution_count": 6,
   "id": "aadbaf42",
   "metadata": {},
   "outputs": [],
   "source": [
    "def draw_styled_landmarks(image, results):\n",
    "    # Draw face connections\n",
    "    #mp_drawing.draw_landmarks(image, results.face_landmarks, mp_holistic.FACEMESH_TESSELATION, \n",
    "    #                         mp_drawing.DrawingSpec(color=(80,110,10), thickness=1, circle_radius=1), \n",
    "    #                         mp_drawing.DrawingSpec(color=(80,256,121), thickness=1, circle_radius=1)\n",
    "    #                         ) \n",
    "    # Draw pose connections\n",
    "    #mp_drawing.draw_landmarks(image, results.pose_landmarks, mp_holistic.POSE_CONNECTIONS,\n",
    "    #                         mp_drawing.DrawingSpec(color=(80,22,10), thickness=2, circle_radius=4), \n",
    "    #                         mp_drawing.DrawingSpec(color=(80,44,121), thickness=2, circle_radius=2)\n",
    "    #                         ) \n",
    "    # Draw left hand connections\n",
    "    mp_drawing.draw_landmarks(image, results.left_hand_landmarks, mp_holistic.HAND_CONNECTIONS, \n",
    "                             mp_drawing.DrawingSpec(color=(121,22,76), thickness=2, circle_radius=4), \n",
    "                             mp_drawing.DrawingSpec(color=(121,44,250), thickness=2, circle_radius=2)\n",
    "                             ) \n",
    "    # Draw right hand connections  \n",
    "    mp_drawing.draw_landmarks(image, results.right_hand_landmarks, mp_holistic.HAND_CONNECTIONS, \n",
    "                             mp_drawing.DrawingSpec(color=(245,117,66), thickness=2, circle_radius=4), \n",
    "                             mp_drawing.DrawingSpec(color=(245,66,230), thickness=2, circle_radius=2)\n",
    "                             ) "
   ]
  },
  {
   "cell_type": "code",
   "execution_count": 7,
   "id": "3cd632d4",
   "metadata": {},
   "outputs": [],
   "source": [
    "def extract_hand_keypoints(results):\n",
    "    lh = [[res.x, res.y, res.z] for res in results.left_hand_landmarks.landmark] if results.left_hand_landmarks else [[0]*3]*21\n",
    "    rh = [[res.x, res.y, res.z] for res in results.right_hand_landmarks.landmark] if results.right_hand_landmarks else [[0]*3]*21\n",
    "    return np.vstack((lh,rh))"
   ]
  },
  {
   "cell_type": "code",
   "execution_count": 8,
   "id": "e2a44a6a",
   "metadata": {},
   "outputs": [],
   "source": [
    "def extract_keypoints(results):\n",
    "    pose = np.array([[res.x, res.y, res.z, res.visibility] for res in results.pose_landmarks.landmark]).flatten() if results.pose_landmarks else np.zeros(33*4)\n",
    "    face = np.array([[res.x, res.y, res.z] for res in results.face_landmarks.landmark]).flatten() if results.face_landmarks else np.zeros(468*3)\n",
    "    lh = np.array([[res.x, res.y, res.z] for res in results.left_hand_landmarks.landmark]).flatten() if results.left_hand_landmarks else np.zeros(21*3)\n",
    "    rh = np.array([[res.x, res.y, res.z] for res in results.right_hand_landmarks.landmark]).flatten() if results.right_hand_landmarks else np.zeros(21*3)\n",
    "    return np.concatenate([lh, rh])"
   ]
  },
  {
   "cell_type": "code",
   "execution_count": 9,
   "id": "6e846496",
   "metadata": {},
   "outputs": [],
   "source": [
    "# Path for exported data, numpy arrays\n",
    "# Step 4\n",
    "DATA_PATH = os.path.join('dataset','letters_data')\n",
    "actions = np.array(['A','B','C','D','E','F','G','H','I','J','K','L','M','N','O','P','Q','R','S','T','U','V','W','X','Y','Z'])\n",
    "#actions = np.array(['A','B'])\n",
    "\n",
    "# no of images\n",
    "no_sequences = 1200\n",
    "\n",
    "# no of frames in each video\n",
    "#sequence_length = 30\n",
    "\n",
    "label_map = {label:num for num, label in enumerate(actions)}\n",
    "#label_map\n",
    "\n",
    "new_actions = np.array(['C', 'O'])\n",
    "new_label_map = {label:num for num, label in enumerate(new_actions)}\n",
    "#new_label_map\n",
    "\n",
    "new_actions1 = np.array(['M', 'N'])\n",
    "new_label_map1 = {label:num for num, label in enumerate(new_actions1)}\n",
    "#new_label_map1"
   ]
  },
  {
   "cell_type": "code",
   "execution_count": 10,
   "id": "984e95b2",
   "metadata": {},
   "outputs": [],
   "source": [
    "# change the .h5 file with the one you saved\n",
    "model = load_model('models/weights_custom.h5')"
   ]
  },
  {
   "cell_type": "code",
   "execution_count": 11,
   "id": "18d15e9a",
   "metadata": {},
   "outputs": [],
   "source": [
    "model_c_and_o = load_model('models/actionCO.h5')"
   ]
  },
  {
   "cell_type": "code",
   "execution_count": 12,
   "id": "63890319",
   "metadata": {},
   "outputs": [],
   "source": [
    "model_mn = load_model('models/actionMN.h5')"
   ]
  },
  {
   "cell_type": "code",
   "execution_count": 13,
   "id": "ee8dff61",
   "metadata": {},
   "outputs": [
    {
     "name": "stdout",
     "output_type": "stream",
     "text": [
      "Model: \"sequential\"\n",
      "_________________________________________________________________\n",
      " Layer (type)                Output Shape              Param #   \n",
      "=================================================================\n",
      " conv1d (Conv1D)             (None, 28, 32)            12128     \n",
      "                                                                 \n",
      " max_pooling1d (MaxPooling1D  (None, 14, 32)           0         \n",
      " )                                                               \n",
      "                                                                 \n",
      " conv1d_1 (Conv1D)           (None, 14, 64)            6208      \n",
      "                                                                 \n",
      " max_pooling1d_1 (MaxPooling  (None, 7, 64)            0         \n",
      " 1D)                                                             \n",
      "                                                                 \n",
      " conv1d_2 (Conv1D)           (None, 5, 128)            24704     \n",
      "                                                                 \n",
      " max_pooling1d_2 (MaxPooling  (None, 2, 128)           0         \n",
      " 1D)                                                             \n",
      "                                                                 \n",
      " flatten (Flatten)           (None, 256)               0         \n",
      "                                                                 \n",
      " dense (Dense)               (None, 64)                16448     \n",
      "                                                                 \n",
      " dropout (Dropout)           (None, 64)                0         \n",
      "                                                                 \n",
      " dense_1 (Dense)             (None, 128)               8320      \n",
      "                                                                 \n",
      " dropout_1 (Dropout)         (None, 128)               0         \n",
      "                                                                 \n",
      " dense_2 (Dense)             (None, 2)                 258       \n",
      "                                                                 \n",
      "=================================================================\n",
      "Total params: 68,066\n",
      "Trainable params: 68,066\n",
      "Non-trainable params: 0\n",
      "_________________________________________________________________\n"
     ]
    }
   ],
   "source": [
    "model_c_and_o.summary()"
   ]
  },
  {
   "cell_type": "code",
   "execution_count": 14,
   "id": "055ad551",
   "metadata": {},
   "outputs": [],
   "source": [
    "#ASCII\n",
    "keys = [' ','!','\"','#','$','%','&','','(',')','*','+',',','-','.','/',\n",
    "          '0','1','2','3','4','5','6','7','8','9',':',';','<','=','>','?','@',\n",
    "          'A','B','C','D','E','F','G','H','I','J','K','L','M','N','O','P','Q',\n",
    "          'R','S','T','U','V','W','X','Y','Z','[','\\\\',']','^','_']\n",
    "\n",
    "# Braille symbols\n",
    "values = ['⠀','⠮','⠐','⠼','⠫','⠩','⠯','⠄','⠷','⠾','⠡','⠬','⠠','⠤','⠨','⠌','⠴','⠂','⠆','⠒','⠲','⠢',\n",
    "        '⠖','⠶','⠦','⠔','⠱','⠰','⠣','⠿','⠜','⠹','⠈','⠁','⠃','⠉','⠙','⠑','⠋','⠛','⠓','⠊','⠚','⠅',\n",
    "        '⠇','⠍','⠝','⠕','⠏','⠟','⠗','⠎','⠞','⠥','⠧','⠺','⠭','⠽','⠵','⠪','⠳','⠻','⠘','⠸']\n",
    "\n",
    "braille_lookup = dict(zip(keys, values))"
   ]
  },
  {
   "cell_type": "code",
   "execution_count": 15,
   "id": "a9318ea6",
   "metadata": {},
   "outputs": [],
   "source": [
    "from PIL import Image, ImageFont, ImageDraw"
   ]
  },
  {
   "cell_type": "code",
   "execution_count": 17,
   "id": "b1950407",
   "metadata": {
    "scrolled": true
   },
   "outputs": [],
   "source": [
    "# 1. New detection variables\n",
    "sequence = []\n",
    "seq = []\n",
    "sentence = []\n",
    "predictions = []\n",
    "lst = []\n",
    "threshold = 0.5\n",
    "num_of_frames = 30\n",
    "batch_size = 16\n",
    "\n",
    "cap = cv2.VideoCapture(0)\n",
    "# Set mediapipe model \n",
    "with mp_holistic.Holistic(min_detection_confidence=0.5, min_tracking_confidence=0.5) as holistic:\n",
    "    while cap.isOpened():\n",
    "\n",
    "        # Read feed\n",
    "        ret, frame = cap.read()\n",
    "\n",
    "        # Make detections\n",
    "        image, results = mediapipe_detection(frame, holistic)\n",
    "        img = image\n",
    "        #print(results)\n",
    "        \n",
    "        # Draw landmarks\n",
    "        #draw_styled_landmarks(image, results)\n",
    "        \n",
    "        # 2. Prediction logic\n",
    "        keypoints = extract_hand_keypoints(results)\n",
    "        kp = extract_keypoints(results)\n",
    "        sequence.append(kp)\n",
    "        seq.append(keypoints)\n",
    "        sequence = sequence[-1*num_of_frames:]\n",
    "        seq = seq[-1*batch_size:]\n",
    "        \n",
    "        if len(sequence) == num_of_frames:\n",
    "            res = model.predict(np.expand_dims(seq, axis=0))[0]\n",
    "            #print(actions[np.argmax(res)])\n",
    "\n",
    "            res2 = model_c_and_o.predict(np.expand_dims(sequence, axis=0))[0]\n",
    "            res3 = model_mn.predict(np.expand_dims(sequence, axis=0))[0]\n",
    "\n",
    "            index = np.argmax(res)\n",
    "            pred = actions[np.argmax(res)]\n",
    "            prob = res[index]\n",
    "\n",
    "            if pred == 'C' or pred == 'O':\n",
    "                pred = new_actions[np.argmax(res2)],\n",
    "                pred = pred[0]\n",
    "                index = 2 if pred == 'C' else 14,\n",
    "                index = index[0]\n",
    "                prob = res[index]\n",
    "\n",
    "            if pred == 'M' or pred == 'N':\n",
    "                pred = new_actions1[np.argmax(res3)],\n",
    "                pred = pred[0]\n",
    "                index = 12 if pred == 'M' else 13,\n",
    "                index = index[0]\n",
    "                prob = res[index]\n",
    "\n",
    "            predictions.append(index)\n",
    "            #print(\"{} {} {}\".format(pred, index, prob))\n",
    "\n",
    "        #3. Viz logic\n",
    "            if np.unique(predictions[-10:])[0]==index: \n",
    "                if prob > threshold: \n",
    "                    #print(braille_lookup[actions[np.argmax(res)]])\n",
    "                    if len(sentence) > 0: \n",
    "                        if braille_lookup[pred] != sentence[-1]:\n",
    "                            sentence.append(braille_lookup[pred])\n",
    "                    else:\n",
    "                        sentence.append(braille_lookup[pred])\n",
    "\n",
    "            if len(sentence) > 5: \n",
    "                sentence = sentence[-5:]\n",
    "\n",
    "            # Viz probabilities\n",
    "            cv2.putText(image, \"Prediction: \"+pred, (0, 85), cv2.FONT_HERSHEY_SIMPLEX, 1, (0,0,0), 2, cv2.LINE_AA)\n",
    "            #image = prob_viz(res, actions, image, colors)\n",
    "            #cv2.putText(image, \"Prediction: \"+new_actions[np.argmax(res2)], (0, 125), cv2.FONT_HERSHEY_SIMPLEX, 1, (0,0,0), 2, cv2.LINE_AA)\n",
    "            #image = prob_viz(res, actions, image, colors)\n",
    "\n",
    "        #cv2.rectangle(image, (500,50), (900, 150), (245, 117, 16), -1)\n",
    "\n",
    "            img = image #np.zeros((200,400,3),np.uint8)\n",
    "            b,g,r,a = 0,0,255,0\n",
    "\n",
    "            font = ImageFont.truetype(r'unifont1.ttf', 40)\n",
    "\n",
    "            img_pil = Image.fromarray(img)\n",
    "            draw = ImageDraw.Draw(img_pil)\n",
    "            draw.text((3, 0),  \"Braille: \"+braille_lookup[pred], font = font, fill = (b, g, r, a))\n",
    "            img = np.array(img_pil)\n",
    "\n",
    "            cv2.putText(img, \"\", (0, 50), cv2.FONT_HERSHEY_SIMPLEX, 1, (0,0,0), 2, cv2.LINE_AA)\n",
    "                #image = prob_viz(res, actions, image, colors)\n",
    "\n",
    "            #cv2.putText(img, \"\", (200,150), cv2.FONT_HERSHEY_SIMPLEX, 0.5, (b,g,r), 1, cv2.LINE_AA)\n",
    "            #print(''.join(sentence))\n",
    "        \n",
    "        lst.append(img)\n",
    "        # Show to screen\n",
    "        cv2.imshow('OpenCV Feed', img)\n",
    "        # Break gracefully\n",
    "        if cv2.waitKey(10) & 0xFF == ord('q'):\n",
    "            break\n",
    "    cap.release()\n",
    "    \n",
    "    cv2.destroyAllWindows()"
   ]
  },
  {
   "cell_type": "code",
   "execution_count": null,
   "id": "d7647bc2",
   "metadata": {},
   "outputs": [],
   "source": []
  }
 ],
 "metadata": {
  "kernelspec": {
   "display_name": "Python 3 (ipykernel)",
   "language": "python",
   "name": "python3"
  },
  "language_info": {
   "codemirror_mode": {
    "name": "ipython",
    "version": 3
   },
   "file_extension": ".py",
   "mimetype": "text/x-python",
   "name": "python",
   "nbconvert_exporter": "python",
   "pygments_lexer": "ipython3",
   "version": "3.9.7"
  },
  "vscode": {
   "interpreter": {
    "hash": "2f041458a2e251e2ca4b58c3aa73ebe2789c9b629b0cf4be67e1696958f743b7"
   }
  }
 },
 "nbformat": 4,
 "nbformat_minor": 5
}
