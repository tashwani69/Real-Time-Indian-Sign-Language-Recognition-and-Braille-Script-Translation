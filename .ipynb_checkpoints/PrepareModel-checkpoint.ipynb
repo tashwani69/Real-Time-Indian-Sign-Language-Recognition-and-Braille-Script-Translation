{
 "cells": [
  {
   "cell_type": "code",
   "execution_count": 1,
   "id": "9e1a73cf",
   "metadata": {},
   "outputs": [],
   "source": [
    "import cv2\n",
    "import numpy as np\n",
    "import os\n",
    "from matplotlib import pyplot as plt\n",
    "import time\n",
    "import mediapipe as mp"
   ]
  },
  {
   "cell_type": "code",
   "execution_count": 2,
   "id": "a6acf65e",
   "metadata": {},
   "outputs": [],
   "source": [
    "mp_holistic = mp.solutions.holistic # Holistic model\n",
    "mp_drawing = mp.solutions.drawing_utils\n",
    "mp_drawing_styles = mp.solutions.drawing_styles\n",
    "mp_hands = mp.solutions.hands"
   ]
  },
  {
   "cell_type": "code",
   "execution_count": 3,
   "id": "5eca98ad",
   "metadata": {},
   "outputs": [],
   "source": [
    "def mediapipe_detection(image, model):\n",
    "    image = cv2.cvtColor(image, cv2.COLOR_BGR2RGB) # COLOR CONVERSION BGR 2 RGB\n",
    "    image.flags.writeable = False                  # Image is no longer writeable\n",
    "    results = model.process(image)                 # Make prediction\n",
    "    image.flags.writeable = True                   # Image is now writeable \n",
    "    image = cv2.cvtColor(image, cv2.COLOR_RGB2BGR) # COLOR COVERSION RGB 2 BGR\n",
    "    return image, results"
   ]
  },
  {
   "cell_type": "code",
   "execution_count": 4,
   "id": "33ddfb44",
   "metadata": {},
   "outputs": [],
   "source": [
    "def draw_landmarks(image, results):\n",
    "    mp_drawing.draw_landmarks(image, results.face_landmarks, mp_holistic.FACEMESH_TESSELATION) # Draw face connections\n",
    "    mp_drawing.draw_landmarks(image, results.pose_landmarks, mp_holistic.POSE_CONNECTIONS) # Draw pose connections\n",
    "    mp_drawing.draw_landmarks(image, results.left_hand_landmarks, mp_holistic.HAND_CONNECTIONS) # Draw left hand connections\n",
    "    mp_drawing.draw_landmarks(image, results.right_hand_landmarks, mp_holistic.HAND_CONNECTIONS) # Draw right hand connections"
   ]
  },
  {
   "cell_type": "code",
   "execution_count": 5,
   "id": "2616cbe9",
   "metadata": {},
   "outputs": [],
   "source": [
    "def draw_styled_landmarks(image, results):\n",
    "    # Draw face connections\n",
    "    #mp_drawing.draw_landmarks(image, results.face_landmarks, mp_holistic.FACEMESH_TESSELATION, \n",
    "    #                         mp_drawing.DrawingSpec(color=(80,110,10), thickness=1, circle_radius=1), \n",
    "    #                         mp_drawing.DrawingSpec(color=(80,256,121), thickness=1, circle_radius=1)\n",
    "    #                         ) \n",
    "    # Draw pose connections\n",
    "    #mp_drawing.draw_landmarks(image, results.pose_landmarks, mp_holistic.POSE_CONNECTIONS,\n",
    "    #                         mp_drawing.DrawingSpec(color=(80,22,10), thickness=2, circle_radius=4), \n",
    "    #                         mp_drawing.DrawingSpec(color=(80,44,121), thickness=2, circle_radius=2)\n",
    "    #                         ) \n",
    "    # Draw left hand connections\n",
    "    mp_drawing.draw_landmarks(image, results.left_hand_landmarks, mp_holistic.HAND_CONNECTIONS, \n",
    "                             mp_drawing.DrawingSpec(color=(121,22,76), thickness=2, circle_radius=4), \n",
    "                             mp_drawing.DrawingSpec(color=(121,44,250), thickness=2, circle_radius=2)\n",
    "                             ) \n",
    "    # Draw right hand connections  \n",
    "    mp_drawing.draw_landmarks(image, results.right_hand_landmarks, mp_holistic.HAND_CONNECTIONS, \n",
    "                             mp_drawing.DrawingSpec(color=(245,117,66), thickness=2, circle_radius=4), \n",
    "                             mp_drawing.DrawingSpec(color=(245,66,230), thickness=2, circle_radius=2)\n",
    "                             )"
   ]
  },
  {
   "cell_type": "code",
   "execution_count": 6,
   "id": "627a63b9",
   "metadata": {},
   "outputs": [],
   "source": [
    "def draw_styled_hand_landmarks(image, results):\n",
    "    for hand_landmarks in results.multi_hand_landmarks:\n",
    "                  mp_drawing.draw_landmarks(\n",
    "                      image,\n",
    "                      hand_landmarks,\n",
    "                      mp_hands.HAND_CONNECTIONS,\n",
    "                      mp_drawing.DrawingSpec(color=(121,22,76), thickness=2, circle_radius=4), \n",
    "                      mp_drawing.DrawingSpec(color=(121,44,250), thickness=2, circle_radius=2))"
   ]
  },
  {
   "cell_type": "code",
   "execution_count": 7,
   "id": "321f5164",
   "metadata": {},
   "outputs": [],
   "source": [
    "def extract_keypoints(results):\n",
    "    pose = np.array([[res.x, res.y, res.z, res.visibility] for res in results.pose_landmarks.landmark]).flatten() if results.pose_landmarks else np.zeros(33*4)\n",
    "    face = np.array([[res.x, res.y, res.z] for res in results.face_landmarks.landmark]).flatten() if results.face_landmarks else np.zeros(468*3)\n",
    "    lh = np.array([[res.x, res.y, res.z] for res in results.left_hand_landmarks.landmark]).flatten() if results.left_hand_landmarks else np.zeros(21*3)\n",
    "    rh = np.array([[res.x, res.y, res.z] for res in results.right_hand_landmarks.landmark]).flatten() if results.right_hand_landmarks else np.zeros(21*3)\n",
    "    return np.concatenate([lh, rh])"
   ]
  },
  {
   "cell_type": "code",
   "execution_count": 23,
   "id": "39210a15",
   "metadata": {},
   "outputs": [],
   "source": [
    "def extract_hand_keypoints(results):\n",
    "    lh = [[res.x, res.y, res.z] for res in results.multi_hand_landmarks[0].landmark] if len(results.multi_hand_landmarks) > 0 else [[0]*3]*21\n",
    "    rh = [[res.x, res.y, res.z] for res in results.multi_hand_landmarks[1].landmark] if len(results.multi_hand_landmarks) > 1 else [[0]*3]*21\n",
    "    return np.vstack((lh,rh))"
   ]
  },
  {
   "cell_type": "code",
   "execution_count": 9,
   "id": "9ff96be5",
   "metadata": {},
   "outputs": [],
   "source": [
    "import tensorflow as tf\n",
    "gpus = tf.config.experimental.list_physical_devices('GPU')\n",
    "if gpus:\n",
    "  try:\n",
    "    tf.config.experimental.set_virtual_device_configuration(\n",
    "        gpus[0],[tf.config.experimental.VirtualDeviceConfiguration(memory_limit=512)])\n",
    "  except RuntimeError as e:\n",
    "    print(e)"
   ]
  },
  {
   "cell_type": "code",
   "execution_count": 10,
   "id": "f12f0d05",
   "metadata": {},
   "outputs": [],
   "source": [
    "# Path for exported data, numpy arrays\n",
    "# Step 4\n",
    "DATA_PATH = os.path.join('dataset','letters_data')\n",
    "actions = np.array(['A','B','C','D','E','F','G','H','I','J','K','L','M','N','O','P','Q','R','S','T','U','V','W','X','Y','Z'])\n",
    "#actions = np.array(['A','B'])\n",
    "\n",
    "# no of images\n",
    "no_sequences = 1200#00\n",
    "\n",
    "# no of frames in each video\n",
    "#sequence_length = 30"
   ]
  },
  {
   "cell_type": "code",
   "execution_count": 11,
   "id": "cc9db9ac",
   "metadata": {},
   "outputs": [],
   "source": [
    "# Step 6 - preprocess data create labels and features\n",
    "from sklearn.model_selection import train_test_split\n",
    "from tensorflow.keras.utils import to_categorical"
   ]
  },
  {
   "cell_type": "code",
   "execution_count": 12,
   "id": "860d920d",
   "metadata": {},
   "outputs": [
    {
     "data": {
      "text/plain": [
       "{'A': 0,\n",
       " 'B': 1,\n",
       " 'C': 2,\n",
       " 'D': 3,\n",
       " 'E': 4,\n",
       " 'F': 5,\n",
       " 'G': 6,\n",
       " 'H': 7,\n",
       " 'I': 8,\n",
       " 'J': 9,\n",
       " 'K': 10,\n",
       " 'L': 11,\n",
       " 'M': 12,\n",
       " 'N': 13,\n",
       " 'O': 14,\n",
       " 'P': 15,\n",
       " 'Q': 16,\n",
       " 'R': 17,\n",
       " 'S': 18,\n",
       " 'T': 19,\n",
       " 'U': 20,\n",
       " 'V': 21,\n",
       " 'W': 22,\n",
       " 'X': 23,\n",
       " 'Y': 24,\n",
       " 'Z': 25}"
      ]
     },
     "execution_count": 12,
     "metadata": {},
     "output_type": "execute_result"
    }
   ],
   "source": [
    "label_map = {label:num for num, label in enumerate(actions)}\n",
    "label_map"
   ]
  },
  {
   "cell_type": "code",
   "execution_count": 13,
   "id": "d1910039",
   "metadata": {},
   "outputs": [],
   "source": [
    "input_images, image_labels = [], []\n",
    "for action in actions:\n",
    "    for sequence in range(no_sequences):\n",
    "        path = os.path.join(DATA_PATH, action, \"{}.jpg\".format(sequence))\n",
    "        image = cv2.imread(path)\n",
    "        input_images.append(image)\n",
    "        image_labels.append(label_map[action])        "
   ]
  },
  {
   "cell_type": "code",
   "execution_count": 14,
   "id": "ba3d375e",
   "metadata": {},
   "outputs": [
    {
     "data": {
      "text/plain": [
       "31200"
      ]
     },
     "execution_count": 14,
     "metadata": {},
     "output_type": "execute_result"
    }
   ],
   "source": [
    "len(input_images)"
   ]
  },
  {
   "cell_type": "code",
   "execution_count": 25,
   "id": "7b4d65e2",
   "metadata": {
    "scrolled": false
   },
   "outputs": [],
   "source": [
    "X, y = [], []\n",
    "mapping = {}\n",
    "with mp_hands.Hands(\n",
    "    static_image_mode=True,\n",
    "    max_num_hands=2,\n",
    "    min_detection_confidence=0.5) as hands:\n",
    "    for index in range(len(input_images)):\n",
    "        img = input_images[index]\n",
    "        image = cv2.flip(img, 1)\n",
    "        results = hands.process(cv2.cvtColor(image, cv2.COLOR_BGR2RGB))\n",
    "        if results.multi_hand_landmarks:\n",
    "            draw_styled_hand_landmarks(image, results)\n",
    "            keypoints = extract_hand_keypoints(results)\n",
    "            X.append(keypoints)\n",
    "            y.append(image_labels[index])\n",
    "        else:\n",
    "            if image_labels[index] not in mapping:\n",
    "                mapping[image_labels[index]] = 0\n",
    "            else:\n",
    "                mapping[image_labels[index]] = mapping[image_labels[index]]+1"
   ]
  },
  {
   "cell_type": "code",
   "execution_count": 26,
   "id": "56930a77",
   "metadata": {},
   "outputs": [
    {
     "data": {
      "text/plain": [
       "(42, 3)"
      ]
     },
     "execution_count": 26,
     "metadata": {},
     "output_type": "execute_result"
    }
   ],
   "source": [
    "extract_hand_keypoints(results).shape"
   ]
  },
  {
   "cell_type": "code",
   "execution_count": 27,
   "id": "d2189301",
   "metadata": {},
   "outputs": [
    {
     "name": "stdout",
     "output_type": "stream",
     "text": [
      "{1: 20, 6: 0, 14: 35, 15: 68, 16: 357, 18: 10}\n"
     ]
    }
   ],
   "source": [
    "print(mapping)"
   ]
  },
  {
   "cell_type": "code",
   "execution_count": 28,
   "id": "19fcd4ea",
   "metadata": {},
   "outputs": [
    {
     "data": {
      "text/plain": [
       "30704"
      ]
     },
     "execution_count": 28,
     "metadata": {},
     "output_type": "execute_result"
    }
   ],
   "source": [
    "len(X)"
   ]
  },
  {
   "cell_type": "code",
   "execution_count": 29,
   "id": "f5774456",
   "metadata": {
    "scrolled": false
   },
   "outputs": [
    {
     "data": {
      "text/plain": [
       "30704"
      ]
     },
     "execution_count": 29,
     "metadata": {},
     "output_type": "execute_result"
    }
   ],
   "source": [
    "len(y)"
   ]
  },
  {
   "cell_type": "code",
   "execution_count": 30,
   "id": "4098afde",
   "metadata": {},
   "outputs": [],
   "source": [
    "X_total = np.array(X)"
   ]
  },
  {
   "cell_type": "code",
   "execution_count": 31,
   "id": "799eec56",
   "metadata": {},
   "outputs": [],
   "source": [
    "y_total = to_categorical(y).astype(int) # y is a 1-hot representation of output label"
   ]
  },
  {
   "cell_type": "code",
   "execution_count": 32,
   "id": "07af109c",
   "metadata": {},
   "outputs": [
    {
     "data": {
      "text/plain": [
       "(30704, 26)"
      ]
     },
     "execution_count": 32,
     "metadata": {},
     "output_type": "execute_result"
    }
   ],
   "source": [
    "y_total.shape"
   ]
  },
  {
   "cell_type": "code",
   "execution_count": 33,
   "id": "8bf41012",
   "metadata": {},
   "outputs": [
    {
     "data": {
      "text/plain": [
       "(30704, 42, 3)"
      ]
     },
     "execution_count": 33,
     "metadata": {},
     "output_type": "execute_result"
    }
   ],
   "source": [
    "X_total.shape"
   ]
  },
  {
   "cell_type": "code",
   "execution_count": 34,
   "id": "a524cb3f",
   "metadata": {},
   "outputs": [],
   "source": [
    "def batch_generate(X, Y, batch_size):\n",
    "    x = []\n",
    "    y = []\n",
    "    for i in range(0, X.shape[0], batch_size):\n",
    "        x.append(X[i:i+batch_size])\n",
    "        y.append(Y[i])\n",
    "    x = np.array(x)\n",
    "    y = np.array(y)\n",
    "    return x,y"
   ]
  },
  {
   "cell_type": "code",
   "execution_count": 35,
   "id": "b991ee9a",
   "metadata": {},
   "outputs": [],
   "source": [
    "batch_size = 16\n",
    "X_total_batch, y_total_batch = batch_generate(X_total, y_total, batch_size)"
   ]
  },
  {
   "cell_type": "code",
   "execution_count": 36,
   "id": "f59d541f",
   "metadata": {},
   "outputs": [
    {
     "data": {
      "text/plain": [
       "(1919, 16, 42, 3)"
      ]
     },
     "execution_count": 36,
     "metadata": {},
     "output_type": "execute_result"
    }
   ],
   "source": [
    "X_total_batch.shape"
   ]
  },
  {
   "cell_type": "code",
   "execution_count": 37,
   "id": "1f845381",
   "metadata": {},
   "outputs": [],
   "source": [
    "#new_X_total_batch = X_total_batch.reshape((X_total_batch.shape[0], 1, X_total_batch.shape[2], X_total_batch.shape[1]))"
   ]
  },
  {
   "cell_type": "code",
   "execution_count": 38,
   "id": "00612e36",
   "metadata": {},
   "outputs": [],
   "source": [
    "#new_X_total_batch.shape"
   ]
  },
  {
   "cell_type": "code",
   "execution_count": 39,
   "id": "118e86a9",
   "metadata": {},
   "outputs": [
    {
     "data": {
      "text/plain": [
       "(1919, 26)"
      ]
     },
     "execution_count": 39,
     "metadata": {},
     "output_type": "execute_result"
    }
   ],
   "source": [
    "y_total_batch.shape"
   ]
  },
  {
   "cell_type": "code",
   "execution_count": 40,
   "id": "f8620c6b",
   "metadata": {},
   "outputs": [],
   "source": [
    "X_train, X_test, y_train, y_test = train_test_split(X_total_batch, y_total_batch, test_size=0.2)"
   ]
  },
  {
   "cell_type": "code",
   "execution_count": 41,
   "id": "43cecf26",
   "metadata": {},
   "outputs": [],
   "source": [
    "#X_train = X_train.reshape((X_train.shape[0], 1, X_train.shape[1], X_train.shape[2], X_train.shape[3]))"
   ]
  },
  {
   "cell_type": "code",
   "execution_count": 42,
   "id": "a86cfe2b",
   "metadata": {},
   "outputs": [
    {
     "data": {
      "text/plain": [
       "(1535, 16, 42, 3)"
      ]
     },
     "execution_count": 42,
     "metadata": {},
     "output_type": "execute_result"
    }
   ],
   "source": [
    "X_train.shape"
   ]
  },
  {
   "cell_type": "code",
   "execution_count": 43,
   "id": "8add1291",
   "metadata": {},
   "outputs": [],
   "source": [
    "#X_test = X_test.reshape((X_test.shape[0], 1, X_test.shape[1], X_test.shape[2], X_test.shape[3]))"
   ]
  },
  {
   "cell_type": "code",
   "execution_count": 44,
   "id": "19d57590",
   "metadata": {},
   "outputs": [
    {
     "data": {
      "text/plain": [
       "(384, 16, 42, 3)"
      ]
     },
     "execution_count": 44,
     "metadata": {},
     "output_type": "execute_result"
    }
   ],
   "source": [
    "X_test.shape"
   ]
  },
  {
   "cell_type": "code",
   "execution_count": 45,
   "id": "672571a1",
   "metadata": {},
   "outputs": [
    {
     "data": {
      "text/plain": [
       "(1535, 26)"
      ]
     },
     "execution_count": 45,
     "metadata": {},
     "output_type": "execute_result"
    }
   ],
   "source": [
    "y_train.shape"
   ]
  },
  {
   "cell_type": "code",
   "execution_count": 46,
   "id": "cc3d2b9e",
   "metadata": {},
   "outputs": [
    {
     "data": {
      "text/plain": [
       "(384, 26)"
      ]
     },
     "execution_count": 46,
     "metadata": {},
     "output_type": "execute_result"
    }
   ],
   "source": [
    "y_test.shape"
   ]
  },
  {
   "cell_type": "code",
   "execution_count": 167,
   "id": "6c5b0479",
   "metadata": {},
   "outputs": [],
   "source": [
    "# Step 7 - build and train lSTM NN\n",
    "from tensorflow.keras.models import Sequential\n",
    "from tensorflow.keras.layers import LSTM, Dense, Conv2D, MaxPool2D, Flatten, Dropout\n",
    "from tensorflow.keras.callbacks import TensorBoard, EarlyStopping"
   ]
  },
  {
   "cell_type": "code",
   "execution_count": 168,
   "id": "a3dba74d",
   "metadata": {},
   "outputs": [],
   "source": [
    "# Before running this, delete the Logs folder\n",
    "log_dir = os.path.join('Logs')\n",
    "tb_callback = TensorBoard(log_dir=log_dir)"
   ]
  },
  {
   "cell_type": "code",
   "execution_count": 169,
   "id": "9533039b",
   "metadata": {},
   "outputs": [],
   "source": [
    "#from keras.layers import Activation, Dense, Flatten, BatchNormalization, Conv1D, MaxPool1D, Dropout, TimeDistributed, RepeatVector"
   ]
  },
  {
   "cell_type": "code",
   "execution_count": 186,
   "id": "493e3f91",
   "metadata": {},
   "outputs": [],
   "source": [
    "model = Sequential()\n",
    "\n",
    "model.add(Conv2D(filters=32, kernel_size=(3,3), activation='relu', padding = 'same', input_shape=X_train.shape[1:]))\n",
    "model.add(MaxPool2D(pool_size=(1,2), strides=None))\n",
    "\n",
    "model.add(Conv2D(filters=64, kernel_size=(3,3), activation='relu'))\n",
    "model.add(MaxPool2D(pool_size=(2,2), strides=None))\n",
    "\n",
    "model.add(Conv2D(filters=128, kernel_size=(3,3), activation='relu', padding = 'valid'))\n",
    "model.add(Conv2D(filters=256, kernel_size=(3,3), activation='relu', padding = 'valid'))\n",
    "\n",
    "model.add(MaxPool2D(pool_size=(2,2), strides=None))\n",
    "\n",
    "# model.add(MaxPool2D(pool_size=(2,2), strides=None))\n",
    "# #model.add(MaxPool1D(pool_size=3, strides=None))\n",
    "\n",
    "\n",
    "\n",
    "\n",
    "model.add(Flatten())\n",
    "\n",
    "model.add(Dense(128,activation =\"relu\"))\n",
    "model.add(Dropout(0.2))\n",
    "model.add(Dense(64,activation =\"relu\"))\n",
    "model.add(Dropout(0.2))\n",
    "#model.add(Dense(128,activation =\"relu\"))\n",
    "#model.add(Dropout(0.2))\n",
    "#model.add(Dense(128,activation =\"relu\"))\n",
    "#model.add(Dropout(0.3))\n",
    "model.add(Dense(actions.shape[0],activation =\"softmax\"))"
   ]
  },
  {
   "cell_type": "code",
   "execution_count": 187,
   "id": "0e85302e",
   "metadata": {},
   "outputs": [
    {
     "name": "stdout",
     "output_type": "stream",
     "text": [
      "Model: \"sequential_47\"\n",
      "_________________________________________________________________\n",
      " Layer (type)                Output Shape              Param #   \n",
      "=================================================================\n",
      " conv2d_140 (Conv2D)         (None, 16, 42, 32)        896       \n",
      "                                                                 \n",
      " max_pooling2d_94 (MaxPoolin  (None, 16, 21, 32)       0         \n",
      " g2D)                                                            \n",
      "                                                                 \n",
      " conv2d_141 (Conv2D)         (None, 14, 19, 64)        18496     \n",
      "                                                                 \n",
      " max_pooling2d_95 (MaxPoolin  (None, 7, 9, 64)         0         \n",
      " g2D)                                                            \n",
      "                                                                 \n",
      " conv2d_142 (Conv2D)         (None, 5, 7, 128)         73856     \n",
      "                                                                 \n",
      " conv2d_143 (Conv2D)         (None, 3, 5, 256)         295168    \n",
      "                                                                 \n",
      " max_pooling2d_96 (MaxPoolin  (None, 1, 2, 256)        0         \n",
      " g2D)                                                            \n",
      "                                                                 \n",
      " flatten_3 (Flatten)         (None, 512)               0         \n",
      "                                                                 \n",
      " dense_9 (Dense)             (None, 128)               65664     \n",
      "                                                                 \n",
      " dropout_6 (Dropout)         (None, 128)               0         \n",
      "                                                                 \n",
      " dense_10 (Dense)            (None, 64)                8256      \n",
      "                                                                 \n",
      " dropout_7 (Dropout)         (None, 64)                0         \n",
      "                                                                 \n",
      " dense_11 (Dense)            (None, 26)                1690      \n",
      "                                                                 \n",
      "=================================================================\n",
      "Total params: 464,026\n",
      "Trainable params: 464,026\n",
      "Non-trainable params: 0\n",
      "_________________________________________________________________\n"
     ]
    }
   ],
   "source": [
    "model.summary()"
   ]
  },
  {
   "cell_type": "code",
   "execution_count": 188,
   "id": "a5bbb03d",
   "metadata": {},
   "outputs": [],
   "source": [
    "model.compile(optimizer='Adam', loss='categorical_crossentropy', metrics=['categorical_accuracy'])"
   ]
  },
  {
   "cell_type": "code",
   "execution_count": 189,
   "id": "912211ea",
   "metadata": {},
   "outputs": [
    {
     "name": "stdout",
     "output_type": "stream",
     "text": [
      "Epoch 1/25\n",
      "39/39 [==============================] - 1s 23ms/step - loss: 3.0903 - categorical_accuracy: 0.0928 - val_loss: 2.6423 - val_categorical_accuracy: 0.1922\n",
      "Epoch 2/25\n",
      "39/39 [==============================] - 1s 18ms/step - loss: 2.4454 - categorical_accuracy: 0.2370 - val_loss: 1.9111 - val_categorical_accuracy: 0.4039\n",
      "Epoch 3/25\n",
      "39/39 [==============================] - 1s 18ms/step - loss: 1.7852 - categorical_accuracy: 0.4161 - val_loss: 1.2747 - val_categorical_accuracy: 0.5375\n",
      "Epoch 4/25\n",
      "39/39 [==============================] - 1s 18ms/step - loss: 1.3758 - categorical_accuracy: 0.5228 - val_loss: 1.1106 - val_categorical_accuracy: 0.6482\n",
      "Epoch 5/25\n",
      "39/39 [==============================] - 1s 18ms/step - loss: 1.0567 - categorical_accuracy: 0.6401 - val_loss: 0.6603 - val_categorical_accuracy: 0.8078\n",
      "Epoch 6/25\n",
      "39/39 [==============================] - 1s 18ms/step - loss: 0.6584 - categorical_accuracy: 0.8005 - val_loss: 0.2853 - val_categorical_accuracy: 0.9088\n",
      "Epoch 7/25\n",
      "39/39 [==============================] - 1s 19ms/step - loss: 0.4558 - categorical_accuracy: 0.8575 - val_loss: 0.3521 - val_categorical_accuracy: 0.8762\n",
      "Epoch 8/25\n",
      "39/39 [==============================] - 1s 19ms/step - loss: 0.3768 - categorical_accuracy: 0.8705 - val_loss: 0.1954 - val_categorical_accuracy: 0.9381\n",
      "Epoch 9/25\n",
      "39/39 [==============================] - 1s 18ms/step - loss: 0.3129 - categorical_accuracy: 0.8925 - val_loss: 0.1558 - val_categorical_accuracy: 0.9544\n",
      "Epoch 10/25\n",
      "39/39 [==============================] - 1s 18ms/step - loss: 0.2062 - categorical_accuracy: 0.9324 - val_loss: 0.1895 - val_categorical_accuracy: 0.9577\n",
      "Epoch 11/25\n",
      "39/39 [==============================] - 1s 18ms/step - loss: 0.2062 - categorical_accuracy: 0.9332 - val_loss: 0.0851 - val_categorical_accuracy: 0.9772\n",
      "Epoch 12/25\n",
      "39/39 [==============================] - 1s 18ms/step - loss: 0.1412 - categorical_accuracy: 0.9601 - val_loss: 0.0515 - val_categorical_accuracy: 0.9837\n",
      "Epoch 13/25\n",
      "39/39 [==============================] - 1s 19ms/step - loss: 0.0951 - categorical_accuracy: 0.9682 - val_loss: 0.0447 - val_categorical_accuracy: 0.9837\n",
      "Epoch 14/25\n",
      "39/39 [==============================] - 1s 18ms/step - loss: 0.1569 - categorical_accuracy: 0.9511 - val_loss: 0.0620 - val_categorical_accuracy: 0.9837\n",
      "Epoch 15/25\n",
      "39/39 [==============================] - 1s 18ms/step - loss: 0.1036 - categorical_accuracy: 0.9723 - val_loss: 0.0541 - val_categorical_accuracy: 0.9837\n",
      "Epoch 16/25\n",
      "39/39 [==============================] - 1s 19ms/step - loss: 0.0784 - categorical_accuracy: 0.9756 - val_loss: 0.0707 - val_categorical_accuracy: 0.9837\n",
      "Epoch 17/25\n",
      "39/39 [==============================] - 1s 22ms/step - loss: 0.0849 - categorical_accuracy: 0.9756 - val_loss: 0.0739 - val_categorical_accuracy: 0.9772\n",
      "Epoch 18/25\n",
      "39/39 [==============================] - 1s 21ms/step - loss: 0.1019 - categorical_accuracy: 0.9691 - val_loss: 0.0300 - val_categorical_accuracy: 0.9935\n",
      "Epoch 19/25\n",
      "39/39 [==============================] - 1s 23ms/step - loss: 0.0883 - categorical_accuracy: 0.9739 - val_loss: 0.0630 - val_categorical_accuracy: 0.9837\n",
      "Epoch 20/25\n",
      "39/39 [==============================] - 1s 21ms/step - loss: 0.1717 - categorical_accuracy: 0.9536 - val_loss: 0.0406 - val_categorical_accuracy: 0.9870\n",
      "Epoch 21/25\n",
      "39/39 [==============================] - 1s 21ms/step - loss: 0.0596 - categorical_accuracy: 0.9853 - val_loss: 0.0284 - val_categorical_accuracy: 0.9902\n",
      "Epoch 22/25\n",
      "39/39 [==============================] - 1s 20ms/step - loss: 0.0441 - categorical_accuracy: 0.9862 - val_loss: 0.0257 - val_categorical_accuracy: 0.9935\n",
      "Epoch 23/25\n",
      "39/39 [==============================] - 1s 20ms/step - loss: 0.0644 - categorical_accuracy: 0.9796 - val_loss: 0.0147 - val_categorical_accuracy: 1.0000\n",
      "Epoch 24/25\n",
      "39/39 [==============================] - 1s 20ms/step - loss: 0.0488 - categorical_accuracy: 0.9845 - val_loss: 0.0188 - val_categorical_accuracy: 0.9935\n",
      "Epoch 25/25\n",
      "39/39 [==============================] - 1s 22ms/step - loss: 0.0523 - categorical_accuracy: 0.9837 - val_loss: 0.0200 - val_categorical_accuracy: 0.9935\n"
     ]
    }
   ],
   "source": [
    "history = model.fit(X_train, y_train, validation_split=0.2, epochs=25)"
   ]
  },
  {
   "cell_type": "code",
   "execution_count": 190,
   "id": "c600e018",
   "metadata": {},
   "outputs": [
    {
     "name": "stdout",
     "output_type": "stream",
     "text": [
      "dict_keys(['loss', 'categorical_accuracy', 'val_loss', 'val_categorical_accuracy'])\n"
     ]
    }
   ],
   "source": [
    "print(history.history.keys())"
   ]
  },
  {
   "cell_type": "code",
   "execution_count": 191,
   "id": "1184301b",
   "metadata": {},
   "outputs": [
    {
     "name": "stdout",
     "output_type": "stream",
     "text": [
      "Model: \"sequential_47\"\n",
      "_________________________________________________________________\n",
      " Layer (type)                Output Shape              Param #   \n",
      "=================================================================\n",
      " conv2d_140 (Conv2D)         (None, 16, 42, 32)        896       \n",
      "                                                                 \n",
      " max_pooling2d_94 (MaxPoolin  (None, 16, 21, 32)       0         \n",
      " g2D)                                                            \n",
      "                                                                 \n",
      " conv2d_141 (Conv2D)         (None, 14, 19, 64)        18496     \n",
      "                                                                 \n",
      " max_pooling2d_95 (MaxPoolin  (None, 7, 9, 64)         0         \n",
      " g2D)                                                            \n",
      "                                                                 \n",
      " conv2d_142 (Conv2D)         (None, 5, 7, 128)         73856     \n",
      "                                                                 \n",
      " conv2d_143 (Conv2D)         (None, 3, 5, 256)         295168    \n",
      "                                                                 \n",
      " max_pooling2d_96 (MaxPoolin  (None, 1, 2, 256)        0         \n",
      " g2D)                                                            \n",
      "                                                                 \n",
      " flatten_3 (Flatten)         (None, 512)               0         \n",
      "                                                                 \n",
      " dense_9 (Dense)             (None, 128)               65664     \n",
      "                                                                 \n",
      " dropout_6 (Dropout)         (None, 128)               0         \n",
      "                                                                 \n",
      " dense_10 (Dense)            (None, 64)                8256      \n",
      "                                                                 \n",
      " dropout_7 (Dropout)         (None, 64)                0         \n",
      "                                                                 \n",
      " dense_11 (Dense)            (None, 26)                1690      \n",
      "                                                                 \n",
      "=================================================================\n",
      "Total params: 464,026\n",
      "Trainable params: 464,026\n",
      "Non-trainable params: 0\n",
      "_________________________________________________________________\n"
     ]
    }
   ],
   "source": [
    "model.summary()"
   ]
  },
  {
   "cell_type": "code",
   "execution_count": 192,
   "id": "4730fa35",
   "metadata": {},
   "outputs": [
    {
     "data": {
      "text/plain": [
       "25"
      ]
     },
     "execution_count": 192,
     "metadata": {},
     "output_type": "execute_result"
    }
   ],
   "source": [
    "len(history.history['categorical_accuracy'])"
   ]
  },
  {
   "cell_type": "code",
   "execution_count": 193,
   "id": "3b02b8f5",
   "metadata": {},
   "outputs": [
    {
     "data": {
      "image/png": "[encoded data removed]",
      "text/plain": [
       "<Figure size 1440x720 with 1 Axes>"
      ]
     },
     "metadata": {},
     "output_type": "display_data"
    }
   ],
   "source": [
    "# summarize history for accuracy\n",
    "plt.plot(history.history['categorical_accuracy'])\n",
    "plt.plot(history.history['val_categorical_accuracy'])\n",
    "plt.title('Model accuracy')\n",
    "plt.ylabel('Accuracy')\n",
    "plt.xlabel('Epoch')\n",
    "plt.legend(['Train', 'Test'], loc='lower left')\n",
    "plt.show()\n",
    "#plt.savefig('accuracy.pdf', dpi = 700)"
   ]
  },
  {
   "cell_type": "code",
   "execution_count": 194,
   "id": "dd6f4b76",
   "metadata": {},
   "outputs": [
    {
     "data": {
      "image/png": "[encoded data removed]",
      "text/plain": [
       "<Figure size 1440x720 with 1 Axes>"
      ]
     },
     "metadata": {},
     "output_type": "display_data"
    }
   ],
   "source": [
    "# summarize history for loss\n",
    "plt.plot(history.history['loss'])\n",
    "plt.plot(history.history['val_loss'])\n",
    "plt.title('Model loss')\n",
    "plt.ylabel('Loss')\n",
    "plt.xlabel('Epoch')\n",
    "plt.legend(['Train', 'Test'], loc='upper left')\n",
    "plt.show()\n",
    "#plt.savefig('loss.pdf', dpi = 700)"
   ]
  },
  {
   "cell_type": "code",
   "execution_count": 118,
   "id": "1beef07f",
   "metadata": {},
   "outputs": [
    {
     "name": "stdout",
     "output_type": "stream",
     "text": [
      "Requirement already satisfied: pydot in c:\\python310\\lib\\site-packages (1.4.2)\n",
      "Requirement already satisfied: pyparsing>=2.1.4 in c:\\python310\\lib\\site-packages (from pydot) (3.0.9)\n"
     ]
    },
    {
     "name": "stderr",
     "output_type": "stream",
     "text": [
      "WARNING: You are using pip version 22.0.4; however, version 22.2.2 is available.\n",
      "You should consider upgrading via the 'C:\\Python310\\python.exe -m pip install --upgrade pip' command.\n"
     ]
    }
   ],
   "source": [
    "! pip install pydot"
   ]
  },
  {
   "cell_type": "code",
   "execution_count": 216,
   "id": "41873402",
   "metadata": {},
   "outputs": [],
   "source": [
    "from tensorflow.keras.utils import plot_model\n",
    "\n",
    "#model = ResNet50(weights='imagenet')\n",
    "plot_model(model, to_file='model.pdf', dpi = 700, show_shapes=True)"
   ]
  },
  {
   "cell_type": "code",
   "execution_count": 195,
   "id": "f73c99f3",
   "metadata": {},
   "outputs": [],
   "source": [
    "# Step 8 - Make prediction\n",
    "res = model.predict(X_test)"
   ]
  },
  {
   "cell_type": "code",
   "execution_count": 196,
   "id": "050530cd",
   "metadata": {},
   "outputs": [
    {
     "data": {
      "text/plain": [
       "'W'"
      ]
     },
     "execution_count": 196,
     "metadata": {},
     "output_type": "execute_result"
    }
   ],
   "source": [
    "actions[np.argmax(res[0])]"
   ]
  },
  {
   "cell_type": "code",
   "execution_count": 197,
   "id": "3844a38d",
   "metadata": {},
   "outputs": [
    {
     "data": {
      "text/plain": [
       "'W'"
      ]
     },
     "execution_count": 197,
     "metadata": {},
     "output_type": "execute_result"
    }
   ],
   "source": [
    "actions[np.argmax(y_test[0])]"
   ]
  },
  {
   "cell_type": "code",
   "execution_count": 198,
   "id": "880c4b32",
   "metadata": {},
   "outputs": [],
   "source": [
    "from sklearn.metrics import multilabel_confusion_matrix, confusion_matrix, accuracy_score, precision_recall_fscore_support"
   ]
  },
  {
   "cell_type": "code",
   "execution_count": 199,
   "id": "490d85d0",
   "metadata": {},
   "outputs": [
    {
     "data": {
      "image/png": "[encoded data removed]",
      "text/plain": [
       "<Figure size 1440x720 with 2 Axes>"
      ]
     },
     "metadata": {},
     "output_type": "display_data"
    }
   ],
   "source": [
    "import seaborn as sns\n",
    "yhat = model.predict(X_test)\n",
    "ytrue = np.argmax(y_test, axis=1)\n",
    "yhat = np.argmax(yhat, axis=1)\n",
    "\n",
    "cf_matr = confusion_matrix(ytrue, yhat)\n",
    "sns.set(rc = {'figure.figsize':(20, 10)})\n",
    "hmap = sns.heatmap(cf_matr,xticklabels=actions,yticklabels=actions)\n",
    "hmap\n",
    "figure = hmap.get_figure()  \n",
    "#figure\n",
    "#figure.savefig('Confusion_matrix.pdf', dpi=700)"
   ]
  },
  {
   "cell_type": "code",
   "execution_count": 200,
   "id": "6a666a0d",
   "metadata": {},
   "outputs": [],
   "source": [
    "yhat = model.predict(X_test)\n",
    "ytrue = np.argmax(y_test, axis=1).tolist()\n",
    "yhat = np.argmax(yhat, axis=1).tolist()"
   ]
  },
  {
   "cell_type": "code",
   "execution_count": 201,
   "id": "73f546f5",
   "metadata": {},
   "outputs": [
    {
     "name": "stdout",
     "output_type": "stream",
     "text": [
      "Accuracy Score: 0.9921875\n"
     ]
    }
   ],
   "source": [
    "conf_matrix = multilabel_confusion_matrix(ytrue, yhat)\n",
    "print(\"Accuracy Score: {}\".format(accuracy_score(ytrue, yhat)))"
   ]
  },
  {
   "cell_type": "code",
   "execution_count": 202,
   "id": "3ee1d088",
   "metadata": {},
   "outputs": [
    {
     "name": "stdout",
     "output_type": "stream",
     "text": [
      "Precision Score: 0.9918903212172443\n",
      "Recall Score: 0.9900932400932402\n",
      "F1 Score: 0.9906142889715279\n",
      "F Beta Score for Beta as 0.5 = 0.9912870997500213\n"
     ]
    }
   ],
   "source": [
    "from sklearn.metrics import fbeta_score \n",
    "(precision, recall, f1_score, _) = precision_recall_fscore_support(ytrue, yhat, average='macro')\n",
    "print(\"Precision Score: {}\\nRecall Score: {}\\nF1 Score: {}\".format(precision, recall, f1_score))\n",
    "print(\"F Beta Score for Beta as 0.5 = {}\".format(fbeta_score(ytrue, yhat, average='macro', beta=0.5)))"
   ]
  },
  {
   "cell_type": "code",
   "execution_count": 203,
   "id": "66772715",
   "metadata": {},
   "outputs": [
    {
     "name": "stdout",
     "output_type": "stream",
     "text": [
      "              precision    recall  f1-score   support\n",
      "\n",
      "           A       0.92      1.00      0.96        12\n",
      "           B       1.00      0.90      0.95        10\n",
      "           C       1.00      1.00      1.00        10\n",
      "           D       0.93      1.00      0.96        13\n",
      "           E       1.00      1.00      1.00        18\n",
      "           F       1.00      1.00      1.00        14\n",
      "           G       1.00      1.00      1.00        10\n",
      "           H       1.00      1.00      1.00        17\n",
      "           I       1.00      1.00      1.00        18\n",
      "           J       1.00      1.00      1.00        15\n",
      "           K       1.00      1.00      1.00        14\n",
      "           L       1.00      1.00      1.00        15\n",
      "           M       1.00      0.93      0.97        15\n",
      "           N       1.00      1.00      1.00        20\n",
      "           O       1.00      1.00      1.00        17\n",
      "           P       1.00      1.00      1.00        14\n",
      "           Q       1.00      1.00      1.00         8\n",
      "           R       1.00      1.00      1.00        26\n",
      "           S       1.00      1.00      1.00        16\n",
      "           T       1.00      1.00      1.00        20\n",
      "           U       1.00      1.00      1.00        16\n",
      "           V       1.00      1.00      1.00        12\n",
      "           W       1.00      1.00      1.00        11\n",
      "           X       1.00      1.00      1.00        17\n",
      "           Y       1.00      0.91      0.95        11\n",
      "           Z       0.94      1.00      0.97        15\n",
      "\n",
      "    accuracy                           0.99       384\n",
      "   macro avg       0.99      0.99      0.99       384\n",
      "weighted avg       0.99      0.99      0.99       384\n",
      "\n"
     ]
    }
   ],
   "source": [
    "from sklearn.metrics import classification_report\n",
    "print(classification_report(ytrue, yhat, target_names=actions))"
   ]
  },
  {
   "cell_type": "code",
   "execution_count": 204,
   "id": "44f72c9f",
   "metadata": {},
   "outputs": [
    {
     "name": "stdout",
     "output_type": "stream",
     "text": [
      "Hamming Loss: 0.0078125\n"
     ]
    }
   ],
   "source": [
    "from sklearn.metrics import hamming_loss\n",
    "print(\"Hamming Loss: {}\".format(hamming_loss(ytrue, yhat)))"
   ]
  },
  {
   "cell_type": "code",
   "execution_count": 205,
   "id": "c1b71974",
   "metadata": {},
   "outputs": [
    {
     "name": "stdout",
     "output_type": "stream",
     "text": [
      "Jaccard Score: 0.9819835613104845\n",
      "Matthews correlation coefficient: 0.9918738298515889\n"
     ]
    }
   ],
   "source": [
    "from sklearn.metrics import jaccard_score, matthews_corrcoef\n",
    "print(\"Jaccard Score: {}\".format(jaccard_score(ytrue, yhat, average='macro')))\n",
    "print(\"Matthews correlation coefficient: {}\".format(matthews_corrcoef(ytrue, yhat)))"
   ]
  },
  {
   "cell_type": "code",
   "execution_count": 206,
   "id": "6245c168",
   "metadata": {},
   "outputs": [],
   "source": [
    "import pandas as pd\n",
    "import matplotlib.pyplot as plt\n",
    "\n",
    "\n",
    "def print_confusion_matrix(confusion_matrix, axes, class_label, class_names, fontsize=14):\n",
    "\n",
    "    df_cm = pd.DataFrame(\n",
    "        confusion_matrix, index=class_names, columns=class_names,\n",
    "    )\n",
    "\n",
    "    try:\n",
    "        heatmap = sns.heatmap(df_cm, annot=True, fmt=\"d\", cbar=False, ax=axes)\n",
    "    except ValueError:\n",
    "        raise ValueError(\"Confusion matrix values must be integers.\")\n",
    "    heatmap.yaxis.set_ticklabels(heatmap.yaxis.get_ticklabels(), rotation=0, ha='right', fontsize=fontsize)\n",
    "    heatmap.xaxis.set_ticklabels(heatmap.xaxis.get_ticklabels(), rotation=45, ha='right', fontsize=fontsize)\n",
    "    axes.set_ylabel('True label')\n",
    "    axes.set_xlabel('Predicted label')\n",
    "    axes.set_title(\"Confusion Matrix for the class - \" + class_label)"
   ]
  },
  {
   "cell_type": "code",
   "execution_count": 207,
   "id": "be42467e",
   "metadata": {},
   "outputs": [
    {
     "data": {
      "text/plain": [
       "array(['M', 'N', 'O', 'P', 'Q', 'R', 'S', 'T', 'U', 'V', 'W', 'X', 'Y',\n",
       "       'Z'], dtype='<U1')"
      ]
     },
     "execution_count": 207,
     "metadata": {},
     "output_type": "execute_result"
    }
   ],
   "source": [
    "actions[12:]"
   ]
  },
  {
   "cell_type": "code",
   "execution_count": 208,
   "id": "cc684288",
   "metadata": {},
   "outputs": [
    {
     "data": {
      "image/png": "[encoded data removed]",
      "text/plain": [
       "<Figure size 720x1440 with 12 Axes>"
      ]
     },
     "metadata": {},
     "output_type": "display_data"
    }
   ],
   "source": [
    "fig, ax = plt.subplots(6, 2, figsize=(10, 20))\n",
    "    \n",
    "for axes, cfs_matrix, label in zip(ax.flatten(), conf_matrix[0:12], actions[0:12]):\n",
    "    print_confusion_matrix(cfs_matrix, axes, label, [\"F\", \"T\"])\n",
    "\n",
    "fig.tight_layout()\n",
    "#plt.show()\n",
    "plt.savefig('conf_mat.pdf', dpi = 700)"
   ]
  },
  {
   "cell_type": "code",
   "execution_count": 209,
   "id": "7bdbc5a8",
   "metadata": {},
   "outputs": [
    {
     "data": {
      "image/png": "[encoded data removed]",
      "text/plain": [
       "<Figure size 720x1728 with 14 Axes>"
      ]
     },
     "metadata": {},
     "output_type": "display_data"
    }
   ],
   "source": [
    "fig, ax = plt.subplots(7, 2, figsize=(10, 24))\n",
    "    \n",
    "for axes, cfs_matrix, label in zip(ax.flatten(), conf_matrix[12:], actions[12:]):\n",
    "    print_confusion_matrix(cfs_matrix, axes, label, [\"F\", \"T\"])\n",
    "\n",
    "fig.tight_layout()\n",
    "#plt.show()\n",
    "plt.savefig('conf_mat2.pdf', dpi = 700)"
   ]
  },
  {
   "cell_type": "code",
   "execution_count": 210,
   "id": "fa10e646",
   "metadata": {},
   "outputs": [],
   "source": [
    "# Uncomment to save your model\n",
    "model.save('model_weights.h5')"
   ]
  },
  {
   "cell_type": "code",
   "execution_count": 211,
   "id": "f8250c41",
   "metadata": {},
   "outputs": [
    {
     "name": "stdout",
     "output_type": "stream",
     "text": [
      "INFO:tensorflow:Assets written to: saved_models\\assets\n"
     ]
    }
   ],
   "source": [
    "import tensorflow as tf\n",
    "import tensorflow_hub as hub\n",
    "from tensorflow import lite\n",
    "\n",
    "SAVED_MODEL = \"saved_models\"\n",
    "tf.saved_model.save(model, SAVED_MODEL)"
   ]
  },
  {
   "cell_type": "code",
   "execution_count": 212,
   "id": "47dd0e88",
   "metadata": {},
   "outputs": [],
   "source": [
    "#sigmodel = hub.load(SAVED_MODEL)\n",
    "TFLITE_MODEL = \"tflite_models/sign.tflite\"\n",
    "TFLITE_QUANT_MODEL = \"tflite_models/sign_quant.tflite\""
   ]
  },
  {
   "cell_type": "code",
   "execution_count": 213,
   "id": "c3c36a2d",
   "metadata": {},
   "outputs": [],
   "source": [
    "def convert_to_tflite():\n",
    "    converter = lite.TFLiteConverter.from_keras_model(model)\n",
    "\n",
    "    converter.optimizations = [tf.lite.Optimize.DEFAULT]\n",
    "    converter.experimental_new_converter = True\n",
    "    converter.target_spec.supported_ops = [tf.lite.OpsSet.TFLITE_BUILTINS,\n",
    "                                           tf.lite.OpsSet.SELECT_TF_OPS]\n",
    "\n",
    "    converted_tflite_model = converter.convert()\n",
    "    open(TFLITE_MODEL, \"wb\").write(converted_tflite_model)\n",
    "\n",
    "    converter = lite.TFLiteConverter.from_keras_model(model)\n",
    "    converter.optimizations = [tf.lite.Optimize.OPTIMIZE_FOR_SIZE]\n",
    "    converter.experimental_new_converter = True\n",
    "    converter.target_spec.supported_ops = [tf.lite.OpsSet.TFLITE_BUILTINS,\n",
    "                                           tf.lite.OpsSet.SELECT_TF_OPS]\n",
    "\n",
    "    tflite_quant_model = converter.convert()\n",
    "    open(TFLITE_QUANT_MODEL, \"wb\").write(tflite_quant_model)"
   ]
  },
  {
   "cell_type": "code",
   "execution_count": 214,
   "id": "42a64831",
   "metadata": {},
   "outputs": [
    {
     "name": "stdout",
     "output_type": "stream",
     "text": [
      "INFO:tensorflow:Assets written to: C:\\Users\\SHUBHAM\\AppData\\Local\\Temp\\tmpfdcbtws2\\assets\n"
     ]
    },
    {
     "name": "stderr",
     "output_type": "stream",
     "text": [
      "WARNING:absl:Buffer deduplication procedure will be skipped when flatbuffer library is not properly loaded\n",
      "WARNING:absl:Optimization option OPTIMIZE_FOR_SIZE is deprecated, please use optimizations=[Optimize.DEFAULT] instead.\n"
     ]
    },
    {
     "name": "stdout",
     "output_type": "stream",
     "text": [
      "INFO:tensorflow:Assets written to: C:\\Users\\SHUBHAM\\AppData\\Local\\Temp\\tmpiz2t2kfq\\assets\n"
     ]
    },
    {
     "name": "stderr",
     "output_type": "stream",
     "text": [
      "INFO:tensorflow:Assets written to: C:\\Users\\SHUBHAM\\AppData\\Local\\Temp\\tmpiz2t2kfq\\assets\n",
      "WARNING:absl:Optimization option OPTIMIZE_FOR_SIZE is deprecated, please use optimizations=[Optimize.DEFAULT] instead.\n",
      "WARNING:absl:Optimization option OPTIMIZE_FOR_SIZE is deprecated, please use optimizations=[Optimize.DEFAULT] instead.\n",
      "WARNING:absl:Buffer deduplication procedure will be skipped when flatbuffer library is not properly loaded\n"
     ]
    }
   ],
   "source": [
    "convert_to_tflite()"
   ]
  },
  {
   "cell_type": "code",
   "execution_count": 215,
   "id": "a440220b",
   "metadata": {},
   "outputs": [],
   "source": [
    "def use_tflite(X_test, y_test):\n",
    "    X_test = np.float32(X_test)\n",
    "    y_test = np.float32(y_test)\n",
    "    \n",
    "    tflite_interpreter = tf.lite.Interpreter(model_path=TFLITE_MODEL)\n",
    "\n",
    "    input_details = tflite_interpreter.get_input_details()\n",
    "    output_details = tflite_interpreter.get_output_details()\n",
    "\n",
    "    tflite_interpreter.resize_tensor_input(\n",
    "        input_details[0]['index'], X_test.shape)\n",
    "    tflite_interpreter.resize_tensor_input(\n",
    "        output_details[0]['index'], y_test.shape)\n",
    "    tflite_interpreter.allocate_tensors()\n",
    "\n",
    "    input_details = tflite_interpreter.get_input_details()\n",
    "    output_details = tflite_interpreter.get_output_details()\n",
    "\n",
    "    # Load quantized TFLite model\n",
    "    tflite_interpreter_quant = tf.lite.Interpreter(\n",
    "        model_path=TFLITE_QUANT_MODEL)\n",
    "\n",
    "    # Learn about its input and output details\n",
    "    input_details = tflite_interpreter_quant.get_input_details()\n",
    "    output_details = tflite_interpreter_quant.get_output_details()\n",
    "\n",
    "    # Resize input and output tensors\n",
    "    tflite_interpreter_quant.resize_tensor_input(\n",
    "        input_details[0]['index'], X_test.shape)\n",
    "    tflite_interpreter_quant.resize_tensor_input(\n",
    "        output_details[0]['index'], y_test.shape)\n",
    "    tflite_interpreter_quant.allocate_tensors()\n",
    "\n",
    "    input_details = tflite_interpreter_quant.get_input_details()\n",
    "    output_details = tflite_interpreter_quant.get_output_details()\n",
    "\n",
    "    # Run inference\n",
    "    tflite_interpreter_quant.set_tensor(input_details[0]['index'], X_test)\n",
    "\n",
    "    tflite_interpreter_quant.invoke()\n",
    "\n",
    "    tflite_q_model_predictions = tflite_interpreter_quant.get_tensor(\n",
    "        output_details[0]['index'])\n",
    "#print(\"\\nPrediction results shape:\", tflite_q_model_predictions.shape)"
   ]
  },
  {
   "cell_type": "code",
   "execution_count": null,
   "id": "9f3171c2",
   "metadata": {},
   "outputs": [],
   "source": [
    "#use_tflite(X_test, y_test)"
   ]
  },
  {
   "cell_type": "code",
   "execution_count": null,
   "id": "450d905a",
   "metadata": {},
   "outputs": [],
   "source": [
    "#new_actions = np.array(['C', 'O'])\n",
    "#new_label_map = {label:num for num, label in enumerate(new_actions)}\n",
    "#new_label_map"
   ]
  },
  {
   "cell_type": "code",
   "execution_count": null,
   "id": "97ff31f8",
   "metadata": {},
   "outputs": [],
   "source": [
    "# CNN Model\n",
    "#model = Sequential()\n",
    "\n",
    "#model.add(Conv1D(filters=32, kernel_size=3, activation='relu', input_shape=(30, 126)))\n",
    "# model.add(MaxPool1D(pool_size=2, strides=None))\n",
    "\n",
    "# model.add(Conv1D(filters=64, kernel_size=3, activation='relu', padding = 'same'))\n",
    "# model.add(MaxPool1D(pool_size=2, strides=None))\n",
    "\n",
    "# model.add(Conv1D(filters=128, kernel_size=3, activation='relu', padding = 'valid'))\n",
    "# model.add(MaxPool1D(pool_size=2, strides=None))\n",
    "\n",
    "# model.add(Flatten())\n",
    "\n",
    "# model.add(Dense(64,activation =\"relu\"))\n",
    "# model.add(Dropout(0.2))\n",
    "# model.add(Dense(128,activation =\"relu\"))\n",
    "# model.add(Dropout(0.3))\n",
    "# model.add(Dense(new_actions.shape[0],activation =\"softmax\"))"
   ]
  },
  {
   "cell_type": "code",
   "execution_count": null,
   "id": "de10265a",
   "metadata": {},
   "outputs": [],
   "source": [
    "# model.compile(optimizer='Adam', loss='categorical_crossentropy', metrics=['categorical_accuracy'])"
   ]
  },
  {
   "cell_type": "code",
   "execution_count": null,
   "id": "ec83e673",
   "metadata": {},
   "outputs": [],
   "source": [
    "# sequences, labels = [], []\n",
    "# for action in new_actions:\n",
    "#     for sequence in range(no_sequences):\n",
    "#         window = []\n",
    "#         for frame_num in range(sequence_length):\n",
    "#             res = np.load(os.path.join(DATA_PATH, action, str(sequence), \"{}.npy\".format(frame_num)))\n",
    "#             window.append(res)\n",
    "#         sequences.append(window)\n",
    "#         labels.append(new_label_map[action])"
   ]
  },
  {
   "cell_type": "code",
   "execution_count": null,
   "id": "ebd9249b",
   "metadata": {},
   "outputs": [],
   "source": [
    "#X = np.array(sequences)"
   ]
  },
  {
   "cell_type": "code",
   "execution_count": null,
   "id": "962354ef",
   "metadata": {},
   "outputs": [],
   "source": [
    "#y = to_categorical(labels).astype(int)"
   ]
  },
  {
   "cell_type": "code",
   "execution_count": null,
   "id": "998d1020",
   "metadata": {},
   "outputs": [],
   "source": [
    "#X_train, X_test, y_train, y_test = train_test_split(X, y, test_size=0.3)"
   ]
  },
  {
   "cell_type": "code",
   "execution_count": null,
   "id": "b8359882",
   "metadata": {},
   "outputs": [],
   "source": [
    "#X_train.shape"
   ]
  },
  {
   "cell_type": "code",
   "execution_count": null,
   "id": "6b1a5d4e",
   "metadata": {},
   "outputs": [],
   "source": [
    "#y_train.shape"
   ]
  },
  {
   "cell_type": "code",
   "execution_count": null,
   "id": "a0fa8f91",
   "metadata": {},
   "outputs": [],
   "source": [
    "#model.fit(X_train, y_train, epochs=100)"
   ]
  },
  {
   "cell_type": "code",
   "execution_count": null,
   "id": "81a6c95b",
   "metadata": {},
   "outputs": [],
   "source": [
    "#model.summary()"
   ]
  },
  {
   "cell_type": "code",
   "execution_count": null,
   "id": "bacc7e9f",
   "metadata": {},
   "outputs": [],
   "source": [
    "# Step 8 - Make prediction\n",
    "#res = model.predict(X_test)"
   ]
  },
  {
   "cell_type": "code",
   "execution_count": null,
   "id": "f5d009ba",
   "metadata": {},
   "outputs": [],
   "source": [
    "# yhat = model.predict(X_test)\n",
    "# ytrue = np.argmax(y_test, axis=1)\n",
    "# yhat = np.argmax(yhat, axis=1)\n",
    "\n",
    "# cf_matr2 = confusion_matrix(ytrue, yhat)\n",
    "# sns.set(rc = {'figure.figsize':(5, 4)})\n",
    "# hmap2 = sns.heatmap(cf_matr2,xticklabels=new_actions,yticklabels=new_actions)\n",
    "# hmap2\n",
    "# figure = hmap2.get_figure()    \n",
    "# figure.savefig('Confusion_matrixCO.pdf', dpi=700)"
   ]
  },
  {
   "cell_type": "code",
   "execution_count": null,
   "id": "48a7a573",
   "metadata": {},
   "outputs": [],
   "source": [
    "# ytrue = np.argmax(y_test, axis=1).tolist()\n",
    "# yhat = np.argmax(model.predict(X_test), axis=1).tolist()\n",
    "# accuracy_score(ytrue, yhat)"
   ]
  },
  {
   "cell_type": "code",
   "execution_count": null,
   "id": "48794497",
   "metadata": {},
   "outputs": [],
   "source": [
    "# # Uncomment to save your model\n",
    "# model.save('actionCO.h5')"
   ]
  },
  {
   "cell_type": "code",
   "execution_count": null,
   "id": "4c0b23db",
   "metadata": {},
   "outputs": [],
   "source": [
    "# new_actions = np.array(['M', 'N'])\n",
    "# new_label_map = {label:num for num, label in enumerate(new_actions)}\n",
    "# new_label_map"
   ]
  },
  {
   "cell_type": "code",
   "execution_count": null,
   "id": "6be788d4",
   "metadata": {},
   "outputs": [],
   "source": [
    "# # CNN Model\n",
    "# model = Sequential()\n",
    "\n",
    "# model.add(Conv1D(filters=32, kernel_size=3, activation='relu', input_shape=(30, 126)))\n",
    "# model.add(MaxPool1D(pool_size=2, strides=None))\n",
    "\n",
    "# model.add(Conv1D(filters=64, kernel_size=3, activation='relu', padding = 'same'))\n",
    "# model.add(MaxPool1D(pool_size=2, strides=None))\n",
    "\n",
    "# model.add(Conv1D(filters=128, kernel_size=3, activation='relu', padding = 'valid'))\n",
    "# model.add(MaxPool1D(pool_size=2, strides=None))\n",
    "\n",
    "# model.add(Flatten())\n",
    "\n",
    "# model.add(Dense(64,activation =\"relu\"))\n",
    "# model.add(Dropout(0.2))\n",
    "# model.add(Dense(128,activation =\"relu\"))\n",
    "# model.add(Dropout(0.3))\n",
    "# model.add(Dense(new_actions.shape[0],activation =\"softmax\"))"
   ]
  },
  {
   "cell_type": "code",
   "execution_count": null,
   "id": "cedc557c",
   "metadata": {},
   "outputs": [],
   "source": [
    "# model.compile(optimizer='Adam', loss='categorical_crossentropy', metrics=['categorical_accuracy'])"
   ]
  },
  {
   "cell_type": "code",
   "execution_count": null,
   "id": "11974d41",
   "metadata": {},
   "outputs": [],
   "source": [
    "# sequences, labels = [], []\n",
    "# for action in new_actions:\n",
    "#     for sequence in range(no_sequences):\n",
    "#         window = []\n",
    "#         for frame_num in range(sequence_length):\n",
    "#             res = np.load(os.path.join(DATA_PATH, action, str(sequence), \"{}.npy\".format(frame_num)))\n",
    "#             window.append(res)\n",
    "#         sequences.append(window)\n",
    "#         labels.append(new_label_map[action])"
   ]
  },
  {
   "cell_type": "code",
   "execution_count": null,
   "id": "962074f3",
   "metadata": {},
   "outputs": [],
   "source": [
    "#X = np.array(sequences)"
   ]
  },
  {
   "cell_type": "code",
   "execution_count": null,
   "id": "fdaf9b7b",
   "metadata": {},
   "outputs": [],
   "source": [
    "#y = to_categorical(labels).astype(int)"
   ]
  },
  {
   "cell_type": "code",
   "execution_count": null,
   "id": "78c382a0",
   "metadata": {},
   "outputs": [],
   "source": [
    "#X_train, X_test, y_train, y_test = train_test_split(X, y, test_size=0.3)"
   ]
  },
  {
   "cell_type": "code",
   "execution_count": null,
   "id": "7c343797",
   "metadata": {},
   "outputs": [],
   "source": [
    "#X_train.shape"
   ]
  },
  {
   "cell_type": "code",
   "execution_count": null,
   "id": "f6496cf4",
   "metadata": {},
   "outputs": [],
   "source": [
    "#y_train.shape"
   ]
  },
  {
   "cell_type": "code",
   "execution_count": null,
   "id": "c4f59e44",
   "metadata": {},
   "outputs": [],
   "source": [
    "#model.fit(X_train, y_train, epochs=100)"
   ]
  },
  {
   "cell_type": "code",
   "execution_count": null,
   "id": "ede0b9d3",
   "metadata": {},
   "outputs": [],
   "source": [
    "#model.summary()"
   ]
  },
  {
   "cell_type": "code",
   "execution_count": null,
   "id": "c2357a87",
   "metadata": {},
   "outputs": [],
   "source": [
    "# Step 8 - Make prediction\n",
    "#res = model.predict(X_test)"
   ]
  },
  {
   "cell_type": "code",
   "execution_count": null,
   "id": "2f321e11",
   "metadata": {},
   "outputs": [],
   "source": [
    "# yhat = model.predict(X_test)\n",
    "# ytrue = np.argmax(y_test, axis=1)\n",
    "# yhat = np.argmax(yhat, axis=1)\n",
    "\n",
    "# cf_matr3 = confusion_matrix(ytrue, yhat)\n",
    "# sns.set(rc = {'figure.figsize':(5, 4)})\n",
    "# hmap3 = sns.heatmap(cf_matr3,xticklabels=new_actions,yticklabels=new_actions)\n",
    "# hmap3\n",
    "# figure = hmap3.get_figure()    \n",
    "# figure.savefig('Confusion_matrixMN.pdf', dpi=700)"
   ]
  },
  {
   "cell_type": "code",
   "execution_count": null,
   "id": "b4b46a1d",
   "metadata": {},
   "outputs": [],
   "source": [
    "# yhat = model.predict(X_test)\n",
    "# ytrue = np.argmax(y_test, axis=1).tolist()\n",
    "# yhat = np.argmax(model.predict(X_test), axis=1).tolist()\n",
    "# accuracy_score(ytrue, yhat)"
   ]
  },
  {
   "cell_type": "code",
   "execution_count": null,
   "id": "8ed81e62",
   "metadata": {},
   "outputs": [],
   "source": [
    "#plot_model(model, to_file='modelCO.pdf', dpi = 700, show_shapes=True)"
   ]
  },
  {
   "cell_type": "code",
   "execution_count": null,
   "id": "e57349a2",
   "metadata": {},
   "outputs": [],
   "source": [
    "# Uncomment to save your model\n",
    "#model.save('actionMN.h5')"
   ]
  },
  {
   "cell_type": "code",
   "execution_count": null,
   "id": "f0c194ec",
   "metadata": {},
   "outputs": [],
   "source": []
  }
 ],
 "metadata": {
  "kernelspec": {
   "display_name": "Python 3 (ipykernel)",
   "language": "python",
   "name": "python3"
  },
  "language_info": {
   "codemirror_mode": {
    "name": "ipython",
    "version": 3
   },
   "file_extension": ".py",
   "mimetype": "text/x-python",
   "name": "python",
   "nbconvert_exporter": "python",
   "pygments_lexer": "ipython3",
   "version": "3.9.7"
  }
 },
 "nbformat": 4,
 "nbformat_minor": 5
}
