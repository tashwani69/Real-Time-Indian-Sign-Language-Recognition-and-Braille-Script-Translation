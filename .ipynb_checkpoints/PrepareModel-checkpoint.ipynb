{
 "cells": [
  {
   "cell_type": "code",
   "execution_count": 1,
   "id": "9e1a73cf",
   "metadata": {},
   "outputs": [],
   "source": [
    "import cv2\n",
    "import numpy as np\n",
    "import os\n",
    "from matplotlib import pyplot as plt\n",
    "import time\n",
    "import mediapipe as mp"
   ]
  },
  {
   "cell_type": "code",
   "execution_count": 2,
   "id": "a6acf65e",
   "metadata": {},
   "outputs": [],
   "source": [
    "mp_holistic = mp.solutions.holistic # Holistic model\n",
    "mp_drawing = mp.solutions.drawing_utils # Drawing utilities"
   ]
  },
  {
   "cell_type": "code",
   "execution_count": 3,
   "id": "5eca98ad",
   "metadata": {},
   "outputs": [],
   "source": [
    "def mediapipe_detection(image, model):\n",
    "    image = cv2.cvtColor(image, cv2.COLOR_BGR2RGB) # COLOR CONVERSION BGR 2 RGB\n",
    "    image.flags.writeable = False                  # Image is no longer writeable\n",
    "    results = model.process(image)                 # Make prediction\n",
    "    image.flags.writeable = True                   # Image is now writeable \n",
    "    image = cv2.cvtColor(image, cv2.COLOR_RGB2BGR) # COLOR COVERSION RGB 2 BGR\n",
    "    return image, results"
   ]
  },
  {
   "cell_type": "code",
   "execution_count": 4,
   "id": "33ddfb44",
   "metadata": {},
   "outputs": [],
   "source": [
    "def draw_landmarks(image, results):\n",
    "    mp_drawing.draw_landmarks(image, results.face_landmarks, mp_holistic.FACEMESH_TESSELATION) # Draw face connections\n",
    "    mp_drawing.draw_landmarks(image, results.pose_landmarks, mp_holistic.POSE_CONNECTIONS) # Draw pose connections\n",
    "    mp_drawing.draw_landmarks(image, results.left_hand_landmarks, mp_holistic.HAND_CONNECTIONS) # Draw left hand connections\n",
    "    mp_drawing.draw_landmarks(image, results.right_hand_landmarks, mp_holistic.HAND_CONNECTIONS) # Draw right hand connections"
   ]
  },
  {
   "cell_type": "code",
   "execution_count": 5,
   "id": "2616cbe9",
   "metadata": {},
   "outputs": [],
   "source": [
    "def draw_styled_landmarks(image, results):\n",
    "    # Draw face connections\n",
    "    #mp_drawing.draw_landmarks(image, results.face_landmarks, mp_holistic.FACEMESH_TESSELATION, \n",
    "    #                         mp_drawing.DrawingSpec(color=(80,110,10), thickness=1, circle_radius=1), \n",
    "    #                         mp_drawing.DrawingSpec(color=(80,256,121), thickness=1, circle_radius=1)\n",
    "    #                         ) \n",
    "    # Draw pose connections\n",
    "    #mp_drawing.draw_landmarks(image, results.pose_landmarks, mp_holistic.POSE_CONNECTIONS,\n",
    "    #                         mp_drawing.DrawingSpec(color=(80,22,10), thickness=2, circle_radius=4), \n",
    "    #                         mp_drawing.DrawingSpec(color=(80,44,121), thickness=2, circle_radius=2)\n",
    "    #                         ) \n",
    "    # Draw left hand connections\n",
    "    mp_drawing.draw_landmarks(image, results.left_hand_landmarks, mp_holistic.HAND_CONNECTIONS, \n",
    "                             mp_drawing.DrawingSpec(color=(121,22,76), thickness=2, circle_radius=4), \n",
    "                             mp_drawing.DrawingSpec(color=(121,44,250), thickness=2, circle_radius=2)\n",
    "                             ) \n",
    "    # Draw right hand connections  \n",
    "    mp_drawing.draw_landmarks(image, results.right_hand_landmarks, mp_holistic.HAND_CONNECTIONS, \n",
    "                             mp_drawing.DrawingSpec(color=(245,117,66), thickness=2, circle_radius=4), \n",
    "                             mp_drawing.DrawingSpec(color=(245,66,230), thickness=2, circle_radius=2)\n",
    "                             ) "
   ]
  },
  {
   "cell_type": "code",
   "execution_count": 6,
   "id": "321f5164",
   "metadata": {},
   "outputs": [],
   "source": [
    "def extract_keypoints(results):\n",
    "    pose = np.array([[res.x, res.y, res.z, res.visibility] for res in results.pose_landmarks.landmark]).flatten() if results.pose_landmarks else np.zeros(33*4)\n",
    "    face = np.array([[res.x, res.y, res.z] for res in results.face_landmarks.landmark]).flatten() if results.face_landmarks else np.zeros(468*3)\n",
    "    lh = np.array([[res.x, res.y, res.z] for res in results.left_hand_landmarks.landmark]).flatten() if results.left_hand_landmarks else np.zeros(21*3)\n",
    "    rh = np.array([[res.x, res.y, res.z] for res in results.right_hand_landmarks.landmark]).flatten() if results.right_hand_landmarks else np.zeros(21*3)\n",
    "    return np.concatenate([lh, rh])"
   ]
  },
  {
   "cell_type": "code",
   "execution_count": 7,
   "id": "f12f0d05",
   "metadata": {},
   "outputs": [],
   "source": [
    "# Path for exported data, numpy arrays\n",
    "# Step 4\n",
    "DATA_PATH = os.path.join('ISL_Data')\n",
    "actions = np.array(['A','B','C','D','E','F','G','H','I','J','K','L','M','N','O','P','Q','R','S','T','U','V','W','X','Y','Z'])\n",
    "# ,,'N','O','P','Q','R','S','T','U','V','W','X','Y','Z'\n",
    "# 'A','B','C','D','E','F','G','H','I','J','K','L','M','N','O','P','Q','R','S','T','U','V','W','X','Y','Z',\n",
    "\n",
    "# no of videos\n",
    "no_sequences = 30\n",
    "\n",
    "# no of frames in each video\n",
    "sequence_length = 30"
   ]
  },
  {
   "cell_type": "code",
   "execution_count": 8,
   "id": "cc9db9ac",
   "metadata": {},
   "outputs": [],
   "source": [
    "# Step 6 - preprocess data create labels and features\n",
    "from sklearn.model_selection import train_test_split\n",
    "from tensorflow.keras.utils import to_categorical"
   ]
  },
  {
   "cell_type": "code",
   "execution_count": 9,
   "id": "860d920d",
   "metadata": {},
   "outputs": [],
   "source": [
    "label_map = {label:num for num, label in enumerate(actions)}\n",
    "#label_map"
   ]
  },
  {
   "cell_type": "code",
   "execution_count": 11,
   "id": "c1a4d53e",
   "metadata": {},
   "outputs": [],
   "source": [
    "sequences, labels = [], []\n",
    "for action in actions:\n",
    "    for sequence in range(no_sequences):\n",
    "        window = []\n",
    "        for frame_num in range(sequence_length):\n",
    "            res = np.load(os.path.join(DATA_PATH, action, str(sequence), \"{}.npy\".format(frame_num)))\n",
    "            window.append(res)\n",
    "        sequences.append(window)\n",
    "        labels.append(label_map[action])"
   ]
  },
  {
   "cell_type": "code",
   "execution_count": 12,
   "id": "0bda6647",
   "metadata": {},
   "outputs": [],
   "source": [
    "X = np.array(sequences)"
   ]
  },
  {
   "cell_type": "code",
   "execution_count": 13,
   "id": "1108eab3",
   "metadata": {},
   "outputs": [],
   "source": [
    "y = to_categorical(labels).astype(int)"
   ]
  },
  {
   "cell_type": "code",
   "execution_count": 14,
   "id": "f8620c6b",
   "metadata": {},
   "outputs": [],
   "source": [
    "X_train, X_test, y_train, y_test = train_test_split(X, y, test_size=0.2)"
   ]
  },
  {
   "cell_type": "code",
   "execution_count": 15,
   "id": "a86cfe2b",
   "metadata": {},
   "outputs": [
    {
     "data": {
      "text/plain": [
       "(156, 30, 126)"
      ]
     },
     "execution_count": 15,
     "metadata": {},
     "output_type": "execute_result"
    }
   ],
   "source": [
    "X_test.shape"
   ]
  },
  {
   "cell_type": "code",
   "execution_count": 16,
   "id": "6c5b0479",
   "metadata": {},
   "outputs": [],
   "source": [
    "# Step 7 - build and train lSTM NN\n",
    "from tensorflow.keras.models import Sequential\n",
    "from tensorflow.keras.layers import LSTM, Dense\n",
    "from tensorflow.keras.callbacks import TensorBoard, EarlyStopping"
   ]
  },
  {
   "cell_type": "code",
   "execution_count": 17,
   "id": "a3dba74d",
   "metadata": {},
   "outputs": [],
   "source": [
    "# Before running this, delete the Logs folder\n",
    "log_dir = os.path.join('Logs')\n",
    "tb_callback = TensorBoard(log_dir=log_dir)"
   ]
  },
  {
   "cell_type": "code",
   "execution_count": 18,
   "id": "9533039b",
   "metadata": {},
   "outputs": [],
   "source": [
    "from keras.layers import Activation, Dense, Flatten, BatchNormalization, Conv1D, MaxPool1D, Dropout, TimeDistributed, RepeatVector"
   ]
  },
  {
   "cell_type": "code",
   "execution_count": 19,
   "id": "493e3f91",
   "metadata": {},
   "outputs": [],
   "source": [
    "# CNN Model\n",
    "model = Sequential()\n",
    "\n",
    "model.add(Conv1D(filters=32, kernel_size=3, activation='relu', input_shape=(30, 126)))\n",
    "model.add(MaxPool1D(pool_size=2, strides=None))\n",
    "\n",
    "model.add(Conv1D(filters=64, kernel_size=3, activation='relu', padding = 'same'))\n",
    "model.add(MaxPool1D(pool_size=2, strides=None))\n",
    "\n",
    "model.add(Conv1D(filters=128, kernel_size=3, activation='relu', padding = 'valid'))\n",
    "model.add(MaxPool1D(pool_size=2, strides=None))\n",
    "\n",
    "model.add(Flatten())\n",
    "\n",
    "model.add(Dense(64,activation =\"relu\"))\n",
    "model.add(Dropout(0.2))\n",
    "model.add(Dense(64,activation =\"relu\"))\n",
    "model.add(Dropout(0.2))\n",
    "model.add(Dense(128,activation =\"relu\"))\n",
    "model.add(Dropout(0.2))\n",
    "model.add(Dense(128,activation =\"relu\"))\n",
    "model.add(Dropout(0.3))\n",
    "model.add(Dense(actions.shape[0],activation =\"softmax\"))"
   ]
  },
  {
   "cell_type": "code",
   "execution_count": 20,
   "id": "a5bbb03d",
   "metadata": {},
   "outputs": [],
   "source": [
    "model.compile(optimizer='Adam', loss='categorical_crossentropy', metrics=['categorical_accuracy'])"
   ]
  },
  {
   "cell_type": "code",
   "execution_count": 21,
   "id": "0e85302e",
   "metadata": {},
   "outputs": [
    {
     "name": "stdout",
     "output_type": "stream",
     "text": [
      "Model: \"sequential\"\n",
      "_________________________________________________________________\n",
      " Layer (type)                Output Shape              Param #   \n",
      "=================================================================\n",
      " conv1d (Conv1D)             (None, 28, 32)            12128     \n",
      "                                                                 \n",
      " max_pooling1d (MaxPooling1D  (None, 14, 32)           0         \n",
      " )                                                               \n",
      "                                                                 \n",
      " conv1d_1 (Conv1D)           (None, 14, 64)            6208      \n",
      "                                                                 \n",
      " max_pooling1d_1 (MaxPooling  (None, 7, 64)            0         \n",
      " 1D)                                                             \n",
      "                                                                 \n",
      " conv1d_2 (Conv1D)           (None, 5, 128)            24704     \n",
      "                                                                 \n",
      " max_pooling1d_2 (MaxPooling  (None, 2, 128)           0         \n",
      " 1D)                                                             \n",
      "                                                                 \n",
      " flatten (Flatten)           (None, 256)               0         \n",
      "                                                                 \n",
      " dense (Dense)               (None, 64)                16448     \n",
      "                                                                 \n",
      " dropout (Dropout)           (None, 64)                0         \n",
      "                                                                 \n",
      " dense_1 (Dense)             (None, 64)                4160      \n",
      "                                                                 \n",
      " dropout_1 (Dropout)         (None, 64)                0         \n",
      "                                                                 \n",
      " dense_2 (Dense)             (None, 128)               8320      \n",
      "                                                                 \n",
      " dropout_2 (Dropout)         (None, 128)               0         \n",
      "                                                                 \n",
      " dense_3 (Dense)             (None, 128)               16512     \n",
      "                                                                 \n",
      " dropout_3 (Dropout)         (None, 128)               0         \n",
      "                                                                 \n",
      " dense_4 (Dense)             (None, 26)                3354      \n",
      "                                                                 \n",
      "=================================================================\n",
      "Total params: 91,834\n",
      "Trainable params: 91,834\n",
      "Non-trainable params: 0\n",
      "_________________________________________________________________\n"
     ]
    }
   ],
   "source": [
    "model.summary()"
   ]
  },
  {
   "cell_type": "code",
   "execution_count": 22,
   "id": "912211ea",
   "metadata": {},
   "outputs": [
    {
     "name": "stdout",
     "output_type": "stream",
     "text": [
      "Epoch 1/500\n",
      "16/16 [==============================] - 1s 27ms/step - loss: 3.2668 - categorical_accuracy: 0.0361 - val_loss: 3.2494 - val_categorical_accuracy: 0.0560\n",
      "Epoch 2/500\n",
      "16/16 [==============================] - 0s 14ms/step - loss: 3.2308 - categorical_accuracy: 0.0441 - val_loss: 3.2044 - val_categorical_accuracy: 0.0720\n",
      "Epoch 3/500\n",
      "16/16 [==============================] - 0s 10ms/step - loss: 3.1318 - categorical_accuracy: 0.0802 - val_loss: 3.0594 - val_categorical_accuracy: 0.0560\n",
      "Epoch 4/500\n",
      "16/16 [==============================] - 0s 10ms/step - loss: 2.9701 - categorical_accuracy: 0.0802 - val_loss: 2.9123 - val_categorical_accuracy: 0.0640\n",
      "Epoch 5/500\n",
      "16/16 [==============================] - 0s 9ms/step - loss: 2.8949 - categorical_accuracy: 0.1002 - val_loss: 2.8232 - val_categorical_accuracy: 0.1520\n",
      "Epoch 6/500\n",
      "16/16 [==============================] - 0s 8ms/step - loss: 2.8314 - categorical_accuracy: 0.1042 - val_loss: 2.7611 - val_categorical_accuracy: 0.1040\n",
      "Epoch 7/500\n",
      "16/16 [==============================] - 0s 9ms/step - loss: 2.7376 - categorical_accuracy: 0.1062 - val_loss: 2.6846 - val_categorical_accuracy: 0.0880\n",
      "Epoch 8/500\n",
      "16/16 [==============================] - 0s 9ms/step - loss: 2.6684 - categorical_accuracy: 0.1343 - val_loss: 2.6070 - val_categorical_accuracy: 0.1520\n",
      "Epoch 9/500\n",
      "16/16 [==============================] - 0s 9ms/step - loss: 2.5716 - categorical_accuracy: 0.1643 - val_loss: 2.5155 - val_categorical_accuracy: 0.1600\n",
      "Epoch 10/500\n",
      "16/16 [==============================] - 0s 8ms/step - loss: 2.4564 - categorical_accuracy: 0.1864 - val_loss: 2.3756 - val_categorical_accuracy: 0.2560\n",
      "Epoch 11/500\n",
      "16/16 [==============================] - 0s 8ms/step - loss: 2.4340 - categorical_accuracy: 0.2084 - val_loss: 2.3566 - val_categorical_accuracy: 0.1920\n",
      "Epoch 12/500\n",
      "16/16 [==============================] - 0s 8ms/step - loss: 2.2841 - categorical_accuracy: 0.2345 - val_loss: 2.1693 - val_categorical_accuracy: 0.2480\n",
      "Epoch 13/500\n",
      "16/16 [==============================] - 0s 8ms/step - loss: 2.2439 - categorical_accuracy: 0.2144 - val_loss: 2.1930 - val_categorical_accuracy: 0.2160\n",
      "Epoch 14/500\n",
      "16/16 [==============================] - 0s 8ms/step - loss: 2.0981 - categorical_accuracy: 0.2886 - val_loss: 2.0070 - val_categorical_accuracy: 0.2560\n",
      "Epoch 15/500\n",
      "16/16 [==============================] - 0s 8ms/step - loss: 1.9933 - categorical_accuracy: 0.2705 - val_loss: 1.9091 - val_categorical_accuracy: 0.3120\n",
      "Epoch 16/500\n",
      "16/16 [==============================] - 0s 9ms/step - loss: 1.9258 - categorical_accuracy: 0.3066 - val_loss: 1.8632 - val_categorical_accuracy: 0.3440\n",
      "Epoch 17/500\n",
      "16/16 [==============================] - 0s 9ms/step - loss: 1.8729 - categorical_accuracy: 0.3307 - val_loss: 1.8592 - val_categorical_accuracy: 0.3840\n",
      "Epoch 18/500\n",
      "16/16 [==============================] - 0s 10ms/step - loss: 1.7879 - categorical_accuracy: 0.3307 - val_loss: 1.7054 - val_categorical_accuracy: 0.4000\n",
      "Epoch 19/500\n",
      "16/16 [==============================] - 0s 9ms/step - loss: 1.7194 - categorical_accuracy: 0.3788 - val_loss: 1.7239 - val_categorical_accuracy: 0.4320\n",
      "Epoch 20/500\n",
      "16/16 [==============================] - 0s 8ms/step - loss: 1.6489 - categorical_accuracy: 0.4028 - val_loss: 1.6136 - val_categorical_accuracy: 0.4720\n",
      "Epoch 21/500\n",
      "16/16 [==============================] - 0s 9ms/step - loss: 1.5789 - categorical_accuracy: 0.4208 - val_loss: 1.4795 - val_categorical_accuracy: 0.5200\n",
      "Epoch 22/500\n",
      "16/16 [==============================] - 0s 9ms/step - loss: 1.5729 - categorical_accuracy: 0.4168 - val_loss: 1.4998 - val_categorical_accuracy: 0.4320\n",
      "Epoch 23/500\n",
      "16/16 [==============================] - 0s 11ms/step - loss: 1.5058 - categorical_accuracy: 0.4309 - val_loss: 1.3552 - val_categorical_accuracy: 0.4960\n",
      "Epoch 24/500\n",
      "16/16 [==============================] - 0s 9ms/step - loss: 1.4046 - categorical_accuracy: 0.5070 - val_loss: 1.4840 - val_categorical_accuracy: 0.4320\n",
      "Epoch 25/500\n",
      "16/16 [==============================] - 0s 9ms/step - loss: 1.3422 - categorical_accuracy: 0.5130 - val_loss: 1.4450 - val_categorical_accuracy: 0.4880\n",
      "Epoch 26/500\n",
      "16/16 [==============================] - 0s 8ms/step - loss: 1.2978 - categorical_accuracy: 0.5130 - val_loss: 1.2788 - val_categorical_accuracy: 0.5280\n",
      "Epoch 27/500\n",
      "16/16 [==============================] - 0s 8ms/step - loss: 1.2985 - categorical_accuracy: 0.5130 - val_loss: 1.3030 - val_categorical_accuracy: 0.5520\n",
      "Epoch 28/500\n",
      "16/16 [==============================] - 0s 9ms/step - loss: 1.2111 - categorical_accuracy: 0.5691 - val_loss: 1.2442 - val_categorical_accuracy: 0.5680\n",
      "Epoch 29/500\n",
      "16/16 [==============================] - 0s 10ms/step - loss: 1.2354 - categorical_accuracy: 0.5471 - val_loss: 1.2996 - val_categorical_accuracy: 0.5120\n",
      "Epoch 30/500\n",
      "16/16 [==============================] - 0s 10ms/step - loss: 1.1965 - categorical_accuracy: 0.5511 - val_loss: 1.4154 - val_categorical_accuracy: 0.4880\n",
      "Epoch 31/500\n",
      "16/16 [==============================] - 0s 10ms/step - loss: 1.1093 - categorical_accuracy: 0.5651 - val_loss: 1.2978 - val_categorical_accuracy: 0.5920\n",
      "Epoch 32/500\n",
      "16/16 [==============================] - 0s 10ms/step - loss: 1.2673 - categorical_accuracy: 0.5331 - val_loss: 1.3037 - val_categorical_accuracy: 0.5520\n",
      "Epoch 33/500\n",
      "16/16 [==============================] - 0s 9ms/step - loss: 1.2174 - categorical_accuracy: 0.5311 - val_loss: 1.1348 - val_categorical_accuracy: 0.5920\n",
      "Epoch 34/500\n",
      "16/16 [==============================] - 0s 8ms/step - loss: 0.9973 - categorical_accuracy: 0.6313 - val_loss: 1.1233 - val_categorical_accuracy: 0.6080\n",
      "Epoch 35/500\n",
      "16/16 [==============================] - 0s 9ms/step - loss: 1.0356 - categorical_accuracy: 0.5972 - val_loss: 1.1482 - val_categorical_accuracy: 0.5760\n",
      "Epoch 36/500\n",
      "16/16 [==============================] - 0s 11ms/step - loss: 0.9747 - categorical_accuracy: 0.6273 - val_loss: 0.9668 - val_categorical_accuracy: 0.6640\n",
      "Epoch 37/500\n",
      "16/16 [==============================] - 0s 11ms/step - loss: 0.9130 - categorical_accuracy: 0.6733 - val_loss: 1.0990 - val_categorical_accuracy: 0.5920\n",
      "Epoch 38/500\n",
      "16/16 [==============================] - 0s 8ms/step - loss: 0.8762 - categorical_accuracy: 0.6533 - val_loss: 1.1123 - val_categorical_accuracy: 0.6400\n",
      "Epoch 39/500\n",
      "16/16 [==============================] - 0s 8ms/step - loss: 0.8598 - categorical_accuracy: 0.6613 - val_loss: 1.1397 - val_categorical_accuracy: 0.6480\n",
      "Epoch 40/500\n",
      "16/16 [==============================] - 0s 12ms/step - loss: 0.9210 - categorical_accuracy: 0.6192 - val_loss: 1.3861 - val_categorical_accuracy: 0.5920\n",
      "Epoch 41/500\n",
      "16/16 [==============================] - 0s 9ms/step - loss: 0.9514 - categorical_accuracy: 0.6413 - val_loss: 1.0902 - val_categorical_accuracy: 0.6400\n",
      "Epoch 42/500\n",
      "16/16 [==============================] - 0s 10ms/step - loss: 0.8857 - categorical_accuracy: 0.6754 - val_loss: 1.0136 - val_categorical_accuracy: 0.6720\n",
      "Epoch 43/500\n",
      "16/16 [==============================] - 0s 10ms/step - loss: 0.8951 - categorical_accuracy: 0.6754 - val_loss: 1.0882 - val_categorical_accuracy: 0.6560\n",
      "Epoch 44/500\n",
      "16/16 [==============================] - 0s 12ms/step - loss: 0.8961 - categorical_accuracy: 0.6473 - val_loss: 0.9867 - val_categorical_accuracy: 0.7120\n",
      "Epoch 45/500\n",
      "16/16 [==============================] - 0s 11ms/step - loss: 0.8173 - categorical_accuracy: 0.6754 - val_loss: 0.9350 - val_categorical_accuracy: 0.7040\n",
      "Epoch 46/500\n",
      "16/16 [==============================] - 0s 16ms/step - loss: 0.7499 - categorical_accuracy: 0.7295 - val_loss: 0.9608 - val_categorical_accuracy: 0.6880\n",
      "Epoch 47/500\n",
      "16/16 [==============================] - 0s 19ms/step - loss: 0.8074 - categorical_accuracy: 0.6994 - val_loss: 1.0727 - val_categorical_accuracy: 0.7200\n",
      "Epoch 48/500\n",
      "16/16 [==============================] - 0s 15ms/step - loss: 0.8905 - categorical_accuracy: 0.6954 - val_loss: 0.9762 - val_categorical_accuracy: 0.7520\n",
      "Epoch 49/500\n",
      "16/16 [==============================] - 0s 15ms/step - loss: 0.7576 - categorical_accuracy: 0.7154 - val_loss: 0.9772 - val_categorical_accuracy: 0.7120\n",
      "Epoch 50/500\n"
     ]
    },
    {
     "name": "stdout",
     "output_type": "stream",
     "text": [
      "16/16 [==============================] - 0s 13ms/step - loss: 0.6805 - categorical_accuracy: 0.7435 - val_loss: 0.9043 - val_categorical_accuracy: 0.7440\n",
      "Epoch 51/500\n",
      "16/16 [==============================] - 0s 12ms/step - loss: 0.6307 - categorical_accuracy: 0.7455 - val_loss: 1.2633 - val_categorical_accuracy: 0.6960\n",
      "Epoch 52/500\n",
      "16/16 [==============================] - 0s 12ms/step - loss: 0.6623 - categorical_accuracy: 0.7455 - val_loss: 0.8289 - val_categorical_accuracy: 0.8080\n",
      "Epoch 53/500\n",
      "16/16 [==============================] - 0s 15ms/step - loss: 0.6088 - categorical_accuracy: 0.7856 - val_loss: 0.9050 - val_categorical_accuracy: 0.7840\n",
      "Epoch 54/500\n",
      "16/16 [==============================] - 0s 17ms/step - loss: 0.6377 - categorical_accuracy: 0.7615 - val_loss: 1.0408 - val_categorical_accuracy: 0.7360\n",
      "Epoch 55/500\n",
      "16/16 [==============================] - 0s 14ms/step - loss: 0.7059 - categorical_accuracy: 0.7595 - val_loss: 0.9469 - val_categorical_accuracy: 0.7280\n",
      "Epoch 56/500\n",
      "16/16 [==============================] - 0s 14ms/step - loss: 0.6235 - categorical_accuracy: 0.7595 - val_loss: 0.9540 - val_categorical_accuracy: 0.7760\n",
      "Epoch 57/500\n",
      "16/16 [==============================] - 0s 13ms/step - loss: 0.5887 - categorical_accuracy: 0.7776 - val_loss: 1.0294 - val_categorical_accuracy: 0.7920\n",
      "Epoch 58/500\n",
      "16/16 [==============================] - 0s 13ms/step - loss: 0.5584 - categorical_accuracy: 0.7836 - val_loss: 0.8408 - val_categorical_accuracy: 0.8240\n",
      "Epoch 59/500\n",
      "16/16 [==============================] - 0s 12ms/step - loss: 0.5676 - categorical_accuracy: 0.7715 - val_loss: 0.8309 - val_categorical_accuracy: 0.8160\n",
      "Epoch 60/500\n",
      "16/16 [==============================] - 0s 12ms/step - loss: 0.5593 - categorical_accuracy: 0.7876 - val_loss: 0.8474 - val_categorical_accuracy: 0.8160\n",
      "Epoch 61/500\n",
      "16/16 [==============================] - 0s 12ms/step - loss: 0.5877 - categorical_accuracy: 0.7976 - val_loss: 0.8546 - val_categorical_accuracy: 0.8160\n",
      "Epoch 62/500\n",
      "16/16 [==============================] - 0s 12ms/step - loss: 0.5588 - categorical_accuracy: 0.7896 - val_loss: 0.8083 - val_categorical_accuracy: 0.8240\n",
      "Epoch 63/500\n",
      "16/16 [==============================] - 0s 12ms/step - loss: 0.4918 - categorical_accuracy: 0.8236 - val_loss: 0.9390 - val_categorical_accuracy: 0.8240\n",
      "Epoch 64/500\n",
      "16/16 [==============================] - 0s 12ms/step - loss: 0.4190 - categorical_accuracy: 0.8517 - val_loss: 0.8475 - val_categorical_accuracy: 0.8160\n",
      "Epoch 65/500\n",
      "16/16 [==============================] - 0s 12ms/step - loss: 0.4931 - categorical_accuracy: 0.8176 - val_loss: 1.1103 - val_categorical_accuracy: 0.7760\n",
      "Epoch 66/500\n",
      "16/16 [==============================] - 0s 11ms/step - loss: 0.4994 - categorical_accuracy: 0.8076 - val_loss: 0.8285 - val_categorical_accuracy: 0.7840\n",
      "Epoch 67/500\n",
      "16/16 [==============================] - 0s 11ms/step - loss: 0.4788 - categorical_accuracy: 0.8257 - val_loss: 0.8939 - val_categorical_accuracy: 0.7600\n",
      "Epoch 68/500\n",
      "16/16 [==============================] - 0s 13ms/step - loss: 0.5681 - categorical_accuracy: 0.8156 - val_loss: 1.2536 - val_categorical_accuracy: 0.6960\n",
      "Epoch 69/500\n",
      "16/16 [==============================] - 0s 13ms/step - loss: 0.5488 - categorical_accuracy: 0.7996 - val_loss: 0.9676 - val_categorical_accuracy: 0.7680\n",
      "Epoch 70/500\n",
      "16/16 [==============================] - 0s 13ms/step - loss: 0.5135 - categorical_accuracy: 0.8196 - val_loss: 0.9449 - val_categorical_accuracy: 0.7840\n",
      "Epoch 71/500\n",
      "16/16 [==============================] - 0s 16ms/step - loss: 0.5571 - categorical_accuracy: 0.8116 - val_loss: 1.1685 - val_categorical_accuracy: 0.7360\n",
      "Epoch 72/500\n",
      "16/16 [==============================] - 0s 17ms/step - loss: 0.5451 - categorical_accuracy: 0.8277 - val_loss: 0.7469 - val_categorical_accuracy: 0.8160\n",
      "Epoch 73/500\n",
      "16/16 [==============================] - 0s 15ms/step - loss: 0.4193 - categorical_accuracy: 0.8457 - val_loss: 0.9504 - val_categorical_accuracy: 0.8000\n",
      "Epoch 74/500\n",
      "16/16 [==============================] - 0s 15ms/step - loss: 0.3595 - categorical_accuracy: 0.8717 - val_loss: 0.8208 - val_categorical_accuracy: 0.8240\n",
      "Epoch 75/500\n",
      "16/16 [==============================] - 0s 14ms/step - loss: 0.3602 - categorical_accuracy: 0.8617 - val_loss: 0.9550 - val_categorical_accuracy: 0.8000\n",
      "Epoch 76/500\n",
      "16/16 [==============================] - 0s 12ms/step - loss: 0.3290 - categorical_accuracy: 0.8818 - val_loss: 0.7989 - val_categorical_accuracy: 0.8160\n",
      "Epoch 77/500\n",
      "16/16 [==============================] - 0s 14ms/step - loss: 0.3550 - categorical_accuracy: 0.8818 - val_loss: 0.8561 - val_categorical_accuracy: 0.8160\n",
      "Epoch 78/500\n",
      "16/16 [==============================] - 0s 13ms/step - loss: 0.3054 - categorical_accuracy: 0.8938 - val_loss: 0.7956 - val_categorical_accuracy: 0.8640\n",
      "Epoch 79/500\n",
      "16/16 [==============================] - 0s 12ms/step - loss: 0.3061 - categorical_accuracy: 0.8858 - val_loss: 0.9278 - val_categorical_accuracy: 0.8320\n",
      "Epoch 80/500\n",
      "16/16 [==============================] - 0s 14ms/step - loss: 0.3280 - categorical_accuracy: 0.8958 - val_loss: 0.8899 - val_categorical_accuracy: 0.8400\n",
      "Epoch 81/500\n",
      "16/16 [==============================] - 0s 12ms/step - loss: 0.3328 - categorical_accuracy: 0.8798 - val_loss: 0.8717 - val_categorical_accuracy: 0.8400\n",
      "Epoch 82/500\n",
      "16/16 [==============================] - 0s 12ms/step - loss: 0.3676 - categorical_accuracy: 0.8637 - val_loss: 0.7697 - val_categorical_accuracy: 0.8160\n",
      "Epoch 83/500\n",
      "16/16 [==============================] - 0s 15ms/step - loss: 0.3566 - categorical_accuracy: 0.8778 - val_loss: 0.8501 - val_categorical_accuracy: 0.8080\n",
      "Epoch 84/500\n",
      "16/16 [==============================] - 0s 16ms/step - loss: 0.4290 - categorical_accuracy: 0.8477 - val_loss: 1.2485 - val_categorical_accuracy: 0.7520\n",
      "Epoch 85/500\n",
      "16/16 [==============================] - 0s 13ms/step - loss: 0.4587 - categorical_accuracy: 0.8377 - val_loss: 0.8538 - val_categorical_accuracy: 0.8240\n",
      "Epoch 86/500\n",
      "16/16 [==============================] - 0s 13ms/step - loss: 0.3974 - categorical_accuracy: 0.8898 - val_loss: 0.7422 - val_categorical_accuracy: 0.8560\n",
      "Epoch 87/500\n",
      "16/16 [==============================] - 0s 19ms/step - loss: 0.3669 - categorical_accuracy: 0.8758 - val_loss: 0.7062 - val_categorical_accuracy: 0.8560\n",
      "Epoch 88/500\n",
      "16/16 [==============================] - 0s 20ms/step - loss: 0.3270 - categorical_accuracy: 0.8858 - val_loss: 0.7682 - val_categorical_accuracy: 0.8400\n",
      "Epoch 89/500\n",
      "16/16 [==============================] - 0s 17ms/step - loss: 0.3033 - categorical_accuracy: 0.8978 - val_loss: 0.7905 - val_categorical_accuracy: 0.8320\n",
      "Epoch 90/500\n",
      "16/16 [==============================] - 0s 15ms/step - loss: 0.3116 - categorical_accuracy: 0.8858 - val_loss: 0.8182 - val_categorical_accuracy: 0.8240\n",
      "Epoch 91/500\n",
      "16/16 [==============================] - 0s 13ms/step - loss: 0.2958 - categorical_accuracy: 0.9118 - val_loss: 0.9462 - val_categorical_accuracy: 0.8080\n",
      "Epoch 92/500\n",
      "16/16 [==============================] - 0s 12ms/step - loss: 0.3382 - categorical_accuracy: 0.8737 - val_loss: 1.0146 - val_categorical_accuracy: 0.8080\n",
      "Epoch 93/500\n",
      "16/16 [==============================] - 0s 13ms/step - loss: 0.3022 - categorical_accuracy: 0.9058 - val_loss: 0.9946 - val_categorical_accuracy: 0.8080\n",
      "Epoch 94/500\n",
      "16/16 [==============================] - 0s 13ms/step - loss: 0.2858 - categorical_accuracy: 0.9038 - val_loss: 0.7213 - val_categorical_accuracy: 0.8400\n",
      "Epoch 95/500\n",
      "16/16 [==============================] - 0s 13ms/step - loss: 0.3074 - categorical_accuracy: 0.8978 - val_loss: 0.9012 - val_categorical_accuracy: 0.8240\n",
      "Epoch 96/500\n",
      "16/16 [==============================] - 0s 13ms/step - loss: 0.2922 - categorical_accuracy: 0.8958 - val_loss: 1.0632 - val_categorical_accuracy: 0.8160\n",
      "Epoch 97/500\n",
      "16/16 [==============================] - 0s 13ms/step - loss: 0.2424 - categorical_accuracy: 0.9259 - val_loss: 1.1018 - val_categorical_accuracy: 0.8160\n",
      "Epoch 98/500\n",
      "16/16 [==============================] - 0s 15ms/step - loss: 0.2522 - categorical_accuracy: 0.9058 - val_loss: 1.0575 - val_categorical_accuracy: 0.8000\n",
      "Epoch 99/500\n"
     ]
    },
    {
     "name": "stdout",
     "output_type": "stream",
     "text": [
      "16/16 [==============================] - 0s 14ms/step - loss: 0.2800 - categorical_accuracy: 0.9138 - val_loss: 0.9287 - val_categorical_accuracy: 0.8560\n",
      "Epoch 100/500\n",
      "16/16 [==============================] - 0s 14ms/step - loss: 0.1991 - categorical_accuracy: 0.9319 - val_loss: 0.9352 - val_categorical_accuracy: 0.8320\n",
      "Epoch 101/500\n",
      "16/16 [==============================] - 0s 14ms/step - loss: 0.2555 - categorical_accuracy: 0.9118 - val_loss: 0.8664 - val_categorical_accuracy: 0.8320\n",
      "Epoch 102/500\n",
      "16/16 [==============================] - 0s 14ms/step - loss: 0.2965 - categorical_accuracy: 0.8998 - val_loss: 0.8082 - val_categorical_accuracy: 0.8400\n",
      "Epoch 103/500\n",
      "16/16 [==============================] - 0s 15ms/step - loss: 0.2436 - categorical_accuracy: 0.9138 - val_loss: 0.9725 - val_categorical_accuracy: 0.8480\n",
      "Epoch 104/500\n",
      "16/16 [==============================] - 0s 18ms/step - loss: 0.2230 - categorical_accuracy: 0.9238 - val_loss: 0.9123 - val_categorical_accuracy: 0.8400\n",
      "Epoch 105/500\n",
      "16/16 [==============================] - 0s 18ms/step - loss: 0.2279 - categorical_accuracy: 0.9178 - val_loss: 0.9814 - val_categorical_accuracy: 0.8400\n",
      "Epoch 106/500\n",
      "16/16 [==============================] - 0s 17ms/step - loss: 0.2701 - categorical_accuracy: 0.9158 - val_loss: 0.8713 - val_categorical_accuracy: 0.8560\n",
      "Epoch 107/500\n",
      "16/16 [==============================] - 0s 16ms/step - loss: 0.2466 - categorical_accuracy: 0.9098 - val_loss: 0.9227 - val_categorical_accuracy: 0.8640\n",
      "Epoch 108/500\n",
      "16/16 [==============================] - 0s 15ms/step - loss: 0.2807 - categorical_accuracy: 0.8998 - val_loss: 0.9785 - val_categorical_accuracy: 0.8400\n",
      "Epoch 109/500\n",
      "16/16 [==============================] - 0s 14ms/step - loss: 0.1948 - categorical_accuracy: 0.9339 - val_loss: 1.0543 - val_categorical_accuracy: 0.8400\n",
      "Epoch 110/500\n",
      "16/16 [==============================] - 0s 18ms/step - loss: 0.1734 - categorical_accuracy: 0.9439 - val_loss: 1.0185 - val_categorical_accuracy: 0.8560\n",
      "Epoch 111/500\n",
      "16/16 [==============================] - 0s 16ms/step - loss: 0.2254 - categorical_accuracy: 0.9279 - val_loss: 0.8838 - val_categorical_accuracy: 0.8640\n",
      "Epoch 112/500\n",
      "16/16 [==============================] - 0s 16ms/step - loss: 0.2778 - categorical_accuracy: 0.9118 - val_loss: 0.7943 - val_categorical_accuracy: 0.8560\n",
      "Epoch 113/500\n",
      "16/16 [==============================] - 0s 17ms/step - loss: 0.2752 - categorical_accuracy: 0.9098 - val_loss: 0.9004 - val_categorical_accuracy: 0.8160\n",
      "Epoch 114/500\n",
      "16/16 [==============================] - 0s 16ms/step - loss: 0.3500 - categorical_accuracy: 0.8818 - val_loss: 1.2102 - val_categorical_accuracy: 0.8000\n",
      "Epoch 115/500\n",
      "16/16 [==============================] - 0s 16ms/step - loss: 0.3664 - categorical_accuracy: 0.8798 - val_loss: 0.7196 - val_categorical_accuracy: 0.8320\n",
      "Epoch 116/500\n",
      "16/16 [==============================] - 0s 18ms/step - loss: 0.3928 - categorical_accuracy: 0.8818 - val_loss: 1.1694 - val_categorical_accuracy: 0.7280\n",
      "Epoch 117/500\n",
      "16/16 [==============================] - 0s 17ms/step - loss: 0.3576 - categorical_accuracy: 0.8737 - val_loss: 0.8942 - val_categorical_accuracy: 0.8080\n",
      "Epoch 118/500\n",
      "16/16 [==============================] - 0s 15ms/step - loss: 0.2877 - categorical_accuracy: 0.9118 - val_loss: 0.9390 - val_categorical_accuracy: 0.8400\n",
      "Epoch 119/500\n",
      "16/16 [==============================] - 0s 17ms/step - loss: 0.2978 - categorical_accuracy: 0.9178 - val_loss: 0.8348 - val_categorical_accuracy: 0.8640\n",
      "Epoch 120/500\n",
      "16/16 [==============================] - 0s 14ms/step - loss: 0.2641 - categorical_accuracy: 0.9178 - val_loss: 0.6546 - val_categorical_accuracy: 0.8720\n",
      "Epoch 121/500\n",
      "16/16 [==============================] - 0s 16ms/step - loss: 0.2010 - categorical_accuracy: 0.9359 - val_loss: 0.8435 - val_categorical_accuracy: 0.8560\n",
      "Epoch 122/500\n",
      "16/16 [==============================] - 0s 16ms/step - loss: 0.1783 - categorical_accuracy: 0.9499 - val_loss: 1.0693 - val_categorical_accuracy: 0.8160\n",
      "Epoch 123/500\n",
      "16/16 [==============================] - 0s 18ms/step - loss: 0.1688 - categorical_accuracy: 0.9379 - val_loss: 0.8893 - val_categorical_accuracy: 0.8640\n",
      "Epoch 124/500\n",
      "16/16 [==============================] - 0s 17ms/step - loss: 0.1525 - categorical_accuracy: 0.9439 - val_loss: 0.7965 - val_categorical_accuracy: 0.8720\n",
      "Epoch 125/500\n",
      "16/16 [==============================] - 0s 22ms/step - loss: 0.1692 - categorical_accuracy: 0.9519 - val_loss: 0.8689 - val_categorical_accuracy: 0.8640\n",
      "Epoch 126/500\n",
      "16/16 [==============================] - 0s 20ms/step - loss: 0.2541 - categorical_accuracy: 0.9158 - val_loss: 0.8287 - val_categorical_accuracy: 0.8480\n",
      "Epoch 127/500\n",
      "16/16 [==============================] - 0s 21ms/step - loss: 0.3640 - categorical_accuracy: 0.9118 - val_loss: 0.7479 - val_categorical_accuracy: 0.8320\n",
      "Epoch 128/500\n",
      "16/16 [==============================] - 0s 18ms/step - loss: 0.4767 - categorical_accuracy: 0.8717 - val_loss: 0.8960 - val_categorical_accuracy: 0.8080\n",
      "Epoch 129/500\n",
      "16/16 [==============================] - 0s 31ms/step - loss: 0.4895 - categorical_accuracy: 0.8737 - val_loss: 0.8361 - val_categorical_accuracy: 0.8560\n",
      "Epoch 130/500\n",
      "16/16 [==============================] - 0s 19ms/step - loss: 0.2958 - categorical_accuracy: 0.9198 - val_loss: 0.8217 - val_categorical_accuracy: 0.8080\n",
      "Epoch 131/500\n",
      "16/16 [==============================] - 0s 18ms/step - loss: 0.2272 - categorical_accuracy: 0.9178 - val_loss: 0.6474 - val_categorical_accuracy: 0.8560\n",
      "Epoch 132/500\n",
      "16/16 [==============================] - 0s 17ms/step - loss: 0.1686 - categorical_accuracy: 0.9399 - val_loss: 0.7136 - val_categorical_accuracy: 0.8480\n",
      "Epoch 133/500\n",
      "16/16 [==============================] - 0s 17ms/step - loss: 0.1492 - categorical_accuracy: 0.9519 - val_loss: 0.7884 - val_categorical_accuracy: 0.8640\n",
      "Epoch 134/500\n",
      "16/16 [==============================] - 0s 18ms/step - loss: 0.2312 - categorical_accuracy: 0.9178 - val_loss: 0.8993 - val_categorical_accuracy: 0.8320\n",
      "Epoch 135/500\n",
      "16/16 [==============================] - 0s 20ms/step - loss: 0.2179 - categorical_accuracy: 0.9238 - val_loss: 0.7762 - val_categorical_accuracy: 0.8080\n",
      "Epoch 136/500\n",
      "16/16 [==============================] - 0s 17ms/step - loss: 0.1865 - categorical_accuracy: 0.9439 - val_loss: 0.7892 - val_categorical_accuracy: 0.8560\n",
      "Epoch 137/500\n",
      "16/16 [==============================] - 0s 16ms/step - loss: 0.2256 - categorical_accuracy: 0.9279 - val_loss: 0.7501 - val_categorical_accuracy: 0.8640\n",
      "Epoch 138/500\n",
      "16/16 [==============================] - 0s 16ms/step - loss: 0.2155 - categorical_accuracy: 0.9238 - val_loss: 0.8731 - val_categorical_accuracy: 0.8480\n",
      "Epoch 139/500\n",
      "16/16 [==============================] - 0s 17ms/step - loss: 0.1938 - categorical_accuracy: 0.9299 - val_loss: 0.8164 - val_categorical_accuracy: 0.8480\n",
      "Epoch 140/500\n",
      "16/16 [==============================] - 0s 17ms/step - loss: 0.1336 - categorical_accuracy: 0.9639 - val_loss: 0.8601 - val_categorical_accuracy: 0.8560\n",
      "Epoch 141/500\n",
      "16/16 [==============================] - 0s 17ms/step - loss: 0.1352 - categorical_accuracy: 0.9659 - val_loss: 0.7928 - val_categorical_accuracy: 0.8480\n",
      "Epoch 142/500\n",
      "16/16 [==============================] - 0s 15ms/step - loss: 0.1641 - categorical_accuracy: 0.9459 - val_loss: 1.0837 - val_categorical_accuracy: 0.8320\n",
      "Epoch 143/500\n",
      "16/16 [==============================] - 0s 15ms/step - loss: 0.2169 - categorical_accuracy: 0.9299 - val_loss: 1.2364 - val_categorical_accuracy: 0.7680\n",
      "Epoch 144/500\n",
      "16/16 [==============================] - 0s 14ms/step - loss: 0.3638 - categorical_accuracy: 0.8918 - val_loss: 0.8342 - val_categorical_accuracy: 0.8320\n",
      "Epoch 145/500\n",
      "16/16 [==============================] - 0s 14ms/step - loss: 0.1930 - categorical_accuracy: 0.9399 - val_loss: 0.7914 - val_categorical_accuracy: 0.8640\n",
      "Epoch 146/500\n",
      "16/16 [==============================] - 0s 15ms/step - loss: 0.1874 - categorical_accuracy: 0.9379 - val_loss: 1.1583 - val_categorical_accuracy: 0.8240\n",
      "Epoch 147/500\n",
      "16/16 [==============================] - 0s 15ms/step - loss: 0.1531 - categorical_accuracy: 0.9399 - val_loss: 0.7677 - val_categorical_accuracy: 0.8480\n"
     ]
    },
    {
     "name": "stdout",
     "output_type": "stream",
     "text": [
      "Epoch 148/500\n",
      "16/16 [==============================] - 0s 16ms/step - loss: 0.1595 - categorical_accuracy: 0.9519 - val_loss: 0.8169 - val_categorical_accuracy: 0.8720\n",
      "Epoch 149/500\n",
      "16/16 [==============================] - 0s 14ms/step - loss: 0.1946 - categorical_accuracy: 0.9339 - val_loss: 0.7634 - val_categorical_accuracy: 0.8640\n",
      "Epoch 150/500\n",
      "16/16 [==============================] - 0s 16ms/step - loss: 0.1159 - categorical_accuracy: 0.9659 - val_loss: 0.8913 - val_categorical_accuracy: 0.8640\n",
      "Epoch 151/500\n",
      "16/16 [==============================] - 0s 16ms/step - loss: 0.0981 - categorical_accuracy: 0.9619 - val_loss: 0.8246 - val_categorical_accuracy: 0.8560\n",
      "Epoch 152/500\n",
      "16/16 [==============================] - 0s 16ms/step - loss: 0.1088 - categorical_accuracy: 0.9599 - val_loss: 0.8421 - val_categorical_accuracy: 0.8720\n",
      "Epoch 153/500\n",
      "16/16 [==============================] - 0s 15ms/step - loss: 0.1278 - categorical_accuracy: 0.9519 - val_loss: 0.8000 - val_categorical_accuracy: 0.8560\n",
      "Epoch 154/500\n",
      "16/16 [==============================] - 0s 16ms/step - loss: 0.1651 - categorical_accuracy: 0.9439 - val_loss: 0.8520 - val_categorical_accuracy: 0.8560\n",
      "Epoch 155/500\n",
      "16/16 [==============================] - 0s 15ms/step - loss: 0.1420 - categorical_accuracy: 0.9579 - val_loss: 0.7137 - val_categorical_accuracy: 0.8720\n",
      "Epoch 156/500\n",
      "16/16 [==============================] - 0s 14ms/step - loss: 0.1207 - categorical_accuracy: 0.9679 - val_loss: 0.8836 - val_categorical_accuracy: 0.8720\n",
      "Epoch 157/500\n",
      "16/16 [==============================] - 0s 14ms/step - loss: 0.1115 - categorical_accuracy: 0.9679 - val_loss: 0.8905 - val_categorical_accuracy: 0.8720\n",
      "Epoch 158/500\n",
      "16/16 [==============================] - 0s 14ms/step - loss: 0.0838 - categorical_accuracy: 0.9739 - val_loss: 0.9203 - val_categorical_accuracy: 0.8560\n",
      "Epoch 159/500\n",
      "16/16 [==============================] - 0s 17ms/step - loss: 0.1303 - categorical_accuracy: 0.9479 - val_loss: 1.0172 - val_categorical_accuracy: 0.8160\n",
      "Epoch 160/500\n",
      "16/16 [==============================] - 0s 18ms/step - loss: 0.1914 - categorical_accuracy: 0.9238 - val_loss: 0.9368 - val_categorical_accuracy: 0.8560\n",
      "Epoch 161/500\n",
      "16/16 [==============================] - 0s 19ms/step - loss: 0.2273 - categorical_accuracy: 0.9259 - val_loss: 0.8785 - val_categorical_accuracy: 0.8320\n",
      "Epoch 162/500\n",
      "16/16 [==============================] - 0s 22ms/step - loss: 0.1689 - categorical_accuracy: 0.9439 - val_loss: 0.9365 - val_categorical_accuracy: 0.8560\n",
      "Epoch 163/500\n",
      "16/16 [==============================] - 0s 18ms/step - loss: 0.1185 - categorical_accuracy: 0.9519 - val_loss: 1.0087 - val_categorical_accuracy: 0.8560\n",
      "Epoch 164/500\n",
      "16/16 [==============================] - 0s 22ms/step - loss: 0.1408 - categorical_accuracy: 0.9499 - val_loss: 0.8650 - val_categorical_accuracy: 0.8640\n",
      "Epoch 165/500\n",
      "16/16 [==============================] - 0s 16ms/step - loss: 0.1267 - categorical_accuracy: 0.9639 - val_loss: 1.0489 - val_categorical_accuracy: 0.8400\n",
      "Epoch 166/500\n",
      "16/16 [==============================] - 0s 24ms/step - loss: 0.1262 - categorical_accuracy: 0.9559 - val_loss: 1.0351 - val_categorical_accuracy: 0.8480\n",
      "Epoch 167/500\n",
      "16/16 [==============================] - 0s 29ms/step - loss: 0.1606 - categorical_accuracy: 0.9359 - val_loss: 0.9609 - val_categorical_accuracy: 0.8480\n",
      "Epoch 168/500\n",
      "16/16 [==============================] - 0s 20ms/step - loss: 0.1749 - categorical_accuracy: 0.9359 - val_loss: 0.9357 - val_categorical_accuracy: 0.8960\n",
      "Epoch 169/500\n",
      "16/16 [==============================] - 0s 20ms/step - loss: 0.1336 - categorical_accuracy: 0.9499 - val_loss: 0.7978 - val_categorical_accuracy: 0.8240\n",
      "Epoch 170/500\n",
      "16/16 [==============================] - 0s 25ms/step - loss: 0.1931 - categorical_accuracy: 0.9379 - val_loss: 0.9145 - val_categorical_accuracy: 0.7920\n",
      "Epoch 171/500\n",
      "16/16 [==============================] - 0s 18ms/step - loss: 0.1956 - categorical_accuracy: 0.9399 - val_loss: 0.9020 - val_categorical_accuracy: 0.8560\n",
      "Epoch 172/500\n",
      "16/16 [==============================] - 0s 18ms/step - loss: 0.2096 - categorical_accuracy: 0.9419 - val_loss: 0.7850 - val_categorical_accuracy: 0.8480\n",
      "Epoch 173/500\n",
      "16/16 [==============================] - 0s 20ms/step - loss: 0.2898 - categorical_accuracy: 0.9038 - val_loss: 0.9071 - val_categorical_accuracy: 0.8560\n",
      "Epoch 174/500\n",
      "16/16 [==============================] - 0s 17ms/step - loss: 0.1922 - categorical_accuracy: 0.9359 - val_loss: 0.8915 - val_categorical_accuracy: 0.8240\n",
      "Epoch 175/500\n",
      "16/16 [==============================] - 0s 16ms/step - loss: 0.1678 - categorical_accuracy: 0.9479 - val_loss: 0.9063 - val_categorical_accuracy: 0.8640\n",
      "Epoch 176/500\n",
      "16/16 [==============================] - 0s 24ms/step - loss: 0.1053 - categorical_accuracy: 0.9659 - val_loss: 0.8844 - val_categorical_accuracy: 0.8720\n",
      "Epoch 177/500\n",
      "16/16 [==============================] - 0s 20ms/step - loss: 0.1187 - categorical_accuracy: 0.9579 - val_loss: 0.8310 - val_categorical_accuracy: 0.8720\n",
      "Epoch 178/500\n",
      "16/16 [==============================] - 0s 16ms/step - loss: 0.1016 - categorical_accuracy: 0.9619 - val_loss: 0.8462 - val_categorical_accuracy: 0.8560\n",
      "Epoch 179/500\n",
      "16/16 [==============================] - 0s 19ms/step - loss: 0.0921 - categorical_accuracy: 0.9679 - val_loss: 0.8730 - val_categorical_accuracy: 0.8560\n",
      "Epoch 180/500\n",
      "16/16 [==============================] - 0s 22ms/step - loss: 0.1352 - categorical_accuracy: 0.9599 - val_loss: 0.8085 - val_categorical_accuracy: 0.8720\n",
      "Epoch 181/500\n",
      "16/16 [==============================] - 0s 19ms/step - loss: 0.1085 - categorical_accuracy: 0.9639 - val_loss: 0.8273 - val_categorical_accuracy: 0.8880\n",
      "Epoch 182/500\n",
      "16/16 [==============================] - 0s 18ms/step - loss: 0.1148 - categorical_accuracy: 0.9639 - val_loss: 0.7844 - val_categorical_accuracy: 0.8640\n",
      "Epoch 183/500\n",
      "16/16 [==============================] - 0s 20ms/step - loss: 0.1549 - categorical_accuracy: 0.9399 - val_loss: 0.8777 - val_categorical_accuracy: 0.8400\n",
      "Epoch 184/500\n",
      "16/16 [==============================] - 0s 17ms/step - loss: 0.1198 - categorical_accuracy: 0.9599 - val_loss: 0.7998 - val_categorical_accuracy: 0.8720\n",
      "Epoch 185/500\n",
      "16/16 [==============================] - 0s 15ms/step - loss: 0.1113 - categorical_accuracy: 0.9579 - val_loss: 0.8594 - val_categorical_accuracy: 0.8720\n",
      "Epoch 186/500\n",
      "16/16 [==============================] - 0s 15ms/step - loss: 0.1075 - categorical_accuracy: 0.9619 - val_loss: 0.7300 - val_categorical_accuracy: 0.8800\n",
      "Epoch 187/500\n",
      "16/16 [==============================] - 0s 14ms/step - loss: 0.1170 - categorical_accuracy: 0.9599 - val_loss: 0.8969 - val_categorical_accuracy: 0.8800\n",
      "Epoch 188/500\n",
      "16/16 [==============================] - 0s 13ms/step - loss: 0.1361 - categorical_accuracy: 0.9559 - val_loss: 1.1028 - val_categorical_accuracy: 0.8240\n",
      "Epoch 189/500\n",
      "16/16 [==============================] - 0s 13ms/step - loss: 0.1717 - categorical_accuracy: 0.9319 - val_loss: 0.9080 - val_categorical_accuracy: 0.8720\n",
      "Epoch 190/500\n",
      "16/16 [==============================] - 0s 14ms/step - loss: 0.1408 - categorical_accuracy: 0.9499 - val_loss: 0.9454 - val_categorical_accuracy: 0.8560\n",
      "Epoch 191/500\n",
      "16/16 [==============================] - 0s 13ms/step - loss: 0.1887 - categorical_accuracy: 0.9299 - val_loss: 1.1584 - val_categorical_accuracy: 0.8640\n",
      "Epoch 192/500\n",
      "16/16 [==============================] - 0s 15ms/step - loss: 0.1887 - categorical_accuracy: 0.9319 - val_loss: 0.9575 - val_categorical_accuracy: 0.8480\n",
      "Epoch 193/500\n",
      "16/16 [==============================] - 0s 16ms/step - loss: 0.1549 - categorical_accuracy: 0.9439 - val_loss: 1.1505 - val_categorical_accuracy: 0.8320\n",
      "Epoch 194/500\n",
      "16/16 [==============================] - 0s 15ms/step - loss: 0.1511 - categorical_accuracy: 0.9519 - val_loss: 1.1020 - val_categorical_accuracy: 0.8320\n",
      "Epoch 195/500\n",
      "16/16 [==============================] - 0s 16ms/step - loss: 0.0904 - categorical_accuracy: 0.9760 - val_loss: 1.1650 - val_categorical_accuracy: 0.8560\n",
      "Epoch 196/500\n",
      "16/16 [==============================] - 0s 17ms/step - loss: 0.1102 - categorical_accuracy: 0.9639 - val_loss: 0.9737 - val_categorical_accuracy: 0.8560\n"
     ]
    },
    {
     "name": "stdout",
     "output_type": "stream",
     "text": [
      "Epoch 197/500\n",
      "16/16 [==============================] - 0s 14ms/step - loss: 0.1116 - categorical_accuracy: 0.9679 - val_loss: 0.8316 - val_categorical_accuracy: 0.8720\n",
      "Epoch 198/500\n",
      "16/16 [==============================] - 0s 13ms/step - loss: 0.0744 - categorical_accuracy: 0.9719 - val_loss: 0.7208 - val_categorical_accuracy: 0.8880\n",
      "Epoch 199/500\n",
      "16/16 [==============================] - 0s 14ms/step - loss: 0.0772 - categorical_accuracy: 0.9800 - val_loss: 0.7505 - val_categorical_accuracy: 0.8720\n",
      "Epoch 200/500\n",
      "16/16 [==============================] - 0s 14ms/step - loss: 0.0664 - categorical_accuracy: 0.9760 - val_loss: 0.8809 - val_categorical_accuracy: 0.8880\n",
      "Epoch 201/500\n",
      "16/16 [==============================] - 0s 13ms/step - loss: 0.0753 - categorical_accuracy: 0.9719 - val_loss: 0.8617 - val_categorical_accuracy: 0.8880\n",
      "Epoch 202/500\n",
      "16/16 [==============================] - 0s 13ms/step - loss: 0.0542 - categorical_accuracy: 0.9760 - val_loss: 0.8835 - val_categorical_accuracy: 0.8720\n",
      "Epoch 203/500\n",
      "16/16 [==============================] - 0s 12ms/step - loss: 0.0842 - categorical_accuracy: 0.9619 - val_loss: 0.8627 - val_categorical_accuracy: 0.8560\n",
      "Epoch 204/500\n",
      "16/16 [==============================] - 0s 12ms/step - loss: 0.0895 - categorical_accuracy: 0.9679 - val_loss: 0.8646 - val_categorical_accuracy: 0.8880\n",
      "Epoch 205/500\n",
      "16/16 [==============================] - 0s 13ms/step - loss: 0.0635 - categorical_accuracy: 0.9760 - val_loss: 0.9941 - val_categorical_accuracy: 0.8880\n",
      "Epoch 206/500\n",
      "16/16 [==============================] - 0s 14ms/step - loss: 0.0835 - categorical_accuracy: 0.9699 - val_loss: 0.9871 - val_categorical_accuracy: 0.8800\n",
      "Epoch 207/500\n",
      "16/16 [==============================] - 0s 15ms/step - loss: 0.0831 - categorical_accuracy: 0.9679 - val_loss: 0.9022 - val_categorical_accuracy: 0.8960\n",
      "Epoch 208/500\n",
      "16/16 [==============================] - 0s 13ms/step - loss: 0.2701 - categorical_accuracy: 0.9379 - val_loss: 1.2607 - val_categorical_accuracy: 0.8000\n",
      "Epoch 209/500\n",
      "16/16 [==============================] - 0s 16ms/step - loss: 0.6978 - categorical_accuracy: 0.8216 - val_loss: 1.4688 - val_categorical_accuracy: 0.7200\n",
      "Epoch 210/500\n",
      "16/16 [==============================] - 0s 26ms/step - loss: 0.5042 - categorical_accuracy: 0.8477 - val_loss: 1.1915 - val_categorical_accuracy: 0.7520\n",
      "Epoch 211/500\n",
      "16/16 [==============================] - 0s 21ms/step - loss: 0.2837 - categorical_accuracy: 0.9218 - val_loss: 0.7220 - val_categorical_accuracy: 0.8400\n",
      "Epoch 212/500\n",
      "16/16 [==============================] - 0s 22ms/step - loss: 0.1955 - categorical_accuracy: 0.9439 - val_loss: 0.8584 - val_categorical_accuracy: 0.8240\n",
      "Epoch 213/500\n",
      "16/16 [==============================] - 0s 17ms/step - loss: 0.1337 - categorical_accuracy: 0.9519 - val_loss: 0.6421 - val_categorical_accuracy: 0.8640\n",
      "Epoch 214/500\n",
      "16/16 [==============================] - 0s 16ms/step - loss: 0.1052 - categorical_accuracy: 0.9619 - val_loss: 0.7738 - val_categorical_accuracy: 0.8640\n",
      "Epoch 215/500\n",
      "16/16 [==============================] - 0s 15ms/step - loss: 0.1068 - categorical_accuracy: 0.9659 - val_loss: 0.7329 - val_categorical_accuracy: 0.8480\n",
      "Epoch 216/500\n",
      "16/16 [==============================] - 0s 15ms/step - loss: 0.1447 - categorical_accuracy: 0.9539 - val_loss: 0.9495 - val_categorical_accuracy: 0.8400\n",
      "Epoch 217/500\n",
      "16/16 [==============================] - 0s 14ms/step - loss: 0.1665 - categorical_accuracy: 0.9539 - val_loss: 0.8479 - val_categorical_accuracy: 0.8400\n",
      "Epoch 218/500\n",
      "16/16 [==============================] - 0s 14ms/step - loss: 0.1578 - categorical_accuracy: 0.9499 - val_loss: 0.7100 - val_categorical_accuracy: 0.8880\n",
      "Epoch 219/500\n",
      "16/16 [==============================] - 0s 13ms/step - loss: 0.1258 - categorical_accuracy: 0.9599 - val_loss: 0.7662 - val_categorical_accuracy: 0.8880\n",
      "Epoch 220/500\n",
      "16/16 [==============================] - 0s 16ms/step - loss: 0.1136 - categorical_accuracy: 0.9599 - val_loss: 0.5948 - val_categorical_accuracy: 0.9040\n",
      "Epoch 221/500\n",
      "16/16 [==============================] - 0s 14ms/step - loss: 0.0701 - categorical_accuracy: 0.9719 - val_loss: 0.7118 - val_categorical_accuracy: 0.8960\n",
      "Epoch 222/500\n",
      "16/16 [==============================] - 0s 13ms/step - loss: 0.0686 - categorical_accuracy: 0.9699 - val_loss: 0.8223 - val_categorical_accuracy: 0.8880\n",
      "Epoch 223/500\n",
      "16/16 [==============================] - 0s 13ms/step - loss: 0.0668 - categorical_accuracy: 0.9780 - val_loss: 0.7863 - val_categorical_accuracy: 0.8880\n",
      "Epoch 224/500\n",
      "16/16 [==============================] - 0s 13ms/step - loss: 0.0648 - categorical_accuracy: 0.9739 - val_loss: 0.8441 - val_categorical_accuracy: 0.8640\n",
      "Epoch 225/500\n",
      "16/16 [==============================] - 0s 13ms/step - loss: 0.1011 - categorical_accuracy: 0.9679 - val_loss: 0.9983 - val_categorical_accuracy: 0.8800\n",
      "Epoch 226/500\n",
      "16/16 [==============================] - 0s 13ms/step - loss: 0.0934 - categorical_accuracy: 0.9699 - val_loss: 1.0361 - val_categorical_accuracy: 0.8880\n",
      "Epoch 227/500\n",
      "16/16 [==============================] - 0s 13ms/step - loss: 0.0824 - categorical_accuracy: 0.9780 - val_loss: 0.8956 - val_categorical_accuracy: 0.8720\n",
      "Epoch 228/500\n",
      "16/16 [==============================] - 0s 13ms/step - loss: 0.0820 - categorical_accuracy: 0.9719 - val_loss: 0.8805 - val_categorical_accuracy: 0.8720\n",
      "Epoch 229/500\n",
      "16/16 [==============================] - 0s 13ms/step - loss: 0.0889 - categorical_accuracy: 0.9699 - val_loss: 0.9708 - val_categorical_accuracy: 0.8560\n",
      "Epoch 230/500\n",
      "16/16 [==============================] - 0s 13ms/step - loss: 0.0831 - categorical_accuracy: 0.9659 - val_loss: 1.0631 - val_categorical_accuracy: 0.8880\n",
      "Epoch 231/500\n",
      "16/16 [==============================] - 0s 12ms/step - loss: 0.1234 - categorical_accuracy: 0.9599 - val_loss: 0.8406 - val_categorical_accuracy: 0.8720\n",
      "Epoch 232/500\n",
      "16/16 [==============================] - 0s 13ms/step - loss: 0.0959 - categorical_accuracy: 0.9679 - val_loss: 0.8593 - val_categorical_accuracy: 0.8800\n",
      "Epoch 233/500\n",
      "16/16 [==============================] - 0s 12ms/step - loss: 0.0919 - categorical_accuracy: 0.9639 - val_loss: 1.0108 - val_categorical_accuracy: 0.8720\n",
      "Epoch 234/500\n",
      "16/16 [==============================] - 0s 12ms/step - loss: 0.0731 - categorical_accuracy: 0.9679 - val_loss: 1.0822 - val_categorical_accuracy: 0.8720\n",
      "Epoch 235/500\n",
      "16/16 [==============================] - 0s 13ms/step - loss: 0.0875 - categorical_accuracy: 0.9739 - val_loss: 1.1266 - val_categorical_accuracy: 0.8400\n",
      "Epoch 236/500\n",
      "16/16 [==============================] - 0s 12ms/step - loss: 0.2034 - categorical_accuracy: 0.9379 - val_loss: 0.9309 - val_categorical_accuracy: 0.8480\n",
      "Epoch 237/500\n",
      "16/16 [==============================] - 0s 14ms/step - loss: 0.0984 - categorical_accuracy: 0.9639 - val_loss: 0.8758 - val_categorical_accuracy: 0.8880\n",
      "Epoch 238/500\n",
      "16/16 [==============================] - 0s 12ms/step - loss: 0.1283 - categorical_accuracy: 0.9599 - val_loss: 1.0071 - val_categorical_accuracy: 0.8800\n",
      "Epoch 239/500\n",
      "16/16 [==============================] - 0s 13ms/step - loss: 0.1669 - categorical_accuracy: 0.9459 - val_loss: 0.8611 - val_categorical_accuracy: 0.8400\n",
      "Epoch 240/500\n",
      "16/16 [==============================] - 0s 13ms/step - loss: 0.2434 - categorical_accuracy: 0.9359 - val_loss: 0.9657 - val_categorical_accuracy: 0.8720\n",
      "Epoch 241/500\n",
      "16/16 [==============================] - 0s 13ms/step - loss: 0.1190 - categorical_accuracy: 0.9659 - val_loss: 0.9693 - val_categorical_accuracy: 0.8720\n",
      "Epoch 242/500\n",
      "16/16 [==============================] - 0s 13ms/step - loss: 0.1730 - categorical_accuracy: 0.9579 - val_loss: 0.6632 - val_categorical_accuracy: 0.8160\n",
      "Epoch 243/500\n",
      "16/16 [==============================] - 0s 13ms/step - loss: 0.1224 - categorical_accuracy: 0.9599 - val_loss: 0.8486 - val_categorical_accuracy: 0.8720\n",
      "Epoch 244/500\n",
      "16/16 [==============================] - 0s 12ms/step - loss: 0.0752 - categorical_accuracy: 0.9760 - val_loss: 0.7345 - val_categorical_accuracy: 0.8720\n",
      "Epoch 245/500\n",
      "16/16 [==============================] - 0s 12ms/step - loss: 0.0895 - categorical_accuracy: 0.9699 - val_loss: 0.8681 - val_categorical_accuracy: 0.8800\n"
     ]
    },
    {
     "name": "stdout",
     "output_type": "stream",
     "text": [
      "Epoch 246/500\n",
      "16/16 [==============================] - 0s 13ms/step - loss: 0.0943 - categorical_accuracy: 0.9699 - val_loss: 0.9224 - val_categorical_accuracy: 0.8320\n",
      "Epoch 247/500\n",
      "16/16 [==============================] - 0s 12ms/step - loss: 0.0788 - categorical_accuracy: 0.9739 - val_loss: 0.8648 - val_categorical_accuracy: 0.8720\n",
      "Epoch 248/500\n",
      "16/16 [==============================] - 0s 12ms/step - loss: 0.0577 - categorical_accuracy: 0.9780 - val_loss: 0.8633 - val_categorical_accuracy: 0.8560\n",
      "Epoch 249/500\n",
      "16/16 [==============================] - 0s 15ms/step - loss: 0.0555 - categorical_accuracy: 0.9860 - val_loss: 0.8307 - val_categorical_accuracy: 0.8720\n",
      "Epoch 250/500\n",
      "16/16 [==============================] - 0s 14ms/step - loss: 0.0676 - categorical_accuracy: 0.9860 - val_loss: 0.8743 - val_categorical_accuracy: 0.8560\n",
      "Epoch 251/500\n",
      "16/16 [==============================] - 0s 13ms/step - loss: 0.0612 - categorical_accuracy: 0.9780 - val_loss: 0.8817 - val_categorical_accuracy: 0.8720\n",
      "Epoch 252/500\n",
      "16/16 [==============================] - 0s 12ms/step - loss: 0.0533 - categorical_accuracy: 0.9820 - val_loss: 0.9203 - val_categorical_accuracy: 0.8560\n",
      "Epoch 253/500\n",
      "16/16 [==============================] - 0s 16ms/step - loss: 0.0610 - categorical_accuracy: 0.9800 - val_loss: 1.0433 - val_categorical_accuracy: 0.8640\n",
      "Epoch 254/500\n",
      "16/16 [==============================] - 0s 16ms/step - loss: 0.0513 - categorical_accuracy: 0.9840 - val_loss: 0.8592 - val_categorical_accuracy: 0.8800\n",
      "Epoch 255/500\n",
      "16/16 [==============================] - 0s 13ms/step - loss: 0.0549 - categorical_accuracy: 0.9780 - val_loss: 1.1079 - val_categorical_accuracy: 0.8640\n",
      "Epoch 256/500\n",
      "16/16 [==============================] - 0s 15ms/step - loss: 0.1032 - categorical_accuracy: 0.9599 - val_loss: 1.0928 - val_categorical_accuracy: 0.8640\n",
      "Epoch 257/500\n",
      "16/16 [==============================] - 0s 12ms/step - loss: 0.0837 - categorical_accuracy: 0.9679 - val_loss: 0.8807 - val_categorical_accuracy: 0.8720\n",
      "Epoch 258/500\n",
      "16/16 [==============================] - 0s 13ms/step - loss: 0.1011 - categorical_accuracy: 0.9659 - val_loss: 0.8197 - val_categorical_accuracy: 0.8720\n",
      "Epoch 259/500\n",
      "16/16 [==============================] - 0s 12ms/step - loss: 0.0731 - categorical_accuracy: 0.9699 - val_loss: 0.8566 - val_categorical_accuracy: 0.8880\n",
      "Epoch 260/500\n",
      "16/16 [==============================] - 0s 12ms/step - loss: 0.0738 - categorical_accuracy: 0.9780 - val_loss: 0.9084 - val_categorical_accuracy: 0.8800\n",
      "Epoch 261/500\n",
      "16/16 [==============================] - 0s 12ms/step - loss: 0.0694 - categorical_accuracy: 0.9679 - val_loss: 0.9469 - val_categorical_accuracy: 0.8720\n",
      "Epoch 262/500\n",
      "16/16 [==============================] - 0s 13ms/step - loss: 0.0542 - categorical_accuracy: 0.9820 - val_loss: 0.9518 - val_categorical_accuracy: 0.8720\n",
      "Epoch 263/500\n",
      "16/16 [==============================] - 0s 16ms/step - loss: 0.0571 - categorical_accuracy: 0.9800 - val_loss: 1.1240 - val_categorical_accuracy: 0.8800\n",
      "Epoch 264/500\n",
      "16/16 [==============================] - 0s 15ms/step - loss: 0.0807 - categorical_accuracy: 0.9699 - val_loss: 1.0368 - val_categorical_accuracy: 0.8720\n",
      "Epoch 265/500\n",
      "16/16 [==============================] - 0s 13ms/step - loss: 0.1307 - categorical_accuracy: 0.9579 - val_loss: 1.1115 - val_categorical_accuracy: 0.8400\n",
      "Epoch 266/500\n",
      "16/16 [==============================] - 0s 13ms/step - loss: 0.2871 - categorical_accuracy: 0.9238 - val_loss: 1.0473 - val_categorical_accuracy: 0.8320\n",
      "Epoch 267/500\n",
      "16/16 [==============================] - 0s 12ms/step - loss: 0.0980 - categorical_accuracy: 0.9659 - val_loss: 0.7507 - val_categorical_accuracy: 0.8560\n",
      "Epoch 268/500\n",
      "16/16 [==============================] - 0s 12ms/step - loss: 0.1009 - categorical_accuracy: 0.9659 - val_loss: 1.0931 - val_categorical_accuracy: 0.8560\n",
      "Epoch 269/500\n",
      "16/16 [==============================] - 0s 13ms/step - loss: 0.0989 - categorical_accuracy: 0.9639 - val_loss: 0.9110 - val_categorical_accuracy: 0.8880\n",
      "Epoch 270/500\n",
      "16/16 [==============================] - 0s 14ms/step - loss: 0.0832 - categorical_accuracy: 0.9699 - val_loss: 0.8465 - val_categorical_accuracy: 0.8800\n",
      "Epoch 271/500\n",
      "16/16 [==============================] - 0s 15ms/step - loss: 0.0563 - categorical_accuracy: 0.9840 - val_loss: 1.0838 - val_categorical_accuracy: 0.8720\n",
      "Epoch 272/500\n",
      "16/16 [==============================] - 0s 16ms/step - loss: 0.0423 - categorical_accuracy: 0.9860 - val_loss: 1.2972 - val_categorical_accuracy: 0.8720\n",
      "Epoch 273/500\n",
      "16/16 [==============================] - 0s 14ms/step - loss: 0.0457 - categorical_accuracy: 0.9820 - val_loss: 1.0795 - val_categorical_accuracy: 0.8800\n",
      "Epoch 274/500\n",
      "16/16 [==============================] - 0s 14ms/step - loss: 0.0722 - categorical_accuracy: 0.9800 - val_loss: 1.0221 - val_categorical_accuracy: 0.8880\n",
      "Epoch 275/500\n",
      "16/16 [==============================] - 0s 15ms/step - loss: 0.0372 - categorical_accuracy: 0.9880 - val_loss: 0.9459 - val_categorical_accuracy: 0.8720\n",
      "Epoch 276/500\n",
      "16/16 [==============================] - 0s 14ms/step - loss: 0.0469 - categorical_accuracy: 0.9820 - val_loss: 1.0287 - val_categorical_accuracy: 0.8720\n",
      "Epoch 277/500\n",
      "16/16 [==============================] - 0s 16ms/step - loss: 0.0735 - categorical_accuracy: 0.9719 - val_loss: 1.3640 - val_categorical_accuracy: 0.8640\n",
      "Epoch 278/500\n",
      "16/16 [==============================] - 0s 13ms/step - loss: 0.0692 - categorical_accuracy: 0.9760 - val_loss: 0.9806 - val_categorical_accuracy: 0.8880\n",
      "Epoch 279/500\n",
      "16/16 [==============================] - 0s 15ms/step - loss: 0.2813 - categorical_accuracy: 0.9319 - val_loss: 1.2301 - val_categorical_accuracy: 0.8240\n",
      "Epoch 280/500\n",
      "16/16 [==============================] - 0s 13ms/step - loss: 0.2458 - categorical_accuracy: 0.9319 - val_loss: 0.7907 - val_categorical_accuracy: 0.8640\n",
      "Epoch 281/500\n",
      "16/16 [==============================] - 0s 15ms/step - loss: 0.2921 - categorical_accuracy: 0.8998 - val_loss: 1.3244 - val_categorical_accuracy: 0.7520\n",
      "Epoch 282/500\n",
      "16/16 [==============================] - 0s 13ms/step - loss: 0.2431 - categorical_accuracy: 0.9218 - val_loss: 0.9597 - val_categorical_accuracy: 0.8320\n",
      "Epoch 283/500\n",
      "16/16 [==============================] - 0s 16ms/step - loss: 0.1518 - categorical_accuracy: 0.9559 - val_loss: 0.9127 - val_categorical_accuracy: 0.8480\n",
      "Epoch 284/500\n",
      "16/16 [==============================] - 0s 13ms/step - loss: 0.0999 - categorical_accuracy: 0.9619 - val_loss: 0.8857 - val_categorical_accuracy: 0.8720\n",
      "Epoch 285/500\n",
      "16/16 [==============================] - 0s 14ms/step - loss: 0.0990 - categorical_accuracy: 0.9719 - val_loss: 0.8689 - val_categorical_accuracy: 0.8480\n",
      "Epoch 286/500\n",
      "16/16 [==============================] - 0s 16ms/step - loss: 0.0679 - categorical_accuracy: 0.9699 - val_loss: 0.7465 - val_categorical_accuracy: 0.8800\n",
      "Epoch 287/500\n",
      "16/16 [==============================] - 0s 14ms/step - loss: 0.0422 - categorical_accuracy: 0.9920 - val_loss: 0.8163 - val_categorical_accuracy: 0.8960\n",
      "Epoch 288/500\n",
      "16/16 [==============================] - 0s 16ms/step - loss: 0.0441 - categorical_accuracy: 0.9840 - val_loss: 0.8413 - val_categorical_accuracy: 0.8800\n",
      "Epoch 289/500\n",
      "16/16 [==============================] - 0s 15ms/step - loss: 0.0555 - categorical_accuracy: 0.9860 - val_loss: 0.8897 - val_categorical_accuracy: 0.8800\n",
      "Epoch 290/500\n",
      "16/16 [==============================] - 0s 13ms/step - loss: 0.0637 - categorical_accuracy: 0.9760 - val_loss: 1.0640 - val_categorical_accuracy: 0.8480\n",
      "Epoch 291/500\n",
      "16/16 [==============================] - 0s 13ms/step - loss: 0.0648 - categorical_accuracy: 0.9800 - val_loss: 0.8153 - val_categorical_accuracy: 0.8960\n",
      "Epoch 292/500\n",
      "16/16 [==============================] - 0s 16ms/step - loss: 0.0377 - categorical_accuracy: 0.9880 - val_loss: 0.7538 - val_categorical_accuracy: 0.8960\n",
      "Epoch 293/500\n",
      "16/16 [==============================] - 0s 14ms/step - loss: 0.0679 - categorical_accuracy: 0.9800 - val_loss: 0.8886 - val_categorical_accuracy: 0.8800\n",
      "Epoch 294/500\n",
      "16/16 [==============================] - 0s 13ms/step - loss: 0.0364 - categorical_accuracy: 0.9880 - val_loss: 0.9819 - val_categorical_accuracy: 0.8720\n"
     ]
    },
    {
     "name": "stdout",
     "output_type": "stream",
     "text": [
      "Epoch 295/500\n",
      "16/16 [==============================] - 0s 15ms/step - loss: 0.0496 - categorical_accuracy: 0.9880 - val_loss: 0.9108 - val_categorical_accuracy: 0.8800\n",
      "Epoch 296/500\n",
      "16/16 [==============================] - 0s 18ms/step - loss: 0.0381 - categorical_accuracy: 0.9860 - val_loss: 0.8260 - val_categorical_accuracy: 0.8800\n",
      "Epoch 297/500\n",
      "16/16 [==============================] - 0s 16ms/step - loss: 0.0408 - categorical_accuracy: 0.9840 - val_loss: 0.8826 - val_categorical_accuracy: 0.8880\n",
      "Epoch 298/500\n",
      "16/16 [==============================] - 0s 13ms/step - loss: 0.0590 - categorical_accuracy: 0.9860 - val_loss: 1.0070 - val_categorical_accuracy: 0.8720\n",
      "Epoch 299/500\n",
      "16/16 [==============================] - 0s 13ms/step - loss: 0.0752 - categorical_accuracy: 0.9780 - val_loss: 1.0578 - val_categorical_accuracy: 0.8320\n",
      "Epoch 300/500\n",
      "16/16 [==============================] - 0s 13ms/step - loss: 0.4054 - categorical_accuracy: 0.9138 - val_loss: 1.1066 - val_categorical_accuracy: 0.8240\n",
      "Epoch 301/500\n",
      "16/16 [==============================] - 0s 12ms/step - loss: 0.2991 - categorical_accuracy: 0.9218 - val_loss: 1.4035 - val_categorical_accuracy: 0.7440\n",
      "Epoch 302/500\n",
      "16/16 [==============================] - 0s 13ms/step - loss: 0.2894 - categorical_accuracy: 0.9118 - val_loss: 0.8817 - val_categorical_accuracy: 0.8400\n",
      "Epoch 303/500\n",
      "16/16 [==============================] - 0s 12ms/step - loss: 0.1719 - categorical_accuracy: 0.9339 - val_loss: 0.6361 - val_categorical_accuracy: 0.8720\n",
      "Epoch 304/500\n",
      "16/16 [==============================] - 0s 13ms/step - loss: 0.0929 - categorical_accuracy: 0.9659 - val_loss: 0.6879 - val_categorical_accuracy: 0.8800\n",
      "Epoch 305/500\n",
      "16/16 [==============================] - 0s 12ms/step - loss: 0.0839 - categorical_accuracy: 0.9719 - val_loss: 0.8285 - val_categorical_accuracy: 0.8640\n",
      "Epoch 306/500\n",
      "16/16 [==============================] - 0s 13ms/step - loss: 0.0614 - categorical_accuracy: 0.9800 - val_loss: 0.9532 - val_categorical_accuracy: 0.8640\n",
      "Epoch 307/500\n",
      "16/16 [==============================] - 0s 13ms/step - loss: 0.0563 - categorical_accuracy: 0.9800 - val_loss: 0.7525 - val_categorical_accuracy: 0.8640\n",
      "Epoch 308/500\n",
      "16/16 [==============================] - 0s 12ms/step - loss: 0.0638 - categorical_accuracy: 0.9780 - val_loss: 0.8498 - val_categorical_accuracy: 0.8640\n",
      "Epoch 309/500\n",
      "16/16 [==============================] - 0s 13ms/step - loss: 0.0629 - categorical_accuracy: 0.9719 - val_loss: 0.8345 - val_categorical_accuracy: 0.8800\n",
      "Epoch 310/500\n",
      "16/16 [==============================] - 0s 12ms/step - loss: 0.0656 - categorical_accuracy: 0.9800 - val_loss: 1.2757 - val_categorical_accuracy: 0.8640\n",
      "Epoch 311/500\n",
      "16/16 [==============================] - 0s 13ms/step - loss: 0.0518 - categorical_accuracy: 0.9800 - val_loss: 0.9951 - val_categorical_accuracy: 0.8640\n",
      "Epoch 312/500\n",
      "16/16 [==============================] - 0s 12ms/step - loss: 0.0469 - categorical_accuracy: 0.9900 - val_loss: 1.0085 - val_categorical_accuracy: 0.8800\n",
      "Epoch 313/500\n",
      "16/16 [==============================] - 0s 13ms/step - loss: 0.0323 - categorical_accuracy: 0.9840 - val_loss: 0.9958 - val_categorical_accuracy: 0.8720\n",
      "Epoch 314/500\n",
      "16/16 [==============================] - 0s 13ms/step - loss: 0.0440 - categorical_accuracy: 0.9800 - val_loss: 0.9254 - val_categorical_accuracy: 0.8720\n",
      "Epoch 315/500\n",
      "16/16 [==============================] - 0s 12ms/step - loss: 0.0375 - categorical_accuracy: 0.9880 - val_loss: 0.9106 - val_categorical_accuracy: 0.8800\n",
      "Epoch 316/500\n",
      "16/16 [==============================] - 0s 13ms/step - loss: 0.0783 - categorical_accuracy: 0.9800 - val_loss: 1.0616 - val_categorical_accuracy: 0.8880\n",
      "Epoch 317/500\n",
      "16/16 [==============================] - 0s 13ms/step - loss: 0.1212 - categorical_accuracy: 0.9719 - val_loss: 1.0384 - val_categorical_accuracy: 0.8800\n",
      "Epoch 318/500\n",
      "16/16 [==============================] - 0s 13ms/step - loss: 0.0479 - categorical_accuracy: 0.9800 - val_loss: 0.8072 - val_categorical_accuracy: 0.8720\n",
      "Epoch 319/500\n",
      "16/16 [==============================] - 0s 12ms/step - loss: 0.0723 - categorical_accuracy: 0.9739 - val_loss: 1.0319 - val_categorical_accuracy: 0.8880\n",
      "Epoch 320/500\n",
      "16/16 [==============================] - 0s 12ms/step - loss: 0.0567 - categorical_accuracy: 0.9760 - val_loss: 1.0365 - val_categorical_accuracy: 0.8720\n",
      "Epoch 321/500\n",
      "16/16 [==============================] - 0s 13ms/step - loss: 0.0762 - categorical_accuracy: 0.9780 - val_loss: 1.0936 - val_categorical_accuracy: 0.8720\n",
      "Epoch 322/500\n",
      "16/16 [==============================] - 0s 16ms/step - loss: 0.1076 - categorical_accuracy: 0.9619 - val_loss: 0.9611 - val_categorical_accuracy: 0.8640\n",
      "Epoch 323/500\n",
      "16/16 [==============================] - 0s 17ms/step - loss: 0.3201 - categorical_accuracy: 0.9339 - val_loss: 1.1064 - val_categorical_accuracy: 0.8080\n",
      "Epoch 324/500\n",
      "16/16 [==============================] - 0s 13ms/step - loss: 0.2436 - categorical_accuracy: 0.9279 - val_loss: 1.0100 - val_categorical_accuracy: 0.8000\n",
      "Epoch 325/500\n",
      "16/16 [==============================] - 0s 13ms/step - loss: 0.1815 - categorical_accuracy: 0.9439 - val_loss: 0.8009 - val_categorical_accuracy: 0.8560\n",
      "Epoch 326/500\n",
      "16/16 [==============================] - 0s 13ms/step - loss: 0.1027 - categorical_accuracy: 0.9659 - val_loss: 0.6215 - val_categorical_accuracy: 0.8560\n",
      "Epoch 327/500\n",
      "16/16 [==============================] - 0s 13ms/step - loss: 0.0852 - categorical_accuracy: 0.9699 - val_loss: 0.8011 - val_categorical_accuracy: 0.8800\n",
      "Epoch 328/500\n",
      "16/16 [==============================] - 0s 13ms/step - loss: 0.1045 - categorical_accuracy: 0.9719 - val_loss: 0.9203 - val_categorical_accuracy: 0.8640\n",
      "Epoch 329/500\n",
      "16/16 [==============================] - 0s 16ms/step - loss: 0.0999 - categorical_accuracy: 0.9699 - val_loss: 0.8765 - val_categorical_accuracy: 0.8800\n",
      "Epoch 330/500\n",
      "16/16 [==============================] - 0s 13ms/step - loss: 0.0526 - categorical_accuracy: 0.9820 - val_loss: 0.8810 - val_categorical_accuracy: 0.8720\n",
      "Epoch 331/500\n",
      "16/16 [==============================] - 0s 14ms/step - loss: 0.0627 - categorical_accuracy: 0.9760 - val_loss: 0.8692 - val_categorical_accuracy: 0.8880\n",
      "Epoch 332/500\n",
      "16/16 [==============================] - 0s 13ms/step - loss: 0.0688 - categorical_accuracy: 0.9719 - val_loss: 0.8514 - val_categorical_accuracy: 0.8720\n",
      "Epoch 333/500\n",
      "16/16 [==============================] - 0s 13ms/step - loss: 0.0520 - categorical_accuracy: 0.9780 - val_loss: 0.7330 - val_categorical_accuracy: 0.8800\n",
      "Epoch 334/500\n",
      "16/16 [==============================] - 0s 15ms/step - loss: 0.0504 - categorical_accuracy: 0.9820 - val_loss: 0.7039 - val_categorical_accuracy: 0.8880\n",
      "Epoch 335/500\n",
      "16/16 [==============================] - 0s 13ms/step - loss: 0.0425 - categorical_accuracy: 0.9860 - val_loss: 0.8951 - val_categorical_accuracy: 0.8880\n",
      "Epoch 336/500\n",
      "16/16 [==============================] - 0s 13ms/step - loss: 0.0425 - categorical_accuracy: 0.9820 - val_loss: 0.8559 - val_categorical_accuracy: 0.8960\n",
      "Epoch 337/500\n",
      "16/16 [==============================] - 0s 13ms/step - loss: 0.1005 - categorical_accuracy: 0.9719 - val_loss: 0.7863 - val_categorical_accuracy: 0.9040\n",
      "Epoch 338/500\n",
      "16/16 [==============================] - 0s 13ms/step - loss: 0.0821 - categorical_accuracy: 0.9679 - val_loss: 0.7043 - val_categorical_accuracy: 0.8800\n",
      "Epoch 339/500\n",
      "16/16 [==============================] - 0s 13ms/step - loss: 0.1111 - categorical_accuracy: 0.9699 - val_loss: 1.4991 - val_categorical_accuracy: 0.8160\n",
      "Epoch 340/500\n",
      "16/16 [==============================] - 0s 13ms/step - loss: 0.1697 - categorical_accuracy: 0.9699 - val_loss: 0.7880 - val_categorical_accuracy: 0.8400\n",
      "Epoch 341/500\n",
      "16/16 [==============================] - 0s 13ms/step - loss: 0.1038 - categorical_accuracy: 0.9739 - val_loss: 0.9762 - val_categorical_accuracy: 0.8400\n",
      "Epoch 342/500\n",
      "16/16 [==============================] - 0s 13ms/step - loss: 0.0940 - categorical_accuracy: 0.9780 - val_loss: 0.6553 - val_categorical_accuracy: 0.8800\n",
      "Epoch 343/500\n",
      "16/16 [==============================] - 0s 13ms/step - loss: 0.0752 - categorical_accuracy: 0.9780 - val_loss: 0.7892 - val_categorical_accuracy: 0.8640\n"
     ]
    },
    {
     "name": "stdout",
     "output_type": "stream",
     "text": [
      "Epoch 344/500\n",
      "16/16 [==============================] - 0s 13ms/step - loss: 0.0658 - categorical_accuracy: 0.9800 - val_loss: 0.6807 - val_categorical_accuracy: 0.8640\n",
      "Epoch 345/500\n",
      "16/16 [==============================] - 0s 14ms/step - loss: 0.0383 - categorical_accuracy: 0.9840 - val_loss: 0.7231 - val_categorical_accuracy: 0.8880\n",
      "Epoch 346/500\n",
      "16/16 [==============================] - 0s 12ms/step - loss: 0.0486 - categorical_accuracy: 0.9840 - val_loss: 0.9372 - val_categorical_accuracy: 0.8880\n",
      "Epoch 347/500\n",
      "16/16 [==============================] - 0s 12ms/step - loss: 0.0567 - categorical_accuracy: 0.9780 - val_loss: 0.8347 - val_categorical_accuracy: 0.8560\n",
      "Epoch 348/500\n",
      "16/16 [==============================] - 0s 14ms/step - loss: 0.0870 - categorical_accuracy: 0.9699 - val_loss: 0.8443 - val_categorical_accuracy: 0.8560\n",
      "Epoch 349/500\n",
      "16/16 [==============================] - 0s 13ms/step - loss: 0.0629 - categorical_accuracy: 0.9760 - val_loss: 0.8129 - val_categorical_accuracy: 0.8720\n",
      "Epoch 350/500\n",
      "16/16 [==============================] - 0s 13ms/step - loss: 0.0441 - categorical_accuracy: 0.9860 - val_loss: 0.9063 - val_categorical_accuracy: 0.8800\n",
      "Epoch 351/500\n",
      "16/16 [==============================] - 0s 13ms/step - loss: 0.0354 - categorical_accuracy: 0.9900 - val_loss: 0.9498 - val_categorical_accuracy: 0.8800\n",
      "Epoch 352/500\n",
      "16/16 [==============================] - 0s 15ms/step - loss: 0.0473 - categorical_accuracy: 0.9880 - val_loss: 1.0261 - val_categorical_accuracy: 0.8960\n",
      "Epoch 353/500\n",
      "16/16 [==============================] - 0s 13ms/step - loss: 0.0277 - categorical_accuracy: 0.9880 - val_loss: 1.0195 - val_categorical_accuracy: 0.8880\n",
      "Epoch 354/500\n",
      "16/16 [==============================] - 0s 13ms/step - loss: 0.0458 - categorical_accuracy: 0.9920 - val_loss: 0.9576 - val_categorical_accuracy: 0.8960\n",
      "Epoch 355/500\n",
      "16/16 [==============================] - 0s 13ms/step - loss: 0.0605 - categorical_accuracy: 0.9840 - val_loss: 0.9127 - val_categorical_accuracy: 0.8880\n",
      "Epoch 356/500\n",
      "16/16 [==============================] - 0s 13ms/step - loss: 0.0387 - categorical_accuracy: 0.9860 - val_loss: 0.9275 - val_categorical_accuracy: 0.8800\n",
      "Epoch 357/500\n",
      "16/16 [==============================] - 0s 12ms/step - loss: 0.1055 - categorical_accuracy: 0.9760 - val_loss: 0.7629 - val_categorical_accuracy: 0.8720\n",
      "Epoch 358/500\n",
      "16/16 [==============================] - 0s 12ms/step - loss: 0.0579 - categorical_accuracy: 0.9860 - val_loss: 0.8654 - val_categorical_accuracy: 0.8720\n",
      "Epoch 359/500\n",
      "16/16 [==============================] - 0s 13ms/step - loss: 0.0592 - categorical_accuracy: 0.9760 - val_loss: 0.9063 - val_categorical_accuracy: 0.8880\n",
      "Epoch 360/500\n",
      "16/16 [==============================] - 0s 12ms/step - loss: 0.0523 - categorical_accuracy: 0.9860 - val_loss: 1.1929 - val_categorical_accuracy: 0.8400\n",
      "Epoch 361/500\n",
      "16/16 [==============================] - 0s 12ms/step - loss: 0.0576 - categorical_accuracy: 0.9840 - val_loss: 1.0893 - val_categorical_accuracy: 0.8720\n",
      "Epoch 362/500\n",
      "16/16 [==============================] - 0s 12ms/step - loss: 0.0456 - categorical_accuracy: 0.9820 - val_loss: 0.7204 - val_categorical_accuracy: 0.8960\n",
      "Epoch 363/500\n",
      "16/16 [==============================] - 0s 12ms/step - loss: 0.0416 - categorical_accuracy: 0.9860 - val_loss: 0.7924 - val_categorical_accuracy: 0.8880\n",
      "Epoch 364/500\n",
      "16/16 [==============================] - 0s 12ms/step - loss: 0.0294 - categorical_accuracy: 0.9920 - val_loss: 0.9427 - val_categorical_accuracy: 0.8800\n",
      "Epoch 365/500\n",
      "16/16 [==============================] - 0s 12ms/step - loss: 0.0245 - categorical_accuracy: 0.9920 - val_loss: 0.9263 - val_categorical_accuracy: 0.8880\n",
      "Epoch 366/500\n",
      "16/16 [==============================] - 0s 12ms/step - loss: 0.0262 - categorical_accuracy: 0.9940 - val_loss: 0.9207 - val_categorical_accuracy: 0.9040\n",
      "Epoch 367/500\n",
      "16/16 [==============================] - 0s 13ms/step - loss: 0.0161 - categorical_accuracy: 0.9980 - val_loss: 0.9712 - val_categorical_accuracy: 0.8880\n",
      "Epoch 368/500\n",
      "16/16 [==============================] - 0s 13ms/step - loss: 0.0263 - categorical_accuracy: 0.9940 - val_loss: 1.1413 - val_categorical_accuracy: 0.8800\n",
      "Epoch 369/500\n",
      "16/16 [==============================] - 0s 12ms/step - loss: 0.0206 - categorical_accuracy: 0.9960 - val_loss: 1.1399 - val_categorical_accuracy: 0.8800\n",
      "Epoch 370/500\n",
      "16/16 [==============================] - 0s 12ms/step - loss: 0.0182 - categorical_accuracy: 0.9900 - val_loss: 1.0356 - val_categorical_accuracy: 0.8880\n",
      "Epoch 371/500\n",
      "16/16 [==============================] - 0s 12ms/step - loss: 0.0254 - categorical_accuracy: 0.9880 - val_loss: 1.0743 - val_categorical_accuracy: 0.8720\n",
      "Epoch 372/500\n",
      "16/16 [==============================] - 0s 12ms/step - loss: 0.0749 - categorical_accuracy: 0.9800 - val_loss: 1.0923 - val_categorical_accuracy: 0.8880\n",
      "Epoch 373/500\n",
      "16/16 [==============================] - 0s 12ms/step - loss: 0.1322 - categorical_accuracy: 0.9699 - val_loss: 1.9616 - val_categorical_accuracy: 0.8000\n",
      "Epoch 374/500\n",
      "16/16 [==============================] - 0s 12ms/step - loss: 0.6976 - categorical_accuracy: 0.8637 - val_loss: 1.4432 - val_categorical_accuracy: 0.7680\n",
      "Epoch 375/500\n",
      "16/16 [==============================] - 0s 13ms/step - loss: 0.2945 - categorical_accuracy: 0.9158 - val_loss: 0.7174 - val_categorical_accuracy: 0.8560\n",
      "Epoch 376/500\n",
      "16/16 [==============================] - 0s 12ms/step - loss: 0.1981 - categorical_accuracy: 0.9259 - val_loss: 0.7327 - val_categorical_accuracy: 0.8640\n",
      "Epoch 377/500\n",
      "16/16 [==============================] - 0s 12ms/step - loss: 0.1365 - categorical_accuracy: 0.9739 - val_loss: 0.6500 - val_categorical_accuracy: 0.8800\n",
      "Epoch 378/500\n",
      "16/16 [==============================] - 0s 12ms/step - loss: 0.0662 - categorical_accuracy: 0.9820 - val_loss: 0.8120 - val_categorical_accuracy: 0.8720\n",
      "Epoch 379/500\n",
      "16/16 [==============================] - 0s 12ms/step - loss: 0.0508 - categorical_accuracy: 0.9920 - val_loss: 0.8520 - val_categorical_accuracy: 0.8640\n",
      "Epoch 380/500\n",
      "16/16 [==============================] - 0s 12ms/step - loss: 0.0443 - categorical_accuracy: 0.9840 - val_loss: 0.7987 - val_categorical_accuracy: 0.8800\n",
      "Epoch 381/500\n",
      "16/16 [==============================] - 0s 13ms/step - loss: 0.0363 - categorical_accuracy: 0.9880 - val_loss: 0.8140 - val_categorical_accuracy: 0.8800\n",
      "Epoch 382/500\n",
      "16/16 [==============================] - 0s 12ms/step - loss: 0.0612 - categorical_accuracy: 0.9840 - val_loss: 0.7483 - val_categorical_accuracy: 0.8960\n",
      "Epoch 383/500\n",
      "16/16 [==============================] - 0s 12ms/step - loss: 0.0412 - categorical_accuracy: 0.9840 - val_loss: 0.8337 - val_categorical_accuracy: 0.8800\n",
      "Epoch 384/500\n",
      "16/16 [==============================] - 0s 12ms/step - loss: 0.0295 - categorical_accuracy: 0.9960 - val_loss: 0.8483 - val_categorical_accuracy: 0.8720\n",
      "Epoch 385/500\n",
      "16/16 [==============================] - 0s 12ms/step - loss: 0.0253 - categorical_accuracy: 0.9940 - val_loss: 0.8788 - val_categorical_accuracy: 0.8720\n",
      "Epoch 386/500\n",
      "16/16 [==============================] - 0s 13ms/step - loss: 0.0445 - categorical_accuracy: 0.9860 - val_loss: 0.9828 - val_categorical_accuracy: 0.8640\n",
      "Epoch 387/500\n",
      "16/16 [==============================] - 0s 13ms/step - loss: 0.0257 - categorical_accuracy: 0.9940 - val_loss: 0.9690 - val_categorical_accuracy: 0.8800\n",
      "Epoch 388/500\n",
      "16/16 [==============================] - 0s 13ms/step - loss: 0.0338 - categorical_accuracy: 0.9920 - val_loss: 0.9521 - val_categorical_accuracy: 0.8800\n",
      "Epoch 389/500\n",
      "16/16 [==============================] - 0s 13ms/step - loss: 0.0266 - categorical_accuracy: 0.9880 - val_loss: 0.9532 - val_categorical_accuracy: 0.8640\n",
      "Epoch 390/500\n",
      "16/16 [==============================] - 0s 12ms/step - loss: 0.0217 - categorical_accuracy: 0.9920 - val_loss: 0.9859 - val_categorical_accuracy: 0.8720\n",
      "Epoch 391/500\n",
      "16/16 [==============================] - 0s 12ms/step - loss: 0.0567 - categorical_accuracy: 0.9820 - val_loss: 0.7092 - val_categorical_accuracy: 0.8880\n",
      "Epoch 392/500\n",
      "16/16 [==============================] - 0s 13ms/step - loss: 0.0294 - categorical_accuracy: 0.9920 - val_loss: 0.7761 - val_categorical_accuracy: 0.8880\n"
     ]
    },
    {
     "name": "stdout",
     "output_type": "stream",
     "text": [
      "Epoch 393/500\n",
      "16/16 [==============================] - 0s 14ms/step - loss: 0.0259 - categorical_accuracy: 0.9860 - val_loss: 0.8303 - val_categorical_accuracy: 0.8720\n",
      "Epoch 394/500\n",
      "16/16 [==============================] - 0s 13ms/step - loss: 0.0366 - categorical_accuracy: 0.9920 - val_loss: 0.8436 - val_categorical_accuracy: 0.8720\n",
      "Epoch 395/500\n",
      "16/16 [==============================] - 0s 13ms/step - loss: 0.0506 - categorical_accuracy: 0.9820 - val_loss: 0.8981 - val_categorical_accuracy: 0.8640\n",
      "Epoch 396/500\n",
      "16/16 [==============================] - 0s 13ms/step - loss: 0.0424 - categorical_accuracy: 0.9840 - val_loss: 1.0229 - val_categorical_accuracy: 0.8800\n",
      "Epoch 397/500\n",
      "16/16 [==============================] - 0s 14ms/step - loss: 0.0479 - categorical_accuracy: 0.9900 - val_loss: 1.0131 - val_categorical_accuracy: 0.8640\n",
      "Epoch 398/500\n",
      "16/16 [==============================] - 0s 13ms/step - loss: 0.0239 - categorical_accuracy: 0.9940 - val_loss: 1.0347 - val_categorical_accuracy: 0.8880\n",
      "Epoch 399/500\n",
      "16/16 [==============================] - 0s 12ms/step - loss: 0.0265 - categorical_accuracy: 0.9940 - val_loss: 1.0202 - val_categorical_accuracy: 0.8800\n",
      "Epoch 400/500\n",
      "16/16 [==============================] - 0s 12ms/step - loss: 0.0314 - categorical_accuracy: 0.9940 - val_loss: 1.0080 - val_categorical_accuracy: 0.8800\n",
      "Epoch 401/500\n",
      "16/16 [==============================] - 0s 13ms/step - loss: 0.0540 - categorical_accuracy: 0.9860 - val_loss: 1.1330 - val_categorical_accuracy: 0.8640\n",
      "Epoch 402/500\n",
      "16/16 [==============================] - 0s 12ms/step - loss: 0.0692 - categorical_accuracy: 0.9780 - val_loss: 0.7460 - val_categorical_accuracy: 0.8800\n",
      "Epoch 403/500\n",
      "16/16 [==============================] - 0s 12ms/step - loss: 0.0733 - categorical_accuracy: 0.9800 - val_loss: 0.8025 - val_categorical_accuracy: 0.9120\n",
      "Epoch 404/500\n",
      "16/16 [==============================] - 0s 14ms/step - loss: 0.0634 - categorical_accuracy: 0.9739 - val_loss: 0.9282 - val_categorical_accuracy: 0.8720\n",
      "Epoch 405/500\n",
      "16/16 [==============================] - 0s 14ms/step - loss: 0.0813 - categorical_accuracy: 0.9820 - val_loss: 0.7254 - val_categorical_accuracy: 0.8720\n",
      "Epoch 406/500\n",
      "16/16 [==============================] - 0s 15ms/step - loss: 0.0372 - categorical_accuracy: 0.9880 - val_loss: 0.8558 - val_categorical_accuracy: 0.8480\n",
      "Epoch 407/500\n",
      "16/16 [==============================] - 0s 13ms/step - loss: 0.0115 - categorical_accuracy: 0.9980 - val_loss: 0.8811 - val_categorical_accuracy: 0.8640\n",
      "Epoch 408/500\n",
      "16/16 [==============================] - 0s 14ms/step - loss: 0.0306 - categorical_accuracy: 0.9900 - val_loss: 0.8854 - val_categorical_accuracy: 0.8640\n",
      "Epoch 409/500\n",
      "16/16 [==============================] - 0s 16ms/step - loss: 0.0588 - categorical_accuracy: 0.9880 - val_loss: 0.9710 - val_categorical_accuracy: 0.8720\n",
      "Epoch 410/500\n",
      "16/16 [==============================] - 0s 13ms/step - loss: 0.0246 - categorical_accuracy: 0.9940 - val_loss: 1.0891 - val_categorical_accuracy: 0.8560\n",
      "Epoch 411/500\n",
      "16/16 [==============================] - 0s 15ms/step - loss: 0.0349 - categorical_accuracy: 0.9860 - val_loss: 1.0660 - val_categorical_accuracy: 0.8720\n",
      "Epoch 412/500\n",
      "16/16 [==============================] - 0s 15ms/step - loss: 0.0172 - categorical_accuracy: 0.9980 - val_loss: 0.9797 - val_categorical_accuracy: 0.8560\n",
      "Epoch 413/500\n",
      "16/16 [==============================] - 0s 12ms/step - loss: 0.0181 - categorical_accuracy: 0.9920 - val_loss: 0.9565 - val_categorical_accuracy: 0.8720\n",
      "Epoch 414/500\n",
      "16/16 [==============================] - 0s 13ms/step - loss: 0.0293 - categorical_accuracy: 0.9900 - val_loss: 0.8943 - val_categorical_accuracy: 0.8880\n",
      "Epoch 415/500\n",
      "16/16 [==============================] - 0s 13ms/step - loss: 0.0290 - categorical_accuracy: 0.9900 - val_loss: 1.0941 - val_categorical_accuracy: 0.8800\n",
      "Epoch 416/500\n",
      "16/16 [==============================] - 0s 13ms/step - loss: 0.0314 - categorical_accuracy: 0.9920 - val_loss: 1.0743 - val_categorical_accuracy: 0.8880\n",
      "Epoch 417/500\n",
      "16/16 [==============================] - 0s 13ms/step - loss: 0.0161 - categorical_accuracy: 0.9940 - val_loss: 1.1070 - val_categorical_accuracy: 0.8720\n",
      "Epoch 418/500\n",
      "16/16 [==============================] - 0s 14ms/step - loss: 0.0199 - categorical_accuracy: 0.9940 - val_loss: 1.0921 - val_categorical_accuracy: 0.8640\n",
      "Epoch 419/500\n",
      "16/16 [==============================] - 0s 16ms/step - loss: 0.0409 - categorical_accuracy: 0.9920 - val_loss: 1.2687 - val_categorical_accuracy: 0.8640\n",
      "Epoch 420/500\n",
      "16/16 [==============================] - 0s 12ms/step - loss: 0.0243 - categorical_accuracy: 0.9940 - val_loss: 1.3029 - val_categorical_accuracy: 0.8800\n",
      "Epoch 421/500\n",
      "16/16 [==============================] - 0s 13ms/step - loss: 0.0429 - categorical_accuracy: 0.9900 - val_loss: 1.0346 - val_categorical_accuracy: 0.8800\n",
      "Epoch 422/500\n",
      "16/16 [==============================] - 0s 15ms/step - loss: 0.0491 - categorical_accuracy: 0.9820 - val_loss: 1.0491 - val_categorical_accuracy: 0.8960\n",
      "Epoch 423/500\n",
      "16/16 [==============================] - 0s 16ms/step - loss: 0.0754 - categorical_accuracy: 0.9840 - val_loss: 2.7137 - val_categorical_accuracy: 0.6960\n",
      "Epoch 424/500\n",
      "16/16 [==============================] - 0s 13ms/step - loss: 0.6229 - categorical_accuracy: 0.8697 - val_loss: 1.5287 - val_categorical_accuracy: 0.8080\n",
      "Epoch 425/500\n",
      "16/16 [==============================] - 0s 13ms/step - loss: 0.2941 - categorical_accuracy: 0.8998 - val_loss: 0.8602 - val_categorical_accuracy: 0.8080\n",
      "Epoch 426/500\n",
      "16/16 [==============================] - 0s 15ms/step - loss: 0.2289 - categorical_accuracy: 0.9379 - val_loss: 0.8899 - val_categorical_accuracy: 0.8400\n",
      "Epoch 427/500\n",
      "16/16 [==============================] - 0s 13ms/step - loss: 0.1607 - categorical_accuracy: 0.9579 - val_loss: 0.6770 - val_categorical_accuracy: 0.8640\n",
      "Epoch 428/500\n",
      "16/16 [==============================] - 0s 17ms/step - loss: 0.1027 - categorical_accuracy: 0.9739 - val_loss: 0.9475 - val_categorical_accuracy: 0.8480\n",
      "Epoch 429/500\n",
      "16/16 [==============================] - 0s 13ms/step - loss: 0.0818 - categorical_accuracy: 0.9780 - val_loss: 0.6758 - val_categorical_accuracy: 0.8640\n",
      "Epoch 430/500\n",
      "16/16 [==============================] - 0s 13ms/step - loss: 0.0603 - categorical_accuracy: 0.9800 - val_loss: 0.6887 - val_categorical_accuracy: 0.8640\n",
      "Epoch 431/500\n",
      "16/16 [==============================] - 0s 15ms/step - loss: 0.0482 - categorical_accuracy: 0.9820 - val_loss: 0.7341 - val_categorical_accuracy: 0.8560\n",
      "Epoch 432/500\n",
      "16/16 [==============================] - 0s 13ms/step - loss: 0.0487 - categorical_accuracy: 0.9900 - val_loss: 0.7981 - val_categorical_accuracy: 0.8800\n",
      "Epoch 433/500\n",
      "16/16 [==============================] - 0s 16ms/step - loss: 0.0450 - categorical_accuracy: 0.9920 - val_loss: 0.9267 - val_categorical_accuracy: 0.8720\n",
      "Epoch 434/500\n",
      "16/16 [==============================] - 0s 14ms/step - loss: 0.0290 - categorical_accuracy: 0.9920 - val_loss: 0.8552 - val_categorical_accuracy: 0.8640\n",
      "Epoch 435/500\n",
      "16/16 [==============================] - 0s 16ms/step - loss: 0.0520 - categorical_accuracy: 0.9840 - val_loss: 0.7567 - val_categorical_accuracy: 0.8800\n",
      "Epoch 436/500\n",
      "16/16 [==============================] - 0s 13ms/step - loss: 0.0362 - categorical_accuracy: 0.9880 - val_loss: 0.8386 - val_categorical_accuracy: 0.8480\n",
      "Epoch 437/500\n",
      "16/16 [==============================] - 0s 13ms/step - loss: 0.0322 - categorical_accuracy: 0.9900 - val_loss: 0.9156 - val_categorical_accuracy: 0.8720\n",
      "Epoch 438/500\n",
      "16/16 [==============================] - 0s 13ms/step - loss: 0.0147 - categorical_accuracy: 0.9960 - val_loss: 0.8399 - val_categorical_accuracy: 0.8720\n",
      "Epoch 439/500\n",
      "16/16 [==============================] - 0s 16ms/step - loss: 0.0147 - categorical_accuracy: 0.9940 - val_loss: 0.8459 - val_categorical_accuracy: 0.8720\n",
      "Epoch 440/500\n",
      "16/16 [==============================] - 0s 14ms/step - loss: 0.0099 - categorical_accuracy: 0.9980 - val_loss: 0.8631 - val_categorical_accuracy: 0.8640\n",
      "Epoch 441/500\n",
      "16/16 [==============================] - 0s 15ms/step - loss: 0.0106 - categorical_accuracy: 0.9960 - val_loss: 0.8607 - val_categorical_accuracy: 0.8720\n"
     ]
    },
    {
     "name": "stdout",
     "output_type": "stream",
     "text": [
      "Epoch 442/500\n",
      "16/16 [==============================] - 0s 13ms/step - loss: 0.0198 - categorical_accuracy: 0.9960 - val_loss: 0.8844 - val_categorical_accuracy: 0.8640\n",
      "Epoch 443/500\n",
      "16/16 [==============================] - 0s 16ms/step - loss: 0.0185 - categorical_accuracy: 0.9960 - val_loss: 0.9989 - val_categorical_accuracy: 0.8640\n",
      "Epoch 444/500\n",
      "16/16 [==============================] - 0s 14ms/step - loss: 0.0188 - categorical_accuracy: 0.9940 - val_loss: 0.9499 - val_categorical_accuracy: 0.8560\n",
      "Epoch 445/500\n",
      "16/16 [==============================] - 0s 16ms/step - loss: 0.0086 - categorical_accuracy: 1.0000 - val_loss: 1.0795 - val_categorical_accuracy: 0.8560\n",
      "Epoch 446/500\n",
      "16/16 [==============================] - 0s 13ms/step - loss: 0.0212 - categorical_accuracy: 0.9960 - val_loss: 1.1166 - val_categorical_accuracy: 0.8720\n",
      "Epoch 447/500\n",
      "16/16 [==============================] - 0s 16ms/step - loss: 0.0120 - categorical_accuracy: 0.9960 - val_loss: 1.0899 - val_categorical_accuracy: 0.8640\n",
      "Epoch 448/500\n",
      "16/16 [==============================] - 0s 13ms/step - loss: 0.0488 - categorical_accuracy: 0.9880 - val_loss: 0.8906 - val_categorical_accuracy: 0.8800\n",
      "Epoch 449/500\n",
      "16/16 [==============================] - 0s 14ms/step - loss: 0.1359 - categorical_accuracy: 0.9639 - val_loss: 1.2518 - val_categorical_accuracy: 0.8560\n",
      "Epoch 450/500\n",
      "16/16 [==============================] - 0s 15ms/step - loss: 0.1801 - categorical_accuracy: 0.9559 - val_loss: 0.7615 - val_categorical_accuracy: 0.8800\n",
      "Epoch 451/500\n",
      "16/16 [==============================] - 0s 14ms/step - loss: 0.1208 - categorical_accuracy: 0.9679 - val_loss: 1.2979 - val_categorical_accuracy: 0.8000\n",
      "Epoch 452/500\n",
      "16/16 [==============================] - 0s 15ms/step - loss: 0.2282 - categorical_accuracy: 0.9559 - val_loss: 1.1755 - val_categorical_accuracy: 0.8560\n",
      "Epoch 453/500\n",
      "16/16 [==============================] - 0s 13ms/step - loss: 0.1832 - categorical_accuracy: 0.9419 - val_loss: 0.7898 - val_categorical_accuracy: 0.8640\n",
      "Epoch 454/500\n",
      "16/16 [==============================] - 0s 16ms/step - loss: 0.1514 - categorical_accuracy: 0.9559 - val_loss: 0.8079 - val_categorical_accuracy: 0.8560\n",
      "Epoch 455/500\n",
      "16/16 [==============================] - 0s 14ms/step - loss: 0.1022 - categorical_accuracy: 0.9760 - val_loss: 0.8141 - val_categorical_accuracy: 0.8560\n",
      "Epoch 456/500\n",
      "16/16 [==============================] - 0s 15ms/step - loss: 0.0811 - categorical_accuracy: 0.9780 - val_loss: 0.6121 - val_categorical_accuracy: 0.8720\n",
      "Epoch 457/500\n",
      "16/16 [==============================] - 0s 15ms/step - loss: 0.0468 - categorical_accuracy: 0.9840 - val_loss: 0.7108 - val_categorical_accuracy: 0.8640\n",
      "Epoch 458/500\n",
      "16/16 [==============================] - 0s 16ms/step - loss: 0.0513 - categorical_accuracy: 0.9860 - val_loss: 0.6584 - val_categorical_accuracy: 0.8560\n",
      "Epoch 459/500\n",
      "16/16 [==============================] - 0s 15ms/step - loss: 0.0228 - categorical_accuracy: 0.9960 - val_loss: 0.5762 - val_categorical_accuracy: 0.8800\n",
      "Epoch 460/500\n",
      "16/16 [==============================] - 0s 14ms/step - loss: 0.0159 - categorical_accuracy: 1.0000 - val_loss: 0.6010 - val_categorical_accuracy: 0.8640\n",
      "Epoch 461/500\n",
      "16/16 [==============================] - 0s 15ms/step - loss: 0.0176 - categorical_accuracy: 0.9960 - val_loss: 0.6236 - val_categorical_accuracy: 0.8720\n",
      "Epoch 462/500\n",
      "16/16 [==============================] - 0s 13ms/step - loss: 0.0113 - categorical_accuracy: 0.9980 - val_loss: 0.6442 - val_categorical_accuracy: 0.8640\n",
      "Epoch 463/500\n",
      "16/16 [==============================] - 0s 15ms/step - loss: 0.0139 - categorical_accuracy: 0.9960 - val_loss: 0.6345 - val_categorical_accuracy: 0.8720\n",
      "Epoch 464/500\n",
      "16/16 [==============================] - 0s 14ms/step - loss: 0.0138 - categorical_accuracy: 0.9960 - val_loss: 0.6085 - val_categorical_accuracy: 0.8880\n",
      "Epoch 465/500\n",
      "16/16 [==============================] - 0s 16ms/step - loss: 0.0088 - categorical_accuracy: 1.0000 - val_loss: 0.6902 - val_categorical_accuracy: 0.8720\n",
      "Epoch 466/500\n",
      "16/16 [==============================] - 0s 15ms/step - loss: 0.0366 - categorical_accuracy: 0.9900 - val_loss: 0.8081 - val_categorical_accuracy: 0.8720\n",
      "Epoch 467/500\n",
      "16/16 [==============================] - 0s 14ms/step - loss: 0.0178 - categorical_accuracy: 0.9960 - val_loss: 0.9404 - val_categorical_accuracy: 0.8640\n",
      "Epoch 468/500\n",
      "16/16 [==============================] - 0s 14ms/step - loss: 0.0240 - categorical_accuracy: 0.9940 - val_loss: 0.9175 - val_categorical_accuracy: 0.8640\n",
      "Epoch 469/500\n",
      "16/16 [==============================] - 0s 14ms/step - loss: 0.0161 - categorical_accuracy: 0.9960 - val_loss: 0.8255 - val_categorical_accuracy: 0.8640\n",
      "Epoch 470/500\n",
      "16/16 [==============================] - 0s 16ms/step - loss: 0.0134 - categorical_accuracy: 0.9960 - val_loss: 0.8704 - val_categorical_accuracy: 0.8560\n",
      "Epoch 471/500\n",
      "16/16 [==============================] - 0s 14ms/step - loss: 0.0172 - categorical_accuracy: 0.9920 - val_loss: 0.8030 - val_categorical_accuracy: 0.8720\n",
      "Epoch 472/500\n",
      "16/16 [==============================] - 0s 15ms/step - loss: 0.0154 - categorical_accuracy: 0.9940 - val_loss: 0.7714 - val_categorical_accuracy: 0.8720\n",
      "Epoch 473/500\n",
      "16/16 [==============================] - 0s 15ms/step - loss: 0.0127 - categorical_accuracy: 0.9940 - val_loss: 0.8878 - val_categorical_accuracy: 0.8560\n",
      "Epoch 474/500\n",
      "16/16 [==============================] - 0s 15ms/step - loss: 0.0406 - categorical_accuracy: 0.9900 - val_loss: 0.7219 - val_categorical_accuracy: 0.8800\n",
      "Epoch 475/500\n",
      "16/16 [==============================] - 0s 13ms/step - loss: 0.0420 - categorical_accuracy: 0.9860 - val_loss: 0.8463 - val_categorical_accuracy: 0.8800\n",
      "Epoch 476/500\n",
      "16/16 [==============================] - 0s 13ms/step - loss: 0.0156 - categorical_accuracy: 0.9940 - val_loss: 0.8382 - val_categorical_accuracy: 0.8720\n",
      "Epoch 477/500\n",
      "16/16 [==============================] - 0s 15ms/step - loss: 0.0112 - categorical_accuracy: 0.9960 - val_loss: 0.8507 - val_categorical_accuracy: 0.8720\n",
      "Epoch 478/500\n",
      "16/16 [==============================] - 0s 14ms/step - loss: 0.0151 - categorical_accuracy: 0.9980 - val_loss: 0.8409 - val_categorical_accuracy: 0.8800\n",
      "Epoch 479/500\n",
      "16/16 [==============================] - 0s 14ms/step - loss: 0.0116 - categorical_accuracy: 0.9940 - val_loss: 0.8442 - val_categorical_accuracy: 0.8720\n",
      "Epoch 480/500\n",
      "16/16 [==============================] - 0s 15ms/step - loss: 0.0528 - categorical_accuracy: 0.9880 - val_loss: 1.0162 - val_categorical_accuracy: 0.8560\n",
      "Epoch 481/500\n",
      "16/16 [==============================] - 0s 14ms/step - loss: 0.0543 - categorical_accuracy: 0.9840 - val_loss: 1.0170 - val_categorical_accuracy: 0.8640\n",
      "Epoch 482/500\n",
      "16/16 [==============================] - 0s 13ms/step - loss: 0.0578 - categorical_accuracy: 0.9840 - val_loss: 1.2350 - val_categorical_accuracy: 0.8720\n",
      "Epoch 483/500\n",
      "16/16 [==============================] - 0s 17ms/step - loss: 0.0233 - categorical_accuracy: 0.9900 - val_loss: 1.0937 - val_categorical_accuracy: 0.8640\n",
      "Epoch 484/500\n",
      "16/16 [==============================] - 0s 15ms/step - loss: 0.0390 - categorical_accuracy: 0.9900 - val_loss: 1.2200 - val_categorical_accuracy: 0.8640\n",
      "Epoch 485/500\n",
      "16/16 [==============================] - 0s 16ms/step - loss: 0.0409 - categorical_accuracy: 0.9880 - val_loss: 1.0719 - val_categorical_accuracy: 0.8480\n",
      "Epoch 486/500\n",
      "16/16 [==============================] - 0s 14ms/step - loss: 0.1413 - categorical_accuracy: 0.9719 - val_loss: 1.1345 - val_categorical_accuracy: 0.8720\n",
      "Epoch 487/500\n",
      "16/16 [==============================] - 0s 16ms/step - loss: 0.1153 - categorical_accuracy: 0.9679 - val_loss: 1.1744 - val_categorical_accuracy: 0.8720\n",
      "Epoch 488/500\n",
      "16/16 [==============================] - 0s 14ms/step - loss: 0.0824 - categorical_accuracy: 0.9719 - val_loss: 0.8869 - val_categorical_accuracy: 0.8800\n",
      "Epoch 489/500\n",
      "16/16 [==============================] - 0s 16ms/step - loss: 0.2884 - categorical_accuracy: 0.9319 - val_loss: 1.5358 - val_categorical_accuracy: 0.7120\n",
      "Epoch 490/500\n",
      "16/16 [==============================] - 0s 13ms/step - loss: 0.3769 - categorical_accuracy: 0.9238 - val_loss: 0.9528 - val_categorical_accuracy: 0.8640\n"
     ]
    },
    {
     "name": "stdout",
     "output_type": "stream",
     "text": [
      "Epoch 491/500\n",
      "16/16 [==============================] - 0s 13ms/step - loss: 0.2752 - categorical_accuracy: 0.9339 - val_loss: 0.7485 - val_categorical_accuracy: 0.8480\n",
      "Epoch 492/500\n",
      "16/16 [==============================] - 0s 13ms/step - loss: 0.1643 - categorical_accuracy: 0.9539 - val_loss: 1.0635 - val_categorical_accuracy: 0.7840\n",
      "Epoch 493/500\n",
      "16/16 [==============================] - 0s 12ms/step - loss: 0.1710 - categorical_accuracy: 0.9579 - val_loss: 0.7959 - val_categorical_accuracy: 0.8880\n",
      "Epoch 494/500\n",
      "16/16 [==============================] - 0s 12ms/step - loss: 0.0554 - categorical_accuracy: 0.9860 - val_loss: 0.8207 - val_categorical_accuracy: 0.8480\n",
      "Epoch 495/500\n",
      "16/16 [==============================] - 0s 12ms/step - loss: 0.0520 - categorical_accuracy: 0.9860 - val_loss: 0.6057 - val_categorical_accuracy: 0.8720\n",
      "Epoch 496/500\n",
      "16/16 [==============================] - 0s 12ms/step - loss: 0.0704 - categorical_accuracy: 0.9780 - val_loss: 0.7638 - val_categorical_accuracy: 0.8720\n",
      "Epoch 497/500\n",
      "16/16 [==============================] - 0s 12ms/step - loss: 0.0325 - categorical_accuracy: 0.9940 - val_loss: 0.9178 - val_categorical_accuracy: 0.8400\n",
      "Epoch 498/500\n",
      "16/16 [==============================] - 0s 12ms/step - loss: 0.0630 - categorical_accuracy: 0.9840 - val_loss: 0.7955 - val_categorical_accuracy: 0.8880\n",
      "Epoch 499/500\n",
      "16/16 [==============================] - 0s 12ms/step - loss: 0.0504 - categorical_accuracy: 0.9860 - val_loss: 0.8278 - val_categorical_accuracy: 0.8880\n",
      "Epoch 500/500\n",
      "16/16 [==============================] - 0s 13ms/step - loss: 0.0273 - categorical_accuracy: 0.9880 - val_loss: 0.9030 - val_categorical_accuracy: 0.8400\n"
     ]
    }
   ],
   "source": [
    "history = model.fit(X_train, y_train, validation_split=0.2, epochs=500)\n",
    "#history = model.fit(X_train, y_train, epochs=2000, callbacks=[tb_callback])"
   ]
  },
  {
   "cell_type": "code",
   "execution_count": 23,
   "id": "c600e018",
   "metadata": {},
   "outputs": [
    {
     "name": "stdout",
     "output_type": "stream",
     "text": [
      "dict_keys(['loss', 'categorical_accuracy', 'val_loss', 'val_categorical_accuracy'])\n"
     ]
    }
   ],
   "source": [
    "print(history.history.keys())"
   ]
  },
  {
   "cell_type": "code",
   "execution_count": 24,
   "id": "1184301b",
   "metadata": {},
   "outputs": [
    {
     "name": "stdout",
     "output_type": "stream",
     "text": [
      "Model: \"sequential\"\n",
      "_________________________________________________________________\n",
      " Layer (type)                Output Shape              Param #   \n",
      "=================================================================\n",
      " conv1d (Conv1D)             (None, 28, 32)            12128     \n",
      "                                                                 \n",
      " max_pooling1d (MaxPooling1D  (None, 14, 32)           0         \n",
      " )                                                               \n",
      "                                                                 \n",
      " conv1d_1 (Conv1D)           (None, 14, 64)            6208      \n",
      "                                                                 \n",
      " max_pooling1d_1 (MaxPooling  (None, 7, 64)            0         \n",
      " 1D)                                                             \n",
      "                                                                 \n",
      " conv1d_2 (Conv1D)           (None, 5, 128)            24704     \n",
      "                                                                 \n",
      " max_pooling1d_2 (MaxPooling  (None, 2, 128)           0         \n",
      " 1D)                                                             \n",
      "                                                                 \n",
      " flatten (Flatten)           (None, 256)               0         \n",
      "                                                                 \n",
      " dense (Dense)               (None, 64)                16448     \n",
      "                                                                 \n",
      " dropout (Dropout)           (None, 64)                0         \n",
      "                                                                 \n",
      " dense_1 (Dense)             (None, 64)                4160      \n",
      "                                                                 \n",
      " dropout_1 (Dropout)         (None, 64)                0         \n",
      "                                                                 \n",
      " dense_2 (Dense)             (None, 128)               8320      \n",
      "                                                                 \n",
      " dropout_2 (Dropout)         (None, 128)               0         \n",
      "                                                                 \n",
      " dense_3 (Dense)             (None, 128)               16512     \n",
      "                                                                 \n",
      " dropout_3 (Dropout)         (None, 128)               0         \n",
      "                                                                 \n",
      " dense_4 (Dense)             (None, 26)                3354      \n",
      "                                                                 \n",
      "=================================================================\n",
      "Total params: 91,834\n",
      "Trainable params: 91,834\n",
      "Non-trainable params: 0\n",
      "_________________________________________________________________\n"
     ]
    }
   ],
   "source": [
    "model.summary()"
   ]
  },
  {
   "cell_type": "code",
   "execution_count": 25,
   "id": "4730fa35",
   "metadata": {},
   "outputs": [
    {
     "data": {
      "text/plain": [
       "500"
      ]
     },
     "execution_count": 25,
     "metadata": {},
     "output_type": "execute_result"
    }
   ],
   "source": [
    "len(history.history['categorical_accuracy'])"
   ]
  },
  {
   "cell_type": "code",
   "execution_count": 26,
   "id": "3b02b8f5",
   "metadata": {},
   "outputs": [
    {
     "data": {
      "image/png": "[encoded data removed]",
      "text/plain": [
       "<Figure size 432x288 with 1 Axes>"
      ]
     },
     "metadata": {
      "needs_background": "light"
     },
     "output_type": "display_data"
    }
   ],
   "source": [
    "# summarize history for accuracy\n",
    "plt.plot(history.history['categorical_accuracy'])\n",
    "plt.plot(history.history['val_categorical_accuracy'])\n",
    "plt.title('Model accuracy')\n",
    "plt.ylabel('Accuracy')\n",
    "plt.xlabel('Epoch')\n",
    "plt.legend(['Train', 'Test'], loc='lower left')\n",
    "plt.show()\n",
    "#plt.savefig('accuracy.pdf', dpi = 700)"
   ]
  },
  {
   "cell_type": "code",
   "execution_count": 27,
   "id": "dd6f4b76",
   "metadata": {},
   "outputs": [
    {
     "data": {
      "image/png": "[encoded data removed]",
      "text/plain": [
       "<Figure size 432x288 with 1 Axes>"
      ]
     },
     "metadata": {
      "needs_background": "light"
     },
     "output_type": "display_data"
    }
   ],
   "source": [
    "# summarize history for loss\n",
    "plt.plot(history.history['loss'])\n",
    "plt.plot(history.history['val_loss'])\n",
    "plt.title('Model loss')\n",
    "plt.ylabel('Loss')\n",
    "plt.xlabel('Epoch')\n",
    "plt.legend(['Train', 'Test'], loc='upper left')\n",
    "plt.show()\n",
    "#plt.savefig('loss.pdf', dpi = 700)"
   ]
  },
  {
   "cell_type": "code",
   "execution_count": null,
   "id": "1beef07f",
   "metadata": {},
   "outputs": [],
   "source": [
    "! pip install pydot"
   ]
  },
  {
   "cell_type": "code",
   "execution_count": 198,
   "id": "41873402",
   "metadata": {},
   "outputs": [],
   "source": [
    "from tensorflow.keras.utils import plot_model\n",
    "\n",
    "#model = ResNet50(weights='imagenet')\n",
    "plot_model(model, to_file='model.pdf', dpi = 700, show_shapes=True)"
   ]
  },
  {
   "cell_type": "code",
   "execution_count": 28,
   "id": "f73c99f3",
   "metadata": {},
   "outputs": [],
   "source": [
    "# Step 8 - Make prediction\n",
    "res = model.predict(X_test)"
   ]
  },
  {
   "cell_type": "code",
   "execution_count": 29,
   "id": "050530cd",
   "metadata": {},
   "outputs": [
    {
     "data": {
      "text/plain": [
       "'E'"
      ]
     },
     "execution_count": 29,
     "metadata": {},
     "output_type": "execute_result"
    }
   ],
   "source": [
    "actions[np.argmax(res[0])]"
   ]
  },
  {
   "cell_type": "code",
   "execution_count": 30,
   "id": "3844a38d",
   "metadata": {},
   "outputs": [
    {
     "data": {
      "text/plain": [
       "'E'"
      ]
     },
     "execution_count": 30,
     "metadata": {},
     "output_type": "execute_result"
    }
   ],
   "source": [
    "actions[np.argmax(y_test[0])]"
   ]
  },
  {
   "cell_type": "code",
   "execution_count": 52,
   "id": "880c4b32",
   "metadata": {},
   "outputs": [],
   "source": [
    "from sklearn.metrics import multilabel_confusion_matrix, confusion_matrix, accuracy_score, precision_recall_fscore_support"
   ]
  },
  {
   "cell_type": "code",
   "execution_count": 40,
   "id": "490d85d0",
   "metadata": {},
   "outputs": [
    {
     "data": {
      "text/plain": [
       "<AxesSubplot:>"
      ]
     },
     "execution_count": 40,
     "metadata": {},
     "output_type": "execute_result"
    },
    {
     "data": {
      "image/png": "[encoded data removed]",
      "text/plain": [
       "<Figure size 1440x720 with 2 Axes>"
      ]
     },
     "metadata": {},
     "output_type": "display_data"
    }
   ],
   "source": [
    "import seaborn as sns\n",
    "yhat = model.predict(X_test)\n",
    "ytrue = np.argmax(y_test, axis=1)\n",
    "yhat = np.argmax(yhat, axis=1)\n",
    "\n",
    "cf_matr = confusion_matrix(ytrue, yhat)\n",
    "sns.set(rc = {'figure.figsize':(20, 10)})\n",
    "hmap = sns.heatmap(cf_matr,xticklabels=actions,yticklabels=actions)\n",
    "hmap\n",
    "#figure = hmap.get_figure()    \n",
    "#figure.savefig('Confusion_matrix.pdf', dpi=700)"
   ]
  },
  {
   "cell_type": "code",
   "execution_count": 121,
   "id": "6a666a0d",
   "metadata": {},
   "outputs": [],
   "source": [
    "yhat = model.predict(X_test)\n",
    "ytrue = np.argmax(y_test, axis=1).tolist()\n",
    "yhat = np.argmax(yhat, axis=1).tolist()"
   ]
  },
  {
   "cell_type": "code",
   "execution_count": 122,
   "id": "73f546f5",
   "metadata": {},
   "outputs": [
    {
     "name": "stdout",
     "output_type": "stream",
     "text": [
      "Accuracy Score: 0.9166666666666666\n"
     ]
    }
   ],
   "source": [
    "conf_matrix = multilabel_confusion_matrix(ytrue, yhat)\n",
    "print(\"Accuracy Score: {}\".format(accuracy_score(ytrue, yhat)))"
   ]
  },
  {
   "cell_type": "code",
   "execution_count": 128,
   "id": "3ee1d088",
   "metadata": {},
   "outputs": [
    {
     "name": "stdout",
     "output_type": "stream",
     "text": [
      "Precision Score: 0.926510989010989\n",
      "Recall Score: 0.9222374847374847\n",
      "F1 Score: 0.9173743991051684\n",
      "F Beta Score for Beta as 0.5 = 0.9205435437024855\n"
     ]
    }
   ],
   "source": [
    "from sklearn.metrics import fbeta_score \n",
    "(precision, recall, f1_score, _) = precision_recall_fscore_support(ytrue, yhat, average='macro')\n",
    "print(\"Precision Score: {}\\nRecall Score: {}\\nF1 Score: {}\".format(precision, recall, f1_score))\n",
    "print(\"F Beta Score for Beta as 0.5 = {}\".format(fbeta_score(ytrue, yhat, average='macro', beta=0.5)))"
   ]
  },
  {
   "cell_type": "code",
   "execution_count": 130,
   "id": "66772715",
   "metadata": {},
   "outputs": [
    {
     "name": "stdout",
     "output_type": "stream",
     "text": [
      "              precision    recall  f1-score   support\n",
      "\n",
      "           A       1.00      1.00      1.00         5\n",
      "           B       1.00      1.00      1.00         4\n",
      "           C       0.67      0.89      0.76         9\n",
      "           D       1.00      0.80      0.89         5\n",
      "           E       1.00      1.00      1.00         4\n",
      "           F       1.00      1.00      1.00         5\n",
      "           G       1.00      0.88      0.93         8\n",
      "           H       1.00      1.00      1.00         6\n",
      "           I       0.71      0.71      0.71         7\n",
      "           J       1.00      1.00      1.00         6\n",
      "           K       1.00      1.00      1.00         5\n",
      "           L       0.88      0.88      0.88         8\n",
      "           M       1.00      0.62      0.77         8\n",
      "           N       0.75      1.00      0.86         9\n",
      "           O       0.50      0.20      0.29         5\n",
      "           P       1.00      1.00      1.00         6\n",
      "           Q       1.00      1.00      1.00         8\n",
      "           R       1.00      1.00      1.00         3\n",
      "           S       1.00      1.00      1.00         4\n",
      "           T       1.00      1.00      1.00         7\n",
      "           U       0.83      1.00      0.91         5\n",
      "           V       0.75      1.00      0.86         3\n",
      "           W       1.00      1.00      1.00         6\n",
      "           X       1.00      1.00      1.00         9\n",
      "           Y       1.00      1.00      1.00         6\n",
      "           Z       1.00      1.00      1.00         5\n",
      "\n",
      "    accuracy                           0.92       156\n",
      "   macro avg       0.93      0.92      0.92       156\n",
      "weighted avg       0.92      0.92      0.91       156\n",
      "\n"
     ]
    }
   ],
   "source": [
    "from sklearn.metrics import classification_report\n",
    "print(classification_report(ytrue, yhat, target_names=actions))"
   ]
  },
  {
   "cell_type": "code",
   "execution_count": 131,
   "id": "44f72c9f",
   "metadata": {},
   "outputs": [
    {
     "name": "stdout",
     "output_type": "stream",
     "text": [
      "Hamming Loss: 0.08333333333333333\n"
     ]
    }
   ],
   "source": [
    "from sklearn.metrics import hamming_loss\n",
    "print(\"Hamming Loss: {}\".format(hamming_loss(ytrue, yhat)))"
   ]
  },
  {
   "cell_type": "code",
   "execution_count": 132,
   "id": "c1b71974",
   "metadata": {},
   "outputs": [
    {
     "name": "stdout",
     "output_type": "stream",
     "text": [
      "Jaccard Score: 0.8749506903353057\n",
      "Matthews correlation coefficient: 0.9137760931439909\n"
     ]
    }
   ],
   "source": [
    "from sklearn.metrics import jaccard_score, matthews_corrcoef\n",
    "print(\"Jaccard Score: {}\".format(jaccard_score(ytrue, yhat, average='macro')))\n",
    "print(\"Matthews correlation coefficient: {}\".format(matthews_corrcoef(ytrue, yhat)))"
   ]
  },
  {
   "cell_type": "code",
   "execution_count": 114,
   "id": "6245c168",
   "metadata": {},
   "outputs": [],
   "source": [
    "import pandas as pd\n",
    "import matplotlib.pyplot as plt\n",
    "\n",
    "\n",
    "def print_confusion_matrix(confusion_matrix, axes, class_label, class_names, fontsize=14):\n",
    "\n",
    "    df_cm = pd.DataFrame(\n",
    "        confusion_matrix, index=class_names, columns=class_names,\n",
    "    )\n",
    "\n",
    "    try:\n",
    "        heatmap = sns.heatmap(df_cm, annot=True, fmt=\"d\", cbar=False, ax=axes)\n",
    "    except ValueError:\n",
    "        raise ValueError(\"Confusion matrix values must be integers.\")\n",
    "    heatmap.yaxis.set_ticklabels(heatmap.yaxis.get_ticklabels(), rotation=0, ha='right', fontsize=fontsize)\n",
    "    heatmap.xaxis.set_ticklabels(heatmap.xaxis.get_ticklabels(), rotation=45, ha='right', fontsize=fontsize)\n",
    "    axes.set_ylabel('True label')\n",
    "    axes.set_xlabel('Predicted label')\n",
    "    axes.set_title(\"Confusion Matrix for the class - \" + class_label)"
   ]
  },
  {
   "cell_type": "code",
   "execution_count": 115,
   "id": "be42467e",
   "metadata": {},
   "outputs": [
    {
     "data": {
      "text/plain": [
       "array(['M', 'N', 'O', 'P', 'Q', 'R', 'S', 'T', 'U', 'V', 'W', 'X', 'Y',\n",
       "       'Z'], dtype='<U1')"
      ]
     },
     "execution_count": 115,
     "metadata": {},
     "output_type": "execute_result"
    }
   ],
   "source": [
    "actions[12:]"
   ]
  },
  {
   "cell_type": "code",
   "execution_count": 116,
   "id": "cc684288",
   "metadata": {},
   "outputs": [
    {
     "data": {
      "image/png": "[encoded data removed]",
      "text/plain": [
       "<Figure size 720x1440 with 12 Axes>"
      ]
     },
     "metadata": {},
     "output_type": "display_data"
    }
   ],
   "source": [
    "fig, ax = plt.subplots(6, 2, figsize=(10, 20))\n",
    "    \n",
    "for axes, cfs_matrix, label in zip(ax.flatten(), conf_matrix[0:12], actions[0:12]):\n",
    "    print_confusion_matrix(cfs_matrix, axes, label, [\"F\", \"T\"])\n",
    "\n",
    "fig.tight_layout()\n",
    "plt.show()\n",
    "#plt.savefig('conf_mat.pdf', dpi = 700)"
   ]
  },
  {
   "cell_type": "code",
   "execution_count": 117,
   "id": "7bdbc5a8",
   "metadata": {},
   "outputs": [
    {
     "data": {
      "image/png": "[encoded data removed]",
      "text/plain": [
       "<Figure size 720x1728 with 14 Axes>"
      ]
     },
     "metadata": {},
     "output_type": "display_data"
    }
   ],
   "source": [
    "fig, ax = plt.subplots(7, 2, figsize=(10, 24))\n",
    "    \n",
    "for axes, cfs_matrix, label in zip(ax.flatten(), conf_matrix[12:], actions[12:]):\n",
    "    print_confusion_matrix(cfs_matrix, axes, label, [\"F\", \"T\"])\n",
    "\n",
    "fig.tight_layout()\n",
    "plt.show()\n",
    "#plt.savefig('conf_mat2.pdf', dpi = 700)"
   ]
  },
  {
   "cell_type": "code",
   "execution_count": null,
   "id": "fa10e646",
   "metadata": {},
   "outputs": [],
   "source": [
    "# Uncomment to save your model\n",
    "model.save('actionA_to_ZNew.h5')"
   ]
  },
  {
   "cell_type": "code",
   "execution_count": 166,
   "id": "450d905a",
   "metadata": {},
   "outputs": [
    {
     "data": {
      "text/plain": [
       "{'C': 0, 'O': 1}"
      ]
     },
     "execution_count": 166,
     "metadata": {},
     "output_type": "execute_result"
    }
   ],
   "source": [
    "new_actions = np.array(['C', 'O'])\n",
    "new_label_map = {label:num for num, label in enumerate(new_actions)}\n",
    "new_label_map"
   ]
  },
  {
   "cell_type": "code",
   "execution_count": 167,
   "id": "97ff31f8",
   "metadata": {},
   "outputs": [],
   "source": [
    "# CNN Model\n",
    "model = Sequential()\n",
    "\n",
    "model.add(Conv1D(filters=32, kernel_size=3, activation='relu', input_shape=(30, 126)))\n",
    "model.add(MaxPool1D(pool_size=2, strides=None))\n",
    "\n",
    "model.add(Conv1D(filters=64, kernel_size=3, activation='relu', padding = 'same'))\n",
    "model.add(MaxPool1D(pool_size=2, strides=None))\n",
    "\n",
    "model.add(Conv1D(filters=128, kernel_size=3, activation='relu', padding = 'valid'))\n",
    "model.add(MaxPool1D(pool_size=2, strides=None))\n",
    "\n",
    "model.add(Flatten())\n",
    "\n",
    "model.add(Dense(64,activation =\"relu\"))\n",
    "model.add(Dropout(0.2))\n",
    "model.add(Dense(128,activation =\"relu\"))\n",
    "model.add(Dropout(0.3))\n",
    "model.add(Dense(new_actions.shape[0],activation =\"softmax\"))"
   ]
  },
  {
   "cell_type": "code",
   "execution_count": 168,
   "id": "de10265a",
   "metadata": {},
   "outputs": [],
   "source": [
    "model.compile(optimizer='Adam', loss='categorical_crossentropy', metrics=['categorical_accuracy'])"
   ]
  },
  {
   "cell_type": "code",
   "execution_count": 169,
   "id": "ec83e673",
   "metadata": {},
   "outputs": [],
   "source": [
    "sequences, labels = [], []\n",
    "for action in new_actions:\n",
    "    for sequence in range(no_sequences):\n",
    "        window = []\n",
    "        for frame_num in range(sequence_length):\n",
    "            res = np.load(os.path.join(DATA_PATH, action, str(sequence), \"{}.npy\".format(frame_num)))\n",
    "            window.append(res)\n",
    "        sequences.append(window)\n",
    "        labels.append(new_label_map[action])"
   ]
  },
  {
   "cell_type": "code",
   "execution_count": 170,
   "id": "ebd9249b",
   "metadata": {},
   "outputs": [],
   "source": [
    "X = np.array(sequences)"
   ]
  },
  {
   "cell_type": "code",
   "execution_count": 171,
   "id": "962354ef",
   "metadata": {},
   "outputs": [],
   "source": [
    "y = to_categorical(labels).astype(int)"
   ]
  },
  {
   "cell_type": "code",
   "execution_count": 172,
   "id": "998d1020",
   "metadata": {},
   "outputs": [],
   "source": [
    "X_train, X_test, y_train, y_test = train_test_split(X, y, test_size=0.3)"
   ]
  },
  {
   "cell_type": "code",
   "execution_count": 173,
   "id": "b8359882",
   "metadata": {},
   "outputs": [
    {
     "data": {
      "text/plain": [
       "(42, 30, 126)"
      ]
     },
     "execution_count": 173,
     "metadata": {},
     "output_type": "execute_result"
    }
   ],
   "source": [
    "X_train.shape"
   ]
  },
  {
   "cell_type": "code",
   "execution_count": 174,
   "id": "6b1a5d4e",
   "metadata": {},
   "outputs": [
    {
     "data": {
      "text/plain": [
       "(42, 2)"
      ]
     },
     "execution_count": 174,
     "metadata": {},
     "output_type": "execute_result"
    }
   ],
   "source": [
    "y_train.shape"
   ]
  },
  {
   "cell_type": "code",
   "execution_count": 175,
   "id": "a0fa8f91",
   "metadata": {},
   "outputs": [
    {
     "name": "stdout",
     "output_type": "stream",
     "text": [
      "Epoch 1/100\n",
      "2/2 [==============================] - 1s 6ms/step - loss: 0.6958 - categorical_accuracy: 0.4286\n",
      "Epoch 2/100\n",
      "2/2 [==============================] - 0s 6ms/step - loss: 0.6888 - categorical_accuracy: 0.5000\n",
      "Epoch 3/100\n",
      "2/2 [==============================] - 0s 5ms/step - loss: 0.6664 - categorical_accuracy: 0.5476\n",
      "Epoch 4/100\n",
      "2/2 [==============================] - 0s 7ms/step - loss: 0.6549 - categorical_accuracy: 0.5952\n",
      "Epoch 5/100\n",
      "2/2 [==============================] - 0s 9ms/step - loss: 0.6568 - categorical_accuracy: 0.5238\n",
      "Epoch 6/100\n",
      "2/2 [==============================] - 0s 8ms/step - loss: 0.6770 - categorical_accuracy: 0.5238\n",
      "Epoch 7/100\n",
      "2/2 [==============================] - 0s 8ms/step - loss: 0.6550 - categorical_accuracy: 0.6190\n",
      "Epoch 8/100\n",
      "2/2 [==============================] - 0s 8ms/step - loss: 0.6318 - categorical_accuracy: 0.7143\n",
      "Epoch 9/100\n",
      "2/2 [==============================] - 0s 10ms/step - loss: 0.6314 - categorical_accuracy: 0.6190\n",
      "Epoch 10/100\n",
      "2/2 [==============================] - 0s 6ms/step - loss: 0.6566 - categorical_accuracy: 0.5952\n",
      "Epoch 11/100\n",
      "2/2 [==============================] - 0s 8ms/step - loss: 0.5936 - categorical_accuracy: 0.6905\n",
      "Epoch 12/100\n",
      "2/2 [==============================] - 0s 9ms/step - loss: 0.6111 - categorical_accuracy: 0.7619\n",
      "Epoch 13/100\n",
      "2/2 [==============================] - 0s 6ms/step - loss: 0.6111 - categorical_accuracy: 0.6667\n",
      "Epoch 14/100\n",
      "2/2 [==============================] - 0s 10ms/step - loss: 0.5372 - categorical_accuracy: 0.8333\n",
      "Epoch 15/100\n",
      "2/2 [==============================] - 0s 6ms/step - loss: 0.5470 - categorical_accuracy: 0.7381\n",
      "Epoch 16/100\n",
      "2/2 [==============================] - 0s 10ms/step - loss: 0.5064 - categorical_accuracy: 0.7143\n",
      "Epoch 17/100\n",
      "2/2 [==============================] - 0s 9ms/step - loss: 0.4895 - categorical_accuracy: 0.7619\n",
      "Epoch 18/100\n",
      "2/2 [==============================] - 0s 7ms/step - loss: 0.4710 - categorical_accuracy: 0.7381\n",
      "Epoch 19/100\n",
      "2/2 [==============================] - 0s 11ms/step - loss: 0.4619 - categorical_accuracy: 0.7857\n",
      "Epoch 20/100\n",
      "2/2 [==============================] - 0s 8ms/step - loss: 0.4127 - categorical_accuracy: 0.8571\n",
      "Epoch 21/100\n",
      "2/2 [==============================] - 0s 6ms/step - loss: 0.4130 - categorical_accuracy: 0.7857\n",
      "Epoch 22/100\n",
      "2/2 [==============================] - 0s 11ms/step - loss: 0.4227 - categorical_accuracy: 0.7857\n",
      "Epoch 23/100\n",
      "2/2 [==============================] - 0s 6ms/step - loss: 0.4055 - categorical_accuracy: 0.8333\n",
      "Epoch 24/100\n",
      "2/2 [==============================] - 0s 18ms/step - loss: 0.3620 - categorical_accuracy: 0.8571\n",
      "Epoch 25/100\n",
      "2/2 [==============================] - 0s 14ms/step - loss: 0.3868 - categorical_accuracy: 0.7857\n",
      "Epoch 26/100\n",
      "2/2 [==============================] - 0s 8ms/step - loss: 0.4141 - categorical_accuracy: 0.8095\n",
      "Epoch 27/100\n",
      "2/2 [==============================] - 0s 10ms/step - loss: 0.3151 - categorical_accuracy: 0.8571\n",
      "Epoch 28/100\n",
      "2/2 [==============================] - 0s 7ms/step - loss: 0.3131 - categorical_accuracy: 0.8571\n",
      "Epoch 29/100\n",
      "2/2 [==============================] - 0s 9ms/step - loss: 0.3127 - categorical_accuracy: 0.8333\n",
      "Epoch 30/100\n",
      "2/2 [==============================] - 0s 9ms/step - loss: 0.2745 - categorical_accuracy: 0.8571\n",
      "Epoch 31/100\n",
      "2/2 [==============================] - 0s 12ms/step - loss: 0.2959 - categorical_accuracy: 0.8571\n",
      "Epoch 32/100\n",
      "2/2 [==============================] - 0s 16ms/step - loss: 0.2885 - categorical_accuracy: 0.9048\n",
      "Epoch 33/100\n",
      "2/2 [==============================] - 0s 13ms/step - loss: 0.2331 - categorical_accuracy: 0.9286\n",
      "Epoch 34/100\n",
      "2/2 [==============================] - 0s 14ms/step - loss: 0.2273 - categorical_accuracy: 0.9048\n",
      "Epoch 35/100\n",
      "2/2 [==============================] - 0s 14ms/step - loss: 0.3368 - categorical_accuracy: 0.8333\n",
      "Epoch 36/100\n",
      "2/2 [==============================] - 0s 10ms/step - loss: 0.2421 - categorical_accuracy: 0.8810\n",
      "Epoch 37/100\n",
      "2/2 [==============================] - 0s 13ms/step - loss: 0.2609 - categorical_accuracy: 0.8571\n",
      "Epoch 38/100\n",
      "2/2 [==============================] - 0s 10ms/step - loss: 0.2573 - categorical_accuracy: 0.9524\n",
      "Epoch 39/100\n",
      "2/2 [==============================] - 0s 14ms/step - loss: 0.2248 - categorical_accuracy: 0.9286\n",
      "Epoch 40/100\n",
      "2/2 [==============================] - 0s 9ms/step - loss: 0.2785 - categorical_accuracy: 0.8571\n",
      "Epoch 41/100\n",
      "2/2 [==============================] - 0s 12ms/step - loss: 0.1608 - categorical_accuracy: 0.9286\n",
      "Epoch 42/100\n",
      "2/2 [==============================] - 0s 10ms/step - loss: 0.1838 - categorical_accuracy: 0.9286\n",
      "Epoch 43/100\n",
      "2/2 [==============================] - 0s 11ms/step - loss: 0.1889 - categorical_accuracy: 0.9048\n",
      "Epoch 44/100\n",
      "2/2 [==============================] - 0s 8ms/step - loss: 0.1493 - categorical_accuracy: 0.9524\n",
      "Epoch 45/100\n",
      "2/2 [==============================] - 0s 10ms/step - loss: 0.1345 - categorical_accuracy: 0.9524\n",
      "Epoch 46/100\n",
      "2/2 [==============================] - 0s 8ms/step - loss: 0.1699 - categorical_accuracy: 0.9048\n",
      "Epoch 47/100\n",
      "2/2 [==============================] - 0s 10ms/step - loss: 0.0872 - categorical_accuracy: 0.9762\n",
      "Epoch 48/100\n",
      "2/2 [==============================] - 0s 9ms/step - loss: 0.0991 - categorical_accuracy: 0.9762\n",
      "Epoch 49/100\n",
      "2/2 [==============================] - 0s 8ms/step - loss: 0.1094 - categorical_accuracy: 0.9524\n",
      "Epoch 50/100\n",
      "2/2 [==============================] - 0s 8ms/step - loss: 0.0683 - categorical_accuracy: 1.0000\n",
      "Epoch 51/100\n",
      "2/2 [==============================] - 0s 13ms/step - loss: 0.1088 - categorical_accuracy: 0.9524\n",
      "Epoch 52/100\n",
      "2/2 [==============================] - 0s 12ms/step - loss: 0.0558 - categorical_accuracy: 1.0000\n",
      "Epoch 53/100\n",
      "2/2 [==============================] - 0s 11ms/step - loss: 0.2745 - categorical_accuracy: 0.9286\n",
      "Epoch 54/100\n",
      "2/2 [==============================] - 0s 12ms/step - loss: 0.2002 - categorical_accuracy: 0.9286\n",
      "Epoch 55/100\n",
      "2/2 [==============================] - 0s 11ms/step - loss: 0.0514 - categorical_accuracy: 0.9762\n",
      "Epoch 56/100\n",
      "2/2 [==============================] - 0s 9ms/step - loss: 0.1292 - categorical_accuracy: 0.9286\n",
      "Epoch 57/100\n",
      "2/2 [==============================] - 0s 7ms/step - loss: 0.1100 - categorical_accuracy: 0.9524\n",
      "Epoch 58/100\n",
      "2/2 [==============================] - 0s 7ms/step - loss: 0.0625 - categorical_accuracy: 1.0000\n",
      "Epoch 59/100\n",
      "2/2 [==============================] - 0s 8ms/step - loss: 0.0744 - categorical_accuracy: 0.9524\n",
      "Epoch 60/100\n",
      "2/2 [==============================] - 0s 10ms/step - loss: 0.0839 - categorical_accuracy: 0.9286\n",
      "Epoch 61/100\n",
      "2/2 [==============================] - 0s 11ms/step - loss: 0.0603 - categorical_accuracy: 1.0000\n",
      "Epoch 62/100\n",
      "2/2 [==============================] - 0s 11ms/step - loss: 0.0517 - categorical_accuracy: 0.9762\n",
      "Epoch 63/100\n",
      "2/2 [==============================] - 0s 9ms/step - loss: 0.0738 - categorical_accuracy: 0.9524\n",
      "Epoch 64/100\n",
      "2/2 [==============================] - 0s 8ms/step - loss: 0.0406 - categorical_accuracy: 1.0000\n",
      "Epoch 65/100\n",
      "2/2 [==============================] - 0s 7ms/step - loss: 0.0471 - categorical_accuracy: 0.9762\n",
      "Epoch 66/100\n",
      "2/2 [==============================] - 0s 6ms/step - loss: 0.0402 - categorical_accuracy: 1.0000\n",
      "Epoch 67/100\n",
      "2/2 [==============================] - 0s 8ms/step - loss: 0.0267 - categorical_accuracy: 1.0000\n",
      "Epoch 68/100\n",
      "2/2 [==============================] - 0s 8ms/step - loss: 0.1321 - categorical_accuracy: 0.9286\n",
      "Epoch 69/100\n",
      "2/2 [==============================] - 0s 9ms/step - loss: 0.0389 - categorical_accuracy: 0.9762\n",
      "Epoch 70/100\n",
      "2/2 [==============================] - 0s 9ms/step - loss: 0.0203 - categorical_accuracy: 1.0000\n",
      "Epoch 71/100\n",
      "2/2 [==============================] - 0s 8ms/step - loss: 0.1949 - categorical_accuracy: 0.9286\n",
      "Epoch 72/100\n",
      "2/2 [==============================] - 0s 8ms/step - loss: 0.0473 - categorical_accuracy: 0.9762\n",
      "Epoch 73/100\n",
      "2/2 [==============================] - 0s 8ms/step - loss: 0.0490 - categorical_accuracy: 0.9762\n",
      "Epoch 74/100\n",
      "2/2 [==============================] - 0s 9ms/step - loss: 0.1502 - categorical_accuracy: 0.9286\n",
      "Epoch 75/100\n",
      "2/2 [==============================] - 0s 6ms/step - loss: 0.1047 - categorical_accuracy: 0.9524\n",
      "Epoch 76/100\n",
      "2/2 [==============================] - 0s 5ms/step - loss: 0.0748 - categorical_accuracy: 0.9524\n",
      "Epoch 77/100\n",
      "2/2 [==============================] - 0s 6ms/step - loss: 0.1209 - categorical_accuracy: 0.9048\n",
      "Epoch 78/100\n",
      "2/2 [==============================] - 0s 7ms/step - loss: 0.1133 - categorical_accuracy: 0.9048\n",
      "Epoch 79/100\n",
      "2/2 [==============================] - 0s 8ms/step - loss: 0.1000 - categorical_accuracy: 0.9762\n",
      "Epoch 80/100\n",
      "2/2 [==============================] - 0s 7ms/step - loss: 0.0518 - categorical_accuracy: 1.0000\n",
      "Epoch 81/100\n",
      "2/2 [==============================] - 0s 8ms/step - loss: 0.0667 - categorical_accuracy: 0.9762\n",
      "Epoch 82/100\n",
      "2/2 [==============================] - 0s 8ms/step - loss: 0.1407 - categorical_accuracy: 0.9524\n",
      "Epoch 83/100\n",
      "2/2 [==============================] - 0s 8ms/step - loss: 0.0628 - categorical_accuracy: 0.9762\n",
      "Epoch 84/100\n",
      "2/2 [==============================] - 0s 7ms/step - loss: 0.0537 - categorical_accuracy: 1.0000\n",
      "Epoch 85/100\n",
      "2/2 [==============================] - 0s 13ms/step - loss: 0.0854 - categorical_accuracy: 0.9524\n",
      "Epoch 86/100\n",
      "2/2 [==============================] - 0s 13ms/step - loss: 0.0612 - categorical_accuracy: 1.0000\n",
      "Epoch 87/100\n",
      "2/2 [==============================] - 0s 11ms/step - loss: 0.0352 - categorical_accuracy: 1.0000\n",
      "Epoch 88/100\n",
      "2/2 [==============================] - 0s 8ms/step - loss: 0.0354 - categorical_accuracy: 1.0000\n",
      "Epoch 89/100\n",
      "2/2 [==============================] - 0s 11ms/step - loss: 0.0194 - categorical_accuracy: 1.0000\n",
      "Epoch 90/100\n",
      "2/2 [==============================] - 0s 9ms/step - loss: 0.0134 - categorical_accuracy: 1.0000\n",
      "Epoch 91/100\n",
      "2/2 [==============================] - 0s 7ms/step - loss: 0.0115 - categorical_accuracy: 1.0000\n",
      "Epoch 92/100\n",
      "2/2 [==============================] - 0s 9ms/step - loss: 0.0078 - categorical_accuracy: 1.0000\n",
      "Epoch 93/100\n",
      "2/2 [==============================] - 0s 8ms/step - loss: 0.0089 - categorical_accuracy: 1.0000\n",
      "Epoch 94/100\n",
      "2/2 [==============================] - 0s 5ms/step - loss: 0.0036 - categorical_accuracy: 1.0000\n",
      "Epoch 95/100\n",
      "2/2 [==============================] - 0s 6ms/step - loss: 0.0032 - categorical_accuracy: 1.0000\n",
      "Epoch 96/100\n",
      "2/2 [==============================] - 0s 6ms/step - loss: 0.0029 - categorical_accuracy: 1.0000\n",
      "Epoch 97/100\n",
      "2/2 [==============================] - 0s 6ms/step - loss: 0.0023 - categorical_accuracy: 1.0000\n",
      "Epoch 98/100\n",
      "2/2 [==============================] - 0s 6ms/step - loss: 0.0025 - categorical_accuracy: 1.0000\n",
      "Epoch 99/100\n",
      "2/2 [==============================] - 0s 6ms/step - loss: 0.0018 - categorical_accuracy: 1.0000\n",
      "Epoch 100/100\n",
      "2/2 [==============================] - 0s 6ms/step - loss: 0.0098 - categorical_accuracy: 1.0000\n"
     ]
    },
    {
     "data": {
      "text/plain": [
       "<keras.callbacks.History at 0x228e39247f0>"
      ]
     },
     "execution_count": 175,
     "metadata": {},
     "output_type": "execute_result"
    }
   ],
   "source": [
    "model.fit(X_train, y_train, epochs=100)"
   ]
  },
  {
   "cell_type": "code",
   "execution_count": 176,
   "id": "81a6c95b",
   "metadata": {},
   "outputs": [
    {
     "name": "stdout",
     "output_type": "stream",
     "text": [
      "Model: \"sequential_21\"\n",
      "_________________________________________________________________\n",
      " Layer (type)                Output Shape              Param #   \n",
      "=================================================================\n",
      " conv1d_60 (Conv1D)          (None, 28, 32)            12128     \n",
      "                                                                 \n",
      " max_pooling1d_60 (MaxPoolin  (None, 14, 32)           0         \n",
      " g1D)                                                            \n",
      "                                                                 \n",
      " conv1d_61 (Conv1D)          (None, 14, 64)            6208      \n",
      "                                                                 \n",
      " max_pooling1d_61 (MaxPoolin  (None, 7, 64)            0         \n",
      " g1D)                                                            \n",
      "                                                                 \n",
      " conv1d_62 (Conv1D)          (None, 5, 128)            24704     \n",
      "                                                                 \n",
      " max_pooling1d_62 (MaxPoolin  (None, 2, 128)           0         \n",
      " g1D)                                                            \n",
      "                                                                 \n",
      " flatten_19 (Flatten)        (None, 256)               0         \n",
      "                                                                 \n",
      " dense_53 (Dense)            (None, 64)                16448     \n",
      "                                                                 \n",
      " dropout_19 (Dropout)        (None, 64)                0         \n",
      "                                                                 \n",
      " dense_54 (Dense)            (None, 128)               8320      \n",
      "                                                                 \n",
      " dropout_20 (Dropout)        (None, 128)               0         \n",
      "                                                                 \n",
      " dense_55 (Dense)            (None, 2)                 258       \n",
      "                                                                 \n",
      "=================================================================\n",
      "Total params: 68,066\n",
      "Trainable params: 68,066\n",
      "Non-trainable params: 0\n",
      "_________________________________________________________________\n"
     ]
    }
   ],
   "source": [
    "model.summary()"
   ]
  },
  {
   "cell_type": "code",
   "execution_count": 177,
   "id": "bacc7e9f",
   "metadata": {},
   "outputs": [],
   "source": [
    "# Step 8 - Make prediction\n",
    "res = model.predict(X_test)"
   ]
  },
  {
   "cell_type": "code",
   "execution_count": 178,
   "id": "f5d009ba",
   "metadata": {},
   "outputs": [
    {
     "data": {
      "image/png": "[encoded data removed]",
      "text/plain": [
       "<Figure size 360x288 with 2 Axes>"
      ]
     },
     "metadata": {},
     "output_type": "display_data"
    }
   ],
   "source": [
    "yhat = model.predict(X_test)\n",
    "ytrue = np.argmax(y_test, axis=1)\n",
    "yhat = np.argmax(yhat, axis=1)\n",
    "\n",
    "cf_matr2 = confusion_matrix(ytrue, yhat)\n",
    "sns.set(rc = {'figure.figsize':(5, 4)})\n",
    "hmap2 = sns.heatmap(cf_matr2,xticklabels=new_actions,yticklabels=new_actions)\n",
    "hmap2\n",
    "figure = hmap2.get_figure()    \n",
    "figure.savefig('Confusion_matrixCO.pdf', dpi=700)"
   ]
  },
  {
   "cell_type": "code",
   "execution_count": 180,
   "id": "48a7a573",
   "metadata": {},
   "outputs": [
    {
     "data": {
      "text/plain": [
       "1.0"
      ]
     },
     "execution_count": 180,
     "metadata": {},
     "output_type": "execute_result"
    }
   ],
   "source": [
    "ytrue = np.argmax(y_test, axis=1).tolist()\n",
    "yhat = np.argmax(model.predict(X_test), axis=1).tolist()\n",
    "accuracy_score(ytrue, yhat)"
   ]
  },
  {
   "cell_type": "code",
   "execution_count": 181,
   "id": "48794497",
   "metadata": {},
   "outputs": [],
   "source": [
    "# Uncomment to save your model\n",
    "model.save('actionCO.h5')"
   ]
  },
  {
   "cell_type": "code",
   "execution_count": 182,
   "id": "4c0b23db",
   "metadata": {},
   "outputs": [
    {
     "data": {
      "text/plain": [
       "{'M': 0, 'N': 1}"
      ]
     },
     "execution_count": 182,
     "metadata": {},
     "output_type": "execute_result"
    }
   ],
   "source": [
    "new_actions = np.array(['M', 'N'])\n",
    "new_label_map = {label:num for num, label in enumerate(new_actions)}\n",
    "new_label_map"
   ]
  },
  {
   "cell_type": "code",
   "execution_count": 183,
   "id": "6be788d4",
   "metadata": {},
   "outputs": [],
   "source": [
    "# CNN Model\n",
    "model = Sequential()\n",
    "\n",
    "model.add(Conv1D(filters=32, kernel_size=3, activation='relu', input_shape=(30, 126)))\n",
    "model.add(MaxPool1D(pool_size=2, strides=None))\n",
    "\n",
    "model.add(Conv1D(filters=64, kernel_size=3, activation='relu', padding = 'same'))\n",
    "model.add(MaxPool1D(pool_size=2, strides=None))\n",
    "\n",
    "model.add(Conv1D(filters=128, kernel_size=3, activation='relu', padding = 'valid'))\n",
    "model.add(MaxPool1D(pool_size=2, strides=None))\n",
    "\n",
    "model.add(Flatten())\n",
    "\n",
    "model.add(Dense(64,activation =\"relu\"))\n",
    "model.add(Dropout(0.2))\n",
    "model.add(Dense(128,activation =\"relu\"))\n",
    "model.add(Dropout(0.3))\n",
    "model.add(Dense(new_actions.shape[0],activation =\"softmax\"))"
   ]
  },
  {
   "cell_type": "code",
   "execution_count": 184,
   "id": "cedc557c",
   "metadata": {},
   "outputs": [],
   "source": [
    "model.compile(optimizer='Adam', loss='categorical_crossentropy', metrics=['categorical_accuracy'])"
   ]
  },
  {
   "cell_type": "code",
   "execution_count": 185,
   "id": "11974d41",
   "metadata": {},
   "outputs": [],
   "source": [
    "sequences, labels = [], []\n",
    "for action in new_actions:\n",
    "    for sequence in range(no_sequences):\n",
    "        window = []\n",
    "        for frame_num in range(sequence_length):\n",
    "            res = np.load(os.path.join(DATA_PATH, action, str(sequence), \"{}.npy\".format(frame_num)))\n",
    "            window.append(res)\n",
    "        sequences.append(window)\n",
    "        labels.append(new_label_map[action])"
   ]
  },
  {
   "cell_type": "code",
   "execution_count": 186,
   "id": "962074f3",
   "metadata": {},
   "outputs": [],
   "source": [
    "X = np.array(sequences)"
   ]
  },
  {
   "cell_type": "code",
   "execution_count": 187,
   "id": "fdaf9b7b",
   "metadata": {},
   "outputs": [],
   "source": [
    "y = to_categorical(labels).astype(int)"
   ]
  },
  {
   "cell_type": "code",
   "execution_count": 188,
   "id": "78c382a0",
   "metadata": {},
   "outputs": [],
   "source": [
    "X_train, X_test, y_train, y_test = train_test_split(X, y, test_size=0.3)"
   ]
  },
  {
   "cell_type": "code",
   "execution_count": 189,
   "id": "7c343797",
   "metadata": {},
   "outputs": [
    {
     "data": {
      "text/plain": [
       "(42, 30, 126)"
      ]
     },
     "execution_count": 189,
     "metadata": {},
     "output_type": "execute_result"
    }
   ],
   "source": [
    "X_train.shape"
   ]
  },
  {
   "cell_type": "code",
   "execution_count": 190,
   "id": "f6496cf4",
   "metadata": {},
   "outputs": [
    {
     "data": {
      "text/plain": [
       "(42, 2)"
      ]
     },
     "execution_count": 190,
     "metadata": {},
     "output_type": "execute_result"
    }
   ],
   "source": [
    "y_train.shape"
   ]
  },
  {
   "cell_type": "code",
   "execution_count": 191,
   "id": "c4f59e44",
   "metadata": {},
   "outputs": [
    {
     "name": "stdout",
     "output_type": "stream",
     "text": [
      "Epoch 1/100\n",
      "2/2 [==============================] - 1s 5ms/step - loss: 0.6862 - categorical_accuracy: 0.5714\n",
      "Epoch 2/100\n",
      "2/2 [==============================] - 0s 5ms/step - loss: 0.7104 - categorical_accuracy: 0.5476\n",
      "Epoch 3/100\n",
      "2/2 [==============================] - 0s 6ms/step - loss: 0.6592 - categorical_accuracy: 0.5238\n",
      "Epoch 4/100\n",
      "2/2 [==============================] - 0s 8ms/step - loss: 0.6728 - categorical_accuracy: 0.5714\n",
      "Epoch 5/100\n",
      "2/2 [==============================] - 0s 6ms/step - loss: 0.6847 - categorical_accuracy: 0.5476\n",
      "Epoch 6/100\n",
      "2/2 [==============================] - 0s 8ms/step - loss: 0.6460 - categorical_accuracy: 0.5476\n",
      "Epoch 7/100\n",
      "2/2 [==============================] - 0s 10ms/step - loss: 0.6544 - categorical_accuracy: 0.6190\n",
      "Epoch 8/100\n",
      "2/2 [==============================] - 0s 5ms/step - loss: 0.6433 - categorical_accuracy: 0.6667\n",
      "Epoch 9/100\n",
      "2/2 [==============================] - 0s 8ms/step - loss: 0.6092 - categorical_accuracy: 0.6190\n",
      "Epoch 10/100\n",
      "2/2 [==============================] - 0s 11ms/step - loss: 0.6075 - categorical_accuracy: 0.5952\n",
      "Epoch 11/100\n",
      "2/2 [==============================] - 0s 7ms/step - loss: 0.6086 - categorical_accuracy: 0.5476\n",
      "Epoch 12/100\n",
      "2/2 [==============================] - 0s 7ms/step - loss: 0.5351 - categorical_accuracy: 0.8810\n",
      "Epoch 13/100\n",
      "2/2 [==============================] - 0s 9ms/step - loss: 0.5093 - categorical_accuracy: 0.8571\n",
      "Epoch 14/100\n",
      "2/2 [==============================] - 0s 6ms/step - loss: 0.5179 - categorical_accuracy: 0.7619\n",
      "Epoch 15/100\n",
      "2/2 [==============================] - 0s 10ms/step - loss: 0.4453 - categorical_accuracy: 0.8571\n",
      "Epoch 16/100\n",
      "2/2 [==============================] - 0s 7ms/step - loss: 0.4709 - categorical_accuracy: 0.8095\n",
      "Epoch 17/100\n",
      "2/2 [==============================] - 0s 8ms/step - loss: 0.3118 - categorical_accuracy: 0.9762\n",
      "Epoch 18/100\n",
      "2/2 [==============================] - 0s 10ms/step - loss: 0.4242 - categorical_accuracy: 0.7619\n",
      "Epoch 19/100\n",
      "2/2 [==============================] - 0s 6ms/step - loss: 0.2933 - categorical_accuracy: 0.9524\n",
      "Epoch 20/100\n",
      "2/2 [==============================] - 0s 10ms/step - loss: 0.2689 - categorical_accuracy: 0.9524\n",
      "Epoch 21/100\n",
      "2/2 [==============================] - 0s 5ms/step - loss: 0.2355 - categorical_accuracy: 0.9048\n",
      "Epoch 22/100\n",
      "2/2 [==============================] - 0s 9ms/step - loss: 0.2062 - categorical_accuracy: 0.9524\n",
      "Epoch 23/100\n",
      "2/2 [==============================] - 0s 9ms/step - loss: 0.1428 - categorical_accuracy: 0.9524\n",
      "Epoch 24/100\n",
      "2/2 [==============================] - 0s 10ms/step - loss: 0.1611 - categorical_accuracy: 0.9286\n",
      "Epoch 25/100\n",
      "2/2 [==============================] - 0s 14ms/step - loss: 0.0987 - categorical_accuracy: 0.9762\n",
      "Epoch 26/100\n",
      "2/2 [==============================] - 0s 12ms/step - loss: 0.1050 - categorical_accuracy: 0.9762\n",
      "Epoch 27/100\n",
      "2/2 [==============================] - 0s 9ms/step - loss: 0.1888 - categorical_accuracy: 0.9286\n",
      "Epoch 28/100\n",
      "2/2 [==============================] - 0s 10ms/step - loss: 0.1967 - categorical_accuracy: 0.9048\n",
      "Epoch 29/100\n",
      "2/2 [==============================] - 0s 11ms/step - loss: 0.1059 - categorical_accuracy: 0.9286\n",
      "Epoch 30/100\n",
      "2/2 [==============================] - 0s 8ms/step - loss: 0.0916 - categorical_accuracy: 0.9524\n",
      "Epoch 31/100\n",
      "2/2 [==============================] - 0s 8ms/step - loss: 0.0443 - categorical_accuracy: 1.0000\n",
      "Epoch 32/100\n",
      "2/2 [==============================] - 0s 12ms/step - loss: 0.1286 - categorical_accuracy: 0.9762\n",
      "Epoch 33/100\n",
      "2/2 [==============================] - 0s 11ms/step - loss: 0.0344 - categorical_accuracy: 1.0000\n",
      "Epoch 34/100\n",
      "2/2 [==============================] - 0s 13ms/step - loss: 0.0651 - categorical_accuracy: 1.0000\n",
      "Epoch 35/100\n",
      "2/2 [==============================] - 0s 9ms/step - loss: 0.0461 - categorical_accuracy: 0.9762\n",
      "Epoch 36/100\n",
      "2/2 [==============================] - 0s 11ms/step - loss: 0.0314 - categorical_accuracy: 1.0000\n",
      "Epoch 37/100\n",
      "2/2 [==============================] - 0s 11ms/step - loss: 0.0316 - categorical_accuracy: 1.0000\n",
      "Epoch 38/100\n",
      "2/2 [==============================] - 0s 11ms/step - loss: 0.0165 - categorical_accuracy: 1.0000\n",
      "Epoch 39/100\n",
      "2/2 [==============================] - 0s 10ms/step - loss: 0.0139 - categorical_accuracy: 1.0000\n",
      "Epoch 40/100\n",
      "2/2 [==============================] - 0s 10ms/step - loss: 0.0128 - categorical_accuracy: 1.0000\n",
      "Epoch 41/100\n",
      "2/2 [==============================] - 0s 8ms/step - loss: 0.0141 - categorical_accuracy: 1.0000\n",
      "Epoch 42/100\n",
      "2/2 [==============================] - 0s 12ms/step - loss: 0.0153 - categorical_accuracy: 1.0000\n",
      "Epoch 43/100\n",
      "2/2 [==============================] - 0s 11ms/step - loss: 0.0075 - categorical_accuracy: 1.0000\n",
      "Epoch 44/100\n",
      "2/2 [==============================] - 0s 9ms/step - loss: 0.0039 - categorical_accuracy: 1.0000\n",
      "Epoch 45/100\n",
      "2/2 [==============================] - 0s 10ms/step - loss: 0.0043 - categorical_accuracy: 1.0000\n",
      "Epoch 46/100\n",
      "2/2 [==============================] - 0s 11ms/step - loss: 0.0062 - categorical_accuracy: 1.0000\n",
      "Epoch 47/100\n",
      "2/2 [==============================] - 0s 8ms/step - loss: 0.0037 - categorical_accuracy: 1.0000\n",
      "Epoch 48/100\n",
      "2/2 [==============================] - 0s 10ms/step - loss: 0.0055 - categorical_accuracy: 1.0000\n",
      "Epoch 49/100\n",
      "2/2 [==============================] - 0s 10ms/step - loss: 0.0052 - categorical_accuracy: 1.0000\n",
      "Epoch 50/100\n",
      "2/2 [==============================] - 0s 7ms/step - loss: 0.0033 - categorical_accuracy: 1.0000\n",
      "Epoch 51/100\n",
      "2/2 [==============================] - 0s 11ms/step - loss: 0.0018 - categorical_accuracy: 1.0000\n",
      "Epoch 52/100\n",
      "2/2 [==============================] - 0s 6ms/step - loss: 0.0040 - categorical_accuracy: 1.0000\n",
      "Epoch 53/100\n",
      "2/2 [==============================] - 0s 10ms/step - loss: 8.1000e-04 - categorical_accuracy: 1.0000\n",
      "Epoch 54/100\n",
      "2/2 [==============================] - 0s 7ms/step - loss: 0.0016 - categorical_accuracy: 1.0000\n",
      "Epoch 55/100\n",
      "2/2 [==============================] - 0s 12ms/step - loss: 9.8029e-04 - categorical_accuracy: 1.0000\n",
      "Epoch 56/100\n",
      "2/2 [==============================] - 0s 5ms/step - loss: 0.0029 - categorical_accuracy: 1.0000\n",
      "Epoch 57/100\n",
      "2/2 [==============================] - 0s 10ms/step - loss: 0.0015 - categorical_accuracy: 1.0000\n",
      "Epoch 58/100\n",
      "2/2 [==============================] - 0s 11ms/step - loss: 0.0033 - categorical_accuracy: 1.0000\n",
      "Epoch 59/100\n",
      "2/2 [==============================] - 0s 9ms/step - loss: 6.2920e-04 - categorical_accuracy: 1.0000\n",
      "Epoch 60/100\n",
      "2/2 [==============================] - 0s 9ms/step - loss: 2.7149e-04 - categorical_accuracy: 1.0000\n",
      "Epoch 61/100\n",
      "2/2 [==============================] - 0s 10ms/step - loss: 9.6552e-04 - categorical_accuracy: 1.0000\n",
      "Epoch 62/100\n",
      "2/2 [==============================] - 0s 7ms/step - loss: 9.6529e-04 - categorical_accuracy: 1.0000\n",
      "Epoch 63/100\n",
      "2/2 [==============================] - 0s 8ms/step - loss: 0.0016 - categorical_accuracy: 1.0000\n",
      "Epoch 64/100\n",
      "2/2 [==============================] - 0s 8ms/step - loss: 6.9650e-04 - categorical_accuracy: 1.0000\n",
      "Epoch 65/100\n",
      "2/2 [==============================] - 0s 7ms/step - loss: 3.7733e-04 - categorical_accuracy: 1.0000\n",
      "Epoch 66/100\n",
      "2/2 [==============================] - 0s 6ms/step - loss: 7.3392e-04 - categorical_accuracy: 1.0000\n",
      "Epoch 67/100\n",
      "2/2 [==============================] - 0s 7ms/step - loss: 0.0014 - categorical_accuracy: 1.0000\n",
      "Epoch 68/100\n",
      "2/2 [==============================] - 0s 8ms/step - loss: 7.6111e-04 - categorical_accuracy: 1.0000\n",
      "Epoch 69/100\n",
      "2/2 [==============================] - 0s 7ms/step - loss: 4.6908e-04 - categorical_accuracy: 1.0000\n",
      "Epoch 70/100\n",
      "2/2 [==============================] - 0s 9ms/step - loss: 2.1675e-04 - categorical_accuracy: 1.0000\n",
      "Epoch 71/100\n",
      "2/2 [==============================] - 0s 10ms/step - loss: 3.9329e-04 - categorical_accuracy: 1.0000\n",
      "Epoch 72/100\n",
      "2/2 [==============================] - 0s 7ms/step - loss: 3.5480e-04 - categorical_accuracy: 1.0000\n",
      "Epoch 73/100\n",
      "2/2 [==============================] - 0s 8ms/step - loss: 4.5098e-04 - categorical_accuracy: 1.0000\n",
      "Epoch 74/100\n",
      "2/2 [==============================] - 0s 13ms/step - loss: 0.0012 - categorical_accuracy: 1.0000\n",
      "Epoch 75/100\n",
      "2/2 [==============================] - 0s 8ms/step - loss: 1.4416e-04 - categorical_accuracy: 1.0000\n",
      "Epoch 76/100\n",
      "2/2 [==============================] - 0s 9ms/step - loss: 2.0072e-04 - categorical_accuracy: 1.0000\n",
      "Epoch 77/100\n",
      "2/2 [==============================] - 0s 10ms/step - loss: 1.8988e-04 - categorical_accuracy: 1.0000\n",
      "Epoch 78/100\n",
      "2/2 [==============================] - 0s 6ms/step - loss: 0.0028 - categorical_accuracy: 1.0000\n",
      "Epoch 79/100\n",
      "2/2 [==============================] - 0s 8ms/step - loss: 6.0842e-04 - categorical_accuracy: 1.0000\n",
      "Epoch 80/100\n",
      "2/2 [==============================] - 0s 9ms/step - loss: 0.0041 - categorical_accuracy: 1.0000\n",
      "Epoch 81/100\n",
      "2/2 [==============================] - 0s 8ms/step - loss: 0.0015 - categorical_accuracy: 1.0000\n",
      "Epoch 82/100\n",
      "2/2 [==============================] - 0s 9ms/step - loss: 3.7924e-04 - categorical_accuracy: 1.0000\n",
      "Epoch 83/100\n",
      "2/2 [==============================] - 0s 8ms/step - loss: 9.7894e-04 - categorical_accuracy: 1.0000\n",
      "Epoch 84/100\n",
      "2/2 [==============================] - 0s 10ms/step - loss: 0.0090 - categorical_accuracy: 1.0000\n",
      "Epoch 85/100\n",
      "2/2 [==============================] - 0s 8ms/step - loss: 0.0021 - categorical_accuracy: 1.0000\n",
      "Epoch 86/100\n",
      "2/2 [==============================] - 0s 10ms/step - loss: 0.0253 - categorical_accuracy: 0.9762\n",
      "Epoch 87/100\n",
      "2/2 [==============================] - 0s 7ms/step - loss: 0.0017 - categorical_accuracy: 1.0000\n",
      "Epoch 88/100\n",
      "2/2 [==============================] - 0s 8ms/step - loss: 0.0061 - categorical_accuracy: 1.0000\n",
      "Epoch 89/100\n",
      "2/2 [==============================] - 0s 11ms/step - loss: 0.0039 - categorical_accuracy: 1.0000\n",
      "Epoch 90/100\n",
      "2/2 [==============================] - 0s 12ms/step - loss: 2.1562e-04 - categorical_accuracy: 1.0000\n",
      "Epoch 91/100\n",
      "2/2 [==============================] - 0s 12ms/step - loss: 3.3136e-04 - categorical_accuracy: 1.0000\n",
      "Epoch 92/100\n",
      "2/2 [==============================] - 0s 6ms/step - loss: 8.8782e-04 - categorical_accuracy: 1.0000\n",
      "Epoch 93/100\n",
      "2/2 [==============================] - 0s 7ms/step - loss: 7.6797e-04 - categorical_accuracy: 1.0000\n",
      "Epoch 94/100\n",
      "2/2 [==============================] - 0s 9ms/step - loss: 0.0016 - categorical_accuracy: 1.0000\n",
      "Epoch 95/100\n",
      "2/2 [==============================] - 0s 11ms/step - loss: 6.5191e-04 - categorical_accuracy: 1.0000\n",
      "Epoch 96/100\n",
      "2/2 [==============================] - 0s 11ms/step - loss: 1.7325e-04 - categorical_accuracy: 1.0000\n",
      "Epoch 97/100\n",
      "2/2 [==============================] - 0s 6ms/step - loss: 1.9060e-04 - categorical_accuracy: 1.0000\n",
      "Epoch 98/100\n",
      "2/2 [==============================] - 0s 12ms/step - loss: 2.0729e-04 - categorical_accuracy: 1.0000\n",
      "Epoch 99/100\n",
      "2/2 [==============================] - 0s 9ms/step - loss: 0.0015 - categorical_accuracy: 1.0000\n",
      "Epoch 100/100\n",
      "2/2 [==============================] - 0s 10ms/step - loss: 3.5910e-04 - categorical_accuracy: 1.0000\n"
     ]
    },
    {
     "data": {
      "text/plain": [
       "<keras.callbacks.History at 0x228e6fdab20>"
      ]
     },
     "execution_count": 191,
     "metadata": {},
     "output_type": "execute_result"
    }
   ],
   "source": [
    "model.fit(X_train, y_train, epochs=100)"
   ]
  },
  {
   "cell_type": "code",
   "execution_count": 192,
   "id": "ede0b9d3",
   "metadata": {},
   "outputs": [
    {
     "name": "stdout",
     "output_type": "stream",
     "text": [
      "Model: \"sequential_22\"\n",
      "_________________________________________________________________\n",
      " Layer (type)                Output Shape              Param #   \n",
      "=================================================================\n",
      " conv1d_63 (Conv1D)          (None, 28, 32)            12128     \n",
      "                                                                 \n",
      " max_pooling1d_63 (MaxPoolin  (None, 14, 32)           0         \n",
      " g1D)                                                            \n",
      "                                                                 \n",
      " conv1d_64 (Conv1D)          (None, 14, 64)            6208      \n",
      "                                                                 \n",
      " max_pooling1d_64 (MaxPoolin  (None, 7, 64)            0         \n",
      " g1D)                                                            \n",
      "                                                                 \n",
      " conv1d_65 (Conv1D)          (None, 5, 128)            24704     \n",
      "                                                                 \n",
      " max_pooling1d_65 (MaxPoolin  (None, 2, 128)           0         \n",
      " g1D)                                                            \n",
      "                                                                 \n",
      " flatten_20 (Flatten)        (None, 256)               0         \n",
      "                                                                 \n",
      " dense_56 (Dense)            (None, 64)                16448     \n",
      "                                                                 \n",
      " dropout_21 (Dropout)        (None, 64)                0         \n",
      "                                                                 \n",
      " dense_57 (Dense)            (None, 128)               8320      \n",
      "                                                                 \n",
      " dropout_22 (Dropout)        (None, 128)               0         \n",
      "                                                                 \n",
      " dense_58 (Dense)            (None, 2)                 258       \n",
      "                                                                 \n",
      "=================================================================\n",
      "Total params: 68,066\n",
      "Trainable params: 68,066\n",
      "Non-trainable params: 0\n",
      "_________________________________________________________________\n"
     ]
    }
   ],
   "source": [
    "model.summary()"
   ]
  },
  {
   "cell_type": "code",
   "execution_count": 193,
   "id": "c2357a87",
   "metadata": {},
   "outputs": [],
   "source": [
    "# Step 8 - Make prediction\n",
    "res = model.predict(X_test)"
   ]
  },
  {
   "cell_type": "code",
   "execution_count": 194,
   "id": "2f321e11",
   "metadata": {},
   "outputs": [
    {
     "data": {
      "image/png": "[encoded data removed]",
      "text/plain": [
       "<Figure size 360x288 with 2 Axes>"
      ]
     },
     "metadata": {},
     "output_type": "display_data"
    }
   ],
   "source": [
    "yhat = model.predict(X_test)\n",
    "ytrue = np.argmax(y_test, axis=1)\n",
    "yhat = np.argmax(yhat, axis=1)\n",
    "\n",
    "cf_matr3 = confusion_matrix(ytrue, yhat)\n",
    "sns.set(rc = {'figure.figsize':(5, 4)})\n",
    "hmap3 = sns.heatmap(cf_matr3,xticklabels=new_actions,yticklabels=new_actions)\n",
    "hmap3\n",
    "figure = hmap3.get_figure()    \n",
    "figure.savefig('Confusion_matrixMN.pdf', dpi=700)"
   ]
  },
  {
   "cell_type": "code",
   "execution_count": 195,
   "id": "b4b46a1d",
   "metadata": {},
   "outputs": [
    {
     "data": {
      "text/plain": [
       "1.0"
      ]
     },
     "execution_count": 195,
     "metadata": {},
     "output_type": "execute_result"
    }
   ],
   "source": [
    "yhat = model.predict(X_test)\n",
    "ytrue = np.argmax(y_test, axis=1).tolist()\n",
    "yhat = np.argmax(model.predict(X_test), axis=1).tolist()\n",
    "accuracy_score(ytrue, yhat)"
   ]
  },
  {
   "cell_type": "code",
   "execution_count": 199,
   "id": "8ed81e62",
   "metadata": {},
   "outputs": [],
   "source": [
    "plot_model(model, to_file='modelCO.pdf', dpi = 700, show_shapes=True)"
   ]
  },
  {
   "cell_type": "code",
   "execution_count": 196,
   "id": "e57349a2",
   "metadata": {},
   "outputs": [],
   "source": [
    "# Uncomment to save your model\n",
    "model.save('actionMN.h5')"
   ]
  },
  {
   "cell_type": "code",
   "execution_count": null,
   "id": "f0c194ec",
   "metadata": {},
   "outputs": [],
   "source": []
  }
 ],
 "metadata": {
  "kernelspec": {
   "display_name": "Python 3 (ipykernel)",
   "language": "python",
   "name": "python3"
  },
  "language_info": {
   "codemirror_mode": {
    "name": "ipython",
    "version": 3
   },
   "file_extension": ".py",
   "mimetype": "text/x-python",
   "name": "python",
   "nbconvert_exporter": "python",
   "pygments_lexer": "ipython3",
   "version": "3.9.7"
  }
 },
 "nbformat": 4,
 "nbformat_minor": 5
}
