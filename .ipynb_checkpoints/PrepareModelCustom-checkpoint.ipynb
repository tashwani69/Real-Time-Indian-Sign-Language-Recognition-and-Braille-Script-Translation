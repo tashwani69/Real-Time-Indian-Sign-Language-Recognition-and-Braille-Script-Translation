{
 "cells": [
  {
   "cell_type": "code",
   "execution_count": 1,
   "id": "9e1a73cf",
   "metadata": {},
   "outputs": [],
   "source": [
    "import cv2\n",
    "import numpy as np\n",
    "import os\n",
    "from matplotlib import pyplot as plt\n",
    "import time\n",
    "import mediapipe as mp"
   ]
  },
  {
   "cell_type": "code",
   "execution_count": 2,
   "id": "a6acf65e",
   "metadata": {},
   "outputs": [],
   "source": [
    "mp_holistic = mp.solutions.holistic # Holistic model\n",
    "mp_drawing = mp.solutions.drawing_utils\n",
    "mp_drawing_styles = mp.solutions.drawing_styles\n",
    "mp_hands = mp.solutions.hands"
   ]
  },
  {
   "cell_type": "code",
   "execution_count": 3,
   "id": "5eca98ad",
   "metadata": {},
   "outputs": [],
   "source": [
    "def mediapipe_detection(image, model):\n",
    "    image = cv2.cvtColor(image, cv2.COLOR_BGR2RGB) # COLOR CONVERSION BGR 2 RGB\n",
    "    image.flags.writeable = False                  # Image is no longer writeable\n",
    "    results = model.process(image)                 # Make prediction\n",
    "    image.flags.writeable = True                   # Image is now writeable \n",
    "    image = cv2.cvtColor(image, cv2.COLOR_RGB2BGR) # COLOR COVERSION RGB 2 BGR\n",
    "    return image, results"
   ]
  },
  {
   "cell_type": "code",
   "execution_count": 4,
   "id": "33ddfb44",
   "metadata": {},
   "outputs": [],
   "source": [
    "def draw_landmarks(image, results):\n",
    "    mp_drawing.draw_landmarks(image, results.face_landmarks, mp_holistic.FACEMESH_TESSELATION) # Draw face connections\n",
    "    mp_drawing.draw_landmarks(image, results.pose_landmarks, mp_holistic.POSE_CONNECTIONS) # Draw pose connections\n",
    "    mp_drawing.draw_landmarks(image, results.left_hand_landmarks, mp_holistic.HAND_CONNECTIONS) # Draw left hand connections\n",
    "    mp_drawing.draw_landmarks(image, results.right_hand_landmarks, mp_holistic.HAND_CONNECTIONS) # Draw right hand connections"
   ]
  },
  {
   "cell_type": "code",
   "execution_count": 5,
   "id": "2616cbe9",
   "metadata": {},
   "outputs": [],
   "source": [
    "def draw_styled_landmarks(image, results):\n",
    "    # Draw face connections\n",
    "    #mp_drawing.draw_landmarks(image, results.face_landmarks, mp_holistic.FACEMESH_TESSELATION, \n",
    "    #                         mp_drawing.DrawingSpec(color=(80,110,10), thickness=1, circle_radius=1), \n",
    "    #                         mp_drawing.DrawingSpec(color=(80,256,121), thickness=1, circle_radius=1)\n",
    "    #                         ) \n",
    "    # Draw pose connections\n",
    "    #mp_drawing.draw_landmarks(image, results.pose_landmarks, mp_holistic.POSE_CONNECTIONS,\n",
    "    #                         mp_drawing.DrawingSpec(color=(80,22,10), thickness=2, circle_radius=4), \n",
    "    #                         mp_drawing.DrawingSpec(color=(80,44,121), thickness=2, circle_radius=2)\n",
    "    #                         ) \n",
    "    # Draw left hand connections\n",
    "    mp_drawing.draw_landmarks(image, results.left_hand_landmarks, mp_holistic.HAND_CONNECTIONS, \n",
    "                             mp_drawing.DrawingSpec(color=(121,22,76), thickness=2, circle_radius=4), \n",
    "                             mp_drawing.DrawingSpec(color=(121,44,250), thickness=2, circle_radius=2)\n",
    "                             ) \n",
    "    # Draw right hand connections  \n",
    "    mp_drawing.draw_landmarks(image, results.right_hand_landmarks, mp_holistic.HAND_CONNECTIONS, \n",
    "                             mp_drawing.DrawingSpec(color=(245,117,66), thickness=2, circle_radius=4), \n",
    "                             mp_drawing.DrawingSpec(color=(245,66,230), thickness=2, circle_radius=2)\n",
    "                             )"
   ]
  },
  {
   "cell_type": "code",
   "execution_count": 6,
   "id": "627a63b9",
   "metadata": {},
   "outputs": [],
   "source": [
    "def draw_styled_hand_landmarks(image, results):\n",
    "    for hand_landmarks in results.multi_hand_landmarks:\n",
    "                  mp_drawing.draw_landmarks(\n",
    "                      image,\n",
    "                      hand_landmarks,\n",
    "                      mp_hands.HAND_CONNECTIONS,\n",
    "                      mp_drawing.DrawingSpec(color=(121,22,76), thickness=2, circle_radius=4), \n",
    "                      mp_drawing.DrawingSpec(color=(121,44,250), thickness=2, circle_radius=2))"
   ]
  },
  {
   "cell_type": "code",
   "execution_count": 7,
   "id": "321f5164",
   "metadata": {},
   "outputs": [],
   "source": [
    "def extract_keypoints(results):\n",
    "    pose = np.array([[res.x, res.y, res.z, res.visibility] for res in results.pose_landmarks.landmark]).flatten() if results.pose_landmarks else np.zeros(33*4)\n",
    "    face = np.array([[res.x, res.y, res.z] for res in results.face_landmarks.landmark]).flatten() if results.face_landmarks else np.zeros(468*3)\n",
    "    lh = np.array([[res.x, res.y, res.z] for res in results.left_hand_landmarks.landmark]).flatten() if results.left_hand_landmarks else np.zeros(21*3)\n",
    "    rh = np.array([[res.x, res.y, res.z] for res in results.right_hand_landmarks.landmark]).flatten() if results.right_hand_landmarks else np.zeros(21*3)\n",
    "    return np.concatenate([lh, rh])"
   ]
  },
  {
   "cell_type": "code",
   "execution_count": 8,
   "id": "39210a15",
   "metadata": {},
   "outputs": [],
   "source": [
    "def extract_hand_keypoints(results):\n",
    "    lh = [[res.x, res.y, res.z] for res in results.left_hand_landmarks[0].landmark] if results.left_hand_landmarks else [[0]*3]*21\n",
    "    rh = [[res.x, res.y, res.z] for res in results.right_hand_landmarks[1].landmark] if results.right_hand_landmarks else [[0]*3]*21\n",
    "    return np.vstack((lh,rh))"
   ]
  },
  {
   "cell_type": "code",
   "execution_count": 9,
   "id": "9ff96be5",
   "metadata": {},
   "outputs": [],
   "source": [
    "import tensorflow as tf\n",
    "gpus = tf.config.experimental.list_physical_devices('GPU')\n",
    "if gpus:\n",
    "  try:\n",
    "    tf.config.experimental.set_virtual_device_configuration(\n",
    "        gpus[0],[tf.config.experimental.VirtualDeviceConfiguration(memory_limit=512)])\n",
    "  except RuntimeError as e:\n",
    "    print(e)"
   ]
  },
  {
   "cell_type": "code",
   "execution_count": 10,
   "id": "f12f0d05",
   "metadata": {},
   "outputs": [],
   "source": [
    "# Path for exported data, numpy arrays\n",
    "# Step 4\n",
    "DATA_PATH = os.path.join('ISL_Data')\n",
    "actions = np.array(['A','B','C','D','E','F','G','H','I','J','K','L','M','N','O','P','Q','R','S','T','U','V','W','X','Y','Z'])\n",
    "#actions = np.array(['A','B'])\n",
    "\n",
    "# no of images\n",
    "no_sequences = 30\n",
    "\n",
    "# no of frames in each video\n",
    "sequence_length = 30"
   ]
  },
  {
   "cell_type": "code",
   "execution_count": 11,
   "id": "cc9db9ac",
   "metadata": {},
   "outputs": [],
   "source": [
    "# Step 6 - preprocess data create labels and features\n",
    "from sklearn.model_selection import train_test_split\n",
    "from tensorflow.keras.utils import to_categorical"
   ]
  },
  {
   "cell_type": "code",
   "execution_count": 12,
   "id": "860d920d",
   "metadata": {},
   "outputs": [
    {
     "data": {
      "text/plain": [
       "{'A': 0,\n",
       " 'B': 1,\n",
       " 'C': 2,\n",
       " 'D': 3,\n",
       " 'E': 4,\n",
       " 'F': 5,\n",
       " 'G': 6,\n",
       " 'H': 7,\n",
       " 'I': 8,\n",
       " 'J': 9,\n",
       " 'K': 10,\n",
       " 'L': 11,\n",
       " 'M': 12,\n",
       " 'N': 13,\n",
       " 'O': 14,\n",
       " 'P': 15,\n",
       " 'Q': 16,\n",
       " 'R': 17,\n",
       " 'S': 18,\n",
       " 'T': 19,\n",
       " 'U': 20,\n",
       " 'V': 21,\n",
       " 'W': 22,\n",
       " 'X': 23,\n",
       " 'Y': 24,\n",
       " 'Z': 25}"
      ]
     },
     "execution_count": 12,
     "metadata": {},
     "output_type": "execute_result"
    }
   ],
   "source": [
    "label_map = {label:num for num, label in enumerate(actions)}\n",
    "label_map"
   ]
  },
  {
   "cell_type": "code",
   "execution_count": 13,
   "id": "7b4d65e2",
   "metadata": {
    "scrolled": false
   },
   "outputs": [],
   "source": [
    "sequences, labels = [], []\n",
    "for action in actions:\n",
    "    for sequence in range(no_sequences):\n",
    "        window = []\n",
    "        for frame_num in range(sequence_length):\n",
    "            res = np.load(os.path.join(DATA_PATH, action, str(sequence), \"{}.npy\".format(frame_num)))\n",
    "            window.append(res)\n",
    "        sequences.append(window)\n",
    "        labels.append(label_map[action])"
   ]
  },
  {
   "cell_type": "code",
   "execution_count": 14,
   "id": "17c51f1b",
   "metadata": {},
   "outputs": [],
   "source": [
    "X = np.array(sequences)\n",
    "y = to_categorical(labels).astype(int)"
   ]
  },
  {
   "cell_type": "code",
   "execution_count": 15,
   "id": "19fcd4ea",
   "metadata": {},
   "outputs": [
    {
     "data": {
      "text/plain": [
       "780"
      ]
     },
     "execution_count": 15,
     "metadata": {},
     "output_type": "execute_result"
    }
   ],
   "source": [
    "len(X)"
   ]
  },
  {
   "cell_type": "code",
   "execution_count": 16,
   "id": "f5774456",
   "metadata": {
    "scrolled": false
   },
   "outputs": [
    {
     "data": {
      "text/plain": [
       "780"
      ]
     },
     "execution_count": 16,
     "metadata": {},
     "output_type": "execute_result"
    }
   ],
   "source": [
    "len(y)"
   ]
  },
  {
   "cell_type": "code",
   "execution_count": 17,
   "id": "4098afde",
   "metadata": {},
   "outputs": [],
   "source": [
    "X = X.reshape((X.shape[0], X.shape[1], 42, 3))"
   ]
  },
  {
   "cell_type": "code",
   "execution_count": 18,
   "id": "f8620c6b",
   "metadata": {},
   "outputs": [],
   "source": [
    "X_train, X_test, y_train, y_test = train_test_split(X, y, test_size=0.2)"
   ]
  },
  {
   "cell_type": "code",
   "execution_count": 19,
   "id": "a86cfe2b",
   "metadata": {},
   "outputs": [
    {
     "data": {
      "text/plain": [
       "(624, 30, 42, 3)"
      ]
     },
     "execution_count": 19,
     "metadata": {},
     "output_type": "execute_result"
    }
   ],
   "source": [
    "X_train.shape"
   ]
  },
  {
   "cell_type": "code",
   "execution_count": 20,
   "id": "19d57590",
   "metadata": {},
   "outputs": [
    {
     "data": {
      "text/plain": [
       "(156, 30, 42, 3)"
      ]
     },
     "execution_count": 20,
     "metadata": {},
     "output_type": "execute_result"
    }
   ],
   "source": [
    "X_test.shape"
   ]
  },
  {
   "cell_type": "code",
   "execution_count": 21,
   "id": "672571a1",
   "metadata": {},
   "outputs": [
    {
     "data": {
      "text/plain": [
       "(624, 26)"
      ]
     },
     "execution_count": 21,
     "metadata": {},
     "output_type": "execute_result"
    }
   ],
   "source": [
    "y_train.shape"
   ]
  },
  {
   "cell_type": "code",
   "execution_count": 22,
   "id": "cc3d2b9e",
   "metadata": {},
   "outputs": [
    {
     "data": {
      "text/plain": [
       "(156, 26)"
      ]
     },
     "execution_count": 22,
     "metadata": {},
     "output_type": "execute_result"
    }
   ],
   "source": [
    "y_test.shape"
   ]
  },
  {
   "cell_type": "code",
   "execution_count": 23,
   "id": "6c5b0479",
   "metadata": {},
   "outputs": [],
   "source": [
    "# Step 7 - build and train lSTM NN\n",
    "from tensorflow.keras.models import Sequential\n",
    "from tensorflow.keras.layers import LSTM, Dense, Conv2D, MaxPool2D, Flatten, Dropout\n",
    "from tensorflow.keras.callbacks import TensorBoard, EarlyStopping"
   ]
  },
  {
   "cell_type": "code",
   "execution_count": 24,
   "id": "a3dba74d",
   "metadata": {},
   "outputs": [],
   "source": [
    "# Before running this, delete the Logs folder\n",
    "log_dir = os.path.join('Logs')\n",
    "tb_callback = TensorBoard(log_dir=log_dir)"
   ]
  },
  {
   "cell_type": "code",
   "execution_count": 25,
   "id": "9533039b",
   "metadata": {},
   "outputs": [],
   "source": [
    "from keras.models import load_model\n",
    "#model = load_model('weights_benchmark.h5')"
   ]
  },
  {
   "cell_type": "code",
   "execution_count": 92,
   "id": "493e3f91",
   "metadata": {},
   "outputs": [],
   "source": [
    "model = Sequential()\n",
    "\n",
    "model.add(Conv2D(filters=32, kernel_size=(3,3), activation='relu', padding = 'same', input_shape=X_train.shape[1:]))\n",
    "model.add(MaxPool2D(pool_size=(2,2), strides=None))\n",
    "\n",
    "model.add(Conv2D(filters=64, kernel_size=(3,3), activation='relu'))\n",
    "model.add(MaxPool2D(pool_size=(2,2), strides=None))\n",
    "\n",
    "model.add(Conv2D(filters=128, kernel_size=(3,3), activation='relu', padding = 'valid'))\n",
    "model.add(Conv2D(filters=256, kernel_size=(3,3), activation='relu', padding = 'valid'))\n",
    "\n",
    "model.add(MaxPool2D(pool_size=(2,2), strides=None))\n",
    "\n",
    "# model.add(MaxPool2D(pool_size=(2,2), strides=None))\n",
    "# #model.add(MaxPool1D(pool_size=3, strides=None))\n",
    "\n",
    "\n",
    "\n",
    "model.add(Flatten())\n",
    "\n",
    "model.add(Dense(128,activation =\"relu\"))\n",
    "model.add(Dropout(0.2))\n",
    "model.add(Dense(64,activation =\"relu\"))\n",
    "model.add(Dropout(0.2))\n",
    "#model.add(Dense(128,activation =\"relu\"))\n",
    "#model.add(Dropout(0.2))\n",
    "#model.add(Dense(128,activation =\"relu\"))\n",
    "#model.add(Dropout(0.3))\n",
    "model.add(Dense(actions.shape[0],activation =\"softmax\"))"
   ]
  },
  {
   "cell_type": "code",
   "execution_count": 93,
   "id": "0e85302e",
   "metadata": {},
   "outputs": [
    {
     "name": "stdout",
     "output_type": "stream",
     "text": [
      "Model: \"sequential_11\"\n",
      "_________________________________________________________________\n",
      " Layer (type)                Output Shape              Param #   \n",
      "=================================================================\n",
      " conv2d_44 (Conv2D)          (None, 30, 42, 32)        896       \n",
      "                                                                 \n",
      " max_pooling2d_33 (MaxPoolin  (None, 15, 21, 32)       0         \n",
      " g2D)                                                            \n",
      "                                                                 \n",
      " conv2d_45 (Conv2D)          (None, 13, 19, 64)        18496     \n",
      "                                                                 \n",
      " max_pooling2d_34 (MaxPoolin  (None, 6, 9, 64)         0         \n",
      " g2D)                                                            \n",
      "                                                                 \n",
      " conv2d_46 (Conv2D)          (None, 4, 7, 128)         73856     \n",
      "                                                                 \n",
      " conv2d_47 (Conv2D)          (None, 2, 5, 256)         295168    \n",
      "                                                                 \n",
      " max_pooling2d_35 (MaxPoolin  (None, 1, 2, 256)        0         \n",
      " g2D)                                                            \n",
      "                                                                 \n",
      " flatten_11 (Flatten)        (None, 512)               0         \n",
      "                                                                 \n",
      " dense_33 (Dense)            (None, 128)               65664     \n",
      "                                                                 \n",
      " dropout_22 (Dropout)        (None, 128)               0         \n",
      "                                                                 \n",
      " dense_34 (Dense)            (None, 64)                8256      \n",
      "                                                                 \n",
      " dropout_23 (Dropout)        (None, 64)                0         \n",
      "                                                                 \n",
      " dense_35 (Dense)            (None, 26)                1690      \n",
      "                                                                 \n",
      "=================================================================\n",
      "Total params: 464,026\n",
      "Trainable params: 464,026\n",
      "Non-trainable params: 0\n",
      "_________________________________________________________________\n"
     ]
    }
   ],
   "source": [
    "model.summary()"
   ]
  },
  {
   "cell_type": "code",
   "execution_count": 94,
   "id": "a5bbb03d",
   "metadata": {},
   "outputs": [],
   "source": [
    "model.compile(optimizer='Adam', loss='categorical_crossentropy', metrics=['categorical_accuracy'])"
   ]
  },
  {
   "cell_type": "code",
   "execution_count": 95,
   "id": "912211ea",
   "metadata": {},
   "outputs": [
    {
     "name": "stdout",
     "output_type": "stream",
     "text": [
      "Epoch 1/500\n",
      "16/16 [==============================] - 1s 31ms/step - loss: 3.2475 - categorical_accuracy: 0.0521 - val_loss: 3.2122 - val_categorical_accuracy: 0.0560\n",
      "Epoch 2/500\n",
      "16/16 [==============================] - 0s 21ms/step - loss: 3.1092 - categorical_accuracy: 0.0581 - val_loss: 3.0203 - val_categorical_accuracy: 0.1120\n",
      "Epoch 3/500\n",
      "16/16 [==============================] - 0s 20ms/step - loss: 2.8986 - categorical_accuracy: 0.1283 - val_loss: 2.7467 - val_categorical_accuracy: 0.1600\n",
      "Epoch 4/500\n",
      "16/16 [==============================] - 0s 21ms/step - loss: 2.7108 - categorical_accuracy: 0.1663 - val_loss: 2.6040 - val_categorical_accuracy: 0.1840\n",
      "Epoch 5/500\n",
      "16/16 [==============================] - 0s 20ms/step - loss: 2.4825 - categorical_accuracy: 0.2184 - val_loss: 2.2615 - val_categorical_accuracy: 0.2720\n",
      "Epoch 6/500\n",
      "16/16 [==============================] - 0s 20ms/step - loss: 2.3307 - categorical_accuracy: 0.2705 - val_loss: 2.2400 - val_categorical_accuracy: 0.2800\n",
      "Epoch 7/500\n",
      "16/16 [==============================] - 0s 21ms/step - loss: 2.1413 - categorical_accuracy: 0.3106 - val_loss: 1.9760 - val_categorical_accuracy: 0.3920\n",
      "Epoch 8/500\n",
      "16/16 [==============================] - 0s 21ms/step - loss: 1.9459 - categorical_accuracy: 0.3427 - val_loss: 1.8184 - val_categorical_accuracy: 0.4560\n",
      "Epoch 9/500\n",
      "16/16 [==============================] - 0s 20ms/step - loss: 1.7528 - categorical_accuracy: 0.4248 - val_loss: 1.5231 - val_categorical_accuracy: 0.5280\n",
      "Epoch 10/500\n",
      "16/16 [==============================] - 0s 20ms/step - loss: 1.6780 - categorical_accuracy: 0.4449 - val_loss: 1.5754 - val_categorical_accuracy: 0.5360\n",
      "Epoch 11/500\n",
      "16/16 [==============================] - 0s 21ms/step - loss: 1.6422 - categorical_accuracy: 0.4469 - val_loss: 1.4479 - val_categorical_accuracy: 0.5200\n",
      "Epoch 12/500\n",
      "16/16 [==============================] - 0s 20ms/step - loss: 1.4330 - categorical_accuracy: 0.4950 - val_loss: 1.3384 - val_categorical_accuracy: 0.6080\n",
      "Epoch 13/500\n",
      "16/16 [==============================] - 0s 20ms/step - loss: 1.3848 - categorical_accuracy: 0.5210 - val_loss: 1.2278 - val_categorical_accuracy: 0.6320\n",
      "Epoch 14/500\n",
      "16/16 [==============================] - 0s 20ms/step - loss: 1.2932 - categorical_accuracy: 0.5611 - val_loss: 1.2388 - val_categorical_accuracy: 0.6400\n",
      "Epoch 15/500\n",
      "16/16 [==============================] - 0s 20ms/step - loss: 1.1980 - categorical_accuracy: 0.6052 - val_loss: 1.0343 - val_categorical_accuracy: 0.6800\n",
      "Epoch 16/500\n",
      "16/16 [==============================] - 0s 20ms/step - loss: 0.9863 - categorical_accuracy: 0.6513 - val_loss: 1.0302 - val_categorical_accuracy: 0.6800\n",
      "Epoch 17/500\n",
      "16/16 [==============================] - 0s 20ms/step - loss: 1.0268 - categorical_accuracy: 0.6192 - val_loss: 1.0286 - val_categorical_accuracy: 0.7360\n",
      "Epoch 18/500\n",
      "16/16 [==============================] - 0s 20ms/step - loss: 0.9012 - categorical_accuracy: 0.7134 - val_loss: 1.2452 - val_categorical_accuracy: 0.6000\n",
      "Epoch 19/500\n",
      "16/16 [==============================] - 0s 20ms/step - loss: 0.8256 - categorical_accuracy: 0.7214 - val_loss: 0.9261 - val_categorical_accuracy: 0.6800\n",
      "Epoch 20/500\n",
      "16/16 [==============================] - 0s 21ms/step - loss: 0.7729 - categorical_accuracy: 0.7395 - val_loss: 0.9887 - val_categorical_accuracy: 0.7120\n",
      "Epoch 21/500\n",
      "16/16 [==============================] - 0s 20ms/step - loss: 0.7832 - categorical_accuracy: 0.7335 - val_loss: 0.9635 - val_categorical_accuracy: 0.6880\n",
      "Epoch 22/500\n",
      "16/16 [==============================] - 0s 20ms/step - loss: 0.6351 - categorical_accuracy: 0.8016 - val_loss: 0.7652 - val_categorical_accuracy: 0.7520\n",
      "Epoch 23/500\n",
      "16/16 [==============================] - 0s 20ms/step - loss: 0.6218 - categorical_accuracy: 0.7976 - val_loss: 0.8198 - val_categorical_accuracy: 0.7280\n",
      "Epoch 24/500\n",
      "16/16 [==============================] - 0s 20ms/step - loss: 0.5943 - categorical_accuracy: 0.8116 - val_loss: 0.7940 - val_categorical_accuracy: 0.7600\n",
      "Epoch 25/500\n",
      "16/16 [==============================] - 0s 21ms/step - loss: 0.4864 - categorical_accuracy: 0.8277 - val_loss: 0.7994 - val_categorical_accuracy: 0.7520\n",
      "Epoch 26/500\n",
      "16/16 [==============================] - 0s 20ms/step - loss: 0.4459 - categorical_accuracy: 0.8457 - val_loss: 0.7509 - val_categorical_accuracy: 0.7920\n",
      "Epoch 27/500\n",
      "16/16 [==============================] - 0s 20ms/step - loss: 0.4530 - categorical_accuracy: 0.8417 - val_loss: 0.8674 - val_categorical_accuracy: 0.7520\n",
      "Epoch 28/500\n",
      "16/16 [==============================] - 0s 22ms/step - loss: 0.4284 - categorical_accuracy: 0.8557 - val_loss: 0.7769 - val_categorical_accuracy: 0.8240\n",
      "Epoch 29/500\n",
      "16/16 [==============================] - 0s 24ms/step - loss: 0.3493 - categorical_accuracy: 0.8677 - val_loss: 0.6309 - val_categorical_accuracy: 0.8080\n",
      "Epoch 30/500\n",
      "16/16 [==============================] - 0s 26ms/step - loss: 0.3448 - categorical_accuracy: 0.8778 - val_loss: 0.5794 - val_categorical_accuracy: 0.8080\n",
      "Epoch 31/500\n",
      "16/16 [==============================] - 0s 25ms/step - loss: 0.3490 - categorical_accuracy: 0.8717 - val_loss: 0.6707 - val_categorical_accuracy: 0.8320\n",
      "Epoch 32/500\n",
      "16/16 [==============================] - 0s 28ms/step - loss: 0.3852 - categorical_accuracy: 0.8818 - val_loss: 0.8038 - val_categorical_accuracy: 0.7920\n",
      "Epoch 33/500\n",
      "16/16 [==============================] - 0s 25ms/step - loss: 0.3028 - categorical_accuracy: 0.8958 - val_loss: 0.6634 - val_categorical_accuracy: 0.8080\n",
      "Epoch 34/500\n",
      "16/16 [==============================] - 0s 25ms/step - loss: 0.2722 - categorical_accuracy: 0.8998 - val_loss: 0.5684 - val_categorical_accuracy: 0.8400\n",
      "Epoch 35/500\n",
      "16/16 [==============================] - 0s 24ms/step - loss: 0.2023 - categorical_accuracy: 0.9319 - val_loss: 0.5535 - val_categorical_accuracy: 0.8240\n",
      "Epoch 36/500\n",
      "16/16 [==============================] - 0s 24ms/step - loss: 0.3022 - categorical_accuracy: 0.8998 - val_loss: 0.5107 - val_categorical_accuracy: 0.8560\n",
      "Epoch 37/500\n",
      "16/16 [==============================] - 0s 24ms/step - loss: 0.2509 - categorical_accuracy: 0.9078 - val_loss: 0.5158 - val_categorical_accuracy: 0.8640\n",
      "Epoch 38/500\n",
      "16/16 [==============================] - 0s 24ms/step - loss: 0.2114 - categorical_accuracy: 0.9339 - val_loss: 0.4503 - val_categorical_accuracy: 0.8560\n",
      "Epoch 39/500\n",
      "16/16 [==============================] - 0s 24ms/step - loss: 0.2293 - categorical_accuracy: 0.9218 - val_loss: 0.4555 - val_categorical_accuracy: 0.8880\n",
      "Epoch 40/500\n",
      "16/16 [==============================] - 0s 24ms/step - loss: 0.2513 - categorical_accuracy: 0.9098 - val_loss: 0.5077 - val_categorical_accuracy: 0.8640\n",
      "Epoch 41/500\n",
      "16/16 [==============================] - 0s 23ms/step - loss: 0.2000 - categorical_accuracy: 0.9359 - val_loss: 0.5336 - val_categorical_accuracy: 0.8480\n",
      "Epoch 42/500\n",
      "16/16 [==============================] - 0s 24ms/step - loss: 0.2166 - categorical_accuracy: 0.9359 - val_loss: 0.4570 - val_categorical_accuracy: 0.8800\n",
      "Epoch 43/500\n",
      "16/16 [==============================] - 0s 23ms/step - loss: 0.2254 - categorical_accuracy: 0.9299 - val_loss: 0.6701 - val_categorical_accuracy: 0.8320\n",
      "Epoch 44/500\n",
      "16/16 [==============================] - 0s 23ms/step - loss: 0.1902 - categorical_accuracy: 0.9299 - val_loss: 0.6128 - val_categorical_accuracy: 0.8400\n",
      "Epoch 45/500\n",
      "16/16 [==============================] - 0s 24ms/step - loss: 0.1618 - categorical_accuracy: 0.9539 - val_loss: 0.4796 - val_categorical_accuracy: 0.8880\n",
      "Epoch 46/500\n",
      "16/16 [==============================] - 0s 23ms/step - loss: 0.1868 - categorical_accuracy: 0.9459 - val_loss: 0.4433 - val_categorical_accuracy: 0.8560\n",
      "Epoch 47/500\n",
      "16/16 [==============================] - 0s 24ms/step - loss: 0.1697 - categorical_accuracy: 0.9439 - val_loss: 0.4158 - val_categorical_accuracy: 0.8800\n",
      "Epoch 48/500\n",
      "16/16 [==============================] - 0s 23ms/step - loss: 0.1299 - categorical_accuracy: 0.9519 - val_loss: 0.4668 - val_categorical_accuracy: 0.8560\n",
      "Epoch 49/500\n",
      "16/16 [==============================] - 0s 24ms/step - loss: 0.1445 - categorical_accuracy: 0.9539 - val_loss: 0.4800 - val_categorical_accuracy: 0.8560\n",
      "Epoch 50/500\n",
      "16/16 [==============================] - 0s 24ms/step - loss: 0.1038 - categorical_accuracy: 0.9679 - val_loss: 0.4578 - val_categorical_accuracy: 0.8880\n",
      "Epoch 51/500\n",
      "16/16 [==============================] - 0s 23ms/step - loss: 0.0794 - categorical_accuracy: 0.9719 - val_loss: 0.4140 - val_categorical_accuracy: 0.8880\n",
      "Epoch 52/500\n",
      "16/16 [==============================] - 0s 23ms/step - loss: 0.1292 - categorical_accuracy: 0.9479 - val_loss: 0.4559 - val_categorical_accuracy: 0.8800\n",
      "Epoch 53/500\n",
      "16/16 [==============================] - 0s 23ms/step - loss: 0.1673 - categorical_accuracy: 0.9399 - val_loss: 0.6380 - val_categorical_accuracy: 0.7920\n",
      "Epoch 54/500\n",
      "16/16 [==============================] - 0s 24ms/step - loss: 0.1559 - categorical_accuracy: 0.9479 - val_loss: 0.5107 - val_categorical_accuracy: 0.8640\n",
      "Epoch 55/500\n",
      "16/16 [==============================] - 0s 23ms/step - loss: 0.1474 - categorical_accuracy: 0.9479 - val_loss: 0.3082 - val_categorical_accuracy: 0.9040\n",
      "Epoch 56/500\n",
      "16/16 [==============================] - 0s 23ms/step - loss: 0.1121 - categorical_accuracy: 0.9639 - val_loss: 0.4276 - val_categorical_accuracy: 0.8880\n",
      "Epoch 57/500\n",
      "16/16 [==============================] - 0s 23ms/step - loss: 0.0877 - categorical_accuracy: 0.9739 - val_loss: 0.4421 - val_categorical_accuracy: 0.8800\n",
      "Epoch 58/500\n",
      "16/16 [==============================] - 0s 24ms/step - loss: 0.0617 - categorical_accuracy: 0.9780 - val_loss: 0.5073 - val_categorical_accuracy: 0.9040\n",
      "Epoch 59/500\n",
      "16/16 [==============================] - 0s 23ms/step - loss: 0.0848 - categorical_accuracy: 0.9719 - val_loss: 0.3554 - val_categorical_accuracy: 0.9040\n",
      "Epoch 60/500\n",
      "16/16 [==============================] - 0s 23ms/step - loss: 0.0995 - categorical_accuracy: 0.9639 - val_loss: 0.4408 - val_categorical_accuracy: 0.8800\n",
      "Epoch 61/500\n",
      "16/16 [==============================] - 0s 24ms/step - loss: 0.0907 - categorical_accuracy: 0.9739 - val_loss: 0.5162 - val_categorical_accuracy: 0.8960\n",
      "Epoch 62/500\n",
      "16/16 [==============================] - 0s 24ms/step - loss: 0.1083 - categorical_accuracy: 0.9619 - val_loss: 0.6076 - val_categorical_accuracy: 0.8560\n",
      "Epoch 63/500\n",
      "16/16 [==============================] - 0s 25ms/step - loss: 0.1135 - categorical_accuracy: 0.9619 - val_loss: 0.4403 - val_categorical_accuracy: 0.9040\n",
      "Epoch 64/500\n",
      "16/16 [==============================] - 0s 23ms/step - loss: 0.1277 - categorical_accuracy: 0.9579 - val_loss: 0.5126 - val_categorical_accuracy: 0.8720\n",
      "Epoch 65/500\n",
      "16/16 [==============================] - 0s 23ms/step - loss: 0.1055 - categorical_accuracy: 0.9659 - val_loss: 0.5790 - val_categorical_accuracy: 0.8480\n",
      "Epoch 66/500\n",
      "16/16 [==============================] - 0s 23ms/step - loss: 0.0874 - categorical_accuracy: 0.9719 - val_loss: 0.3885 - val_categorical_accuracy: 0.9120\n",
      "Epoch 67/500\n",
      "16/16 [==============================] - 0s 23ms/step - loss: 0.1015 - categorical_accuracy: 0.9659 - val_loss: 0.4458 - val_categorical_accuracy: 0.8960\n",
      "Epoch 68/500\n",
      "16/16 [==============================] - 0s 23ms/step - loss: 0.0689 - categorical_accuracy: 0.9820 - val_loss: 0.3808 - val_categorical_accuracy: 0.9120\n",
      "Epoch 69/500\n",
      "16/16 [==============================] - 0s 23ms/step - loss: 0.0547 - categorical_accuracy: 0.9880 - val_loss: 0.3256 - val_categorical_accuracy: 0.9120\n",
      "Epoch 70/500\n",
      "16/16 [==============================] - 0s 23ms/step - loss: 0.0722 - categorical_accuracy: 0.9739 - val_loss: 0.3561 - val_categorical_accuracy: 0.9040\n",
      "Epoch 71/500\n",
      "16/16 [==============================] - 0s 23ms/step - loss: 0.0317 - categorical_accuracy: 0.9900 - val_loss: 0.6139 - val_categorical_accuracy: 0.9120\n",
      "Epoch 72/500\n",
      "16/16 [==============================] - 0s 23ms/step - loss: 0.0738 - categorical_accuracy: 0.9719 - val_loss: 0.6684 - val_categorical_accuracy: 0.8800\n",
      "Epoch 73/500\n",
      "16/16 [==============================] - 0s 24ms/step - loss: 0.1542 - categorical_accuracy: 0.9519 - val_loss: 0.4450 - val_categorical_accuracy: 0.8640\n",
      "Epoch 74/500\n",
      "16/16 [==============================] - 0s 23ms/step - loss: 0.1512 - categorical_accuracy: 0.9479 - val_loss: 0.4483 - val_categorical_accuracy: 0.9120\n",
      "Epoch 75/500\n",
      "16/16 [==============================] - 0s 24ms/step - loss: 0.1370 - categorical_accuracy: 0.9519 - val_loss: 0.5177 - val_categorical_accuracy: 0.8400\n",
      "Epoch 76/500\n",
      "16/16 [==============================] - 0s 24ms/step - loss: 0.0742 - categorical_accuracy: 0.9679 - val_loss: 0.4206 - val_categorical_accuracy: 0.8800\n",
      "Epoch 77/500\n",
      "16/16 [==============================] - 0s 23ms/step - loss: 0.0636 - categorical_accuracy: 0.9840 - val_loss: 0.4832 - val_categorical_accuracy: 0.8720\n",
      "Epoch 78/500\n",
      "16/16 [==============================] - 0s 23ms/step - loss: 0.1349 - categorical_accuracy: 0.9559 - val_loss: 0.4973 - val_categorical_accuracy: 0.8560\n",
      "Epoch 79/500\n",
      "16/16 [==============================] - 0s 23ms/step - loss: 0.3253 - categorical_accuracy: 0.9178 - val_loss: 0.5396 - val_categorical_accuracy: 0.8640\n",
      "Epoch 80/500\n",
      "16/16 [==============================] - 0s 23ms/step - loss: 0.1753 - categorical_accuracy: 0.9459 - val_loss: 0.5891 - val_categorical_accuracy: 0.8640\n",
      "Epoch 81/500\n",
      "16/16 [==============================] - 0s 23ms/step - loss: 0.0952 - categorical_accuracy: 0.9699 - val_loss: 0.4439 - val_categorical_accuracy: 0.8960\n",
      "Epoch 82/500\n",
      "16/16 [==============================] - 0s 23ms/step - loss: 0.0567 - categorical_accuracy: 0.9780 - val_loss: 0.4531 - val_categorical_accuracy: 0.8960\n",
      "Epoch 83/500\n",
      "16/16 [==============================] - 0s 24ms/step - loss: 0.0467 - categorical_accuracy: 0.9880 - val_loss: 0.6028 - val_categorical_accuracy: 0.9040\n",
      "Epoch 84/500\n",
      "16/16 [==============================] - 0s 24ms/step - loss: 0.0609 - categorical_accuracy: 0.9760 - val_loss: 0.6528 - val_categorical_accuracy: 0.8960\n",
      "Epoch 85/500\n",
      "16/16 [==============================] - 0s 23ms/step - loss: 0.0524 - categorical_accuracy: 0.9840 - val_loss: 0.4571 - val_categorical_accuracy: 0.9120\n",
      "Epoch 86/500\n",
      "16/16 [==============================] - 0s 23ms/step - loss: 0.0529 - categorical_accuracy: 0.9780 - val_loss: 0.4682 - val_categorical_accuracy: 0.8880\n",
      "Epoch 87/500\n",
      "16/16 [==============================] - 0s 23ms/step - loss: 0.0498 - categorical_accuracy: 0.9840 - val_loss: 0.3125 - val_categorical_accuracy: 0.9360\n",
      "Epoch 88/500\n",
      "16/16 [==============================] - 0s 24ms/step - loss: 0.0493 - categorical_accuracy: 0.9820 - val_loss: 0.3858 - val_categorical_accuracy: 0.8880\n",
      "Epoch 89/500\n",
      "16/16 [==============================] - 0s 24ms/step - loss: 0.0382 - categorical_accuracy: 0.9860 - val_loss: 0.3323 - val_categorical_accuracy: 0.9200\n",
      "Epoch 90/500\n",
      "16/16 [==============================] - 0s 23ms/step - loss: 0.0240 - categorical_accuracy: 0.9940 - val_loss: 0.3582 - val_categorical_accuracy: 0.9200\n",
      "Epoch 91/500\n",
      "16/16 [==============================] - 0s 24ms/step - loss: 0.0255 - categorical_accuracy: 0.9940 - val_loss: 0.4164 - val_categorical_accuracy: 0.9040\n",
      "Epoch 92/500\n",
      "16/16 [==============================] - 0s 23ms/step - loss: 0.0287 - categorical_accuracy: 0.9900 - val_loss: 0.3229 - val_categorical_accuracy: 0.9200\n",
      "Epoch 93/500\n",
      "16/16 [==============================] - 0s 23ms/step - loss: 0.0282 - categorical_accuracy: 0.9900 - val_loss: 0.4234 - val_categorical_accuracy: 0.8800\n",
      "Epoch 94/500\n",
      "16/16 [==============================] - 0s 23ms/step - loss: 0.0824 - categorical_accuracy: 0.9739 - val_loss: 0.5510 - val_categorical_accuracy: 0.9200\n",
      "Epoch 95/500\n",
      "16/16 [==============================] - 0s 24ms/step - loss: 0.0753 - categorical_accuracy: 0.9719 - val_loss: 0.4949 - val_categorical_accuracy: 0.8800\n",
      "Epoch 96/500\n",
      "16/16 [==============================] - 0s 24ms/step - loss: 0.0726 - categorical_accuracy: 0.9780 - val_loss: 0.4405 - val_categorical_accuracy: 0.8640\n",
      "Epoch 97/500\n",
      "16/16 [==============================] - 0s 24ms/step - loss: 0.0898 - categorical_accuracy: 0.9599 - val_loss: 0.3901 - val_categorical_accuracy: 0.9120\n",
      "Epoch 98/500\n",
      "16/16 [==============================] - 0s 24ms/step - loss: 0.0353 - categorical_accuracy: 0.9920 - val_loss: 0.3887 - val_categorical_accuracy: 0.9040\n",
      "Epoch 99/500\n"
     ]
    },
    {
     "name": "stdout",
     "output_type": "stream",
     "text": [
      "16/16 [==============================] - 0s 25ms/step - loss: 0.0431 - categorical_accuracy: 0.9820 - val_loss: 0.4397 - val_categorical_accuracy: 0.9040\n",
      "Epoch 100/500\n",
      "16/16 [==============================] - 0s 23ms/step - loss: 0.0473 - categorical_accuracy: 0.9880 - val_loss: 0.6652 - val_categorical_accuracy: 0.8880\n",
      "Epoch 101/500\n",
      "16/16 [==============================] - 0s 23ms/step - loss: 0.0962 - categorical_accuracy: 0.9659 - val_loss: 0.5361 - val_categorical_accuracy: 0.8960\n",
      "Epoch 102/500\n",
      "16/16 [==============================] - 0s 23ms/step - loss: 0.0635 - categorical_accuracy: 0.9800 - val_loss: 0.5507 - val_categorical_accuracy: 0.9040\n",
      "Epoch 103/500\n",
      "16/16 [==============================] - 0s 23ms/step - loss: 0.0756 - categorical_accuracy: 0.9760 - val_loss: 0.5048 - val_categorical_accuracy: 0.8720\n",
      "Epoch 104/500\n",
      "16/16 [==============================] - 0s 24ms/step - loss: 0.1486 - categorical_accuracy: 0.9659 - val_loss: 0.5270 - val_categorical_accuracy: 0.8640\n",
      "Epoch 105/500\n",
      "16/16 [==============================] - 0s 23ms/step - loss: 0.0892 - categorical_accuracy: 0.9719 - val_loss: 0.4941 - val_categorical_accuracy: 0.8880\n",
      "Epoch 106/500\n",
      "16/16 [==============================] - 0s 23ms/step - loss: 0.1098 - categorical_accuracy: 0.9679 - val_loss: 0.4656 - val_categorical_accuracy: 0.8800\n",
      "Epoch 107/500\n",
      "16/16 [==============================] - 0s 23ms/step - loss: 0.0495 - categorical_accuracy: 0.9800 - val_loss: 0.4933 - val_categorical_accuracy: 0.9120\n",
      "Epoch 108/500\n",
      "16/16 [==============================] - 0s 24ms/step - loss: 0.0405 - categorical_accuracy: 0.9860 - val_loss: 0.4032 - val_categorical_accuracy: 0.9280\n",
      "Epoch 109/500\n",
      "16/16 [==============================] - 0s 23ms/step - loss: 0.0495 - categorical_accuracy: 0.9880 - val_loss: 0.4337 - val_categorical_accuracy: 0.9200\n",
      "Epoch 110/500\n",
      "16/16 [==============================] - 0s 24ms/step - loss: 0.0326 - categorical_accuracy: 0.9920 - val_loss: 0.4151 - val_categorical_accuracy: 0.9200\n",
      "Epoch 111/500\n",
      "16/16 [==============================] - 0s 23ms/step - loss: 0.0219 - categorical_accuracy: 0.9940 - val_loss: 0.4693 - val_categorical_accuracy: 0.9280\n",
      "Epoch 112/500\n",
      "16/16 [==============================] - 0s 23ms/step - loss: 0.0287 - categorical_accuracy: 0.9920 - val_loss: 0.4498 - val_categorical_accuracy: 0.9280\n",
      "Epoch 113/500\n",
      "16/16 [==============================] - 0s 23ms/step - loss: 0.0228 - categorical_accuracy: 0.9900 - val_loss: 0.6062 - val_categorical_accuracy: 0.8880\n",
      "Epoch 114/500\n",
      "16/16 [==============================] - 0s 24ms/step - loss: 0.0184 - categorical_accuracy: 0.9940 - val_loss: 0.5807 - val_categorical_accuracy: 0.8800\n",
      "Epoch 115/500\n",
      "16/16 [==============================] - 0s 24ms/step - loss: 0.0281 - categorical_accuracy: 0.9960 - val_loss: 0.5351 - val_categorical_accuracy: 0.8880\n",
      "Epoch 116/500\n",
      "16/16 [==============================] - 0s 23ms/step - loss: 0.0708 - categorical_accuracy: 0.9739 - val_loss: 0.6899 - val_categorical_accuracy: 0.8800\n",
      "Epoch 117/500\n",
      "16/16 [==============================] - 0s 24ms/step - loss: 0.0888 - categorical_accuracy: 0.9760 - val_loss: 0.6253 - val_categorical_accuracy: 0.8880\n",
      "Epoch 118/500\n",
      "16/16 [==============================] - 0s 24ms/step - loss: 0.0612 - categorical_accuracy: 0.9800 - val_loss: 0.4626 - val_categorical_accuracy: 0.9040\n",
      "Epoch 119/500\n",
      "16/16 [==============================] - 0s 24ms/step - loss: 0.1694 - categorical_accuracy: 0.9579 - val_loss: 0.4978 - val_categorical_accuracy: 0.8480\n",
      "Epoch 120/500\n",
      "16/16 [==============================] - 0s 23ms/step - loss: 0.1658 - categorical_accuracy: 0.9499 - val_loss: 0.5671 - val_categorical_accuracy: 0.8560\n",
      "Epoch 121/500\n",
      "16/16 [==============================] - 0s 26ms/step - loss: 0.0959 - categorical_accuracy: 0.9679 - val_loss: 0.5925 - val_categorical_accuracy: 0.8640\n",
      "Epoch 122/500\n",
      "16/16 [==============================] - 0s 25ms/step - loss: 0.0973 - categorical_accuracy: 0.9699 - val_loss: 0.5635 - val_categorical_accuracy: 0.8720\n",
      "Epoch 123/500\n",
      "16/16 [==============================] - 0s 24ms/step - loss: 0.0538 - categorical_accuracy: 0.9880 - val_loss: 0.4671 - val_categorical_accuracy: 0.9040\n",
      "Epoch 124/500\n",
      "16/16 [==============================] - 0s 25ms/step - loss: 0.0359 - categorical_accuracy: 0.9860 - val_loss: 0.4077 - val_categorical_accuracy: 0.8960\n",
      "Epoch 125/500\n",
      "16/16 [==============================] - 0s 24ms/step - loss: 0.0334 - categorical_accuracy: 0.9880 - val_loss: 0.3503 - val_categorical_accuracy: 0.9200\n",
      "Epoch 126/500\n",
      "16/16 [==============================] - 0s 24ms/step - loss: 0.0371 - categorical_accuracy: 0.9920 - val_loss: 0.3708 - val_categorical_accuracy: 0.9360\n",
      "Epoch 127/500\n",
      "16/16 [==============================] - 0s 24ms/step - loss: 0.1005 - categorical_accuracy: 0.9679 - val_loss: 0.3815 - val_categorical_accuracy: 0.9040\n",
      "Epoch 128/500\n",
      "16/16 [==============================] - 0s 23ms/step - loss: 0.1558 - categorical_accuracy: 0.9539 - val_loss: 0.3788 - val_categorical_accuracy: 0.8880\n",
      "Epoch 129/500\n",
      "16/16 [==============================] - 0s 27ms/step - loss: 0.0587 - categorical_accuracy: 0.9840 - val_loss: 0.4914 - val_categorical_accuracy: 0.8880\n",
      "Epoch 130/500\n",
      "16/16 [==============================] - 0s 24ms/step - loss: 0.0159 - categorical_accuracy: 0.9980 - val_loss: 0.3378 - val_categorical_accuracy: 0.9120\n",
      "Epoch 131/500\n",
      "16/16 [==============================] - 0s 23ms/step - loss: 0.0250 - categorical_accuracy: 0.9880 - val_loss: 0.3231 - val_categorical_accuracy: 0.9200\n",
      "Epoch 132/500\n",
      "16/16 [==============================] - 0s 23ms/step - loss: 0.0229 - categorical_accuracy: 0.9920 - val_loss: 0.3985 - val_categorical_accuracy: 0.9040\n",
      "Epoch 133/500\n",
      "16/16 [==============================] - 0s 24ms/step - loss: 0.0260 - categorical_accuracy: 0.9880 - val_loss: 0.4329 - val_categorical_accuracy: 0.9200\n",
      "Epoch 134/500\n",
      "16/16 [==============================] - 0s 24ms/step - loss: 0.0108 - categorical_accuracy: 0.9940 - val_loss: 0.3308 - val_categorical_accuracy: 0.9360\n",
      "Epoch 135/500\n",
      "16/16 [==============================] - 0s 24ms/step - loss: 0.0087 - categorical_accuracy: 0.9980 - val_loss: 0.3311 - val_categorical_accuracy: 0.9360\n",
      "Epoch 136/500\n",
      "16/16 [==============================] - 0s 24ms/step - loss: 0.0048 - categorical_accuracy: 1.0000 - val_loss: 0.3726 - val_categorical_accuracy: 0.9360\n",
      "Epoch 137/500\n",
      "16/16 [==============================] - 0s 24ms/step - loss: 0.0163 - categorical_accuracy: 0.9920 - val_loss: 0.4082 - val_categorical_accuracy: 0.9200\n",
      "Epoch 138/500\n",
      "16/16 [==============================] - 0s 24ms/step - loss: 0.0080 - categorical_accuracy: 0.9960 - val_loss: 0.2995 - val_categorical_accuracy: 0.9440\n",
      "Epoch 139/500\n",
      "16/16 [==============================] - 0s 23ms/step - loss: 0.0057 - categorical_accuracy: 1.0000 - val_loss: 0.2767 - val_categorical_accuracy: 0.9600\n",
      "Epoch 140/500\n",
      "16/16 [==============================] - 0s 23ms/step - loss: 0.0092 - categorical_accuracy: 0.9980 - val_loss: 0.2851 - val_categorical_accuracy: 0.9440\n",
      "Epoch 141/500\n",
      "16/16 [==============================] - 0s 23ms/step - loss: 0.0198 - categorical_accuracy: 0.9960 - val_loss: 0.5407 - val_categorical_accuracy: 0.9200\n",
      "Epoch 142/500\n",
      "16/16 [==============================] - 0s 23ms/step - loss: 0.0089 - categorical_accuracy: 0.9980 - val_loss: 0.3832 - val_categorical_accuracy: 0.9120\n",
      "Epoch 143/500\n",
      "16/16 [==============================] - 0s 24ms/step - loss: 0.0041 - categorical_accuracy: 1.0000 - val_loss: 0.3489 - val_categorical_accuracy: 0.9200\n",
      "Epoch 144/500\n",
      "16/16 [==============================] - 0s 23ms/step - loss: 0.0166 - categorical_accuracy: 0.9920 - val_loss: 0.3265 - val_categorical_accuracy: 0.9200\n",
      "Epoch 145/500\n",
      "16/16 [==============================] - 0s 23ms/step - loss: 0.0555 - categorical_accuracy: 0.9900 - val_loss: 0.5894 - val_categorical_accuracy: 0.8960\n",
      "Epoch 146/500\n",
      "16/16 [==============================] - 0s 23ms/step - loss: 0.0752 - categorical_accuracy: 0.9880 - val_loss: 0.5721 - val_categorical_accuracy: 0.8720\n",
      "Epoch 147/500\n",
      "16/16 [==============================] - 0s 23ms/step - loss: 0.0835 - categorical_accuracy: 0.9780 - val_loss: 0.5275 - val_categorical_accuracy: 0.8880\n"
     ]
    },
    {
     "name": "stdout",
     "output_type": "stream",
     "text": [
      "Epoch 148/500\n",
      "16/16 [==============================] - 0s 23ms/step - loss: 0.0399 - categorical_accuracy: 0.9900 - val_loss: 0.3072 - val_categorical_accuracy: 0.9200\n",
      "Epoch 149/500\n",
      "16/16 [==============================] - 0s 21ms/step - loss: 0.0424 - categorical_accuracy: 0.9880 - val_loss: 0.6761 - val_categorical_accuracy: 0.8960\n",
      "Epoch 150/500\n",
      "16/16 [==============================] - 0s 21ms/step - loss: 0.0233 - categorical_accuracy: 0.9920 - val_loss: 0.6400 - val_categorical_accuracy: 0.8800\n",
      "Epoch 151/500\n",
      "16/16 [==============================] - 0s 22ms/step - loss: 0.0204 - categorical_accuracy: 0.9920 - val_loss: 0.3635 - val_categorical_accuracy: 0.9280\n",
      "Epoch 152/500\n",
      "16/16 [==============================] - 0s 21ms/step - loss: 0.0143 - categorical_accuracy: 0.9980 - val_loss: 0.5007 - val_categorical_accuracy: 0.9200\n",
      "Epoch 153/500\n",
      "16/16 [==============================] - 0s 21ms/step - loss: 0.0201 - categorical_accuracy: 0.9900 - val_loss: 0.4654 - val_categorical_accuracy: 0.9120\n",
      "Epoch 154/500\n",
      "16/16 [==============================] - 0s 24ms/step - loss: 0.0222 - categorical_accuracy: 0.9900 - val_loss: 0.3534 - val_categorical_accuracy: 0.9280\n",
      "Epoch 155/500\n",
      "16/16 [==============================] - 0s 24ms/step - loss: 0.0285 - categorical_accuracy: 0.9960 - val_loss: 0.3390 - val_categorical_accuracy: 0.9520\n",
      "Epoch 156/500\n",
      "16/16 [==============================] - 0s 24ms/step - loss: 0.0381 - categorical_accuracy: 0.9860 - val_loss: 0.5433 - val_categorical_accuracy: 0.8960\n",
      "Epoch 157/500\n",
      "16/16 [==============================] - 0s 24ms/step - loss: 0.0922 - categorical_accuracy: 0.9719 - val_loss: 0.4191 - val_categorical_accuracy: 0.8880\n",
      "Epoch 158/500\n",
      "16/16 [==============================] - 0s 23ms/step - loss: 0.1306 - categorical_accuracy: 0.9499 - val_loss: 0.4193 - val_categorical_accuracy: 0.8880\n",
      "Epoch 159/500\n",
      "16/16 [==============================] - 0s 26ms/step - loss: 0.0636 - categorical_accuracy: 0.9780 - val_loss: 0.4706 - val_categorical_accuracy: 0.9040\n",
      "Epoch 160/500\n",
      "16/16 [==============================] - 0s 23ms/step - loss: 0.0290 - categorical_accuracy: 0.9900 - val_loss: 0.5393 - val_categorical_accuracy: 0.8880\n",
      "Epoch 161/500\n",
      "16/16 [==============================] - 0s 24ms/step - loss: 0.0241 - categorical_accuracy: 0.9880 - val_loss: 0.4798 - val_categorical_accuracy: 0.8880\n",
      "Epoch 162/500\n",
      "16/16 [==============================] - 0s 23ms/step - loss: 0.0452 - categorical_accuracy: 0.9780 - val_loss: 0.5913 - val_categorical_accuracy: 0.8880\n",
      "Epoch 163/500\n",
      "16/16 [==============================] - 0s 23ms/step - loss: 0.0250 - categorical_accuracy: 0.9940 - val_loss: 0.4600 - val_categorical_accuracy: 0.9200\n",
      "Epoch 164/500\n",
      "16/16 [==============================] - 0s 23ms/step - loss: 0.0322 - categorical_accuracy: 0.9860 - val_loss: 0.5331 - val_categorical_accuracy: 0.9120\n",
      "Epoch 165/500\n",
      "16/16 [==============================] - 0s 24ms/step - loss: 0.0355 - categorical_accuracy: 0.9880 - val_loss: 0.3189 - val_categorical_accuracy: 0.9040\n",
      "Epoch 166/500\n",
      "16/16 [==============================] - 0s 23ms/step - loss: 0.0469 - categorical_accuracy: 0.9840 - val_loss: 0.6322 - val_categorical_accuracy: 0.8960\n",
      "Epoch 167/500\n",
      "16/16 [==============================] - 0s 23ms/step - loss: 0.0077 - categorical_accuracy: 0.9980 - val_loss: 0.5090 - val_categorical_accuracy: 0.9120\n",
      "Epoch 168/500\n",
      "16/16 [==============================] - 0s 23ms/step - loss: 0.0123 - categorical_accuracy: 0.9980 - val_loss: 0.5741 - val_categorical_accuracy: 0.9040\n",
      "Epoch 169/500\n",
      "16/16 [==============================] - 0s 23ms/step - loss: 0.0069 - categorical_accuracy: 0.9980 - val_loss: 0.3728 - val_categorical_accuracy: 0.9200\n",
      "Epoch 170/500\n",
      "16/16 [==============================] - 0s 24ms/step - loss: 0.0098 - categorical_accuracy: 0.9960 - val_loss: 0.3518 - val_categorical_accuracy: 0.9360\n",
      "Epoch 171/500\n",
      "16/16 [==============================] - 0s 24ms/step - loss: 0.0045 - categorical_accuracy: 1.0000 - val_loss: 0.4008 - val_categorical_accuracy: 0.9120\n",
      "Epoch 172/500\n",
      "16/16 [==============================] - 0s 23ms/step - loss: 0.0157 - categorical_accuracy: 0.9960 - val_loss: 0.3931 - val_categorical_accuracy: 0.9120\n",
      "Epoch 173/500\n",
      "16/16 [==============================] - 0s 23ms/step - loss: 0.0042 - categorical_accuracy: 1.0000 - val_loss: 0.5549 - val_categorical_accuracy: 0.9120\n",
      "Epoch 174/500\n",
      "16/16 [==============================] - 0s 23ms/step - loss: 0.0195 - categorical_accuracy: 0.9960 - val_loss: 0.3408 - val_categorical_accuracy: 0.9440\n",
      "Epoch 175/500\n",
      "16/16 [==============================] - 0s 24ms/step - loss: 0.0439 - categorical_accuracy: 0.9900 - val_loss: 0.4604 - val_categorical_accuracy: 0.9040\n",
      "Epoch 176/500\n",
      "16/16 [==============================] - 0s 24ms/step - loss: 0.0207 - categorical_accuracy: 0.9940 - val_loss: 0.3863 - val_categorical_accuracy: 0.9120\n",
      "Epoch 177/500\n",
      "16/16 [==============================] - 0s 24ms/step - loss: 0.0084 - categorical_accuracy: 0.9980 - val_loss: 0.4073 - val_categorical_accuracy: 0.9120\n",
      "Epoch 178/500\n",
      "16/16 [==============================] - 0s 23ms/step - loss: 0.0129 - categorical_accuracy: 0.9940 - val_loss: 0.4633 - val_categorical_accuracy: 0.9040\n",
      "Epoch 179/500\n",
      "16/16 [==============================] - 0s 24ms/step - loss: 0.0113 - categorical_accuracy: 0.9960 - val_loss: 0.4364 - val_categorical_accuracy: 0.8880\n",
      "Epoch 180/500\n",
      "16/16 [==============================] - 0s 24ms/step - loss: 0.0405 - categorical_accuracy: 0.9840 - val_loss: 0.4485 - val_categorical_accuracy: 0.9120\n",
      "Epoch 181/500\n",
      "16/16 [==============================] - 0s 24ms/step - loss: 0.0494 - categorical_accuracy: 0.9860 - val_loss: 0.5835 - val_categorical_accuracy: 0.8960\n",
      "Epoch 182/500\n",
      "16/16 [==============================] - 0s 24ms/step - loss: 0.0742 - categorical_accuracy: 0.9760 - val_loss: 0.6269 - val_categorical_accuracy: 0.9200\n",
      "Epoch 183/500\n",
      "16/16 [==============================] - 0s 23ms/step - loss: 0.0717 - categorical_accuracy: 0.9780 - val_loss: 0.3341 - val_categorical_accuracy: 0.9040\n",
      "Epoch 184/500\n",
      "16/16 [==============================] - 0s 24ms/step - loss: 0.0889 - categorical_accuracy: 0.9820 - val_loss: 0.2960 - val_categorical_accuracy: 0.9200\n",
      "Epoch 185/500\n",
      "16/16 [==============================] - 0s 24ms/step - loss: 0.0828 - categorical_accuracy: 0.9719 - val_loss: 0.4518 - val_categorical_accuracy: 0.9280\n",
      "Epoch 186/500\n",
      "16/16 [==============================] - 0s 23ms/step - loss: 0.0764 - categorical_accuracy: 0.9719 - val_loss: 0.4301 - val_categorical_accuracy: 0.8880\n",
      "Epoch 187/500\n",
      "16/16 [==============================] - 0s 24ms/step - loss: 0.0356 - categorical_accuracy: 0.9880 - val_loss: 0.5549 - val_categorical_accuracy: 0.8880\n",
      "Epoch 188/500\n",
      "16/16 [==============================] - 0s 23ms/step - loss: 0.0645 - categorical_accuracy: 0.9860 - val_loss: 0.4054 - val_categorical_accuracy: 0.8720\n",
      "Epoch 189/500\n",
      "16/16 [==============================] - 0s 24ms/step - loss: 0.0547 - categorical_accuracy: 0.9860 - val_loss: 0.5561 - val_categorical_accuracy: 0.8800\n",
      "Epoch 190/500\n",
      "16/16 [==============================] - 0s 23ms/step - loss: 0.0300 - categorical_accuracy: 0.9880 - val_loss: 0.5497 - val_categorical_accuracy: 0.8800\n",
      "Epoch 191/500\n",
      "16/16 [==============================] - 0s 24ms/step - loss: 0.0296 - categorical_accuracy: 0.9920 - val_loss: 0.4245 - val_categorical_accuracy: 0.9120\n",
      "Epoch 192/500\n",
      "16/16 [==============================] - 0s 24ms/step - loss: 0.0116 - categorical_accuracy: 0.9960 - val_loss: 0.3773 - val_categorical_accuracy: 0.9280\n",
      "Epoch 193/500\n",
      "16/16 [==============================] - 0s 23ms/step - loss: 0.0050 - categorical_accuracy: 1.0000 - val_loss: 0.3716 - val_categorical_accuracy: 0.9280\n",
      "Epoch 194/500\n",
      "16/16 [==============================] - 0s 24ms/step - loss: 0.0029 - categorical_accuracy: 1.0000 - val_loss: 0.3730 - val_categorical_accuracy: 0.9280\n",
      "Epoch 195/500\n",
      "16/16 [==============================] - 0s 24ms/step - loss: 0.0041 - categorical_accuracy: 0.9980 - val_loss: 0.3764 - val_categorical_accuracy: 0.9280\n",
      "Epoch 196/500\n",
      "16/16 [==============================] - 0s 24ms/step - loss: 0.0139 - categorical_accuracy: 0.9940 - val_loss: 0.3184 - val_categorical_accuracy: 0.9360\n"
     ]
    },
    {
     "name": "stdout",
     "output_type": "stream",
     "text": [
      "Epoch 197/500\n",
      "16/16 [==============================] - 0s 24ms/step - loss: 0.0332 - categorical_accuracy: 0.9960 - val_loss: 0.3075 - val_categorical_accuracy: 0.9360\n",
      "Epoch 198/500\n",
      "16/16 [==============================] - 0s 23ms/step - loss: 0.0090 - categorical_accuracy: 0.9980 - val_loss: 0.1987 - val_categorical_accuracy: 0.9520\n",
      "Epoch 199/500\n",
      "16/16 [==============================] - 0s 23ms/step - loss: 0.0211 - categorical_accuracy: 0.9980 - val_loss: 0.1726 - val_categorical_accuracy: 0.9600\n",
      "Epoch 200/500\n",
      "16/16 [==============================] - 0s 23ms/step - loss: 0.0170 - categorical_accuracy: 0.9980 - val_loss: 0.2369 - val_categorical_accuracy: 0.9520\n",
      "Epoch 201/500\n",
      "16/16 [==============================] - 0s 23ms/step - loss: 0.0125 - categorical_accuracy: 0.9940 - val_loss: 0.3368 - val_categorical_accuracy: 0.9360\n",
      "Epoch 202/500\n",
      "16/16 [==============================] - 0s 23ms/step - loss: 0.0066 - categorical_accuracy: 0.9980 - val_loss: 0.3961 - val_categorical_accuracy: 0.9200\n",
      "Epoch 203/500\n",
      "16/16 [==============================] - 0s 23ms/step - loss: 0.0353 - categorical_accuracy: 0.9900 - val_loss: 0.8144 - val_categorical_accuracy: 0.9120\n",
      "Epoch 204/500\n",
      "16/16 [==============================] - 0s 24ms/step - loss: 0.0277 - categorical_accuracy: 0.9880 - val_loss: 0.3359 - val_categorical_accuracy: 0.9440\n",
      "Epoch 205/500\n",
      "16/16 [==============================] - 0s 24ms/step - loss: 0.0030 - categorical_accuracy: 1.0000 - val_loss: 0.4225 - val_categorical_accuracy: 0.9280\n",
      "Epoch 206/500\n",
      "16/16 [==============================] - 0s 24ms/step - loss: 0.0029 - categorical_accuracy: 1.0000 - val_loss: 0.3865 - val_categorical_accuracy: 0.9280\n",
      "Epoch 207/500\n",
      "16/16 [==============================] - 0s 23ms/step - loss: 0.0039 - categorical_accuracy: 1.0000 - val_loss: 0.3251 - val_categorical_accuracy: 0.9360\n",
      "Epoch 208/500\n",
      "16/16 [==============================] - 0s 24ms/step - loss: 0.0105 - categorical_accuracy: 0.9940 - val_loss: 0.2220 - val_categorical_accuracy: 0.9440\n",
      "Epoch 209/500\n",
      "16/16 [==============================] - 0s 24ms/step - loss: 0.0022 - categorical_accuracy: 1.0000 - val_loss: 0.3707 - val_categorical_accuracy: 0.9280\n",
      "Epoch 210/500\n",
      "16/16 [==============================] - 0s 23ms/step - loss: 0.0038 - categorical_accuracy: 1.0000 - val_loss: 0.2751 - val_categorical_accuracy: 0.9360\n",
      "Epoch 211/500\n",
      "16/16 [==============================] - 0s 23ms/step - loss: 0.0108 - categorical_accuracy: 0.9980 - val_loss: 0.2492 - val_categorical_accuracy: 0.9440\n",
      "Epoch 212/500\n",
      "16/16 [==============================] - 0s 24ms/step - loss: 0.0092 - categorical_accuracy: 0.9980 - val_loss: 0.2706 - val_categorical_accuracy: 0.9520\n",
      "Epoch 213/500\n",
      "16/16 [==============================] - 0s 23ms/step - loss: 0.0058 - categorical_accuracy: 1.0000 - val_loss: 0.3431 - val_categorical_accuracy: 0.9440\n",
      "Epoch 214/500\n",
      "16/16 [==============================] - 0s 24ms/step - loss: 0.0033 - categorical_accuracy: 0.9980 - val_loss: 0.3005 - val_categorical_accuracy: 0.9520\n",
      "Epoch 215/500\n",
      "16/16 [==============================] - 0s 23ms/step - loss: 0.0082 - categorical_accuracy: 0.9980 - val_loss: 0.3235 - val_categorical_accuracy: 0.9360\n",
      "Epoch 216/500\n",
      "16/16 [==============================] - 0s 24ms/step - loss: 0.0056 - categorical_accuracy: 0.9980 - val_loss: 0.2862 - val_categorical_accuracy: 0.9440\n",
      "Epoch 217/500\n",
      "16/16 [==============================] - 0s 23ms/step - loss: 0.0034 - categorical_accuracy: 0.9980 - val_loss: 0.2713 - val_categorical_accuracy: 0.9520\n",
      "Epoch 218/500\n",
      "16/16 [==============================] - 0s 23ms/step - loss: 0.0044 - categorical_accuracy: 0.9980 - val_loss: 0.2694 - val_categorical_accuracy: 0.9520\n",
      "Epoch 219/500\n",
      "16/16 [==============================] - 0s 24ms/step - loss: 0.0075 - categorical_accuracy: 0.9980 - val_loss: 0.2156 - val_categorical_accuracy: 0.9520\n",
      "Epoch 220/500\n",
      "16/16 [==============================] - 0s 25ms/step - loss: 0.0042 - categorical_accuracy: 1.0000 - val_loss: 0.2188 - val_categorical_accuracy: 0.9600\n",
      "Epoch 221/500\n",
      "16/16 [==============================] - 0s 23ms/step - loss: 0.0102 - categorical_accuracy: 0.9960 - val_loss: 0.2467 - val_categorical_accuracy: 0.9440\n",
      "Epoch 222/500\n",
      "16/16 [==============================] - 0s 23ms/step - loss: 0.0057 - categorical_accuracy: 1.0000 - val_loss: 0.2572 - val_categorical_accuracy: 0.9440\n",
      "Epoch 223/500\n",
      "16/16 [==============================] - 0s 24ms/step - loss: 6.2634e-04 - categorical_accuracy: 1.0000 - val_loss: 0.3113 - val_categorical_accuracy: 0.9360\n",
      "Epoch 224/500\n",
      "16/16 [==============================] - 0s 23ms/step - loss: 0.0200 - categorical_accuracy: 0.9920 - val_loss: 0.3736 - val_categorical_accuracy: 0.9120\n",
      "Epoch 225/500\n",
      "16/16 [==============================] - 0s 23ms/step - loss: 0.0102 - categorical_accuracy: 0.9940 - val_loss: 0.2973 - val_categorical_accuracy: 0.9360\n",
      "Epoch 226/500\n",
      "16/16 [==============================] - 0s 24ms/step - loss: 0.0119 - categorical_accuracy: 0.9980 - val_loss: 0.2104 - val_categorical_accuracy: 0.9680\n",
      "Epoch 227/500\n",
      "16/16 [==============================] - 0s 24ms/step - loss: 0.0022 - categorical_accuracy: 1.0000 - val_loss: 0.2417 - val_categorical_accuracy: 0.9600\n",
      "Epoch 228/500\n",
      "16/16 [==============================] - 0s 24ms/step - loss: 0.0039 - categorical_accuracy: 0.9980 - val_loss: 0.2562 - val_categorical_accuracy: 0.9600\n",
      "Epoch 229/500\n",
      "16/16 [==============================] - 0s 24ms/step - loss: 0.0028 - categorical_accuracy: 1.0000 - val_loss: 0.2232 - val_categorical_accuracy: 0.9600\n",
      "Epoch 230/500\n",
      "16/16 [==============================] - 0s 23ms/step - loss: 4.6307e-04 - categorical_accuracy: 1.0000 - val_loss: 0.2214 - val_categorical_accuracy: 0.9600\n",
      "Epoch 231/500\n",
      "16/16 [==============================] - 0s 24ms/step - loss: 0.0012 - categorical_accuracy: 1.0000 - val_loss: 0.2292 - val_categorical_accuracy: 0.9600\n",
      "Epoch 232/500\n",
      "16/16 [==============================] - 0s 23ms/step - loss: 3.2211e-04 - categorical_accuracy: 1.0000 - val_loss: 0.2324 - val_categorical_accuracy: 0.9600\n",
      "Epoch 233/500\n",
      "16/16 [==============================] - 0s 23ms/step - loss: 0.0023 - categorical_accuracy: 1.0000 - val_loss: 0.2772 - val_categorical_accuracy: 0.9520\n",
      "Epoch 234/500\n",
      "16/16 [==============================] - 0s 23ms/step - loss: 0.0047 - categorical_accuracy: 0.9980 - val_loss: 0.3073 - val_categorical_accuracy: 0.9520\n",
      "Epoch 235/500\n",
      "16/16 [==============================] - 0s 23ms/step - loss: 0.0021 - categorical_accuracy: 1.0000 - val_loss: 0.3492 - val_categorical_accuracy: 0.9440\n",
      "Epoch 236/500\n",
      "16/16 [==============================] - 0s 24ms/step - loss: 0.0048 - categorical_accuracy: 0.9980 - val_loss: 0.3679 - val_categorical_accuracy: 0.9360\n",
      "Epoch 237/500\n",
      "16/16 [==============================] - 0s 23ms/step - loss: 0.0104 - categorical_accuracy: 0.9960 - val_loss: 0.4052 - val_categorical_accuracy: 0.9360\n",
      "Epoch 238/500\n",
      "16/16 [==============================] - 0s 24ms/step - loss: 0.0124 - categorical_accuracy: 0.9960 - val_loss: 0.5267 - val_categorical_accuracy: 0.9280\n",
      "Epoch 239/500\n",
      "16/16 [==============================] - 0s 23ms/step - loss: 0.0122 - categorical_accuracy: 0.9960 - val_loss: 0.4369 - val_categorical_accuracy: 0.9360\n",
      "Epoch 240/500\n",
      "16/16 [==============================] - 0s 23ms/step - loss: 0.0255 - categorical_accuracy: 0.9960 - val_loss: 0.3711 - val_categorical_accuracy: 0.9360\n",
      "Epoch 241/500\n",
      "16/16 [==============================] - 0s 24ms/step - loss: 0.0049 - categorical_accuracy: 0.9980 - val_loss: 0.3830 - val_categorical_accuracy: 0.9280\n",
      "Epoch 242/500\n",
      "16/16 [==============================] - 0s 24ms/step - loss: 0.0794 - categorical_accuracy: 0.9820 - val_loss: 0.5811 - val_categorical_accuracy: 0.9120\n",
      "Epoch 243/500\n",
      "16/16 [==============================] - 0s 23ms/step - loss: 0.1244 - categorical_accuracy: 0.9619 - val_loss: 0.4376 - val_categorical_accuracy: 0.9200\n",
      "Epoch 244/500\n",
      "16/16 [==============================] - 0s 24ms/step - loss: 0.1712 - categorical_accuracy: 0.9679 - val_loss: 0.4730 - val_categorical_accuracy: 0.8800\n",
      "Epoch 245/500\n",
      "16/16 [==============================] - 0s 23ms/step - loss: 0.1555 - categorical_accuracy: 0.9439 - val_loss: 0.6828 - val_categorical_accuracy: 0.8640\n"
     ]
    },
    {
     "name": "stdout",
     "output_type": "stream",
     "text": [
      "Epoch 246/500\n",
      "16/16 [==============================] - 0s 23ms/step - loss: 0.1209 - categorical_accuracy: 0.9639 - val_loss: 0.4855 - val_categorical_accuracy: 0.8640\n",
      "Epoch 247/500\n",
      "16/16 [==============================] - 0s 24ms/step - loss: 0.1196 - categorical_accuracy: 0.9719 - val_loss: 0.4927 - val_categorical_accuracy: 0.8880\n",
      "Epoch 248/500\n",
      "16/16 [==============================] - 0s 23ms/step - loss: 0.1161 - categorical_accuracy: 0.9760 - val_loss: 0.6586 - val_categorical_accuracy: 0.8960\n",
      "Epoch 249/500\n",
      "16/16 [==============================] - 0s 23ms/step - loss: 0.0586 - categorical_accuracy: 0.9840 - val_loss: 0.3657 - val_categorical_accuracy: 0.9280\n",
      "Epoch 250/500\n",
      "16/16 [==============================] - 0s 23ms/step - loss: 0.0517 - categorical_accuracy: 0.9920 - val_loss: 0.2385 - val_categorical_accuracy: 0.9360\n",
      "Epoch 251/500\n",
      "16/16 [==============================] - 0s 23ms/step - loss: 0.0185 - categorical_accuracy: 0.9920 - val_loss: 0.2578 - val_categorical_accuracy: 0.9280\n",
      "Epoch 252/500\n",
      "16/16 [==============================] - 0s 23ms/step - loss: 0.0159 - categorical_accuracy: 0.9920 - val_loss: 0.2002 - val_categorical_accuracy: 0.9360\n",
      "Epoch 253/500\n",
      "16/16 [==============================] - 0s 23ms/step - loss: 0.0205 - categorical_accuracy: 0.9960 - val_loss: 0.2666 - val_categorical_accuracy: 0.9440\n",
      "Epoch 254/500\n",
      "16/16 [==============================] - 0s 23ms/step - loss: 0.0036 - categorical_accuracy: 1.0000 - val_loss: 0.3027 - val_categorical_accuracy: 0.9200\n",
      "Epoch 255/500\n",
      "16/16 [==============================] - 0s 23ms/step - loss: 0.0104 - categorical_accuracy: 0.9980 - val_loss: 0.3324 - val_categorical_accuracy: 0.9280\n",
      "Epoch 256/500\n",
      "16/16 [==============================] - 0s 23ms/step - loss: 0.0143 - categorical_accuracy: 0.9940 - val_loss: 0.2628 - val_categorical_accuracy: 0.9440\n",
      "Epoch 257/500\n",
      "16/16 [==============================] - 0s 24ms/step - loss: 0.0169 - categorical_accuracy: 0.9900 - val_loss: 0.4347 - val_categorical_accuracy: 0.9200\n",
      "Epoch 258/500\n",
      "16/16 [==============================] - 0s 23ms/step - loss: 0.0307 - categorical_accuracy: 0.9920 - val_loss: 0.2895 - val_categorical_accuracy: 0.9440\n",
      "Epoch 259/500\n",
      "16/16 [==============================] - 0s 24ms/step - loss: 0.0115 - categorical_accuracy: 0.9960 - val_loss: 0.2293 - val_categorical_accuracy: 0.9440\n",
      "Epoch 260/500\n",
      "16/16 [==============================] - 0s 24ms/step - loss: 0.0114 - categorical_accuracy: 0.9980 - val_loss: 0.1750 - val_categorical_accuracy: 0.9520\n",
      "Epoch 261/500\n",
      "16/16 [==============================] - 0s 24ms/step - loss: 0.0276 - categorical_accuracy: 0.9920 - val_loss: 0.1889 - val_categorical_accuracy: 0.9520\n",
      "Epoch 262/500\n",
      "16/16 [==============================] - 0s 23ms/step - loss: 0.0145 - categorical_accuracy: 0.9960 - val_loss: 0.2217 - val_categorical_accuracy: 0.9520\n",
      "Epoch 263/500\n",
      "16/16 [==============================] - 0s 24ms/step - loss: 0.0572 - categorical_accuracy: 0.9900 - val_loss: 0.2560 - val_categorical_accuracy: 0.9520\n",
      "Epoch 264/500\n",
      "16/16 [==============================] - 0s 23ms/step - loss: 0.0804 - categorical_accuracy: 0.9840 - val_loss: 0.3427 - val_categorical_accuracy: 0.9200\n",
      "Epoch 265/500\n",
      "16/16 [==============================] - 0s 23ms/step - loss: 0.0428 - categorical_accuracy: 0.9920 - val_loss: 0.2992 - val_categorical_accuracy: 0.9520\n",
      "Epoch 266/500\n",
      "16/16 [==============================] - 0s 23ms/step - loss: 0.0127 - categorical_accuracy: 0.9960 - val_loss: 0.3332 - val_categorical_accuracy: 0.9360\n",
      "Epoch 267/500\n",
      "16/16 [==============================] - 0s 23ms/step - loss: 0.0100 - categorical_accuracy: 0.9960 - val_loss: 0.4304 - val_categorical_accuracy: 0.9200\n",
      "Epoch 268/500\n",
      "16/16 [==============================] - 0s 24ms/step - loss: 0.0309 - categorical_accuracy: 0.9960 - val_loss: 0.3248 - val_categorical_accuracy: 0.9440\n",
      "Epoch 269/500\n",
      "16/16 [==============================] - 0s 24ms/step - loss: 0.0191 - categorical_accuracy: 0.9940 - val_loss: 0.3295 - val_categorical_accuracy: 0.9360\n",
      "Epoch 270/500\n",
      "16/16 [==============================] - 0s 23ms/step - loss: 0.0531 - categorical_accuracy: 0.9940 - val_loss: 0.5089 - val_categorical_accuracy: 0.9040\n",
      "Epoch 271/500\n",
      "16/16 [==============================] - 0s 23ms/step - loss: 0.0380 - categorical_accuracy: 0.9900 - val_loss: 0.4293 - val_categorical_accuracy: 0.9120\n",
      "Epoch 272/500\n",
      "16/16 [==============================] - 0s 23ms/step - loss: 0.0337 - categorical_accuracy: 0.9920 - val_loss: 0.4273 - val_categorical_accuracy: 0.9280\n",
      "Epoch 273/500\n",
      "16/16 [==============================] - 0s 23ms/step - loss: 0.0161 - categorical_accuracy: 0.9980 - val_loss: 0.3163 - val_categorical_accuracy: 0.9360\n",
      "Epoch 274/500\n",
      "16/16 [==============================] - 0s 23ms/step - loss: 0.0074 - categorical_accuracy: 0.9960 - val_loss: 0.2157 - val_categorical_accuracy: 0.9360\n",
      "Epoch 275/500\n",
      "16/16 [==============================] - 0s 23ms/step - loss: 0.0033 - categorical_accuracy: 0.9980 - val_loss: 0.2252 - val_categorical_accuracy: 0.9360\n",
      "Epoch 276/500\n",
      "16/16 [==============================] - 0s 23ms/step - loss: 0.0011 - categorical_accuracy: 1.0000 - val_loss: 0.2420 - val_categorical_accuracy: 0.9440\n",
      "Epoch 277/500\n",
      "16/16 [==============================] - 0s 24ms/step - loss: 0.0094 - categorical_accuracy: 0.9980 - val_loss: 0.3188 - val_categorical_accuracy: 0.9440\n",
      "Epoch 278/500\n",
      "16/16 [==============================] - 0s 24ms/step - loss: 0.0075 - categorical_accuracy: 0.9980 - val_loss: 0.2706 - val_categorical_accuracy: 0.9440\n",
      "Epoch 279/500\n",
      "16/16 [==============================] - 0s 24ms/step - loss: 0.0051 - categorical_accuracy: 0.9980 - val_loss: 0.2743 - val_categorical_accuracy: 0.9440\n",
      "Epoch 280/500\n",
      "16/16 [==============================] - 0s 24ms/step - loss: 0.0022 - categorical_accuracy: 1.0000 - val_loss: 0.3588 - val_categorical_accuracy: 0.9360\n",
      "Epoch 281/500\n",
      "16/16 [==============================] - 0s 23ms/step - loss: 0.0032 - categorical_accuracy: 1.0000 - val_loss: 0.3440 - val_categorical_accuracy: 0.9440\n",
      "Epoch 282/500\n",
      "16/16 [==============================] - 0s 23ms/step - loss: 0.0013 - categorical_accuracy: 1.0000 - val_loss: 0.2681 - val_categorical_accuracy: 0.9520\n",
      "Epoch 283/500\n",
      "16/16 [==============================] - 0s 24ms/step - loss: 0.0026 - categorical_accuracy: 1.0000 - val_loss: 0.2717 - val_categorical_accuracy: 0.9440\n",
      "Epoch 284/500\n",
      "16/16 [==============================] - 0s 24ms/step - loss: 0.0021 - categorical_accuracy: 1.0000 - val_loss: 0.2717 - val_categorical_accuracy: 0.9520\n",
      "Epoch 285/500\n",
      "16/16 [==============================] - 0s 24ms/step - loss: 0.0159 - categorical_accuracy: 0.9960 - val_loss: 0.2722 - val_categorical_accuracy: 0.9520\n",
      "Epoch 286/500\n",
      "16/16 [==============================] - 0s 24ms/step - loss: 0.0179 - categorical_accuracy: 0.9960 - val_loss: 0.3413 - val_categorical_accuracy: 0.9280\n",
      "Epoch 287/500\n",
      "16/16 [==============================] - 0s 23ms/step - loss: 0.0236 - categorical_accuracy: 0.9900 - val_loss: 0.3454 - val_categorical_accuracy: 0.9200\n",
      "Epoch 288/500\n",
      "16/16 [==============================] - 0s 23ms/step - loss: 0.0307 - categorical_accuracy: 0.9920 - val_loss: 0.2423 - val_categorical_accuracy: 0.9440\n",
      "Epoch 289/500\n",
      "16/16 [==============================] - 0s 24ms/step - loss: 0.0066 - categorical_accuracy: 0.9980 - val_loss: 0.2082 - val_categorical_accuracy: 0.9680\n",
      "Epoch 290/500\n",
      "16/16 [==============================] - 0s 24ms/step - loss: 0.0058 - categorical_accuracy: 0.9980 - val_loss: 0.2391 - val_categorical_accuracy: 0.9600\n",
      "Epoch 291/500\n",
      "16/16 [==============================] - 0s 24ms/step - loss: 0.0037 - categorical_accuracy: 1.0000 - val_loss: 0.3036 - val_categorical_accuracy: 0.9360\n",
      "Epoch 292/500\n",
      "16/16 [==============================] - 0s 24ms/step - loss: 0.0070 - categorical_accuracy: 0.9980 - val_loss: 0.3674 - val_categorical_accuracy: 0.9200\n",
      "Epoch 293/500\n",
      "16/16 [==============================] - 0s 24ms/step - loss: 0.0151 - categorical_accuracy: 0.9960 - val_loss: 0.3228 - val_categorical_accuracy: 0.9440\n",
      "Epoch 294/500\n",
      "16/16 [==============================] - 0s 25ms/step - loss: 0.0040 - categorical_accuracy: 0.9980 - val_loss: 0.3276 - val_categorical_accuracy: 0.9280\n"
     ]
    },
    {
     "name": "stdout",
     "output_type": "stream",
     "text": [
      "Epoch 295/500\n",
      "16/16 [==============================] - 0s 23ms/step - loss: 0.0040 - categorical_accuracy: 0.9980 - val_loss: 0.3185 - val_categorical_accuracy: 0.9280\n",
      "Epoch 296/500\n",
      "16/16 [==============================] - 0s 23ms/step - loss: 0.0041 - categorical_accuracy: 1.0000 - val_loss: 0.3143 - val_categorical_accuracy: 0.9120\n",
      "Epoch 297/500\n",
      "16/16 [==============================] - 0s 23ms/step - loss: 0.0014 - categorical_accuracy: 1.0000 - val_loss: 0.3346 - val_categorical_accuracy: 0.9200\n",
      "Epoch 298/500\n",
      "16/16 [==============================] - 0s 23ms/step - loss: 0.0150 - categorical_accuracy: 0.9940 - val_loss: 0.3414 - val_categorical_accuracy: 0.9200\n",
      "Epoch 299/500\n",
      "16/16 [==============================] - 0s 23ms/step - loss: 0.0709 - categorical_accuracy: 0.9860 - val_loss: 0.4290 - val_categorical_accuracy: 0.9040\n",
      "Epoch 300/500\n",
      "16/16 [==============================] - 0s 23ms/step - loss: 0.0769 - categorical_accuracy: 0.9699 - val_loss: 0.3110 - val_categorical_accuracy: 0.9360\n",
      "Epoch 301/500\n",
      "16/16 [==============================] - 0s 23ms/step - loss: 0.1030 - categorical_accuracy: 0.9639 - val_loss: 0.4708 - val_categorical_accuracy: 0.8800\n",
      "Epoch 302/500\n",
      "16/16 [==============================] - 0s 23ms/step - loss: 0.0611 - categorical_accuracy: 0.9800 - val_loss: 0.4131 - val_categorical_accuracy: 0.9200\n",
      "Epoch 303/500\n",
      "16/16 [==============================] - 0s 23ms/step - loss: 0.0347 - categorical_accuracy: 0.9880 - val_loss: 0.4082 - val_categorical_accuracy: 0.8960\n",
      "Epoch 304/500\n",
      "16/16 [==============================] - 0s 23ms/step - loss: 0.0569 - categorical_accuracy: 0.9840 - val_loss: 0.6582 - val_categorical_accuracy: 0.9040\n",
      "Epoch 305/500\n",
      "16/16 [==============================] - 0s 23ms/step - loss: 0.1247 - categorical_accuracy: 0.9800 - val_loss: 0.5521 - val_categorical_accuracy: 0.9120\n",
      "Epoch 306/500\n",
      "16/16 [==============================] - 0s 24ms/step - loss: 0.1543 - categorical_accuracy: 0.9760 - val_loss: 0.5804 - val_categorical_accuracy: 0.8880\n",
      "Epoch 307/500\n",
      "16/16 [==============================] - 0s 24ms/step - loss: 0.0401 - categorical_accuracy: 0.9880 - val_loss: 0.3079 - val_categorical_accuracy: 0.9200\n",
      "Epoch 308/500\n",
      "16/16 [==============================] - 0s 23ms/step - loss: 0.0155 - categorical_accuracy: 0.9940 - val_loss: 0.3485 - val_categorical_accuracy: 0.9200\n",
      "Epoch 309/500\n",
      "16/16 [==============================] - 0s 24ms/step - loss: 0.0113 - categorical_accuracy: 0.9980 - val_loss: 0.4167 - val_categorical_accuracy: 0.9200\n",
      "Epoch 310/500\n",
      "16/16 [==============================] - 0s 24ms/step - loss: 0.0048 - categorical_accuracy: 1.0000 - val_loss: 0.4500 - val_categorical_accuracy: 0.9120\n",
      "Epoch 311/500\n",
      "16/16 [==============================] - 0s 24ms/step - loss: 0.0059 - categorical_accuracy: 0.9980 - val_loss: 0.4357 - val_categorical_accuracy: 0.9280\n",
      "Epoch 312/500\n",
      "16/16 [==============================] - 0s 24ms/step - loss: 0.0036 - categorical_accuracy: 0.9980 - val_loss: 0.4344 - val_categorical_accuracy: 0.9280\n",
      "Epoch 313/500\n",
      "16/16 [==============================] - 0s 23ms/step - loss: 0.0045 - categorical_accuracy: 1.0000 - val_loss: 0.4469 - val_categorical_accuracy: 0.9280\n",
      "Epoch 314/500\n",
      "16/16 [==============================] - 0s 24ms/step - loss: 0.0039 - categorical_accuracy: 1.0000 - val_loss: 0.4946 - val_categorical_accuracy: 0.9200\n",
      "Epoch 315/500\n",
      "16/16 [==============================] - 0s 24ms/step - loss: 0.0019 - categorical_accuracy: 1.0000 - val_loss: 0.5025 - val_categorical_accuracy: 0.9040\n",
      "Epoch 316/500\n",
      "16/16 [==============================] - 0s 24ms/step - loss: 9.3987e-04 - categorical_accuracy: 1.0000 - val_loss: 0.4946 - val_categorical_accuracy: 0.9040\n",
      "Epoch 317/500\n",
      "16/16 [==============================] - 0s 24ms/step - loss: 0.0026 - categorical_accuracy: 1.0000 - val_loss: 0.4637 - val_categorical_accuracy: 0.9040\n",
      "Epoch 318/500\n",
      "16/16 [==============================] - 0s 24ms/step - loss: 0.0025 - categorical_accuracy: 0.9980 - val_loss: 0.4572 - val_categorical_accuracy: 0.9120\n",
      "Epoch 319/500\n",
      "16/16 [==============================] - 0s 24ms/step - loss: 0.0065 - categorical_accuracy: 1.0000 - val_loss: 0.4813 - val_categorical_accuracy: 0.9280\n",
      "Epoch 320/500\n",
      "16/16 [==============================] - 0s 24ms/step - loss: 0.0036 - categorical_accuracy: 0.9980 - val_loss: 0.3763 - val_categorical_accuracy: 0.9440\n",
      "Epoch 321/500\n",
      "16/16 [==============================] - 0s 23ms/step - loss: 0.0071 - categorical_accuracy: 0.9980 - val_loss: 0.3569 - val_categorical_accuracy: 0.9360\n",
      "Epoch 322/500\n",
      "16/16 [==============================] - 0s 23ms/step - loss: 0.0250 - categorical_accuracy: 0.9940 - val_loss: 0.5434 - val_categorical_accuracy: 0.9120\n",
      "Epoch 323/500\n",
      "16/16 [==============================] - 0s 23ms/step - loss: 0.0170 - categorical_accuracy: 0.9960 - val_loss: 0.4546 - val_categorical_accuracy: 0.9200\n",
      "Epoch 324/500\n",
      "16/16 [==============================] - 0s 23ms/step - loss: 0.0026 - categorical_accuracy: 1.0000 - val_loss: 0.4419 - val_categorical_accuracy: 0.9200\n",
      "Epoch 325/500\n",
      "16/16 [==============================] - 0s 23ms/step - loss: 0.0040 - categorical_accuracy: 0.9980 - val_loss: 0.2830 - val_categorical_accuracy: 0.9520\n",
      "Epoch 326/500\n",
      "16/16 [==============================] - 0s 24ms/step - loss: 0.0050 - categorical_accuracy: 0.9980 - val_loss: 0.4152 - val_categorical_accuracy: 0.9440\n",
      "Epoch 327/500\n",
      "16/16 [==============================] - 0s 23ms/step - loss: 0.0016 - categorical_accuracy: 1.0000 - val_loss: 0.4947 - val_categorical_accuracy: 0.9280\n",
      "Epoch 328/500\n",
      "16/16 [==============================] - 0s 24ms/step - loss: 0.0200 - categorical_accuracy: 0.9940 - val_loss: 0.3430 - val_categorical_accuracy: 0.9360\n",
      "Epoch 329/500\n",
      "16/16 [==============================] - 0s 24ms/step - loss: 0.0156 - categorical_accuracy: 0.9920 - val_loss: 0.4159 - val_categorical_accuracy: 0.9360\n",
      "Epoch 330/500\n",
      "16/16 [==============================] - 0s 24ms/step - loss: 0.0184 - categorical_accuracy: 0.9940 - val_loss: 0.4589 - val_categorical_accuracy: 0.9200\n",
      "Epoch 331/500\n",
      "16/16 [==============================] - 0s 23ms/step - loss: 0.0108 - categorical_accuracy: 0.9960 - val_loss: 0.4111 - val_categorical_accuracy: 0.9200\n",
      "Epoch 332/500\n",
      "16/16 [==============================] - 0s 24ms/step - loss: 0.0083 - categorical_accuracy: 0.9980 - val_loss: 0.3983 - val_categorical_accuracy: 0.9200\n",
      "Epoch 333/500\n",
      "16/16 [==============================] - 0s 24ms/step - loss: 5.9346e-04 - categorical_accuracy: 1.0000 - val_loss: 0.3930 - val_categorical_accuracy: 0.9280\n",
      "Epoch 334/500\n",
      "16/16 [==============================] - 0s 23ms/step - loss: 0.0012 - categorical_accuracy: 1.0000 - val_loss: 0.3875 - val_categorical_accuracy: 0.9200\n",
      "Epoch 335/500\n",
      "16/16 [==============================] - 0s 23ms/step - loss: 0.0019 - categorical_accuracy: 1.0000 - val_loss: 0.3893 - val_categorical_accuracy: 0.9200\n",
      "Epoch 336/500\n",
      "16/16 [==============================] - 0s 25ms/step - loss: 0.0143 - categorical_accuracy: 0.9960 - val_loss: 0.4412 - val_categorical_accuracy: 0.9200\n",
      "Epoch 337/500\n",
      "16/16 [==============================] - 0s 24ms/step - loss: 0.0090 - categorical_accuracy: 0.9980 - val_loss: 0.3982 - val_categorical_accuracy: 0.9360\n",
      "Epoch 338/500\n",
      "16/16 [==============================] - 0s 23ms/step - loss: 0.0042 - categorical_accuracy: 0.9980 - val_loss: 0.5135 - val_categorical_accuracy: 0.9360\n",
      "Epoch 339/500\n",
      "16/16 [==============================] - 0s 24ms/step - loss: 0.0060 - categorical_accuracy: 0.9980 - val_loss: 0.4233 - val_categorical_accuracy: 0.9360\n",
      "Epoch 340/500\n",
      "16/16 [==============================] - 0s 24ms/step - loss: 0.0019 - categorical_accuracy: 1.0000 - val_loss: 0.3424 - val_categorical_accuracy: 0.9440\n",
      "Epoch 341/500\n",
      "16/16 [==============================] - 0s 23ms/step - loss: 9.0880e-04 - categorical_accuracy: 1.0000 - val_loss: 0.3512 - val_categorical_accuracy: 0.9520\n",
      "Epoch 342/500\n",
      "16/16 [==============================] - 0s 24ms/step - loss: 0.0013 - categorical_accuracy: 1.0000 - val_loss: 0.3552 - val_categorical_accuracy: 0.9520\n",
      "Epoch 343/500\n",
      "16/16 [==============================] - 0s 23ms/step - loss: 0.0025 - categorical_accuracy: 1.0000 - val_loss: 0.3695 - val_categorical_accuracy: 0.9440\n"
     ]
    },
    {
     "name": "stdout",
     "output_type": "stream",
     "text": [
      "Epoch 344/500\n",
      "16/16 [==============================] - 0s 23ms/step - loss: 0.0015 - categorical_accuracy: 1.0000 - val_loss: 0.3662 - val_categorical_accuracy: 0.9440\n",
      "Epoch 345/500\n",
      "16/16 [==============================] - 0s 23ms/step - loss: 0.0027 - categorical_accuracy: 0.9980 - val_loss: 0.3696 - val_categorical_accuracy: 0.9520\n",
      "Epoch 346/500\n",
      "16/16 [==============================] - 0s 23ms/step - loss: 7.7031e-04 - categorical_accuracy: 1.0000 - val_loss: 0.3788 - val_categorical_accuracy: 0.9520\n",
      "Epoch 347/500\n",
      "16/16 [==============================] - 0s 23ms/step - loss: 0.0014 - categorical_accuracy: 1.0000 - val_loss: 0.3952 - val_categorical_accuracy: 0.9520\n",
      "Epoch 348/500\n",
      "16/16 [==============================] - 0s 23ms/step - loss: 0.0029 - categorical_accuracy: 0.9980 - val_loss: 0.4188 - val_categorical_accuracy: 0.9360\n",
      "Epoch 349/500\n",
      "16/16 [==============================] - 0s 24ms/step - loss: 0.0028 - categorical_accuracy: 0.9980 - val_loss: 0.6336 - val_categorical_accuracy: 0.9200\n",
      "Epoch 350/500\n",
      "16/16 [==============================] - 0s 23ms/step - loss: 0.1714 - categorical_accuracy: 0.9840 - val_loss: 0.5613 - val_categorical_accuracy: 0.8960\n",
      "Epoch 351/500\n",
      "16/16 [==============================] - 0s 23ms/step - loss: 0.1738 - categorical_accuracy: 0.9519 - val_loss: 0.5903 - val_categorical_accuracy: 0.8720\n",
      "Epoch 352/500\n",
      "16/16 [==============================] - 0s 23ms/step - loss: 0.0749 - categorical_accuracy: 0.9860 - val_loss: 0.4814 - val_categorical_accuracy: 0.8800\n",
      "Epoch 353/500\n",
      "16/16 [==============================] - 0s 23ms/step - loss: 0.0326 - categorical_accuracy: 0.9900 - val_loss: 0.5036 - val_categorical_accuracy: 0.9120\n",
      "Epoch 354/500\n",
      "16/16 [==============================] - 0s 24ms/step - loss: 0.0535 - categorical_accuracy: 0.9820 - val_loss: 0.4017 - val_categorical_accuracy: 0.8800\n",
      "Epoch 355/500\n",
      "16/16 [==============================] - 0s 23ms/step - loss: 0.0154 - categorical_accuracy: 0.9940 - val_loss: 0.3068 - val_categorical_accuracy: 0.9360\n",
      "Epoch 356/500\n",
      "16/16 [==============================] - 0s 23ms/step - loss: 0.0098 - categorical_accuracy: 0.9960 - val_loss: 0.2551 - val_categorical_accuracy: 0.9440\n",
      "Epoch 357/500\n",
      "16/16 [==============================] - 0s 24ms/step - loss: 0.0131 - categorical_accuracy: 0.9940 - val_loss: 0.2851 - val_categorical_accuracy: 0.9600\n",
      "Epoch 358/500\n",
      "16/16 [==============================] - 0s 24ms/step - loss: 0.0017 - categorical_accuracy: 1.0000 - val_loss: 0.3063 - val_categorical_accuracy: 0.9520\n",
      "Epoch 359/500\n",
      "16/16 [==============================] - 0s 23ms/step - loss: 0.0017 - categorical_accuracy: 1.0000 - val_loss: 0.3607 - val_categorical_accuracy: 0.9440\n",
      "Epoch 360/500\n",
      "16/16 [==============================] - 0s 24ms/step - loss: 0.0070 - categorical_accuracy: 0.9980 - val_loss: 0.2806 - val_categorical_accuracy: 0.9200\n",
      "Epoch 361/500\n",
      "16/16 [==============================] - 0s 23ms/step - loss: 0.0404 - categorical_accuracy: 0.9900 - val_loss: 0.4259 - val_categorical_accuracy: 0.8960\n",
      "Epoch 362/500\n",
      "16/16 [==============================] - 0s 24ms/step - loss: 0.2365 - categorical_accuracy: 0.9559 - val_loss: 0.5188 - val_categorical_accuracy: 0.8960\n",
      "Epoch 363/500\n",
      "16/16 [==============================] - 0s 24ms/step - loss: 0.0632 - categorical_accuracy: 0.9800 - val_loss: 0.6231 - val_categorical_accuracy: 0.8640\n",
      "Epoch 364/500\n",
      "16/16 [==============================] - 0s 23ms/step - loss: 0.0213 - categorical_accuracy: 0.9960 - val_loss: 0.4578 - val_categorical_accuracy: 0.9040\n",
      "Epoch 365/500\n",
      "16/16 [==============================] - 0s 23ms/step - loss: 0.0191 - categorical_accuracy: 0.9940 - val_loss: 0.3197 - val_categorical_accuracy: 0.9200\n",
      "Epoch 366/500\n",
      "16/16 [==============================] - 0s 24ms/step - loss: 0.0118 - categorical_accuracy: 0.9960 - val_loss: 0.4514 - val_categorical_accuracy: 0.9040\n",
      "Epoch 367/500\n",
      "16/16 [==============================] - 0s 24ms/step - loss: 0.0067 - categorical_accuracy: 1.0000 - val_loss: 0.3998 - val_categorical_accuracy: 0.9120\n",
      "Epoch 368/500\n",
      "16/16 [==============================] - 0s 24ms/step - loss: 0.0020 - categorical_accuracy: 1.0000 - val_loss: 0.3893 - val_categorical_accuracy: 0.9120\n",
      "Epoch 369/500\n",
      "16/16 [==============================] - 0s 24ms/step - loss: 0.0046 - categorical_accuracy: 0.9980 - val_loss: 0.4018 - val_categorical_accuracy: 0.9040\n",
      "Epoch 370/500\n",
      "16/16 [==============================] - 0s 23ms/step - loss: 0.0018 - categorical_accuracy: 1.0000 - val_loss: 0.4592 - val_categorical_accuracy: 0.9040\n",
      "Epoch 371/500\n",
      "16/16 [==============================] - 0s 24ms/step - loss: 0.0030 - categorical_accuracy: 1.0000 - val_loss: 0.3772 - val_categorical_accuracy: 0.8960\n",
      "Epoch 372/500\n",
      "16/16 [==============================] - 0s 23ms/step - loss: 0.0013 - categorical_accuracy: 1.0000 - val_loss: 0.3991 - val_categorical_accuracy: 0.9120\n",
      "Epoch 373/500\n",
      "16/16 [==============================] - 0s 23ms/step - loss: 0.0018 - categorical_accuracy: 1.0000 - val_loss: 0.3622 - val_categorical_accuracy: 0.9120\n",
      "Epoch 374/500\n",
      "16/16 [==============================] - 0s 24ms/step - loss: 9.2181e-04 - categorical_accuracy: 1.0000 - val_loss: 0.4269 - val_categorical_accuracy: 0.9040\n",
      "Epoch 375/500\n",
      "16/16 [==============================] - 0s 23ms/step - loss: 0.0016 - categorical_accuracy: 1.0000 - val_loss: 0.4743 - val_categorical_accuracy: 0.9040\n",
      "Epoch 376/500\n",
      "16/16 [==============================] - 0s 23ms/step - loss: 0.0012 - categorical_accuracy: 1.0000 - val_loss: 0.3989 - val_categorical_accuracy: 0.9040\n",
      "Epoch 377/500\n",
      "16/16 [==============================] - 0s 24ms/step - loss: 0.0014 - categorical_accuracy: 1.0000 - val_loss: 0.3637 - val_categorical_accuracy: 0.9200\n",
      "Epoch 378/500\n",
      "16/16 [==============================] - 0s 24ms/step - loss: 0.0010 - categorical_accuracy: 1.0000 - val_loss: 0.3422 - val_categorical_accuracy: 0.9200\n",
      "Epoch 379/500\n",
      "16/16 [==============================] - 0s 23ms/step - loss: 0.0082 - categorical_accuracy: 0.9980 - val_loss: 0.3608 - val_categorical_accuracy: 0.9200\n",
      "Epoch 380/500\n",
      "16/16 [==============================] - 0s 24ms/step - loss: 0.0022 - categorical_accuracy: 1.0000 - val_loss: 0.4516 - val_categorical_accuracy: 0.9200\n",
      "Epoch 381/500\n",
      "16/16 [==============================] - 0s 23ms/step - loss: 0.0055 - categorical_accuracy: 0.9980 - val_loss: 0.5177 - val_categorical_accuracy: 0.9040\n",
      "Epoch 382/500\n",
      "16/16 [==============================] - 0s 24ms/step - loss: 0.0022 - categorical_accuracy: 1.0000 - val_loss: 0.5190 - val_categorical_accuracy: 0.9120\n",
      "Epoch 383/500\n",
      "16/16 [==============================] - 0s 24ms/step - loss: 0.0028 - categorical_accuracy: 0.9980 - val_loss: 0.4027 - val_categorical_accuracy: 0.9200\n",
      "Epoch 384/500\n",
      "16/16 [==============================] - 0s 24ms/step - loss: 9.2020e-04 - categorical_accuracy: 1.0000 - val_loss: 0.3991 - val_categorical_accuracy: 0.9440\n",
      "Epoch 385/500\n",
      "16/16 [==============================] - 0s 23ms/step - loss: 3.1836e-04 - categorical_accuracy: 1.0000 - val_loss: 0.4116 - val_categorical_accuracy: 0.9440\n",
      "Epoch 386/500\n",
      "16/16 [==============================] - 0s 24ms/step - loss: 2.3210e-04 - categorical_accuracy: 1.0000 - val_loss: 0.4182 - val_categorical_accuracy: 0.9440\n",
      "Epoch 387/500\n",
      "16/16 [==============================] - 0s 23ms/step - loss: 6.5383e-04 - categorical_accuracy: 1.0000 - val_loss: 0.4115 - val_categorical_accuracy: 0.9440\n",
      "Epoch 388/500\n",
      "16/16 [==============================] - 0s 24ms/step - loss: 0.0011 - categorical_accuracy: 1.0000 - val_loss: 0.4248 - val_categorical_accuracy: 0.9440\n",
      "Epoch 389/500\n",
      "16/16 [==============================] - 0s 23ms/step - loss: 0.0025 - categorical_accuracy: 0.9980 - val_loss: 0.7949 - val_categorical_accuracy: 0.9120\n",
      "Epoch 390/500\n",
      "16/16 [==============================] - 0s 24ms/step - loss: 0.0222 - categorical_accuracy: 0.9940 - val_loss: 0.4358 - val_categorical_accuracy: 0.9040\n",
      "Epoch 391/500\n",
      "16/16 [==============================] - 0s 25ms/step - loss: 0.0012 - categorical_accuracy: 1.0000 - val_loss: 0.4281 - val_categorical_accuracy: 0.9120\n",
      "Epoch 392/500\n",
      "16/16 [==============================] - 0s 23ms/step - loss: 5.5916e-04 - categorical_accuracy: 1.0000 - val_loss: 0.4251 - val_categorical_accuracy: 0.9120\n",
      "Epoch 393/500\n",
      "16/16 [==============================] - 0s 23ms/step - loss: 8.5122e-04 - categorical_accuracy: 1.0000 - val_loss: 0.4472 - val_categorical_accuracy: 0.9200\n",
      "Epoch 394/500\n",
      "16/16 [==============================] - 0s 23ms/step - loss: 0.0041 - categorical_accuracy: 0.9980 - val_loss: 0.5506 - val_categorical_accuracy: 0.9120\n",
      "Epoch 395/500\n",
      "16/16 [==============================] - 0s 23ms/step - loss: 0.0013 - categorical_accuracy: 1.0000 - val_loss: 0.6157 - val_categorical_accuracy: 0.9120\n",
      "Epoch 396/500\n",
      "16/16 [==============================] - 0s 23ms/step - loss: 6.2088e-04 - categorical_accuracy: 1.0000 - val_loss: 0.6157 - val_categorical_accuracy: 0.9040\n",
      "Epoch 397/500\n",
      "16/16 [==============================] - 0s 23ms/step - loss: 0.0029 - categorical_accuracy: 0.9980 - val_loss: 0.6151 - val_categorical_accuracy: 0.9040\n",
      "Epoch 398/500\n",
      "16/16 [==============================] - 0s 23ms/step - loss: 7.9828e-04 - categorical_accuracy: 1.0000 - val_loss: 0.6403 - val_categorical_accuracy: 0.9120\n",
      "Epoch 399/500\n",
      "16/16 [==============================] - 0s 24ms/step - loss: 6.9263e-04 - categorical_accuracy: 1.0000 - val_loss: 0.6409 - val_categorical_accuracy: 0.9120\n",
      "Epoch 400/500\n",
      "16/16 [==============================] - 0s 23ms/step - loss: 0.0046 - categorical_accuracy: 0.9960 - val_loss: 0.5629 - val_categorical_accuracy: 0.9040\n",
      "Epoch 401/500\n",
      "16/16 [==============================] - 0s 23ms/step - loss: 0.0016 - categorical_accuracy: 1.0000 - val_loss: 0.4838 - val_categorical_accuracy: 0.9120\n",
      "Epoch 402/500\n",
      "16/16 [==============================] - 0s 24ms/step - loss: 6.6231e-04 - categorical_accuracy: 1.0000 - val_loss: 0.5134 - val_categorical_accuracy: 0.9040\n",
      "Epoch 403/500\n",
      "16/16 [==============================] - 0s 23ms/step - loss: 0.0015 - categorical_accuracy: 1.0000 - val_loss: 0.5473 - val_categorical_accuracy: 0.9120\n",
      "Epoch 404/500\n",
      "16/16 [==============================] - 0s 24ms/step - loss: 7.5865e-04 - categorical_accuracy: 1.0000 - val_loss: 0.5434 - val_categorical_accuracy: 0.9200\n",
      "Epoch 405/500\n",
      "16/16 [==============================] - 0s 24ms/step - loss: 5.7414e-04 - categorical_accuracy: 1.0000 - val_loss: 0.5365 - val_categorical_accuracy: 0.9200\n",
      "Epoch 406/500\n",
      "16/16 [==============================] - 0s 23ms/step - loss: 7.8903e-04 - categorical_accuracy: 1.0000 - val_loss: 0.5666 - val_categorical_accuracy: 0.9200\n",
      "Epoch 407/500\n",
      "16/16 [==============================] - 0s 24ms/step - loss: 2.9313e-04 - categorical_accuracy: 1.0000 - val_loss: 0.5632 - val_categorical_accuracy: 0.9280\n",
      "Epoch 408/500\n",
      "16/16 [==============================] - 0s 23ms/step - loss: 3.7889e-04 - categorical_accuracy: 1.0000 - val_loss: 0.5677 - val_categorical_accuracy: 0.9200\n",
      "Epoch 409/500\n",
      "16/16 [==============================] - 0s 24ms/step - loss: 6.5998e-04 - categorical_accuracy: 1.0000 - val_loss: 0.5534 - val_categorical_accuracy: 0.9200\n",
      "Epoch 410/500\n",
      "16/16 [==============================] - 0s 23ms/step - loss: 4.3114e-04 - categorical_accuracy: 1.0000 - val_loss: 0.5295 - val_categorical_accuracy: 0.9200\n",
      "Epoch 411/500\n",
      "16/16 [==============================] - 0s 23ms/step - loss: 2.8643e-04 - categorical_accuracy: 1.0000 - val_loss: 0.4967 - val_categorical_accuracy: 0.9200\n",
      "Epoch 412/500\n",
      "16/16 [==============================] - 0s 24ms/step - loss: 7.3863e-04 - categorical_accuracy: 1.0000 - val_loss: 0.4855 - val_categorical_accuracy: 0.9280\n",
      "Epoch 413/500\n",
      "16/16 [==============================] - 0s 23ms/step - loss: 0.0012 - categorical_accuracy: 1.0000 - val_loss: 0.4878 - val_categorical_accuracy: 0.9280\n",
      "Epoch 414/500\n",
      "16/16 [==============================] - 0s 24ms/step - loss: 3.1789e-04 - categorical_accuracy: 1.0000 - val_loss: 0.4769 - val_categorical_accuracy: 0.9280\n",
      "Epoch 415/500\n",
      "16/16 [==============================] - 0s 24ms/step - loss: 2.1911e-04 - categorical_accuracy: 1.0000 - val_loss: 0.4782 - val_categorical_accuracy: 0.9360\n",
      "Epoch 416/500\n",
      "16/16 [==============================] - 0s 24ms/step - loss: 1.1535e-04 - categorical_accuracy: 1.0000 - val_loss: 0.4811 - val_categorical_accuracy: 0.9360\n",
      "Epoch 417/500\n",
      "16/16 [==============================] - 0s 24ms/step - loss: 0.0051 - categorical_accuracy: 0.9980 - val_loss: 0.5395 - val_categorical_accuracy: 0.9280\n",
      "Epoch 418/500\n",
      "16/16 [==============================] - 0s 24ms/step - loss: 0.0037 - categorical_accuracy: 0.9960 - val_loss: 0.5050 - val_categorical_accuracy: 0.9120\n",
      "Epoch 419/500\n",
      "16/16 [==============================] - 0s 23ms/step - loss: 0.0216 - categorical_accuracy: 0.9920 - val_loss: 0.4404 - val_categorical_accuracy: 0.9440\n",
      "Epoch 420/500\n",
      "16/16 [==============================] - 0s 24ms/step - loss: 0.0264 - categorical_accuracy: 0.9920 - val_loss: 1.3923 - val_categorical_accuracy: 0.8960\n",
      "Epoch 421/500\n",
      "16/16 [==============================] - 0s 24ms/step - loss: 0.0536 - categorical_accuracy: 0.9860 - val_loss: 0.9327 - val_categorical_accuracy: 0.8480\n",
      "Epoch 422/500\n",
      "16/16 [==============================] - 0s 24ms/step - loss: 0.1068 - categorical_accuracy: 0.9739 - val_loss: 1.0237 - val_categorical_accuracy: 0.8560\n",
      "Epoch 423/500\n",
      "16/16 [==============================] - 0s 24ms/step - loss: 0.1212 - categorical_accuracy: 0.9639 - val_loss: 0.9338 - val_categorical_accuracy: 0.8800\n",
      "Epoch 424/500\n",
      "16/16 [==============================] - 0s 26ms/step - loss: 0.2225 - categorical_accuracy: 0.9459 - val_loss: 0.6601 - val_categorical_accuracy: 0.8800\n",
      "Epoch 425/500\n",
      "16/16 [==============================] - 0s 26ms/step - loss: 0.1658 - categorical_accuracy: 0.9679 - val_loss: 0.9275 - val_categorical_accuracy: 0.8720\n",
      "Epoch 426/500\n",
      "16/16 [==============================] - 0s 23ms/step - loss: 0.0960 - categorical_accuracy: 0.9739 - val_loss: 0.7597 - val_categorical_accuracy: 0.8640\n",
      "Epoch 427/500\n",
      "16/16 [==============================] - 0s 24ms/step - loss: 0.0219 - categorical_accuracy: 0.9940 - val_loss: 0.4398 - val_categorical_accuracy: 0.9120\n",
      "Epoch 428/500\n",
      "16/16 [==============================] - 0s 24ms/step - loss: 0.0104 - categorical_accuracy: 0.9960 - val_loss: 0.3880 - val_categorical_accuracy: 0.9200\n",
      "Epoch 429/500\n",
      "16/16 [==============================] - 0s 24ms/step - loss: 0.0035 - categorical_accuracy: 0.9980 - val_loss: 0.3868 - val_categorical_accuracy: 0.9200\n",
      "Epoch 430/500\n",
      "16/16 [==============================] - 0s 24ms/step - loss: 0.0105 - categorical_accuracy: 0.9940 - val_loss: 0.4111 - val_categorical_accuracy: 0.9200\n",
      "Epoch 431/500\n",
      "16/16 [==============================] - 0s 24ms/step - loss: 0.0124 - categorical_accuracy: 0.9960 - val_loss: 0.4601 - val_categorical_accuracy: 0.9280\n",
      "Epoch 432/500\n",
      "16/16 [==============================] - 0s 24ms/step - loss: 0.0115 - categorical_accuracy: 0.9960 - val_loss: 0.4156 - val_categorical_accuracy: 0.9280\n",
      "Epoch 433/500\n",
      "16/16 [==============================] - 0s 24ms/step - loss: 0.0337 - categorical_accuracy: 0.9900 - val_loss: 0.6345 - val_categorical_accuracy: 0.9040\n",
      "Epoch 434/500\n",
      "16/16 [==============================] - 0s 27ms/step - loss: 0.0705 - categorical_accuracy: 0.9820 - val_loss: 0.3214 - val_categorical_accuracy: 0.9360\n",
      "Epoch 435/500\n",
      "16/16 [==============================] - 0s 27ms/step - loss: 0.0629 - categorical_accuracy: 0.9880 - val_loss: 0.3257 - val_categorical_accuracy: 0.9280\n",
      "Epoch 436/500\n",
      "16/16 [==============================] - 0s 24ms/step - loss: 0.0227 - categorical_accuracy: 0.9920 - val_loss: 0.4035 - val_categorical_accuracy: 0.9120\n",
      "Epoch 437/500\n",
      "16/16 [==============================] - 0s 24ms/step - loss: 0.0092 - categorical_accuracy: 0.9980 - val_loss: 0.3390 - val_categorical_accuracy: 0.9280\n",
      "Epoch 438/500\n",
      "16/16 [==============================] - 0s 24ms/step - loss: 0.0056 - categorical_accuracy: 1.0000 - val_loss: 0.2553 - val_categorical_accuracy: 0.9440\n",
      "Epoch 439/500\n",
      "16/16 [==============================] - 0s 24ms/step - loss: 0.0042 - categorical_accuracy: 0.9980 - val_loss: 0.2670 - val_categorical_accuracy: 0.9360\n",
      "Epoch 440/500\n"
     ]
    },
    {
     "name": "stdout",
     "output_type": "stream",
     "text": [
      "16/16 [==============================] - 0s 24ms/step - loss: 0.0038 - categorical_accuracy: 0.9980 - val_loss: 0.2979 - val_categorical_accuracy: 0.9360\n",
      "Epoch 441/500\n",
      "16/16 [==============================] - 0s 24ms/step - loss: 0.0025 - categorical_accuracy: 1.0000 - val_loss: 0.4077 - val_categorical_accuracy: 0.9280\n",
      "Epoch 442/500\n",
      "16/16 [==============================] - 0s 24ms/step - loss: 0.0082 - categorical_accuracy: 0.9940 - val_loss: 0.2693 - val_categorical_accuracy: 0.9520\n",
      "Epoch 443/500\n",
      "16/16 [==============================] - 0s 24ms/step - loss: 0.0131 - categorical_accuracy: 0.9940 - val_loss: 0.3831 - val_categorical_accuracy: 0.9360\n",
      "Epoch 444/500\n",
      "16/16 [==============================] - 0s 24ms/step - loss: 0.0091 - categorical_accuracy: 0.9960 - val_loss: 0.2770 - val_categorical_accuracy: 0.9440\n",
      "Epoch 445/500\n",
      "16/16 [==============================] - 0s 24ms/step - loss: 0.0019 - categorical_accuracy: 1.0000 - val_loss: 0.2593 - val_categorical_accuracy: 0.9440\n",
      "Epoch 446/500\n",
      "16/16 [==============================] - 0s 24ms/step - loss: 2.9174e-04 - categorical_accuracy: 1.0000 - val_loss: 0.2536 - val_categorical_accuracy: 0.9520\n",
      "Epoch 447/500\n",
      "16/16 [==============================] - 0s 24ms/step - loss: 0.0025 - categorical_accuracy: 1.0000 - val_loss: 0.2493 - val_categorical_accuracy: 0.9520\n",
      "Epoch 448/500\n",
      "16/16 [==============================] - 0s 24ms/step - loss: 7.1887e-04 - categorical_accuracy: 1.0000 - val_loss: 0.2596 - val_categorical_accuracy: 0.9440\n",
      "Epoch 449/500\n",
      "16/16 [==============================] - 0s 23ms/step - loss: 0.0052 - categorical_accuracy: 0.9980 - val_loss: 0.2544 - val_categorical_accuracy: 0.9520\n",
      "Epoch 450/500\n",
      "16/16 [==============================] - 0s 23ms/step - loss: 0.0023 - categorical_accuracy: 1.0000 - val_loss: 0.2714 - val_categorical_accuracy: 0.9520\n",
      "Epoch 451/500\n",
      "16/16 [==============================] - 0s 24ms/step - loss: 7.9444e-04 - categorical_accuracy: 1.0000 - val_loss: 0.2762 - val_categorical_accuracy: 0.9520\n",
      "Epoch 452/500\n",
      "16/16 [==============================] - 0s 23ms/step - loss: 4.6612e-04 - categorical_accuracy: 1.0000 - val_loss: 0.2762 - val_categorical_accuracy: 0.9520\n",
      "Epoch 453/500\n",
      "16/16 [==============================] - 0s 24ms/step - loss: 1.6751e-04 - categorical_accuracy: 1.0000 - val_loss: 0.2755 - val_categorical_accuracy: 0.9520\n",
      "Epoch 454/500\n",
      "16/16 [==============================] - 0s 26ms/step - loss: 0.0045 - categorical_accuracy: 0.9980 - val_loss: 0.2553 - val_categorical_accuracy: 0.9440\n",
      "Epoch 455/500\n",
      "16/16 [==============================] - 0s 25ms/step - loss: 9.4145e-05 - categorical_accuracy: 1.0000 - val_loss: 0.2893 - val_categorical_accuracy: 0.9440\n",
      "Epoch 456/500\n",
      "16/16 [==============================] - 0s 25ms/step - loss: 0.0042 - categorical_accuracy: 0.9980 - val_loss: 0.3383 - val_categorical_accuracy: 0.9360\n",
      "Epoch 457/500\n",
      "16/16 [==============================] - 0s 25ms/step - loss: 0.0015 - categorical_accuracy: 1.0000 - val_loss: 0.3162 - val_categorical_accuracy: 0.9360\n",
      "Epoch 458/500\n",
      "16/16 [==============================] - 0s 24ms/step - loss: 8.5310e-04 - categorical_accuracy: 1.0000 - val_loss: 0.2822 - val_categorical_accuracy: 0.9360\n",
      "Epoch 459/500\n",
      "16/16 [==============================] - 0s 23ms/step - loss: 0.0039 - categorical_accuracy: 0.9980 - val_loss: 0.2888 - val_categorical_accuracy: 0.9440\n",
      "Epoch 460/500\n",
      "16/16 [==============================] - 0s 23ms/step - loss: 0.0014 - categorical_accuracy: 1.0000 - val_loss: 0.3227 - val_categorical_accuracy: 0.9440\n",
      "Epoch 461/500\n",
      "16/16 [==============================] - 0s 26ms/step - loss: 9.7299e-04 - categorical_accuracy: 1.0000 - val_loss: 0.3326 - val_categorical_accuracy: 0.9440\n",
      "Epoch 462/500\n",
      "16/16 [==============================] - 0s 23ms/step - loss: 4.9940e-04 - categorical_accuracy: 1.0000 - val_loss: 0.3293 - val_categorical_accuracy: 0.9360\n",
      "Epoch 463/500\n",
      "16/16 [==============================] - 0s 24ms/step - loss: 0.0017 - categorical_accuracy: 1.0000 - val_loss: 0.3473 - val_categorical_accuracy: 0.9280\n",
      "Epoch 464/500\n",
      "16/16 [==============================] - 0s 22ms/step - loss: 0.0145 - categorical_accuracy: 0.9940 - val_loss: 0.5299 - val_categorical_accuracy: 0.9200\n",
      "Epoch 465/500\n",
      "16/16 [==============================] - 0s 21ms/step - loss: 0.0458 - categorical_accuracy: 0.9960 - val_loss: 0.4115 - val_categorical_accuracy: 0.9200\n",
      "Epoch 466/500\n",
      "16/16 [==============================] - 0s 22ms/step - loss: 0.0410 - categorical_accuracy: 0.9880 - val_loss: 0.4084 - val_categorical_accuracy: 0.9200\n",
      "Epoch 467/500\n",
      "16/16 [==============================] - 0s 22ms/step - loss: 0.0464 - categorical_accuracy: 0.9880 - val_loss: 0.2863 - val_categorical_accuracy: 0.9280\n",
      "Epoch 468/500\n",
      "16/16 [==============================] - 0s 21ms/step - loss: 0.0147 - categorical_accuracy: 0.9940 - val_loss: 0.3371 - val_categorical_accuracy: 0.9360\n",
      "Epoch 469/500\n",
      "16/16 [==============================] - 0s 23ms/step - loss: 0.0100 - categorical_accuracy: 0.9940 - val_loss: 0.3366 - val_categorical_accuracy: 0.9520\n",
      "Epoch 470/500\n",
      "16/16 [==============================] - 0s 24ms/step - loss: 0.0063 - categorical_accuracy: 0.9980 - val_loss: 0.3824 - val_categorical_accuracy: 0.9360\n",
      "Epoch 471/500\n",
      "16/16 [==============================] - 1s 35ms/step - loss: 0.0055 - categorical_accuracy: 0.9980 - val_loss: 0.3905 - val_categorical_accuracy: 0.9280\n",
      "Epoch 472/500\n",
      "16/16 [==============================] - 0s 24ms/step - loss: 0.0022 - categorical_accuracy: 1.0000 - val_loss: 0.3767 - val_categorical_accuracy: 0.9360\n",
      "Epoch 473/500\n",
      "16/16 [==============================] - 0s 24ms/step - loss: 0.0021 - categorical_accuracy: 0.9980 - val_loss: 0.3776 - val_categorical_accuracy: 0.9360\n",
      "Epoch 474/500\n",
      "16/16 [==============================] - 0s 26ms/step - loss: 0.0030 - categorical_accuracy: 0.9980 - val_loss: 0.3740 - val_categorical_accuracy: 0.9440\n",
      "Epoch 475/500\n",
      "16/16 [==============================] - 0s 25ms/step - loss: 0.0037 - categorical_accuracy: 0.9980 - val_loss: 0.4044 - val_categorical_accuracy: 0.9360\n",
      "Epoch 476/500\n",
      "16/16 [==============================] - 0s 24ms/step - loss: 0.0049 - categorical_accuracy: 0.9980 - val_loss: 0.2695 - val_categorical_accuracy: 0.9600\n",
      "Epoch 477/500\n",
      "16/16 [==============================] - 0s 24ms/step - loss: 0.0037 - categorical_accuracy: 1.0000 - val_loss: 0.2549 - val_categorical_accuracy: 0.9520\n",
      "Epoch 478/500\n",
      "16/16 [==============================] - 0s 23ms/step - loss: 0.0020 - categorical_accuracy: 1.0000 - val_loss: 0.2848 - val_categorical_accuracy: 0.9440\n",
      "Epoch 479/500\n",
      "16/16 [==============================] - 0s 23ms/step - loss: 7.6046e-04 - categorical_accuracy: 1.0000 - val_loss: 0.2741 - val_categorical_accuracy: 0.9440\n",
      "Epoch 480/500\n",
      "16/16 [==============================] - 0s 24ms/step - loss: 0.0012 - categorical_accuracy: 1.0000 - val_loss: 0.3619 - val_categorical_accuracy: 0.9440\n",
      "Epoch 481/500\n",
      "16/16 [==============================] - 0s 23ms/step - loss: 0.0014 - categorical_accuracy: 1.0000 - val_loss: 0.4079 - val_categorical_accuracy: 0.9440\n",
      "Epoch 482/500\n",
      "16/16 [==============================] - 0s 24ms/step - loss: 0.0150 - categorical_accuracy: 0.9980 - val_loss: 0.2409 - val_categorical_accuracy: 0.9520\n",
      "Epoch 483/500\n",
      "16/16 [==============================] - 0s 24ms/step - loss: 0.0021 - categorical_accuracy: 1.0000 - val_loss: 0.3055 - val_categorical_accuracy: 0.9440\n",
      "Epoch 484/500\n",
      "16/16 [==============================] - 0s 24ms/step - loss: 6.5860e-04 - categorical_accuracy: 1.0000 - val_loss: 0.3917 - val_categorical_accuracy: 0.9200\n",
      "Epoch 485/500\n",
      "16/16 [==============================] - 0s 24ms/step - loss: 0.0014 - categorical_accuracy: 1.0000 - val_loss: 0.3970 - val_categorical_accuracy: 0.9280\n",
      "Epoch 486/500\n",
      "16/16 [==============================] - 0s 24ms/step - loss: 4.3087e-04 - categorical_accuracy: 1.0000 - val_loss: 0.4732 - val_categorical_accuracy: 0.9280\n",
      "Epoch 487/500\n",
      "16/16 [==============================] - 0s 25ms/step - loss: 0.0040 - categorical_accuracy: 0.9960 - val_loss: 0.3894 - val_categorical_accuracy: 0.9360\n",
      "Epoch 488/500\n",
      "16/16 [==============================] - 0s 24ms/step - loss: 9.8477e-05 - categorical_accuracy: 1.0000 - val_loss: 0.3266 - val_categorical_accuracy: 0.9360\n",
      "Epoch 489/500\n",
      "16/16 [==============================] - 0s 23ms/step - loss: 0.0019 - categorical_accuracy: 1.0000 - val_loss: 0.3205 - val_categorical_accuracy: 0.9440\n",
      "Epoch 490/500\n",
      "16/16 [==============================] - 0s 24ms/step - loss: 0.0015 - categorical_accuracy: 1.0000 - val_loss: 0.3228 - val_categorical_accuracy: 0.9440\n",
      "Epoch 491/500\n",
      "16/16 [==============================] - 0s 24ms/step - loss: 2.6929e-04 - categorical_accuracy: 1.0000 - val_loss: 0.3289 - val_categorical_accuracy: 0.9440\n",
      "Epoch 492/500\n",
      "16/16 [==============================] - 0s 24ms/step - loss: 1.5629e-04 - categorical_accuracy: 1.0000 - val_loss: 0.3286 - val_categorical_accuracy: 0.9440\n",
      "Epoch 493/500\n",
      "16/16 [==============================] - 0s 24ms/step - loss: 0.0068 - categorical_accuracy: 0.9980 - val_loss: 0.4431 - val_categorical_accuracy: 0.9440\n",
      "Epoch 494/500\n",
      "16/16 [==============================] - 0s 24ms/step - loss: 0.0021 - categorical_accuracy: 0.9980 - val_loss: 0.4926 - val_categorical_accuracy: 0.9440\n",
      "Epoch 495/500\n",
      "16/16 [==============================] - 0s 24ms/step - loss: 1.9070e-04 - categorical_accuracy: 1.0000 - val_loss: 0.4827 - val_categorical_accuracy: 0.9440\n",
      "Epoch 496/500\n",
      "16/16 [==============================] - 0s 24ms/step - loss: 0.0014 - categorical_accuracy: 1.0000 - val_loss: 0.5006 - val_categorical_accuracy: 0.9360\n",
      "Epoch 497/500\n",
      "16/16 [==============================] - 0s 24ms/step - loss: 8.5796e-04 - categorical_accuracy: 1.0000 - val_loss: 0.4914 - val_categorical_accuracy: 0.9360\n",
      "Epoch 498/500\n",
      "16/16 [==============================] - 0s 24ms/step - loss: 4.7972e-04 - categorical_accuracy: 1.0000 - val_loss: 0.4816 - val_categorical_accuracy: 0.9360\n",
      "Epoch 499/500\n",
      "16/16 [==============================] - 0s 24ms/step - loss: 5.7910e-05 - categorical_accuracy: 1.0000 - val_loss: 0.4771 - val_categorical_accuracy: 0.9360\n",
      "Epoch 500/500\n",
      "16/16 [==============================] - 0s 24ms/step - loss: 5.4242e-05 - categorical_accuracy: 1.0000 - val_loss: 0.4757 - val_categorical_accuracy: 0.9440\n"
     ]
    }
   ],
   "source": [
    "history = model.fit(X_train, y_train, validation_split=0.2, epochs=500)"
   ]
  },
  {
   "cell_type": "code",
   "execution_count": 96,
   "id": "8df847cc",
   "metadata": {},
   "outputs": [
    {
     "name": "stdout",
     "output_type": "stream",
     "text": [
      "Accuracy Score: 0.9358974358974359\n"
     ]
    }
   ],
   "source": [
    "from sklearn.metrics import multilabel_confusion_matrix, confusion_matrix, accuracy_score, precision_recall_fscore_support\n",
    "yhat = model.predict(X_test)\n",
    "ytrue = np.argmax(y_test, axis=1).tolist()\n",
    "yhat = np.argmax(yhat, axis=1).tolist()\n",
    "\n",
    "print(\"Accuracy Score: {}\".format(accuracy_score(ytrue, yhat)))"
   ]
  },
  {
   "cell_type": "code",
   "execution_count": 97,
   "id": "c600e018",
   "metadata": {},
   "outputs": [
    {
     "name": "stdout",
     "output_type": "stream",
     "text": [
      "dict_keys(['loss', 'categorical_accuracy', 'val_loss', 'val_categorical_accuracy'])\n"
     ]
    }
   ],
   "source": [
    "print(history.history.keys())"
   ]
  },
  {
   "cell_type": "code",
   "execution_count": 98,
   "id": "1184301b",
   "metadata": {},
   "outputs": [
    {
     "name": "stdout",
     "output_type": "stream",
     "text": [
      "Model: \"sequential_11\"\n",
      "_________________________________________________________________\n",
      " Layer (type)                Output Shape              Param #   \n",
      "=================================================================\n",
      " conv2d_44 (Conv2D)          (None, 30, 42, 32)        896       \n",
      "                                                                 \n",
      " max_pooling2d_33 (MaxPoolin  (None, 15, 21, 32)       0         \n",
      " g2D)                                                            \n",
      "                                                                 \n",
      " conv2d_45 (Conv2D)          (None, 13, 19, 64)        18496     \n",
      "                                                                 \n",
      " max_pooling2d_34 (MaxPoolin  (None, 6, 9, 64)         0         \n",
      " g2D)                                                            \n",
      "                                                                 \n",
      " conv2d_46 (Conv2D)          (None, 4, 7, 128)         73856     \n",
      "                                                                 \n",
      " conv2d_47 (Conv2D)          (None, 2, 5, 256)         295168    \n",
      "                                                                 \n",
      " max_pooling2d_35 (MaxPoolin  (None, 1, 2, 256)        0         \n",
      " g2D)                                                            \n",
      "                                                                 \n",
      " flatten_11 (Flatten)        (None, 512)               0         \n",
      "                                                                 \n",
      " dense_33 (Dense)            (None, 128)               65664     \n",
      "                                                                 \n",
      " dropout_22 (Dropout)        (None, 128)               0         \n",
      "                                                                 \n",
      " dense_34 (Dense)            (None, 64)                8256      \n",
      "                                                                 \n",
      " dropout_23 (Dropout)        (None, 64)                0         \n",
      "                                                                 \n",
      " dense_35 (Dense)            (None, 26)                1690      \n",
      "                                                                 \n",
      "=================================================================\n",
      "Total params: 464,026\n",
      "Trainable params: 464,026\n",
      "Non-trainable params: 0\n",
      "_________________________________________________________________\n"
     ]
    }
   ],
   "source": [
    "model.summary()"
   ]
  },
  {
   "cell_type": "code",
   "execution_count": 99,
   "id": "4730fa35",
   "metadata": {},
   "outputs": [
    {
     "data": {
      "text/plain": [
       "500"
      ]
     },
     "execution_count": 99,
     "metadata": {},
     "output_type": "execute_result"
    }
   ],
   "source": [
    "len(history.history['categorical_accuracy'])"
   ]
  },
  {
   "cell_type": "code",
   "execution_count": 101,
   "id": "3b02b8f5",
   "metadata": {},
   "outputs": [
    {
     "data": {
      "image/png": "[encoded data removed]",
      "text/plain": [
       "<Figure size 432x288 with 1 Axes>"
      ]
     },
     "metadata": {
      "needs_background": "light"
     },
     "output_type": "display_data"
    }
   ],
   "source": [
    "# summarize history for accuracy\n",
    "plt.plot(history.history['categorical_accuracy'])\n",
    "plt.plot(history.history['val_categorical_accuracy'])\n",
    "plt.title('Model accuracy')\n",
    "plt.ylabel('Accuracy')\n",
    "plt.xlabel('Epoch')\n",
    "plt.legend(['Train', 'Test'], loc='lower left')\n",
    "#plt.show()\n",
    "plt.savefig('accuracy_custom.pdf', dpi = 700)"
   ]
  },
  {
   "cell_type": "code",
   "execution_count": 102,
   "id": "dd6f4b76",
   "metadata": {},
   "outputs": [
    {
     "data": {
      "image/png": "[encoded data removed]",
      "text/plain": [
       "<Figure size 432x288 with 1 Axes>"
      ]
     },
     "metadata": {
      "needs_background": "light"
     },
     "output_type": "display_data"
    }
   ],
   "source": [
    "# summarize history for loss\n",
    "plt.plot(history.history['loss'])\n",
    "plt.plot(history.history['val_loss'])\n",
    "plt.title('Model loss')\n",
    "plt.ylabel('Loss')\n",
    "plt.xlabel('Epoch')\n",
    "plt.legend(['Train', 'Test'], loc='upper left')\n",
    "#plt.show()\n",
    "plt.savefig('loss_custom.pdf', dpi = 700)"
   ]
  },
  {
   "cell_type": "code",
   "execution_count": null,
   "id": "1beef07f",
   "metadata": {},
   "outputs": [],
   "source": [
    "! pip install pydot"
   ]
  },
  {
   "cell_type": "code",
   "execution_count": 103,
   "id": "41873402",
   "metadata": {},
   "outputs": [],
   "source": [
    "from tensorflow.keras.utils import plot_model\n",
    "\n",
    "#model = ResNet50(weights='imagenet')\n",
    "plot_model(model, to_file='model_custom.pdf', dpi = 700, show_shapes=True)"
   ]
  },
  {
   "cell_type": "code",
   "execution_count": 104,
   "id": "f73c99f3",
   "metadata": {},
   "outputs": [],
   "source": [
    "# Step 8 - Make prediction\n",
    "res = model.predict(X_test)"
   ]
  },
  {
   "cell_type": "code",
   "execution_count": 105,
   "id": "050530cd",
   "metadata": {},
   "outputs": [
    {
     "data": {
      "text/plain": [
       "'T'"
      ]
     },
     "execution_count": 105,
     "metadata": {},
     "output_type": "execute_result"
    }
   ],
   "source": [
    "actions[np.argmax(res[0])]"
   ]
  },
  {
   "cell_type": "code",
   "execution_count": 106,
   "id": "3844a38d",
   "metadata": {},
   "outputs": [
    {
     "data": {
      "text/plain": [
       "'T'"
      ]
     },
     "execution_count": 106,
     "metadata": {},
     "output_type": "execute_result"
    }
   ],
   "source": [
    "actions[np.argmax(y_test[0])]"
   ]
  },
  {
   "cell_type": "code",
   "execution_count": 107,
   "id": "880c4b32",
   "metadata": {},
   "outputs": [],
   "source": [
    "from sklearn.metrics import multilabel_confusion_matrix, confusion_matrix, accuracy_score, precision_recall_fscore_support"
   ]
  },
  {
   "cell_type": "code",
   "execution_count": 108,
   "id": "490d85d0",
   "metadata": {},
   "outputs": [
    {
     "data": {
      "image/png": "[encoded data removed]",
      "text/plain": [
       "<Figure size 1440x720 with 2 Axes>"
      ]
     },
     "metadata": {},
     "output_type": "display_data"
    }
   ],
   "source": [
    "import seaborn as sns\n",
    "yhat = model.predict(X_test)\n",
    "ytrue = np.argmax(y_test, axis=1)\n",
    "yhat = np.argmax(yhat, axis=1)\n",
    "\n",
    "cf_matr = confusion_matrix(ytrue, yhat)\n",
    "sns.set(rc = {'figure.figsize':(20, 10)})\n",
    "hmap = sns.heatmap(cf_matr,xticklabels=actions,yticklabels=actions)\n",
    "hmap\n",
    "figure = hmap.get_figure()  \n",
    "#figure\n",
    "#figure.savefig('Confusion_matrix.pdf', dpi=700)"
   ]
  },
  {
   "cell_type": "code",
   "execution_count": 109,
   "id": "3ee1d088",
   "metadata": {},
   "outputs": [
    {
     "name": "stdout",
     "output_type": "stream",
     "text": [
      "Precision Score: 0.9329212454212455\n",
      "Recall Score: 0.9286935286935287\n",
      "F1 Score: 0.9241946127752272\n",
      "F Beta Score for Beta as 0.5 = 0.9273585870477405\n"
     ]
    }
   ],
   "source": [
    "from sklearn.metrics import fbeta_score \n",
    "(precision, recall, f1_score, _) = precision_recall_fscore_support(ytrue, yhat, average='macro')\n",
    "print(\"Precision Score: {}\\nRecall Score: {}\\nF1 Score: {}\".format(precision, recall, f1_score))\n",
    "print(\"F Beta Score for Beta as 0.5 = {}\".format(fbeta_score(ytrue, yhat, average='macro', beta=0.5)))"
   ]
  },
  {
   "cell_type": "code",
   "execution_count": 110,
   "id": "66772715",
   "metadata": {},
   "outputs": [
    {
     "name": "stdout",
     "output_type": "stream",
     "text": [
      "              precision    recall  f1-score   support\n",
      "\n",
      "           A       1.00      1.00      1.00         8\n",
      "           B       1.00      1.00      1.00         5\n",
      "           C       1.00      1.00      1.00         7\n",
      "           D       1.00      1.00      1.00         5\n",
      "           E       1.00      1.00      1.00         3\n",
      "           F       1.00      0.90      0.95        10\n",
      "           G       0.75      0.90      0.82        10\n",
      "           H       1.00      1.00      1.00        10\n",
      "           I       0.50      0.50      0.50         2\n",
      "           J       0.86      1.00      0.92         6\n",
      "           K       1.00      1.00      1.00         2\n",
      "           L       0.86      1.00      0.92         6\n",
      "           M       1.00      0.80      0.89         5\n",
      "           N       1.00      1.00      1.00         5\n",
      "           O       0.88      1.00      0.93         7\n",
      "           P       1.00      1.00      1.00         6\n",
      "           Q       1.00      0.86      0.92         7\n",
      "           R       1.00      1.00      1.00         7\n",
      "           S       1.00      1.00      1.00         6\n",
      "           T       1.00      0.80      0.89         5\n",
      "           U       1.00      0.50      0.67         6\n",
      "           V       1.00      0.89      0.94         9\n",
      "           W       0.83      1.00      0.91         5\n",
      "           X       0.83      1.00      0.91         5\n",
      "           Y       0.75      1.00      0.86         3\n",
      "           Z       1.00      1.00      1.00         6\n",
      "\n",
      "    accuracy                           0.94       156\n",
      "   macro avg       0.93      0.93      0.92       156\n",
      "weighted avg       0.95      0.94      0.93       156\n",
      "\n"
     ]
    }
   ],
   "source": [
    "from sklearn.metrics import classification_report\n",
    "print(classification_report(ytrue, yhat, target_names=actions))"
   ]
  },
  {
   "cell_type": "code",
   "execution_count": 111,
   "id": "44f72c9f",
   "metadata": {},
   "outputs": [
    {
     "name": "stdout",
     "output_type": "stream",
     "text": [
      "Hamming Loss: 0.0641025641025641\n"
     ]
    }
   ],
   "source": [
    "from sklearn.metrics import hamming_loss\n",
    "print(\"Hamming Loss: {}\".format(hamming_loss(ytrue, yhat)))"
   ]
  },
  {
   "cell_type": "code",
   "execution_count": 112,
   "id": "c1b71974",
   "metadata": {},
   "outputs": [
    {
     "name": "stdout",
     "output_type": "stream",
     "text": [
      "Jaccard Score: 0.8760625058701983\n",
      "Matthews correlation coefficient: 0.9334709474777175\n"
     ]
    }
   ],
   "source": [
    "from sklearn.metrics import jaccard_score, matthews_corrcoef\n",
    "print(\"Jaccard Score: {}\".format(jaccard_score(ytrue, yhat, average='macro')))\n",
    "print(\"Matthews correlation coefficient: {}\".format(matthews_corrcoef(ytrue, yhat)))"
   ]
  },
  {
   "cell_type": "code",
   "execution_count": 113,
   "id": "6245c168",
   "metadata": {},
   "outputs": [],
   "source": [
    "import pandas as pd\n",
    "import matplotlib.pyplot as plt\n",
    "\n",
    "\n",
    "def print_confusion_matrix(confusion_matrix, axes, class_label, class_names, fontsize=14):\n",
    "\n",
    "    df_cm = pd.DataFrame(\n",
    "        confusion_matrix, index=class_names, columns=class_names,\n",
    "    )\n",
    "\n",
    "    try:\n",
    "        heatmap = sns.heatmap(df_cm, annot=True, fmt=\"d\", cbar=False, ax=axes)\n",
    "    except ValueError:\n",
    "        raise ValueError(\"Confusion matrix values must be integers.\")\n",
    "    heatmap.yaxis.set_ticklabels(heatmap.yaxis.get_ticklabels(), rotation=0, ha='right', fontsize=fontsize)\n",
    "    heatmap.xaxis.set_ticklabels(heatmap.xaxis.get_ticklabels(), rotation=45, ha='right', fontsize=fontsize)\n",
    "    axes.set_ylabel('True label')\n",
    "    axes.set_xlabel('Predicted label')\n",
    "    axes.set_title(\"Confusion Matrix for the class - \" + class_label)"
   ]
  },
  {
   "cell_type": "code",
   "execution_count": 114,
   "id": "be42467e",
   "metadata": {},
   "outputs": [
    {
     "data": {
      "text/plain": [
       "array(['M', 'N', 'O', 'P', 'Q', 'R', 'S', 'T', 'U', 'V', 'W', 'X', 'Y',\n",
       "       'Z'], dtype='<U1')"
      ]
     },
     "execution_count": 114,
     "metadata": {},
     "output_type": "execute_result"
    }
   ],
   "source": [
    "actions[12:]"
   ]
  },
  {
   "cell_type": "code",
   "execution_count": 115,
   "id": "cc684288",
   "metadata": {},
   "outputs": [
    {
     "data": {
      "image/png": "[encoded data removed]",
      "text/plain": [
       "<Figure size 720x1440 with 12 Axes>"
      ]
     },
     "metadata": {},
     "output_type": "display_data"
    }
   ],
   "source": [
    "fig, ax = plt.subplots(6, 2, figsize=(10, 20))\n",
    "conf_matrix = multilabel_confusion_matrix(ytrue, yhat)\n",
    "    \n",
    "for axes, cfs_matrix, label in zip(ax.flatten(), conf_matrix[0:12], actions[0:12]):\n",
    "    print_confusion_matrix(cfs_matrix, axes, label, [\"F\", \"T\"])\n",
    "\n",
    "fig.tight_layout()\n",
    "plt.show()\n",
    "#plt.savefig('conf_mat.pdf', dpi = 700)"
   ]
  },
  {
   "cell_type": "code",
   "execution_count": 116,
   "id": "7bdbc5a8",
   "metadata": {},
   "outputs": [
    {
     "data": {
      "image/png": "[encoded data removed]",
      "text/plain": [
       "<Figure size 720x1728 with 14 Axes>"
      ]
     },
     "metadata": {},
     "output_type": "display_data"
    }
   ],
   "source": [
    "fig, ax = plt.subplots(7, 2, figsize=(10, 24))\n",
    "    \n",
    "for axes, cfs_matrix, label in zip(ax.flatten(), conf_matrix[12:], actions[12:]):\n",
    "    print_confusion_matrix(cfs_matrix, axes, label, [\"F\", \"T\"])\n",
    "\n",
    "fig.tight_layout()\n",
    "plt.show()\n",
    "#plt.savefig('conf_mat2.pdf', dpi = 700)"
   ]
  },
  {
   "cell_type": "code",
   "execution_count": 117,
   "id": "fa10e646",
   "metadata": {},
   "outputs": [],
   "source": [
    "# Uncomment to save your model\n",
    "model.save('weights_custom.h5')"
   ]
  },
  {
   "cell_type": "code",
   "execution_count": 118,
   "id": "f8250c41",
   "metadata": {},
   "outputs": [],
   "source": [
    "# import tensorflow as tf\n",
    "# import tensorflow_hub as hub\n",
    "# from tensorflow import lite\n",
    "\n",
    "# SAVED_MODEL = \"saved_models\"\n",
    "# tf.saved_model.save(model, SAVED_MODEL)"
   ]
  },
  {
   "cell_type": "code",
   "execution_count": 119,
   "id": "47dd0e88",
   "metadata": {},
   "outputs": [],
   "source": [
    "# #sigmodel = hub.load(SAVED_MODEL)\n",
    "# TFLITE_MODEL = \"tflite_models/sign.tflite\"\n",
    "# TFLITE_QUANT_MODEL = \"tflite_models/sign_quant.tflite\""
   ]
  },
  {
   "cell_type": "code",
   "execution_count": 120,
   "id": "c3c36a2d",
   "metadata": {},
   "outputs": [],
   "source": [
    "# def convert_to_tflite():\n",
    "#     converter = lite.TFLiteConverter.from_keras_model(model)\n",
    "\n",
    "#     converter.optimizations = [tf.lite.Optimize.DEFAULT]\n",
    "#     converter.experimental_new_converter = True\n",
    "#     converter.target_spec.supported_ops = [tf.lite.OpsSet.TFLITE_BUILTINS,\n",
    "#                                            tf.lite.OpsSet.SELECT_TF_OPS]\n",
    "\n",
    "#     converted_tflite_model = converter.convert()\n",
    "#     open(TFLITE_MODEL, \"wb\").write(converted_tflite_model)\n",
    "\n",
    "#     converter = lite.TFLiteConverter.from_keras_model(model)\n",
    "#     converter.optimizations = [tf.lite.Optimize.OPTIMIZE_FOR_SIZE]\n",
    "#     converter.experimental_new_converter = True\n",
    "#     converter.target_spec.supported_ops = [tf.lite.OpsSet.TFLITE_BUILTINS,\n",
    "#                                            tf.lite.OpsSet.SELECT_TF_OPS]\n",
    "\n",
    "#     tflite_quant_model = converter.convert()\n",
    "#     open(TFLITE_QUANT_MODEL, \"wb\").write(tflite_quant_model)"
   ]
  },
  {
   "cell_type": "code",
   "execution_count": 121,
   "id": "42a64831",
   "metadata": {},
   "outputs": [],
   "source": [
    "#convert_to_tflite()"
   ]
  },
  {
   "cell_type": "code",
   "execution_count": 122,
   "id": "a440220b",
   "metadata": {},
   "outputs": [],
   "source": [
    "# def use_tflite(X_test, y_test):\n",
    "#     X_test = np.float32(X_test)\n",
    "#     y_test = np.float32(y_test)\n",
    "    \n",
    "#     tflite_interpreter = tf.lite.Interpreter(model_path=TFLITE_MODEL)\n",
    "\n",
    "#     input_details = tflite_interpreter.get_input_details()\n",
    "#     output_details = tflite_interpreter.get_output_details()\n",
    "\n",
    "#     tflite_interpreter.resize_tensor_input(\n",
    "#         input_details[0]['index'], X_test.shape)\n",
    "#     tflite_interpreter.resize_tensor_input(\n",
    "#         output_details[0]['index'], y_test.shape)\n",
    "#     tflite_interpreter.allocate_tensors()\n",
    "\n",
    "#     input_details = tflite_interpreter.get_input_details()\n",
    "#     output_details = tflite_interpreter.get_output_details()\n",
    "\n",
    "#     # Load quantized TFLite model\n",
    "#     tflite_interpreter_quant = tf.lite.Interpreter(\n",
    "#         model_path=TFLITE_QUANT_MODEL)\n",
    "\n",
    "#     # Learn about its input and output details\n",
    "#     input_details = tflite_interpreter_quant.get_input_details()\n",
    "#     output_details = tflite_interpreter_quant.get_output_details()\n",
    "\n",
    "#     # Resize input and output tensors\n",
    "#     tflite_interpreter_quant.resize_tensor_input(\n",
    "#         input_details[0]['index'], X_test.shape)\n",
    "#     tflite_interpreter_quant.resize_tensor_input(\n",
    "#         output_details[0]['index'], y_test.shape)\n",
    "#     tflite_interpreter_quant.allocate_tensors()\n",
    "\n",
    "#     input_details = tflite_interpreter_quant.get_input_details()\n",
    "#     output_details = tflite_interpreter_quant.get_output_details()\n",
    "\n",
    "#     # Run inference\n",
    "#     tflite_interpreter_quant.set_tensor(input_details[0]['index'], X_test)\n",
    "\n",
    "#     tflite_interpreter_quant.invoke()\n",
    "\n",
    "#     tflite_q_model_predictions = tflite_interpreter_quant.get_tensor(\n",
    "#         output_details[0]['index'])\n",
    "# #print(\"\\nPrediction results shape:\", tflite_q_model_predictions.shape)"
   ]
  },
  {
   "cell_type": "code",
   "execution_count": 123,
   "id": "9f3171c2",
   "metadata": {},
   "outputs": [],
   "source": [
    "#use_tflite(X_test, y_test)"
   ]
  },
  {
   "cell_type": "code",
   "execution_count": 17,
   "id": "450d905a",
   "metadata": {},
   "outputs": [],
   "source": [
    "new_actions = np.array(['C', 'O'])\n",
    "new_label_map = {label:num for num, label in enumerate(new_actions)}\n",
    "new_label_map\n",
    "sequence_length = 30"
   ]
  },
  {
   "cell_type": "code",
   "execution_count": 18,
   "id": "ec83e673",
   "metadata": {},
   "outputs": [],
   "source": [
    "sequences, labels = [], []\n",
    "for action in new_actions:\n",
    "    for sequence in range(no_sequences):\n",
    "        window = []\n",
    "        for frame_num in range(sequence_length):\n",
    "            res = np.load(os.path.join(DATA_PATH, action, str(sequence), \"{}.npy\".format(frame_num)))\n",
    "            window.append(res)\n",
    "        sequences.append(window)\n",
    "        labels.append(new_label_map[action])"
   ]
  },
  {
   "cell_type": "code",
   "execution_count": 19,
   "id": "ebd9249b",
   "metadata": {},
   "outputs": [],
   "source": [
    "X = np.array(sequences)"
   ]
  },
  {
   "cell_type": "code",
   "execution_count": 20,
   "id": "962354ef",
   "metadata": {},
   "outputs": [],
   "source": [
    "y = to_categorical(labels).astype(int)"
   ]
  },
  {
   "cell_type": "code",
   "execution_count": 21,
   "id": "998d1020",
   "metadata": {},
   "outputs": [],
   "source": [
    "X_train, X_test, y_train, y_test = train_test_split(X, y, test_size=0.3)"
   ]
  },
  {
   "cell_type": "code",
   "execution_count": 22,
   "id": "b8359882",
   "metadata": {},
   "outputs": [
    {
     "data": {
      "text/plain": [
       "(42, 30, 126)"
      ]
     },
     "execution_count": 22,
     "metadata": {},
     "output_type": "execute_result"
    }
   ],
   "source": [
    "X_train.shape"
   ]
  },
  {
   "cell_type": "code",
   "execution_count": 23,
   "id": "6b1a5d4e",
   "metadata": {},
   "outputs": [
    {
     "data": {
      "text/plain": [
       "(42, 2)"
      ]
     },
     "execution_count": 23,
     "metadata": {},
     "output_type": "execute_result"
    }
   ],
   "source": [
    "y_train.shape"
   ]
  },
  {
   "cell_type": "code",
   "execution_count": 24,
   "id": "e9dec17d",
   "metadata": {},
   "outputs": [],
   "source": [
    "from tensorflow.keras.layers import Conv1D, MaxPool1D"
   ]
  },
  {
   "cell_type": "code",
   "execution_count": 25,
   "id": "97ff31f8",
   "metadata": {},
   "outputs": [],
   "source": [
    "# CNN Model\n",
    "model = Sequential()\n",
    "\n",
    "model.add(Conv1D(filters=32, kernel_size=3, activation='relu', input_shape=X_train.shape[1:]))\n",
    "model.add(MaxPool1D(pool_size=2, strides=None))\n",
    "\n",
    "model.add(Conv1D(filters=64, kernel_size=3, activation='relu', padding = 'same'))\n",
    "model.add(MaxPool1D(pool_size=2, strides=None))\n",
    "\n",
    "model.add(Conv1D(filters=128, kernel_size=3, activation='relu', padding = 'valid'))\n",
    "model.add(MaxPool1D(pool_size=2, strides=None))\n",
    "\n",
    "model.add(Flatten())\n",
    "\n",
    "model.add(Dense(64,activation =\"relu\"))\n",
    "model.add(Dropout(0.2))\n",
    "model.add(Dense(128,activation =\"relu\"))\n",
    "model.add(Dropout(0.3))\n",
    "model.add(Dense(new_actions.shape[0],activation =\"softmax\"))"
   ]
  },
  {
   "cell_type": "code",
   "execution_count": 26,
   "id": "de10265a",
   "metadata": {},
   "outputs": [],
   "source": [
    "model.compile(optimizer='Adam', loss='categorical_crossentropy', metrics=['categorical_accuracy'])"
   ]
  },
  {
   "cell_type": "code",
   "execution_count": 27,
   "id": "a0fa8f91",
   "metadata": {},
   "outputs": [
    {
     "name": "stdout",
     "output_type": "stream",
     "text": [
      "Epoch 1/100\n",
      "2/2 [==============================] - 3s 178ms/step - loss: 0.6896 - categorical_accuracy: 0.5476\n",
      "Epoch 2/100\n",
      "2/2 [==============================] - 0s 16ms/step - loss: 0.6844 - categorical_accuracy: 0.6429\n",
      "Epoch 3/100\n",
      "2/2 [==============================] - 0s 12ms/step - loss: 0.6819 - categorical_accuracy: 0.6667\n",
      "Epoch 4/100\n",
      "2/2 [==============================] - 0s 16ms/step - loss: 0.6746 - categorical_accuracy: 0.5952\n",
      "Epoch 5/100\n",
      "2/2 [==============================] - 0s 11ms/step - loss: 0.6625 - categorical_accuracy: 0.6190\n",
      "Epoch 6/100\n",
      "2/2 [==============================] - 0s 15ms/step - loss: 0.6433 - categorical_accuracy: 0.7143\n",
      "Epoch 7/100\n",
      "2/2 [==============================] - 0s 14ms/step - loss: 0.6426 - categorical_accuracy: 0.6667\n",
      "Epoch 8/100\n",
      "2/2 [==============================] - 0s 15ms/step - loss: 0.6219 - categorical_accuracy: 0.6905\n",
      "Epoch 9/100\n",
      "2/2 [==============================] - 0s 16ms/step - loss: 0.5975 - categorical_accuracy: 0.7381\n",
      "Epoch 10/100\n",
      "2/2 [==============================] - 0s 13ms/step - loss: 0.5603 - categorical_accuracy: 0.8333\n",
      "Epoch 11/100\n",
      "2/2 [==============================] - 0s 15ms/step - loss: 0.5166 - categorical_accuracy: 0.8571\n",
      "Epoch 12/100\n",
      "2/2 [==============================] - 0s 16ms/step - loss: 0.5040 - categorical_accuracy: 0.7857\n",
      "Epoch 13/100\n",
      "2/2 [==============================] - 0s 17ms/step - loss: 0.4409 - categorical_accuracy: 0.8333\n",
      "Epoch 14/100\n",
      "2/2 [==============================] - 0s 14ms/step - loss: 0.4039 - categorical_accuracy: 0.8571\n",
      "Epoch 15/100\n",
      "2/2 [==============================] - 0s 10ms/step - loss: 0.3338 - categorical_accuracy: 0.9048\n",
      "Epoch 16/100\n",
      "2/2 [==============================] - 0s 16ms/step - loss: 0.3433 - categorical_accuracy: 0.8571\n",
      "Epoch 17/100\n",
      "2/2 [==============================] - 0s 15ms/step - loss: 0.2915 - categorical_accuracy: 0.9048\n",
      "Epoch 18/100\n",
      "2/2 [==============================] - 0s 16ms/step - loss: 0.2773 - categorical_accuracy: 0.9048\n",
      "Epoch 19/100\n",
      "2/2 [==============================] - 0s 15ms/step - loss: 0.1833 - categorical_accuracy: 0.9286\n",
      "Epoch 20/100\n",
      "2/2 [==============================] - 0s 15ms/step - loss: 0.2364 - categorical_accuracy: 0.9048\n",
      "Epoch 21/100\n",
      "2/2 [==============================] - 0s 10ms/step - loss: 0.1460 - categorical_accuracy: 0.9286\n",
      "Epoch 22/100\n",
      "2/2 [==============================] - 0s 16ms/step - loss: 0.1890 - categorical_accuracy: 0.9048\n",
      "Epoch 23/100\n",
      "2/2 [==============================] - 0s 17ms/step - loss: 0.1078 - categorical_accuracy: 0.9762\n",
      "Epoch 24/100\n",
      "2/2 [==============================] - 0s 16ms/step - loss: 0.1250 - categorical_accuracy: 0.9524\n",
      "Epoch 25/100\n",
      "2/2 [==============================] - 0s 15ms/step - loss: 0.1532 - categorical_accuracy: 0.9286\n",
      "Epoch 26/100\n",
      "2/2 [==============================] - 0s 17ms/step - loss: 0.2476 - categorical_accuracy: 0.9048\n",
      "Epoch 27/100\n",
      "2/2 [==============================] - 0s 15ms/step - loss: 0.1605 - categorical_accuracy: 0.8810\n",
      "Epoch 28/100\n",
      "2/2 [==============================] - 0s 19ms/step - loss: 0.4738 - categorical_accuracy: 0.8333\n",
      "Epoch 29/100\n",
      "2/2 [==============================] - 0s 10ms/step - loss: 0.2144 - categorical_accuracy: 0.9048\n",
      "Epoch 30/100\n",
      "2/2 [==============================] - 0s 12ms/step - loss: 0.1525 - categorical_accuracy: 0.9286\n",
      "Epoch 31/100\n",
      "2/2 [==============================] - 0s 21ms/step - loss: 0.3225 - categorical_accuracy: 0.9048\n",
      "Epoch 32/100\n",
      "2/2 [==============================] - 0s 22ms/step - loss: 0.3188 - categorical_accuracy: 0.9048\n",
      "Epoch 33/100\n",
      "2/2 [==============================] - 0s 16ms/step - loss: 0.1887 - categorical_accuracy: 0.9286\n",
      "Epoch 34/100\n",
      "2/2 [==============================] - 0s 22ms/step - loss: 0.1003 - categorical_accuracy: 0.9762\n",
      "Epoch 35/100\n",
      "2/2 [==============================] - 0s 20ms/step - loss: 0.2002 - categorical_accuracy: 0.9048\n",
      "Epoch 36/100\n",
      "2/2 [==============================] - 0s 12ms/step - loss: 0.2427 - categorical_accuracy: 0.8571\n",
      "Epoch 37/100\n",
      "2/2 [==============================] - 0s 16ms/step - loss: 0.1633 - categorical_accuracy: 0.9286\n",
      "Epoch 38/100\n",
      "2/2 [==============================] - 0s 16ms/step - loss: 0.1479 - categorical_accuracy: 0.9286\n",
      "Epoch 39/100\n",
      "2/2 [==============================] - 0s 19ms/step - loss: 0.1114 - categorical_accuracy: 0.9762\n",
      "Epoch 40/100\n",
      "2/2 [==============================] - 0s 17ms/step - loss: 0.1529 - categorical_accuracy: 0.9524\n",
      "Epoch 41/100\n",
      "2/2 [==============================] - 0s 15ms/step - loss: 0.1894 - categorical_accuracy: 0.9524\n",
      "Epoch 42/100\n",
      "2/2 [==============================] - 0s 15ms/step - loss: 0.1701 - categorical_accuracy: 0.9524\n",
      "Epoch 43/100\n",
      "2/2 [==============================] - 0s 16ms/step - loss: 0.1153 - categorical_accuracy: 0.9524\n",
      "Epoch 44/100\n",
      "2/2 [==============================] - 0s 20ms/step - loss: 0.0875 - categorical_accuracy: 0.9524\n",
      "Epoch 45/100\n",
      "2/2 [==============================] - 0s 18ms/step - loss: 0.0729 - categorical_accuracy: 0.9762\n",
      "Epoch 46/100\n",
      "2/2 [==============================] - 0s 17ms/step - loss: 0.0965 - categorical_accuracy: 0.9762\n",
      "Epoch 47/100\n",
      "2/2 [==============================] - 0s 15ms/step - loss: 0.0836 - categorical_accuracy: 0.9762\n",
      "Epoch 48/100\n",
      "2/2 [==============================] - 0s 19ms/step - loss: 0.0609 - categorical_accuracy: 0.9762\n",
      "Epoch 49/100\n",
      "2/2 [==============================] - 0s 16ms/step - loss: 0.0643 - categorical_accuracy: 0.9762\n",
      "Epoch 50/100\n",
      "2/2 [==============================] - 0s 22ms/step - loss: 0.0706 - categorical_accuracy: 0.9524\n",
      "Epoch 51/100\n",
      "2/2 [==============================] - 0s 18ms/step - loss: 0.0571 - categorical_accuracy: 0.9762\n",
      "Epoch 52/100\n",
      "2/2 [==============================] - 0s 16ms/step - loss: 0.0509 - categorical_accuracy: 0.9762\n",
      "Epoch 53/100\n",
      "2/2 [==============================] - 0s 16ms/step - loss: 0.0422 - categorical_accuracy: 1.0000\n",
      "Epoch 54/100\n",
      "2/2 [==============================] - 0s 11ms/step - loss: 0.0292 - categorical_accuracy: 1.0000\n",
      "Epoch 55/100\n",
      "2/2 [==============================] - 0s 20ms/step - loss: 0.0259 - categorical_accuracy: 1.0000\n",
      "Epoch 56/100\n",
      "2/2 [==============================] - 0s 14ms/step - loss: 0.0161 - categorical_accuracy: 1.0000\n",
      "Epoch 57/100\n",
      "2/2 [==============================] - 0s 14ms/step - loss: 0.0208 - categorical_accuracy: 1.0000\n",
      "Epoch 58/100\n",
      "2/2 [==============================] - 0s 16ms/step - loss: 0.0133 - categorical_accuracy: 1.0000\n",
      "Epoch 59/100\n",
      "2/2 [==============================] - 0s 13ms/step - loss: 0.0103 - categorical_accuracy: 1.0000\n",
      "Epoch 60/100\n",
      "2/2 [==============================] - 0s 15ms/step - loss: 0.0050 - categorical_accuracy: 1.0000\n",
      "Epoch 61/100\n",
      "2/2 [==============================] - 0s 15ms/step - loss: 0.0106 - categorical_accuracy: 1.0000\n",
      "Epoch 62/100\n",
      "2/2 [==============================] - 0s 10ms/step - loss: 0.0068 - categorical_accuracy: 1.0000\n",
      "Epoch 63/100\n",
      "2/2 [==============================] - 0s 22ms/step - loss: 0.0063 - categorical_accuracy: 1.0000\n",
      "Epoch 64/100\n",
      "2/2 [==============================] - 0s 18ms/step - loss: 0.0045 - categorical_accuracy: 1.0000\n",
      "Epoch 65/100\n",
      "2/2 [==============================] - 0s 23ms/step - loss: 0.0060 - categorical_accuracy: 1.0000\n",
      "Epoch 66/100\n",
      "2/2 [==============================] - 0s 18ms/step - loss: 0.0021 - categorical_accuracy: 1.0000\n",
      "Epoch 67/100\n",
      "2/2 [==============================] - 0s 16ms/step - loss: 0.0049 - categorical_accuracy: 1.0000\n",
      "Epoch 68/100\n",
      "2/2 [==============================] - 0s 15ms/step - loss: 0.0021 - categorical_accuracy: 1.0000\n",
      "Epoch 69/100\n",
      "2/2 [==============================] - 0s 13ms/step - loss: 0.0020 - categorical_accuracy: 1.0000\n",
      "Epoch 70/100\n",
      "2/2 [==============================] - 0s 17ms/step - loss: 0.0022 - categorical_accuracy: 1.0000\n",
      "Epoch 71/100\n",
      "2/2 [==============================] - 0s 13ms/step - loss: 0.0014 - categorical_accuracy: 1.0000\n",
      "Epoch 72/100\n",
      "2/2 [==============================] - 0s 11ms/step - loss: 0.0014 - categorical_accuracy: 1.0000\n",
      "Epoch 73/100\n",
      "2/2 [==============================] - 0s 14ms/step - loss: 7.9918e-04 - categorical_accuracy: 1.0000\n",
      "Epoch 74/100\n",
      "2/2 [==============================] - 0s 14ms/step - loss: 0.0013 - categorical_accuracy: 1.0000\n",
      "Epoch 75/100\n",
      "2/2 [==============================] - 0s 16ms/step - loss: 9.2544e-04 - categorical_accuracy: 1.0000\n",
      "Epoch 76/100\n",
      "2/2 [==============================] - 0s 15ms/step - loss: 9.9095e-04 - categorical_accuracy: 1.0000\n",
      "Epoch 77/100\n",
      "2/2 [==============================] - 0s 18ms/step - loss: 0.0012 - categorical_accuracy: 1.0000\n",
      "Epoch 78/100\n",
      "2/2 [==============================] - 0s 9ms/step - loss: 0.0027 - categorical_accuracy: 1.0000\n",
      "Epoch 79/100\n",
      "2/2 [==============================] - 0s 13ms/step - loss: 4.8587e-04 - categorical_accuracy: 1.0000\n",
      "Epoch 80/100\n",
      "2/2 [==============================] - 0s 15ms/step - loss: 2.6546e-04 - categorical_accuracy: 1.0000\n",
      "Epoch 81/100\n",
      "2/2 [==============================] - 0s 11ms/step - loss: 4.1788e-04 - categorical_accuracy: 1.0000\n",
      "Epoch 82/100\n",
      "2/2 [==============================] - 0s 17ms/step - loss: 8.6297e-04 - categorical_accuracy: 1.0000\n",
      "Epoch 83/100\n",
      "2/2 [==============================] - 0s 20ms/step - loss: 5.2677e-04 - categorical_accuracy: 1.0000\n",
      "Epoch 84/100\n",
      "2/2 [==============================] - 0s 15ms/step - loss: 0.0020 - categorical_accuracy: 1.0000\n",
      "Epoch 85/100\n",
      "2/2 [==============================] - 0s 17ms/step - loss: 0.0017 - categorical_accuracy: 1.0000\n",
      "Epoch 86/100\n",
      "2/2 [==============================] - 0s 12ms/step - loss: 0.0013 - categorical_accuracy: 1.0000\n",
      "Epoch 87/100\n",
      "2/2 [==============================] - 0s 15ms/step - loss: 0.0016 - categorical_accuracy: 1.0000\n",
      "Epoch 88/100\n",
      "2/2 [==============================] - 0s 16ms/step - loss: 6.4059e-04 - categorical_accuracy: 1.0000\n",
      "Epoch 89/100\n",
      "2/2 [==============================] - 0s 14ms/step - loss: 4.0651e-04 - categorical_accuracy: 1.0000\n",
      "Epoch 90/100\n",
      "2/2 [==============================] - 0s 14ms/step - loss: 9.9752e-04 - categorical_accuracy: 1.0000\n",
      "Epoch 91/100\n",
      "2/2 [==============================] - 0s 15ms/step - loss: 2.3482e-04 - categorical_accuracy: 1.0000\n",
      "Epoch 92/100\n",
      "2/2 [==============================] - 0s 19ms/step - loss: 2.1979e-04 - categorical_accuracy: 1.0000\n",
      "Epoch 93/100\n",
      "2/2 [==============================] - 0s 15ms/step - loss: 2.1381e-04 - categorical_accuracy: 1.0000\n",
      "Epoch 94/100\n",
      "2/2 [==============================] - 0s 16ms/step - loss: 1.6680e-04 - categorical_accuracy: 1.0000\n",
      "Epoch 95/100\n",
      "2/2 [==============================] - 0s 11ms/step - loss: 2.3553e-04 - categorical_accuracy: 1.0000\n",
      "Epoch 96/100\n",
      "2/2 [==============================] - 0s 16ms/step - loss: 3.5829e-04 - categorical_accuracy: 1.0000\n",
      "Epoch 97/100\n",
      "2/2 [==============================] - 0s 12ms/step - loss: 3.8763e-04 - categorical_accuracy: 1.0000\n",
      "Epoch 98/100\n",
      "2/2 [==============================] - 0s 13ms/step - loss: 2.9662e-04 - categorical_accuracy: 1.0000\n",
      "Epoch 99/100\n",
      "2/2 [==============================] - 0s 15ms/step - loss: 0.0014 - categorical_accuracy: 1.0000\n",
      "Epoch 100/100\n",
      "2/2 [==============================] - 0s 14ms/step - loss: 2.7771e-04 - categorical_accuracy: 1.0000\n"
     ]
    },
    {
     "data": {
      "text/plain": [
       "<keras.callbacks.History at 0x191e3f02c70>"
      ]
     },
     "execution_count": 27,
     "metadata": {},
     "output_type": "execute_result"
    }
   ],
   "source": [
    "model.fit(X_train, y_train, epochs=100)"
   ]
  },
  {
   "cell_type": "code",
   "execution_count": 28,
   "id": "81a6c95b",
   "metadata": {},
   "outputs": [],
   "source": [
    "#model.summary()"
   ]
  },
  {
   "cell_type": "code",
   "execution_count": 29,
   "id": "48a7a573",
   "metadata": {},
   "outputs": [
    {
     "data": {
      "text/plain": [
       "1.0"
      ]
     },
     "execution_count": 29,
     "metadata": {},
     "output_type": "execute_result"
    }
   ],
   "source": [
    "ytrue = np.argmax(y_test, axis=1).tolist()\n",
    "yhat = np.argmax(model.predict(X_test), axis=1).tolist()\n",
    "accuracy_score(ytrue, yhat)"
   ]
  },
  {
   "cell_type": "code",
   "execution_count": 30,
   "id": "48794497",
   "metadata": {},
   "outputs": [],
   "source": [
    "model.save('models/actionCO.h5')"
   ]
  },
  {
   "cell_type": "code",
   "execution_count": null,
   "id": "bacc7e9f",
   "metadata": {},
   "outputs": [],
   "source": [
    "# Step 8 - Make prediction\n",
    "#res = model.predict(X_test)"
   ]
  },
  {
   "cell_type": "code",
   "execution_count": null,
   "id": "f5d009ba",
   "metadata": {},
   "outputs": [],
   "source": [
    "# yhat = model.predict(X_test)\n",
    "# ytrue = np.argmax(y_test, axis=1)\n",
    "# yhat = np.argmax(yhat, axis=1)\n",
    "\n",
    "# cf_matr2 = confusion_matrix(ytrue, yhat)\n",
    "# sns.set(rc = {'figure.figsize':(5, 4)})\n",
    "# hmap2 = sns.heatmap(cf_matr2,xticklabels=new_actions,yticklabels=new_actions)\n",
    "# hmap2\n",
    "# figure = hmap2.get_figure()    \n",
    "# figure.savefig('Confusion_matrixCO.pdf', dpi=700)"
   ]
  },
  {
   "cell_type": "code",
   "execution_count": 31,
   "id": "4c0b23db",
   "metadata": {},
   "outputs": [
    {
     "data": {
      "text/plain": [
       "{'M': 0, 'N': 1}"
      ]
     },
     "execution_count": 31,
     "metadata": {},
     "output_type": "execute_result"
    }
   ],
   "source": [
    "new_actions = np.array(['M', 'N'])\n",
    "new_label_map = {label:num for num, label in enumerate(new_actions)}\n",
    "new_label_map"
   ]
  },
  {
   "cell_type": "code",
   "execution_count": 33,
   "id": "11974d41",
   "metadata": {},
   "outputs": [],
   "source": [
    "sequences, labels = [], []\n",
    "for action in new_actions:\n",
    "    for sequence in range(no_sequences):\n",
    "        window = []\n",
    "        for frame_num in range(sequence_length):\n",
    "            res = np.load(os.path.join(DATA_PATH, action, str(sequence), \"{}.npy\".format(frame_num)))\n",
    "            window.append(res)\n",
    "        sequences.append(window)\n",
    "        labels.append(new_label_map[action])"
   ]
  },
  {
   "cell_type": "code",
   "execution_count": 34,
   "id": "962074f3",
   "metadata": {},
   "outputs": [],
   "source": [
    "X = np.array(sequences)"
   ]
  },
  {
   "cell_type": "code",
   "execution_count": 35,
   "id": "fdaf9b7b",
   "metadata": {},
   "outputs": [],
   "source": [
    "y = to_categorical(labels).astype(int)"
   ]
  },
  {
   "cell_type": "code",
   "execution_count": 36,
   "id": "78c382a0",
   "metadata": {},
   "outputs": [],
   "source": [
    "X_train, X_test, y_train, y_test = train_test_split(X, y, test_size=0.3)"
   ]
  },
  {
   "cell_type": "code",
   "execution_count": 37,
   "id": "7c343797",
   "metadata": {},
   "outputs": [
    {
     "data": {
      "text/plain": [
       "(42, 30, 126)"
      ]
     },
     "execution_count": 37,
     "metadata": {},
     "output_type": "execute_result"
    }
   ],
   "source": [
    "X_train.shape"
   ]
  },
  {
   "cell_type": "code",
   "execution_count": 38,
   "id": "f6496cf4",
   "metadata": {},
   "outputs": [
    {
     "data": {
      "text/plain": [
       "(42, 2)"
      ]
     },
     "execution_count": 38,
     "metadata": {},
     "output_type": "execute_result"
    }
   ],
   "source": [
    "y_train.shape"
   ]
  },
  {
   "cell_type": "code",
   "execution_count": 39,
   "id": "6be788d4",
   "metadata": {},
   "outputs": [],
   "source": [
    "# # CNN Model\n",
    "# model = Sequential()\n",
    "\n",
    "# model.add(Conv1D(filters=32, kernel_size=3, activation='relu', input_shape=(30, 126)))\n",
    "# model.add(MaxPool1D(pool_size=2, strides=None))\n",
    "\n",
    "# model.add(Conv1D(filters=64, kernel_size=3, activation='relu', padding = 'same'))\n",
    "# model.add(MaxPool1D(pool_size=2, strides=None))\n",
    "\n",
    "# model.add(Conv1D(filters=128, kernel_size=3, activation='relu', padding = 'valid'))\n",
    "# model.add(MaxPool1D(pool_size=2, strides=None))\n",
    "\n",
    "# model.add(Flatten())\n",
    "\n",
    "# model.add(Dense(64,activation =\"relu\"))\n",
    "# model.add(Dropout(0.2))\n",
    "# model.add(Dense(128,activation =\"relu\"))\n",
    "# model.add(Dropout(0.3))\n",
    "# model.add(Dense(new_actions.shape[0],activation =\"softmax\"))\n",
    "model = load_model('models/actionCO.h5')"
   ]
  },
  {
   "cell_type": "code",
   "execution_count": null,
   "id": "cedc557c",
   "metadata": {},
   "outputs": [],
   "source": [
    "# model.compile(optimizer='Adam', loss='categorical_crossentropy', metrics=['categorical_accuracy'])"
   ]
  },
  {
   "cell_type": "code",
   "execution_count": 40,
   "id": "c4f59e44",
   "metadata": {},
   "outputs": [
    {
     "name": "stdout",
     "output_type": "stream",
     "text": [
      "Epoch 1/100\n",
      "2/2 [==============================] - 0s 10ms/step - loss: 17.5158 - categorical_accuracy: 0.5000\n",
      "Epoch 2/100\n",
      "2/2 [==============================] - 0s 14ms/step - loss: 9.4832 - categorical_accuracy: 0.3333\n",
      "Epoch 3/100\n",
      "2/2 [==============================] - 0s 16ms/step - loss: 8.4171 - categorical_accuracy: 0.4524\n",
      "Epoch 4/100\n",
      "2/2 [==============================] - 0s 17ms/step - loss: 1.1600 - categorical_accuracy: 0.5476\n",
      "Epoch 5/100\n",
      "2/2 [==============================] - 0s 13ms/step - loss: 0.8707 - categorical_accuracy: 0.5000\n",
      "Epoch 6/100\n",
      "2/2 [==============================] - 0s 17ms/step - loss: 0.7409 - categorical_accuracy: 0.5000\n",
      "Epoch 7/100\n",
      "2/2 [==============================] - 0s 16ms/step - loss: 0.6991 - categorical_accuracy: 0.4286\n",
      "Epoch 8/100\n",
      "2/2 [==============================] - 0s 15ms/step - loss: 0.6881 - categorical_accuracy: 0.4286\n",
      "Epoch 9/100\n",
      "2/2 [==============================] - 0s 16ms/step - loss: 0.6986 - categorical_accuracy: 0.5000\n",
      "Epoch 10/100\n",
      "2/2 [==============================] - 0s 15ms/step - loss: 0.6979 - categorical_accuracy: 0.5238\n",
      "Epoch 11/100\n",
      "2/2 [==============================] - 0s 16ms/step - loss: 0.6753 - categorical_accuracy: 0.6667\n",
      "Epoch 12/100\n",
      "2/2 [==============================] - 0s 22ms/step - loss: 0.6968 - categorical_accuracy: 0.5238\n",
      "Epoch 13/100\n",
      "2/2 [==============================] - 0s 15ms/step - loss: 0.6897 - categorical_accuracy: 0.6429\n",
      "Epoch 14/100\n",
      "2/2 [==============================] - 0s 15ms/step - loss: 0.6862 - categorical_accuracy: 0.5476\n",
      "Epoch 15/100\n",
      "2/2 [==============================] - 0s 15ms/step - loss: 0.6815 - categorical_accuracy: 0.5476\n",
      "Epoch 16/100\n",
      "2/2 [==============================] - 0s 15ms/step - loss: 0.6977 - categorical_accuracy: 0.5714\n",
      "Epoch 17/100\n",
      "2/2 [==============================] - 0s 20ms/step - loss: 0.6893 - categorical_accuracy: 0.5714\n",
      "Epoch 18/100\n",
      "2/2 [==============================] - 0s 18ms/step - loss: 0.6743 - categorical_accuracy: 0.5952\n",
      "Epoch 19/100\n",
      "2/2 [==============================] - 0s 17ms/step - loss: 0.6869 - categorical_accuracy: 0.5238\n",
      "Epoch 20/100\n",
      "2/2 [==============================] - 0s 21ms/step - loss: 0.6734 - categorical_accuracy: 0.6667\n",
      "Epoch 21/100\n",
      "2/2 [==============================] - 0s 30ms/step - loss: 0.6847 - categorical_accuracy: 0.5238\n",
      "Epoch 22/100\n",
      "2/2 [==============================] - 0s 17ms/step - loss: 0.6592 - categorical_accuracy: 0.6429\n",
      "Epoch 23/100\n",
      "2/2 [==============================] - 0s 18ms/step - loss: 0.6778 - categorical_accuracy: 0.5476\n",
      "Epoch 24/100\n",
      "2/2 [==============================] - 0s 16ms/step - loss: 0.6873 - categorical_accuracy: 0.5714\n",
      "Epoch 25/100\n",
      "2/2 [==============================] - 0s 15ms/step - loss: 0.6706 - categorical_accuracy: 0.7381\n",
      "Epoch 26/100\n",
      "2/2 [==============================] - 0s 10ms/step - loss: 0.6698 - categorical_accuracy: 0.7143\n",
      "Epoch 27/100\n",
      "2/2 [==============================] - 0s 17ms/step - loss: 0.6545 - categorical_accuracy: 0.7143\n",
      "Epoch 28/100\n",
      "2/2 [==============================] - 0s 15ms/step - loss: 0.6591 - categorical_accuracy: 0.5952\n",
      "Epoch 29/100\n",
      "2/2 [==============================] - 0s 17ms/step - loss: 0.6338 - categorical_accuracy: 0.7143\n",
      "Epoch 30/100\n",
      "2/2 [==============================] - 0s 13ms/step - loss: 0.6257 - categorical_accuracy: 0.7857\n",
      "Epoch 31/100\n",
      "2/2 [==============================] - 0s 16ms/step - loss: 0.6220 - categorical_accuracy: 0.7143\n",
      "Epoch 32/100\n",
      "2/2 [==============================] - 0s 15ms/step - loss: 0.6376 - categorical_accuracy: 0.6905\n",
      "Epoch 33/100\n",
      "2/2 [==============================] - 0s 15ms/step - loss: 0.5804 - categorical_accuracy: 0.7619\n",
      "Epoch 34/100\n",
      "2/2 [==============================] - 0s 16ms/step - loss: 0.5789 - categorical_accuracy: 0.7857\n",
      "Epoch 35/100\n",
      "2/2 [==============================] - 0s 22ms/step - loss: 0.5794 - categorical_accuracy: 0.6667\n",
      "Epoch 36/100\n",
      "2/2 [==============================] - 0s 15ms/step - loss: 0.5416 - categorical_accuracy: 0.7143\n",
      "Epoch 37/100\n",
      "2/2 [==============================] - 0s 17ms/step - loss: 0.5195 - categorical_accuracy: 0.8333\n",
      "Epoch 38/100\n",
      "2/2 [==============================] - 0s 13ms/step - loss: 0.5008 - categorical_accuracy: 0.8095\n",
      "Epoch 39/100\n",
      "2/2 [==============================] - 0s 14ms/step - loss: 0.4961 - categorical_accuracy: 0.7619\n",
      "Epoch 40/100\n",
      "2/2 [==============================] - 0s 16ms/step - loss: 0.4353 - categorical_accuracy: 0.8333\n",
      "Epoch 41/100\n",
      "2/2 [==============================] - 0s 18ms/step - loss: 0.4111 - categorical_accuracy: 0.8333\n",
      "Epoch 42/100\n",
      "2/2 [==============================] - 0s 16ms/step - loss: 0.3910 - categorical_accuracy: 0.8333\n",
      "Epoch 43/100\n",
      "2/2 [==============================] - 0s 13ms/step - loss: 0.5602 - categorical_accuracy: 0.7619\n",
      "Epoch 44/100\n",
      "2/2 [==============================] - 0s 18ms/step - loss: 0.2557 - categorical_accuracy: 0.9762\n",
      "Epoch 45/100\n",
      "2/2 [==============================] - 0s 13ms/step - loss: 0.4590 - categorical_accuracy: 0.7143\n",
      "Epoch 46/100\n",
      "2/2 [==============================] - 0s 17ms/step - loss: 0.3459 - categorical_accuracy: 0.8810\n",
      "Epoch 47/100\n",
      "2/2 [==============================] - 0s 18ms/step - loss: 0.3033 - categorical_accuracy: 0.9048\n",
      "Epoch 48/100\n",
      "2/2 [==============================] - 0s 19ms/step - loss: 0.2780 - categorical_accuracy: 0.8810\n",
      "Epoch 49/100\n",
      "2/2 [==============================] - 0s 16ms/step - loss: 0.1859 - categorical_accuracy: 0.9762\n",
      "Epoch 50/100\n",
      "2/2 [==============================] - 0s 14ms/step - loss: 0.2020 - categorical_accuracy: 0.9524\n",
      "Epoch 51/100\n",
      "2/2 [==============================] - 0s 15ms/step - loss: 0.1304 - categorical_accuracy: 0.9762\n",
      "Epoch 52/100\n",
      "2/2 [==============================] - 0s 15ms/step - loss: 0.1470 - categorical_accuracy: 0.9524\n",
      "Epoch 53/100\n",
      "2/2 [==============================] - 0s 15ms/step - loss: 0.1023 - categorical_accuracy: 0.9762\n",
      "Epoch 54/100\n",
      "2/2 [==============================] - 0s 10ms/step - loss: 0.1139 - categorical_accuracy: 0.9762\n",
      "Epoch 55/100\n",
      "2/2 [==============================] - 0s 16ms/step - loss: 0.0638 - categorical_accuracy: 0.9762\n",
      "Epoch 56/100\n",
      "2/2 [==============================] - 0s 17ms/step - loss: 0.0550 - categorical_accuracy: 1.0000\n",
      "Epoch 57/100\n",
      "2/2 [==============================] - 0s 17ms/step - loss: 0.0426 - categorical_accuracy: 1.0000\n",
      "Epoch 58/100\n",
      "2/2 [==============================] - 0s 21ms/step - loss: 0.0277 - categorical_accuracy: 1.0000\n",
      "Epoch 59/100\n",
      "2/2 [==============================] - 0s 16ms/step - loss: 0.0570 - categorical_accuracy: 0.9762\n",
      "Epoch 60/100\n",
      "2/2 [==============================] - 0s 17ms/step - loss: 0.0396 - categorical_accuracy: 1.0000\n",
      "Epoch 61/100\n",
      "2/2 [==============================] - 0s 15ms/step - loss: 0.0311 - categorical_accuracy: 1.0000\n",
      "Epoch 62/100\n",
      "2/2 [==============================] - 0s 14ms/step - loss: 0.1131 - categorical_accuracy: 0.9524\n",
      "Epoch 63/100\n",
      "2/2 [==============================] - 0s 14ms/step - loss: 0.0413 - categorical_accuracy: 0.9762\n",
      "Epoch 64/100\n",
      "2/2 [==============================] - 0s 15ms/step - loss: 0.0131 - categorical_accuracy: 1.0000\n",
      "Epoch 65/100\n",
      "2/2 [==============================] - 0s 13ms/step - loss: 0.1013 - categorical_accuracy: 0.9524\n",
      "Epoch 66/100\n",
      "2/2 [==============================] - 0s 15ms/step - loss: 0.0604 - categorical_accuracy: 0.9762\n",
      "Epoch 67/100\n",
      "2/2 [==============================] - 0s 15ms/step - loss: 0.0140 - categorical_accuracy: 1.0000\n",
      "Epoch 68/100\n",
      "2/2 [==============================] - 0s 15ms/step - loss: 0.2223 - categorical_accuracy: 0.9048\n",
      "Epoch 69/100\n",
      "2/2 [==============================] - 0s 10ms/step - loss: 0.0301 - categorical_accuracy: 0.9762\n",
      "Epoch 70/100\n",
      "2/2 [==============================] - 0s 17ms/step - loss: 0.1804 - categorical_accuracy: 0.9286\n",
      "Epoch 71/100\n",
      "2/2 [==============================] - 0s 13ms/step - loss: 0.0807 - categorical_accuracy: 0.9762\n",
      "Epoch 72/100\n",
      "2/2 [==============================] - 0s 15ms/step - loss: 0.2208 - categorical_accuracy: 0.9286\n",
      "Epoch 73/100\n",
      "2/2 [==============================] - 0s 15ms/step - loss: 0.2832 - categorical_accuracy: 0.8810\n",
      "Epoch 74/100\n",
      "2/2 [==============================] - 0s 16ms/step - loss: 0.0510 - categorical_accuracy: 0.9762\n",
      "Epoch 75/100\n",
      "2/2 [==============================] - 0s 15ms/step - loss: 0.1497 - categorical_accuracy: 0.9524\n",
      "Epoch 76/100\n",
      "2/2 [==============================] - 0s 16ms/step - loss: 0.0174 - categorical_accuracy: 1.0000\n",
      "Epoch 77/100\n",
      "2/2 [==============================] - 0s 14ms/step - loss: 0.0524 - categorical_accuracy: 0.9762\n",
      "Epoch 78/100\n",
      "2/2 [==============================] - 0s 16ms/step - loss: 0.0403 - categorical_accuracy: 0.9762\n",
      "Epoch 79/100\n",
      "2/2 [==============================] - 0s 15ms/step - loss: 0.0188 - categorical_accuracy: 1.0000\n",
      "Epoch 80/100\n",
      "2/2 [==============================] - 0s 15ms/step - loss: 0.1177 - categorical_accuracy: 0.9286\n",
      "Epoch 81/100\n",
      "2/2 [==============================] - 0s 14ms/step - loss: 0.0165 - categorical_accuracy: 1.0000\n",
      "Epoch 82/100\n",
      "2/2 [==============================] - 0s 12ms/step - loss: 0.0378 - categorical_accuracy: 0.9762\n",
      "Epoch 83/100\n",
      "2/2 [==============================] - 0s 13ms/step - loss: 0.0118 - categorical_accuracy: 1.0000\n",
      "Epoch 84/100\n",
      "2/2 [==============================] - 0s 13ms/step - loss: 0.0370 - categorical_accuracy: 1.0000\n",
      "Epoch 85/100\n",
      "2/2 [==============================] - 0s 15ms/step - loss: 0.0596 - categorical_accuracy: 0.9762\n",
      "Epoch 86/100\n",
      "2/2 [==============================] - 0s 16ms/step - loss: 0.0046 - categorical_accuracy: 1.0000\n",
      "Epoch 87/100\n",
      "2/2 [==============================] - 0s 10ms/step - loss: 0.0102 - categorical_accuracy: 1.0000\n",
      "Epoch 88/100\n",
      "2/2 [==============================] - 0s 15ms/step - loss: 0.0159 - categorical_accuracy: 1.0000\n",
      "Epoch 89/100\n",
      "2/2 [==============================] - 0s 13ms/step - loss: 0.0224 - categorical_accuracy: 1.0000\n",
      "Epoch 90/100\n",
      "2/2 [==============================] - 0s 14ms/step - loss: 0.0073 - categorical_accuracy: 1.0000\n",
      "Epoch 91/100\n",
      "2/2 [==============================] - 0s 16ms/step - loss: 0.0088 - categorical_accuracy: 1.0000\n",
      "Epoch 92/100\n",
      "2/2 [==============================] - 0s 14ms/step - loss: 0.0225 - categorical_accuracy: 1.0000\n",
      "Epoch 93/100\n",
      "2/2 [==============================] - 0s 16ms/step - loss: 0.0280 - categorical_accuracy: 1.0000\n",
      "Epoch 94/100\n",
      "2/2 [==============================] - 0s 11ms/step - loss: 0.0035 - categorical_accuracy: 1.0000\n",
      "Epoch 95/100\n",
      "2/2 [==============================] - 0s 17ms/step - loss: 0.0094 - categorical_accuracy: 1.0000\n",
      "Epoch 96/100\n",
      "2/2 [==============================] - 0s 15ms/step - loss: 0.0054 - categorical_accuracy: 1.0000\n",
      "Epoch 97/100\n",
      "2/2 [==============================] - 0s 17ms/step - loss: 0.0063 - categorical_accuracy: 1.0000\n",
      "Epoch 98/100\n",
      "2/2 [==============================] - 0s 16ms/step - loss: 0.0052 - categorical_accuracy: 1.0000\n",
      "Epoch 99/100\n",
      "2/2 [==============================] - 0s 17ms/step - loss: 0.0022 - categorical_accuracy: 1.0000\n",
      "Epoch 100/100\n",
      "2/2 [==============================] - 0s 10ms/step - loss: 0.0054 - categorical_accuracy: 1.0000\n"
     ]
    },
    {
     "data": {
      "text/plain": [
       "<keras.callbacks.History at 0x191de0bb880>"
      ]
     },
     "execution_count": 40,
     "metadata": {},
     "output_type": "execute_result"
    }
   ],
   "source": [
    "model.fit(X_train, y_train, epochs=100)"
   ]
  },
  {
   "cell_type": "code",
   "execution_count": 42,
   "id": "ede0b9d3",
   "metadata": {},
   "outputs": [
    {
     "data": {
      "text/plain": [
       "1.0"
      ]
     },
     "execution_count": 42,
     "metadata": {},
     "output_type": "execute_result"
    }
   ],
   "source": [
    "ytrue = np.argmax(y_test, axis=1).tolist()\n",
    "yhat = np.argmax(model.predict(X_test), axis=1).tolist()\n",
    "accuracy_score(ytrue, yhat)"
   ]
  },
  {
   "cell_type": "code",
   "execution_count": 43,
   "id": "e57349a2",
   "metadata": {},
   "outputs": [],
   "source": [
    "# Uncomment to save your model\n",
    "model.save('models/actionMN.h5')"
   ]
  },
  {
   "cell_type": "code",
   "execution_count": null,
   "id": "c2357a87",
   "metadata": {},
   "outputs": [],
   "source": [
    "# Step 8 - Make prediction\n",
    "#res = model.predict(X_test)"
   ]
  },
  {
   "cell_type": "code",
   "execution_count": null,
   "id": "2f321e11",
   "metadata": {},
   "outputs": [],
   "source": [
    "# yhat = model.predict(X_test)\n",
    "# ytrue = np.argmax(y_test, axis=1)\n",
    "# yhat = np.argmax(yhat, axis=1)\n",
    "\n",
    "# cf_matr3 = confusion_matrix(ytrue, yhat)\n",
    "# sns.set(rc = {'figure.figsize':(5, 4)})\n",
    "# hmap3 = sns.heatmap(cf_matr3,xticklabels=new_actions,yticklabels=new_actions)\n",
    "# hmap3\n",
    "# figure = hmap3.get_figure()    \n",
    "# figure.savefig('Confusion_matrixMN.pdf', dpi=700)"
   ]
  },
  {
   "cell_type": "code",
   "execution_count": null,
   "id": "b4b46a1d",
   "metadata": {},
   "outputs": [],
   "source": [
    "# yhat = model.predict(X_test)\n",
    "# ytrue = np.argmax(y_test, axis=1).tolist()\n",
    "# yhat = np.argmax(model.predict(X_test), axis=1).tolist()\n",
    "# accuracy_score(ytrue, yhat)"
   ]
  },
  {
   "cell_type": "code",
   "execution_count": null,
   "id": "8ed81e62",
   "metadata": {},
   "outputs": [],
   "source": [
    "#plot_model(model, to_file='modelCO.pdf', dpi = 700, show_shapes=True)"
   ]
  },
  {
   "cell_type": "code",
   "execution_count": null,
   "id": "f0c194ec",
   "metadata": {},
   "outputs": [],
   "source": []
  }
 ],
 "metadata": {
  "kernelspec": {
   "display_name": "Python 3 (ipykernel)",
   "language": "python",
   "name": "python3"
  },
  "language_info": {
   "codemirror_mode": {
    "name": "ipython",
    "version": 3
   },
   "file_extension": ".py",
   "mimetype": "text/x-python",
   "name": "python",
   "nbconvert_exporter": "python",
   "pygments_lexer": "ipython3",
   "version": "3.9.7"
  }
 },
 "nbformat": 4,
 "nbformat_minor": 5
}
