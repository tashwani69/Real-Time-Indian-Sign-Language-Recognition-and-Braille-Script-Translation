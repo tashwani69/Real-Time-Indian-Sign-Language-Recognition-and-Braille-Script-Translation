{
 "cells": [
  {
   "cell_type": "code",
   "execution_count": 1,
   "id": "9e1a73cf",
   "metadata": {},
   "outputs": [],
   "source": [
    "import cv2\n",
    "import numpy as np\n",
    "import os\n",
    "from matplotlib import pyplot as plt\n",
    "import time\n",
    "import mediapipe as mp"
   ]
  },
  {
   "cell_type": "code",
   "execution_count": 2,
   "id": "a6acf65e",
   "metadata": {},
   "outputs": [],
   "source": [
    "mp_holistic = mp.solutions.holistic # Holistic model\n",
    "mp_drawing = mp.solutions.drawing_utils\n",
    "mp_drawing_styles = mp.solutions.drawing_styles\n",
    "mp_hands = mp.solutions.hands"
   ]
  },
  {
   "cell_type": "code",
   "execution_count": 3,
   "id": "5eca98ad",
   "metadata": {},
   "outputs": [],
   "source": [
    "def mediapipe_detection(image, model):\n",
    "    image = cv2.cvtColor(image, cv2.COLOR_BGR2RGB) # COLOR CONVERSION BGR 2 RGB\n",
    "    image.flags.writeable = False                  # Image is no longer writeable\n",
    "    results = model.process(image)                 # Make prediction\n",
    "    image.flags.writeable = True                   # Image is now writeable \n",
    "    image = cv2.cvtColor(image, cv2.COLOR_RGB2BGR) # COLOR COVERSION RGB 2 BGR\n",
    "    return image, results"
   ]
  },
  {
   "cell_type": "code",
   "execution_count": 4,
   "id": "33ddfb44",
   "metadata": {},
   "outputs": [],
   "source": [
    "def draw_landmarks(image, results):\n",
    "    mp_drawing.draw_landmarks(image, results.face_landmarks, mp_holistic.FACEMESH_TESSELATION) # Draw face connections\n",
    "    mp_drawing.draw_landmarks(image, results.pose_landmarks, mp_holistic.POSE_CONNECTIONS) # Draw pose connections\n",
    "    mp_drawing.draw_landmarks(image, results.left_hand_landmarks, mp_holistic.HAND_CONNECTIONS) # Draw left hand connections\n",
    "    mp_drawing.draw_landmarks(image, results.right_hand_landmarks, mp_holistic.HAND_CONNECTIONS) # Draw right hand connections"
   ]
  },
  {
   "cell_type": "code",
   "execution_count": 5,
   "id": "2616cbe9",
   "metadata": {},
   "outputs": [],
   "source": [
    "def draw_styled_landmarks(image, results):\n",
    "    # Draw face connections\n",
    "    #mp_drawing.draw_landmarks(image, results.face_landmarks, mp_holistic.FACEMESH_TESSELATION, \n",
    "    #                         mp_drawing.DrawingSpec(color=(80,110,10), thickness=1, circle_radius=1), \n",
    "    #                         mp_drawing.DrawingSpec(color=(80,256,121), thickness=1, circle_radius=1)\n",
    "    #                         ) \n",
    "    # Draw pose connections\n",
    "    #mp_drawing.draw_landmarks(image, results.pose_landmarks, mp_holistic.POSE_CONNECTIONS,\n",
    "    #                         mp_drawing.DrawingSpec(color=(80,22,10), thickness=2, circle_radius=4), \n",
    "    #                         mp_drawing.DrawingSpec(color=(80,44,121), thickness=2, circle_radius=2)\n",
    "    #                         ) \n",
    "    # Draw left hand connections\n",
    "    mp_drawing.draw_landmarks(image, results.left_hand_landmarks, mp_holistic.HAND_CONNECTIONS, \n",
    "                             mp_drawing.DrawingSpec(color=(121,22,76), thickness=2, circle_radius=4), \n",
    "                             mp_drawing.DrawingSpec(color=(121,44,250), thickness=2, circle_radius=2)\n",
    "                             ) \n",
    "    # Draw right hand connections  \n",
    "    mp_drawing.draw_landmarks(image, results.right_hand_landmarks, mp_holistic.HAND_CONNECTIONS, \n",
    "                             mp_drawing.DrawingSpec(color=(245,117,66), thickness=2, circle_radius=4), \n",
    "                             mp_drawing.DrawingSpec(color=(245,66,230), thickness=2, circle_radius=2)\n",
    "                             )"
   ]
  },
  {
   "cell_type": "code",
   "execution_count": 6,
   "id": "627a63b9",
   "metadata": {},
   "outputs": [],
   "source": [
    "def draw_styled_hand_landmarks(image, results):\n",
    "    for hand_landmarks in results.multi_hand_landmarks:\n",
    "                  mp_drawing.draw_landmarks(\n",
    "                      image,\n",
    "                      hand_landmarks,\n",
    "                      mp_hands.HAND_CONNECTIONS,\n",
    "                      mp_drawing.DrawingSpec(color=(121,22,76), thickness=2, circle_radius=4), \n",
    "                      mp_drawing.DrawingSpec(color=(121,44,250), thickness=2, circle_radius=2))"
   ]
  },
  {
   "cell_type": "code",
   "execution_count": 7,
   "id": "321f5164",
   "metadata": {},
   "outputs": [],
   "source": [
    "def extract_keypoints(results):\n",
    "    pose = np.array([[res.x, res.y, res.z, res.visibility] for res in results.pose_landmarks.landmark]).flatten() if results.pose_landmarks else np.zeros(33*4)\n",
    "    face = np.array([[res.x, res.y, res.z] for res in results.face_landmarks.landmark]).flatten() if results.face_landmarks else np.zeros(468*3)\n",
    "    lh = np.array([[res.x, res.y, res.z] for res in results.left_hand_landmarks.landmark]).flatten() if results.left_hand_landmarks else np.zeros(21*3)\n",
    "    rh = np.array([[res.x, res.y, res.z] for res in results.right_hand_landmarks.landmark]).flatten() if results.right_hand_landmarks else np.zeros(21*3)\n",
    "    return np.concatenate([lh, rh])"
   ]
  },
  {
   "cell_type": "code",
   "execution_count": 8,
   "id": "39210a15",
   "metadata": {},
   "outputs": [],
   "source": [
    "def extract_hand_keypoints(results):\n",
    "    lh = [[res.x, res.y, res.z] for res in results.left_hand_landmarks[0].landmark] if results.left_hand_landmarks else [[0]*3]*21\n",
    "    rh = [[res.x, res.y, res.z] for res in results.right_hand_landmarks[1].landmark] if results.right_hand_landmarks else [[0]*3]*21\n",
    "    return np.vstack((lh,rh))"
   ]
  },
  {
   "cell_type": "code",
   "execution_count": 9,
   "id": "9ff96be5",
   "metadata": {},
   "outputs": [],
   "source": [
    "import tensorflow as tf\n",
    "gpus = tf.config.experimental.list_physical_devices('GPU')\n",
    "if gpus:\n",
    "  try:\n",
    "    tf.config.experimental.set_virtual_device_configuration(\n",
    "        gpus[0],[tf.config.experimental.VirtualDeviceConfiguration(memory_limit=512)])\n",
    "  except RuntimeError as e:\n",
    "    print(e)"
   ]
  },
  {
   "cell_type": "code",
   "execution_count": 10,
   "id": "f12f0d05",
   "metadata": {},
   "outputs": [],
   "source": [
    "# Path for exported data, numpy arrays\n",
    "# Step 4\n",
    "DATA_PATH = os.path.join('ISL_Data')\n",
    "actions = np.array(['A','B','C','D','E','F','G','H','I','J','K','L','M','N','O','P','Q','R','S','T','U','V','W','X','Y','Z'])\n",
    "#actions = np.array(['A','B'])\n",
    "\n",
    "# no of images\n",
    "no_sequences = 30\n",
    "\n",
    "# no of frames in each video\n",
    "sequence_length = 16"
   ]
  },
  {
   "cell_type": "code",
   "execution_count": 11,
   "id": "cc9db9ac",
   "metadata": {},
   "outputs": [],
   "source": [
    "# Step 6 - preprocess data create labels and features\n",
    "from sklearn.model_selection import train_test_split\n",
    "from tensorflow.keras.utils import to_categorical"
   ]
  },
  {
   "cell_type": "code",
   "execution_count": 12,
   "id": "860d920d",
   "metadata": {},
   "outputs": [
    {
     "data": {
      "text/plain": [
       "{'A': 0,\n",
       " 'B': 1,\n",
       " 'C': 2,\n",
       " 'D': 3,\n",
       " 'E': 4,\n",
       " 'F': 5,\n",
       " 'G': 6,\n",
       " 'H': 7,\n",
       " 'I': 8,\n",
       " 'J': 9,\n",
       " 'K': 10,\n",
       " 'L': 11,\n",
       " 'M': 12,\n",
       " 'N': 13,\n",
       " 'O': 14,\n",
       " 'P': 15,\n",
       " 'Q': 16,\n",
       " 'R': 17,\n",
       " 'S': 18,\n",
       " 'T': 19,\n",
       " 'U': 20,\n",
       " 'V': 21,\n",
       " 'W': 22,\n",
       " 'X': 23,\n",
       " 'Y': 24,\n",
       " 'Z': 25}"
      ]
     },
     "execution_count": 12,
     "metadata": {},
     "output_type": "execute_result"
    }
   ],
   "source": [
    "label_map = {label:num for num, label in enumerate(actions)}\n",
    "label_map"
   ]
  },
  {
   "cell_type": "code",
   "execution_count": 15,
   "id": "7b4d65e2",
   "metadata": {
    "scrolled": false
   },
   "outputs": [],
   "source": [
    "sequences, labels = [], []\n",
    "for action in actions:\n",
    "    for sequence in range(no_sequences):\n",
    "        window = []\n",
    "        for frame_num in range(sequence_length):\n",
    "            res = np.load(os.path.join(DATA_PATH, action, str(sequence), \"{}.npy\".format(frame_num)))\n",
    "            window.append(res)\n",
    "        sequences.append(window)\n",
    "        labels.append(label_map[action])"
   ]
  },
  {
   "cell_type": "code",
   "execution_count": 16,
   "id": "17c51f1b",
   "metadata": {},
   "outputs": [],
   "source": [
    "X = np.array(sequences)\n",
    "y = to_categorical(labels).astype(int)"
   ]
  },
  {
   "cell_type": "code",
   "execution_count": 17,
   "id": "19fcd4ea",
   "metadata": {},
   "outputs": [
    {
     "data": {
      "text/plain": [
       "780"
      ]
     },
     "execution_count": 17,
     "metadata": {},
     "output_type": "execute_result"
    }
   ],
   "source": [
    "len(X)"
   ]
  },
  {
   "cell_type": "code",
   "execution_count": 18,
   "id": "f5774456",
   "metadata": {
    "scrolled": false
   },
   "outputs": [
    {
     "data": {
      "text/plain": [
       "780"
      ]
     },
     "execution_count": 18,
     "metadata": {},
     "output_type": "execute_result"
    }
   ],
   "source": [
    "len(y)"
   ]
  },
  {
   "cell_type": "code",
   "execution_count": 19,
   "id": "4098afde",
   "metadata": {},
   "outputs": [],
   "source": [
    "X = X.reshape((X.shape[0], X.shape[1], 42, 3))"
   ]
  },
  {
   "cell_type": "code",
   "execution_count": 20,
   "id": "f8620c6b",
   "metadata": {},
   "outputs": [],
   "source": [
    "X_train, X_test, y_train, y_test = train_test_split(X, y, test_size=0.2)"
   ]
  },
  {
   "cell_type": "code",
   "execution_count": 21,
   "id": "a86cfe2b",
   "metadata": {},
   "outputs": [
    {
     "data": {
      "text/plain": [
       "(624, 16, 42, 3)"
      ]
     },
     "execution_count": 21,
     "metadata": {},
     "output_type": "execute_result"
    }
   ],
   "source": [
    "X_train.shape"
   ]
  },
  {
   "cell_type": "code",
   "execution_count": 22,
   "id": "19d57590",
   "metadata": {},
   "outputs": [
    {
     "data": {
      "text/plain": [
       "(156, 16, 42, 3)"
      ]
     },
     "execution_count": 22,
     "metadata": {},
     "output_type": "execute_result"
    }
   ],
   "source": [
    "X_test.shape"
   ]
  },
  {
   "cell_type": "code",
   "execution_count": 23,
   "id": "672571a1",
   "metadata": {},
   "outputs": [
    {
     "data": {
      "text/plain": [
       "(624, 26)"
      ]
     },
     "execution_count": 23,
     "metadata": {},
     "output_type": "execute_result"
    }
   ],
   "source": [
    "y_train.shape"
   ]
  },
  {
   "cell_type": "code",
   "execution_count": 24,
   "id": "cc3d2b9e",
   "metadata": {},
   "outputs": [
    {
     "data": {
      "text/plain": [
       "(156, 26)"
      ]
     },
     "execution_count": 24,
     "metadata": {},
     "output_type": "execute_result"
    }
   ],
   "source": [
    "y_test.shape"
   ]
  },
  {
   "cell_type": "code",
   "execution_count": 13,
   "id": "6c5b0479",
   "metadata": {},
   "outputs": [],
   "source": [
    "# Step 7 - build and train lSTM NN\n",
    "from tensorflow.keras.models import Sequential\n",
    "from tensorflow.keras.layers import LSTM, Dense, Conv2D, MaxPool2D, Flatten, Dropout\n",
    "from tensorflow.keras.callbacks import TensorBoard, EarlyStopping"
   ]
  },
  {
   "cell_type": "code",
   "execution_count": 14,
   "id": "a3dba74d",
   "metadata": {},
   "outputs": [],
   "source": [
    "# Before running this, delete the Logs folder\n",
    "log_dir = os.path.join('Logs')\n",
    "tb_callback = TensorBoard(log_dir=log_dir)"
   ]
  },
  {
   "cell_type": "code",
   "execution_count": 15,
   "id": "9533039b",
   "metadata": {},
   "outputs": [],
   "source": [
    "from keras.models import load_model\n",
    "#model = load_model('weights_benchmark.h5')"
   ]
  },
  {
   "cell_type": "code",
   "execution_count": 57,
   "id": "493e3f91",
   "metadata": {},
   "outputs": [],
   "source": [
    "model = Sequential()\n",
    "\n",
    "model.add(Conv2D(filters=32, kernel_size=(3,3), activation='relu', padding = 'same', input_shape=X_train.shape[1:]))\n",
    "model.add(MaxPool2D(pool_size=(1,2), strides=None))\n",
    "\n",
    "model.add(Conv2D(filters=64, kernel_size=(3,3), activation='relu'))\n",
    "model.add(MaxPool2D(pool_size=(2,2), strides=None))\n",
    "\n",
    "model.add(Conv2D(filters=128, kernel_size=(3,3), activation='relu', padding = 'valid'))\n",
    "model.add(Conv2D(filters=256, kernel_size=(3,3), activation='relu', padding = 'valid'))\n",
    "\n",
    "model.add(MaxPool2D(pool_size=(2,2), strides=None))\n",
    "\n",
    "# model.add(MaxPool2D(pool_size=(2,2), strides=None))\n",
    "# #model.add(MaxPool1D(pool_size=3, strides=None))\n",
    "\n",
    "\n",
    "\n",
    "\n",
    "model.add(Flatten())\n",
    "\n",
    "model.add(Dense(128,activation =\"relu\"))\n",
    "model.add(Dropout(0.2))\n",
    "model.add(Dense(64,activation =\"relu\"))\n",
    "model.add(Dropout(0.2))\n",
    "#model.add(Dense(128,activation =\"relu\"))\n",
    "#model.add(Dropout(0.2))\n",
    "#model.add(Dense(128,activation =\"relu\"))\n",
    "#model.add(Dropout(0.3))\n",
    "model.add(Dense(actions.shape[0],activation =\"softmax\"))"
   ]
  },
  {
   "cell_type": "code",
   "execution_count": 58,
   "id": "0e85302e",
   "metadata": {},
   "outputs": [
    {
     "name": "stdout",
     "output_type": "stream",
     "text": [
      "Model: \"sequential_3\"\n",
      "_________________________________________________________________\n",
      " Layer (type)                Output Shape              Param #   \n",
      "=================================================================\n",
      " conv2d_12 (Conv2D)          (None, 16, 42, 32)        896       \n",
      "                                                                 \n",
      " max_pooling2d_9 (MaxPooling  (None, 16, 21, 32)       0         \n",
      " 2D)                                                             \n",
      "                                                                 \n",
      " conv2d_13 (Conv2D)          (None, 14, 19, 64)        18496     \n",
      "                                                                 \n",
      " max_pooling2d_10 (MaxPoolin  (None, 7, 9, 64)         0         \n",
      " g2D)                                                            \n",
      "                                                                 \n",
      " conv2d_14 (Conv2D)          (None, 5, 7, 128)         73856     \n",
      "                                                                 \n",
      " conv2d_15 (Conv2D)          (None, 3, 5, 256)         295168    \n",
      "                                                                 \n",
      " max_pooling2d_11 (MaxPoolin  (None, 1, 2, 256)        0         \n",
      " g2D)                                                            \n",
      "                                                                 \n",
      " flatten_3 (Flatten)         (None, 512)               0         \n",
      "                                                                 \n",
      " dense_9 (Dense)             (None, 128)               65664     \n",
      "                                                                 \n",
      " dropout_6 (Dropout)         (None, 128)               0         \n",
      "                                                                 \n",
      " dense_10 (Dense)            (None, 64)                8256      \n",
      "                                                                 \n",
      " dropout_7 (Dropout)         (None, 64)                0         \n",
      "                                                                 \n",
      " dense_11 (Dense)            (None, 26)                1690      \n",
      "                                                                 \n",
      "=================================================================\n",
      "Total params: 464,026\n",
      "Trainable params: 464,026\n",
      "Non-trainable params: 0\n",
      "_________________________________________________________________\n"
     ]
    }
   ],
   "source": [
    "model.summary()"
   ]
  },
  {
   "cell_type": "code",
   "execution_count": 59,
   "id": "a5bbb03d",
   "metadata": {},
   "outputs": [],
   "source": [
    "model.compile(optimizer='Adam', loss='categorical_crossentropy', metrics=['categorical_accuracy'])"
   ]
  },
  {
   "cell_type": "code",
   "execution_count": 60,
   "id": "912211ea",
   "metadata": {},
   "outputs": [
    {
     "name": "stdout",
     "output_type": "stream",
     "text": [
      "Epoch 1/100\n",
      "16/16 [==============================] - 1s 29ms/step - loss: 3.2229 - categorical_accuracy: 0.0721 - val_loss: 3.1005 - val_categorical_accuracy: 0.0800\n",
      "Epoch 2/100\n",
      "16/16 [==============================] - 0s 22ms/step - loss: 3.0234 - categorical_accuracy: 0.1082 - val_loss: 2.8460 - val_categorical_accuracy: 0.1760\n",
      "Epoch 3/100\n",
      "16/16 [==============================] - 0s 19ms/step - loss: 2.8585 - categorical_accuracy: 0.1403 - val_loss: 2.6667 - val_categorical_accuracy: 0.2320\n",
      "Epoch 4/100\n",
      "16/16 [==============================] - 0s 20ms/step - loss: 2.7114 - categorical_accuracy: 0.1924 - val_loss: 2.5688 - val_categorical_accuracy: 0.2080\n",
      "Epoch 5/100\n",
      "16/16 [==============================] - 0s 19ms/step - loss: 2.5513 - categorical_accuracy: 0.2365 - val_loss: 2.2031 - val_categorical_accuracy: 0.3440\n",
      "Epoch 6/100\n",
      "16/16 [==============================] - 0s 20ms/step - loss: 2.2395 - categorical_accuracy: 0.2806 - val_loss: 2.0264 - val_categorical_accuracy: 0.4160\n",
      "Epoch 7/100\n",
      "16/16 [==============================] - 0s 20ms/step - loss: 2.0219 - categorical_accuracy: 0.3327 - val_loss: 1.8286 - val_categorical_accuracy: 0.3920\n",
      "Epoch 8/100\n",
      "16/16 [==============================] - 0s 20ms/step - loss: 1.9193 - categorical_accuracy: 0.3407 - val_loss: 1.7887 - val_categorical_accuracy: 0.4400\n",
      "Epoch 9/100\n",
      "16/16 [==============================] - 0s 20ms/step - loss: 1.7239 - categorical_accuracy: 0.4409 - val_loss: 1.6786 - val_categorical_accuracy: 0.4720\n",
      "Epoch 10/100\n",
      "16/16 [==============================] - 0s 20ms/step - loss: 1.5966 - categorical_accuracy: 0.4629 - val_loss: 1.5551 - val_categorical_accuracy: 0.5520\n",
      "Epoch 11/100\n",
      "16/16 [==============================] - 0s 20ms/step - loss: 1.5733 - categorical_accuracy: 0.4569 - val_loss: 1.6099 - val_categorical_accuracy: 0.4960\n",
      "Epoch 12/100\n",
      "16/16 [==============================] - 0s 20ms/step - loss: 1.5050 - categorical_accuracy: 0.4930 - val_loss: 1.4998 - val_categorical_accuracy: 0.5600\n",
      "Epoch 13/100\n",
      "16/16 [==============================] - 0s 20ms/step - loss: 1.2710 - categorical_accuracy: 0.5792 - val_loss: 1.2563 - val_categorical_accuracy: 0.6320\n",
      "Epoch 14/100\n",
      "16/16 [==============================] - 0s 19ms/step - loss: 1.1448 - categorical_accuracy: 0.5892 - val_loss: 1.2611 - val_categorical_accuracy: 0.6080\n",
      "Epoch 15/100\n",
      "16/16 [==============================] - 0s 19ms/step - loss: 1.1093 - categorical_accuracy: 0.6112 - val_loss: 1.1743 - val_categorical_accuracy: 0.6560\n",
      "Epoch 16/100\n",
      "16/16 [==============================] - 0s 19ms/step - loss: 1.1377 - categorical_accuracy: 0.5832 - val_loss: 1.1630 - val_categorical_accuracy: 0.6960\n",
      "Epoch 17/100\n",
      "16/16 [==============================] - 0s 20ms/step - loss: 0.9505 - categorical_accuracy: 0.6633 - val_loss: 1.0647 - val_categorical_accuracy: 0.6480\n",
      "Epoch 18/100\n",
      "16/16 [==============================] - 0s 21ms/step - loss: 0.8373 - categorical_accuracy: 0.7074 - val_loss: 0.9812 - val_categorical_accuracy: 0.7680\n",
      "Epoch 19/100\n",
      "16/16 [==============================] - 0s 21ms/step - loss: 0.8333 - categorical_accuracy: 0.6914 - val_loss: 1.0481 - val_categorical_accuracy: 0.7280\n",
      "Epoch 20/100\n",
      "16/16 [==============================] - 0s 25ms/step - loss: 0.8526 - categorical_accuracy: 0.7014 - val_loss: 0.9702 - val_categorical_accuracy: 0.7280\n",
      "Epoch 21/100\n",
      "16/16 [==============================] - 0s 25ms/step - loss: 0.7415 - categorical_accuracy: 0.7415 - val_loss: 0.9232 - val_categorical_accuracy: 0.7520\n",
      "Epoch 22/100\n",
      "16/16 [==============================] - 0s 20ms/step - loss: 0.7063 - categorical_accuracy: 0.7635 - val_loss: 0.9633 - val_categorical_accuracy: 0.7520\n",
      "Epoch 23/100\n",
      "16/16 [==============================] - 0s 23ms/step - loss: 0.6511 - categorical_accuracy: 0.7796 - val_loss: 0.8636 - val_categorical_accuracy: 0.8160\n",
      "Epoch 24/100\n",
      "16/16 [==============================] - 0s 18ms/step - loss: 0.5929 - categorical_accuracy: 0.8056 - val_loss: 0.9440 - val_categorical_accuracy: 0.7520\n",
      "Epoch 25/100\n",
      "16/16 [==============================] - 0s 20ms/step - loss: 0.5736 - categorical_accuracy: 0.8036 - val_loss: 0.8064 - val_categorical_accuracy: 0.8000\n",
      "Epoch 26/100\n",
      "16/16 [==============================] - 0s 19ms/step - loss: 0.5017 - categorical_accuracy: 0.8156 - val_loss: 0.7988 - val_categorical_accuracy: 0.7840\n",
      "Epoch 27/100\n",
      "16/16 [==============================] - 0s 20ms/step - loss: 0.4334 - categorical_accuracy: 0.8317 - val_loss: 0.7012 - val_categorical_accuracy: 0.8320\n",
      "Epoch 28/100\n",
      "16/16 [==============================] - 0s 23ms/step - loss: 0.5081 - categorical_accuracy: 0.8236 - val_loss: 0.7811 - val_categorical_accuracy: 0.8080\n",
      "Epoch 29/100\n",
      "16/16 [==============================] - 0s 21ms/step - loss: 0.4240 - categorical_accuracy: 0.8437 - val_loss: 0.6682 - val_categorical_accuracy: 0.8160\n",
      "Epoch 30/100\n",
      "16/16 [==============================] - 0s 23ms/step - loss: 0.3713 - categorical_accuracy: 0.8677 - val_loss: 0.7253 - val_categorical_accuracy: 0.8480\n",
      "Epoch 31/100\n",
      "16/16 [==============================] - 0s 21ms/step - loss: 0.3603 - categorical_accuracy: 0.8717 - val_loss: 0.7806 - val_categorical_accuracy: 0.8000\n",
      "Epoch 32/100\n",
      "16/16 [==============================] - 0s 21ms/step - loss: 0.3508 - categorical_accuracy: 0.8697 - val_loss: 0.7556 - val_categorical_accuracy: 0.8240\n",
      "Epoch 33/100\n",
      "16/16 [==============================] - 0s 21ms/step - loss: 0.3315 - categorical_accuracy: 0.8918 - val_loss: 0.7645 - val_categorical_accuracy: 0.8400\n",
      "Epoch 34/100\n",
      "16/16 [==============================] - 0s 24ms/step - loss: 0.2965 - categorical_accuracy: 0.9038 - val_loss: 0.8480 - val_categorical_accuracy: 0.8400\n",
      "Epoch 35/100\n",
      "16/16 [==============================] - 0s 22ms/step - loss: 0.3715 - categorical_accuracy: 0.8838 - val_loss: 0.6484 - val_categorical_accuracy: 0.8720\n",
      "Epoch 36/100\n",
      "16/16 [==============================] - 0s 25ms/step - loss: 0.2969 - categorical_accuracy: 0.8858 - val_loss: 0.6275 - val_categorical_accuracy: 0.8560\n",
      "Epoch 37/100\n",
      "16/16 [==============================] - 0s 23ms/step - loss: 0.2123 - categorical_accuracy: 0.9339 - val_loss: 0.7202 - val_categorical_accuracy: 0.8640\n",
      "Epoch 38/100\n",
      "16/16 [==============================] - 0s 22ms/step - loss: 0.2941 - categorical_accuracy: 0.8978 - val_loss: 0.8392 - val_categorical_accuracy: 0.8320\n",
      "Epoch 39/100\n",
      "16/16 [==============================] - 0s 22ms/step - loss: 0.2526 - categorical_accuracy: 0.9238 - val_loss: 0.6771 - val_categorical_accuracy: 0.8560\n",
      "Epoch 40/100\n",
      "16/16 [==============================] - 0s 23ms/step - loss: 0.3140 - categorical_accuracy: 0.8858 - val_loss: 0.8108 - val_categorical_accuracy: 0.8080\n",
      "Epoch 41/100\n",
      "16/16 [==============================] - 0s 29ms/step - loss: 0.2606 - categorical_accuracy: 0.9319 - val_loss: 0.6298 - val_categorical_accuracy: 0.8560\n",
      "Epoch 42/100\n",
      "16/16 [==============================] - 0s 22ms/step - loss: 0.2204 - categorical_accuracy: 0.9218 - val_loss: 0.6714 - val_categorical_accuracy: 0.8560\n",
      "Epoch 43/100\n",
      "16/16 [==============================] - 0s 25ms/step - loss: 0.1692 - categorical_accuracy: 0.9339 - val_loss: 0.5969 - val_categorical_accuracy: 0.8640\n",
      "Epoch 44/100\n",
      "16/16 [==============================] - 0s 21ms/step - loss: 0.2055 - categorical_accuracy: 0.9319 - val_loss: 0.6999 - val_categorical_accuracy: 0.8800\n",
      "Epoch 45/100\n",
      "16/16 [==============================] - 0s 21ms/step - loss: 0.1948 - categorical_accuracy: 0.9419 - val_loss: 0.7755 - val_categorical_accuracy: 0.8480\n",
      "Epoch 46/100\n",
      "16/16 [==============================] - 0s 21ms/step - loss: 0.2336 - categorical_accuracy: 0.9178 - val_loss: 0.7158 - val_categorical_accuracy: 0.8560\n",
      "Epoch 47/100\n",
      "16/16 [==============================] - 0s 22ms/step - loss: 0.1922 - categorical_accuracy: 0.9299 - val_loss: 0.7854 - val_categorical_accuracy: 0.8480\n",
      "Epoch 48/100\n",
      "16/16 [==============================] - 0s 23ms/step - loss: 0.2264 - categorical_accuracy: 0.9178 - val_loss: 0.9473 - val_categorical_accuracy: 0.8240\n",
      "Epoch 49/100\n",
      "16/16 [==============================] - 0s 23ms/step - loss: 0.1565 - categorical_accuracy: 0.9539 - val_loss: 0.6922 - val_categorical_accuracy: 0.8800\n",
      "Epoch 50/100\n",
      "16/16 [==============================] - 1s 37ms/step - loss: 0.1425 - categorical_accuracy: 0.9519 - val_loss: 0.7299 - val_categorical_accuracy: 0.8640\n",
      "Epoch 51/100\n",
      "16/16 [==============================] - 1s 32ms/step - loss: 0.1028 - categorical_accuracy: 0.9719 - val_loss: 0.7734 - val_categorical_accuracy: 0.8800\n",
      "Epoch 52/100\n",
      "16/16 [==============================] - 0s 24ms/step - loss: 0.0776 - categorical_accuracy: 0.9699 - val_loss: 0.7024 - val_categorical_accuracy: 0.8800\n",
      "Epoch 53/100\n",
      "16/16 [==============================] - 0s 23ms/step - loss: 0.0952 - categorical_accuracy: 0.9699 - val_loss: 0.7696 - val_categorical_accuracy: 0.8720\n",
      "Epoch 54/100\n",
      "16/16 [==============================] - 0s 21ms/step - loss: 0.0979 - categorical_accuracy: 0.9699 - val_loss: 0.6391 - val_categorical_accuracy: 0.8880\n",
      "Epoch 55/100\n",
      "16/16 [==============================] - 0s 22ms/step - loss: 0.1418 - categorical_accuracy: 0.9439 - val_loss: 0.8247 - val_categorical_accuracy: 0.8560\n",
      "Epoch 56/100\n",
      "16/16 [==============================] - 0s 22ms/step - loss: 0.1139 - categorical_accuracy: 0.9579 - val_loss: 0.8348 - val_categorical_accuracy: 0.8800\n",
      "Epoch 57/100\n",
      "16/16 [==============================] - 0s 25ms/step - loss: 0.1112 - categorical_accuracy: 0.9579 - val_loss: 0.8574 - val_categorical_accuracy: 0.8560\n",
      "Epoch 58/100\n",
      "16/16 [==============================] - 0s 25ms/step - loss: 0.0750 - categorical_accuracy: 0.9739 - val_loss: 0.6934 - val_categorical_accuracy: 0.8800\n",
      "Epoch 59/100\n",
      "16/16 [==============================] - 0s 23ms/step - loss: 0.0794 - categorical_accuracy: 0.9840 - val_loss: 0.6185 - val_categorical_accuracy: 0.8880\n",
      "Epoch 60/100\n",
      "16/16 [==============================] - 0s 24ms/step - loss: 0.0797 - categorical_accuracy: 0.9739 - val_loss: 0.7429 - val_categorical_accuracy: 0.8640\n",
      "Epoch 61/100\n",
      "16/16 [==============================] - 0s 29ms/step - loss: 0.1981 - categorical_accuracy: 0.9379 - val_loss: 0.6515 - val_categorical_accuracy: 0.8960\n",
      "Epoch 62/100\n",
      "16/16 [==============================] - 0s 22ms/step - loss: 0.1966 - categorical_accuracy: 0.9359 - val_loss: 0.7868 - val_categorical_accuracy: 0.8640\n",
      "Epoch 63/100\n",
      "16/16 [==============================] - 0s 23ms/step - loss: 0.1372 - categorical_accuracy: 0.9559 - val_loss: 0.9240 - val_categorical_accuracy: 0.8160\n",
      "Epoch 64/100\n",
      "16/16 [==============================] - 0s 23ms/step - loss: 0.1060 - categorical_accuracy: 0.9679 - val_loss: 0.6382 - val_categorical_accuracy: 0.9120\n",
      "Epoch 65/100\n",
      "16/16 [==============================] - 0s 23ms/step - loss: 0.0911 - categorical_accuracy: 0.9739 - val_loss: 0.7762 - val_categorical_accuracy: 0.8400\n",
      "Epoch 66/100\n",
      "16/16 [==============================] - 0s 23ms/step - loss: 0.1127 - categorical_accuracy: 0.9599 - val_loss: 0.9982 - val_categorical_accuracy: 0.8160\n",
      "Epoch 67/100\n",
      "16/16 [==============================] - 0s 22ms/step - loss: 0.0752 - categorical_accuracy: 0.9760 - val_loss: 0.6734 - val_categorical_accuracy: 0.8880\n",
      "Epoch 68/100\n",
      "16/16 [==============================] - 0s 22ms/step - loss: 0.0518 - categorical_accuracy: 0.9800 - val_loss: 0.7425 - val_categorical_accuracy: 0.8960\n",
      "Epoch 69/100\n",
      "16/16 [==============================] - 0s 29ms/step - loss: 0.0467 - categorical_accuracy: 0.9820 - val_loss: 0.7276 - val_categorical_accuracy: 0.8720\n",
      "Epoch 70/100\n",
      "16/16 [==============================] - 0s 22ms/step - loss: 0.0737 - categorical_accuracy: 0.9760 - val_loss: 0.7341 - val_categorical_accuracy: 0.8880\n",
      "Epoch 71/100\n",
      "16/16 [==============================] - 0s 23ms/step - loss: 0.0438 - categorical_accuracy: 0.9860 - val_loss: 0.9370 - val_categorical_accuracy: 0.8720\n",
      "Epoch 72/100\n",
      "16/16 [==============================] - 0s 23ms/step - loss: 0.0392 - categorical_accuracy: 0.9900 - val_loss: 0.8334 - val_categorical_accuracy: 0.9120\n",
      "Epoch 73/100\n",
      "16/16 [==============================] - 0s 20ms/step - loss: 0.0310 - categorical_accuracy: 0.9900 - val_loss: 0.8172 - val_categorical_accuracy: 0.9040\n",
      "Epoch 74/100\n",
      "16/16 [==============================] - 0s 29ms/step - loss: 0.0563 - categorical_accuracy: 0.9860 - val_loss: 0.7033 - val_categorical_accuracy: 0.9280\n",
      "Epoch 75/100\n",
      "16/16 [==============================] - 0s 22ms/step - loss: 0.0486 - categorical_accuracy: 0.9800 - val_loss: 0.7949 - val_categorical_accuracy: 0.8880\n",
      "Epoch 76/100\n",
      "16/16 [==============================] - 0s 24ms/step - loss: 0.0749 - categorical_accuracy: 0.9739 - val_loss: 0.6894 - val_categorical_accuracy: 0.9120\n",
      "Epoch 77/100\n",
      "16/16 [==============================] - 0s 26ms/step - loss: 0.0817 - categorical_accuracy: 0.9699 - val_loss: 1.0077 - val_categorical_accuracy: 0.8640\n",
      "Epoch 78/100\n",
      "16/16 [==============================] - 0s 24ms/step - loss: 0.1340 - categorical_accuracy: 0.9499 - val_loss: 0.8971 - val_categorical_accuracy: 0.8640\n",
      "Epoch 79/100\n",
      "16/16 [==============================] - 0s 26ms/step - loss: 0.0939 - categorical_accuracy: 0.9739 - val_loss: 0.5820 - val_categorical_accuracy: 0.9280\n",
      "Epoch 80/100\n",
      "16/16 [==============================] - 0s 21ms/step - loss: 0.0559 - categorical_accuracy: 0.9820 - val_loss: 0.6334 - val_categorical_accuracy: 0.8880\n",
      "Epoch 81/100\n",
      "16/16 [==============================] - 0s 21ms/step - loss: 0.0580 - categorical_accuracy: 0.9820 - val_loss: 0.5898 - val_categorical_accuracy: 0.9360\n",
      "Epoch 82/100\n",
      "16/16 [==============================] - 0s 21ms/step - loss: 0.0438 - categorical_accuracy: 0.9820 - val_loss: 0.7552 - val_categorical_accuracy: 0.9040\n",
      "Epoch 83/100\n",
      "16/16 [==============================] - 0s 20ms/step - loss: 0.0458 - categorical_accuracy: 0.9860 - val_loss: 0.6963 - val_categorical_accuracy: 0.9200\n",
      "Epoch 84/100\n",
      "16/16 [==============================] - 0s 22ms/step - loss: 0.0329 - categorical_accuracy: 0.9880 - val_loss: 0.8341 - val_categorical_accuracy: 0.8880\n",
      "Epoch 85/100\n",
      "16/16 [==============================] - 0s 22ms/step - loss: 0.0467 - categorical_accuracy: 0.9880 - val_loss: 0.9178 - val_categorical_accuracy: 0.8960\n",
      "Epoch 86/100\n",
      "16/16 [==============================] - 0s 21ms/step - loss: 0.0512 - categorical_accuracy: 0.9800 - val_loss: 0.8054 - val_categorical_accuracy: 0.8880\n",
      "Epoch 87/100\n",
      "16/16 [==============================] - 0s 22ms/step - loss: 0.0630 - categorical_accuracy: 0.9800 - val_loss: 0.6087 - val_categorical_accuracy: 0.9200\n",
      "Epoch 88/100\n",
      "16/16 [==============================] - 0s 29ms/step - loss: 0.0562 - categorical_accuracy: 0.9800 - val_loss: 0.5937 - val_categorical_accuracy: 0.9120\n",
      "Epoch 89/100\n",
      "16/16 [==============================] - 1s 42ms/step - loss: 0.0864 - categorical_accuracy: 0.9739 - val_loss: 0.7574 - val_categorical_accuracy: 0.8960\n",
      "Epoch 90/100\n",
      "16/16 [==============================] - 0s 28ms/step - loss: 0.0976 - categorical_accuracy: 0.9639 - val_loss: 0.5863 - val_categorical_accuracy: 0.8880\n",
      "Epoch 91/100\n",
      "16/16 [==============================] - 0s 27ms/step - loss: 0.0782 - categorical_accuracy: 0.9719 - val_loss: 0.6460 - val_categorical_accuracy: 0.8960\n",
      "Epoch 92/100\n",
      "16/16 [==============================] - 0s 25ms/step - loss: 0.0686 - categorical_accuracy: 0.9659 - val_loss: 0.6469 - val_categorical_accuracy: 0.9200\n",
      "Epoch 93/100\n",
      "16/16 [==============================] - 0s 25ms/step - loss: 0.0617 - categorical_accuracy: 0.9840 - val_loss: 0.7367 - val_categorical_accuracy: 0.9040\n",
      "Epoch 94/100\n",
      "16/16 [==============================] - 0s 23ms/step - loss: 0.0286 - categorical_accuracy: 0.9920 - val_loss: 0.6628 - val_categorical_accuracy: 0.9040\n",
      "Epoch 95/100\n",
      "16/16 [==============================] - 0s 25ms/step - loss: 0.0342 - categorical_accuracy: 0.9880 - val_loss: 0.7415 - val_categorical_accuracy: 0.8960\n",
      "Epoch 96/100\n",
      "16/16 [==============================] - 0s 22ms/step - loss: 0.0242 - categorical_accuracy: 0.9920 - val_loss: 0.8139 - val_categorical_accuracy: 0.8800\n",
      "Epoch 97/100\n",
      "16/16 [==============================] - 0s 26ms/step - loss: 0.0514 - categorical_accuracy: 0.9840 - val_loss: 0.6792 - val_categorical_accuracy: 0.9440\n",
      "Epoch 98/100\n",
      "16/16 [==============================] - 0s 26ms/step - loss: 0.0191 - categorical_accuracy: 0.9940 - val_loss: 0.7238 - val_categorical_accuracy: 0.9040\n",
      "Epoch 99/100\n"
     ]
    },
    {
     "name": "stdout",
     "output_type": "stream",
     "text": [
      "16/16 [==============================] - 0s 24ms/step - loss: 0.0476 - categorical_accuracy: 0.9860 - val_loss: 0.8265 - val_categorical_accuracy: 0.9040\n",
      "Epoch 100/100\n",
      "16/16 [==============================] - 0s 24ms/step - loss: 0.0239 - categorical_accuracy: 0.9940 - val_loss: 0.8140 - val_categorical_accuracy: 0.9280\n"
     ]
    }
   ],
   "source": [
    "history = model.fit(X_train, y_train, validation_split=0.2, epochs=100)"
   ]
  },
  {
   "cell_type": "code",
   "execution_count": 61,
   "id": "8df847cc",
   "metadata": {},
   "outputs": [
    {
     "name": "stdout",
     "output_type": "stream",
     "text": [
      "Accuracy Score: 0.9423076923076923\n"
     ]
    }
   ],
   "source": [
    "from sklearn.metrics import multilabel_confusion_matrix, confusion_matrix, accuracy_score, precision_recall_fscore_support\n",
    "yhat = model.predict(X_test)\n",
    "ytrue = np.argmax(y_test, axis=1).tolist()\n",
    "yhat = np.argmax(yhat, axis=1).tolist()\n",
    "\n",
    "print(\"Accuracy Score: {}\".format(accuracy_score(ytrue, yhat)))"
   ]
  },
  {
   "cell_type": "code",
   "execution_count": 62,
   "id": "c600e018",
   "metadata": {},
   "outputs": [
    {
     "name": "stdout",
     "output_type": "stream",
     "text": [
      "dict_keys(['loss', 'categorical_accuracy', 'val_loss', 'val_categorical_accuracy'])\n"
     ]
    }
   ],
   "source": [
    "print(history.history.keys())"
   ]
  },
  {
   "cell_type": "code",
   "execution_count": 63,
   "id": "1184301b",
   "metadata": {},
   "outputs": [
    {
     "name": "stdout",
     "output_type": "stream",
     "text": [
      "Model: \"sequential_3\"\n",
      "_________________________________________________________________\n",
      " Layer (type)                Output Shape              Param #   \n",
      "=================================================================\n",
      " conv2d_12 (Conv2D)          (None, 16, 42, 32)        896       \n",
      "                                                                 \n",
      " max_pooling2d_9 (MaxPooling  (None, 16, 21, 32)       0         \n",
      " 2D)                                                             \n",
      "                                                                 \n",
      " conv2d_13 (Conv2D)          (None, 14, 19, 64)        18496     \n",
      "                                                                 \n",
      " max_pooling2d_10 (MaxPoolin  (None, 7, 9, 64)         0         \n",
      " g2D)                                                            \n",
      "                                                                 \n",
      " conv2d_14 (Conv2D)          (None, 5, 7, 128)         73856     \n",
      "                                                                 \n",
      " conv2d_15 (Conv2D)          (None, 3, 5, 256)         295168    \n",
      "                                                                 \n",
      " max_pooling2d_11 (MaxPoolin  (None, 1, 2, 256)        0         \n",
      " g2D)                                                            \n",
      "                                                                 \n",
      " flatten_3 (Flatten)         (None, 512)               0         \n",
      "                                                                 \n",
      " dense_9 (Dense)             (None, 128)               65664     \n",
      "                                                                 \n",
      " dropout_6 (Dropout)         (None, 128)               0         \n",
      "                                                                 \n",
      " dense_10 (Dense)            (None, 64)                8256      \n",
      "                                                                 \n",
      " dropout_7 (Dropout)         (None, 64)                0         \n",
      "                                                                 \n",
      " dense_11 (Dense)            (None, 26)                1690      \n",
      "                                                                 \n",
      "=================================================================\n",
      "Total params: 464,026\n",
      "Trainable params: 464,026\n",
      "Non-trainable params: 0\n",
      "_________________________________________________________________\n"
     ]
    }
   ],
   "source": [
    "model.summary()"
   ]
  },
  {
   "cell_type": "code",
   "execution_count": 64,
   "id": "4730fa35",
   "metadata": {},
   "outputs": [
    {
     "data": {
      "text/plain": [
       "100"
      ]
     },
     "execution_count": 64,
     "metadata": {},
     "output_type": "execute_result"
    }
   ],
   "source": [
    "len(history.history['categorical_accuracy'])"
   ]
  },
  {
   "cell_type": "code",
   "execution_count": 66,
   "id": "3b02b8f5",
   "metadata": {},
   "outputs": [
    {
     "data": {
      "image/png": "[encoded data removed]",
      "text/plain": [
       "<Figure size 432x288 with 1 Axes>"
      ]
     },
     "metadata": {
      "needs_background": "light"
     },
     "output_type": "display_data"
    }
   ],
   "source": [
    "# summarize history for accuracy\n",
    "plt.plot(history.history['categorical_accuracy'])\n",
    "plt.plot(history.history['val_categorical_accuracy'])\n",
    "plt.title('Model accuracy')\n",
    "plt.ylabel('Accuracy')\n",
    "plt.xlabel('Epoch')\n",
    "plt.legend(['Train', 'Test'], loc='lower left')\n",
    "#plt.show()\n",
    "plt.savefig('accuracy_custom.pdf', dpi = 700)"
   ]
  },
  {
   "cell_type": "code",
   "execution_count": 67,
   "id": "dd6f4b76",
   "metadata": {},
   "outputs": [
    {
     "data": {
      "image/png": "[encoded data removed]",
      "text/plain": [
       "<Figure size 432x288 with 1 Axes>"
      ]
     },
     "metadata": {
      "needs_background": "light"
     },
     "output_type": "display_data"
    }
   ],
   "source": [
    "# summarize history for loss\n",
    "plt.plot(history.history['loss'])\n",
    "plt.plot(history.history['val_loss'])\n",
    "plt.title('Model loss')\n",
    "plt.ylabel('Loss')\n",
    "plt.xlabel('Epoch')\n",
    "plt.legend(['Train', 'Test'], loc='upper left')\n",
    "#plt.show()\n",
    "plt.savefig('loss_custom.pdf', dpi = 700)"
   ]
  },
  {
   "cell_type": "code",
   "execution_count": null,
   "id": "1beef07f",
   "metadata": {},
   "outputs": [],
   "source": [
    "! pip install pydot"
   ]
  },
  {
   "cell_type": "code",
   "execution_count": 68,
   "id": "41873402",
   "metadata": {},
   "outputs": [],
   "source": [
    "from tensorflow.keras.utils import plot_model\n",
    "\n",
    "#model = ResNet50(weights='imagenet')\n",
    "plot_model(model, to_file='model_custom.pdf', dpi = 700, show_shapes=True)"
   ]
  },
  {
   "cell_type": "code",
   "execution_count": 69,
   "id": "f73c99f3",
   "metadata": {},
   "outputs": [],
   "source": [
    "# Step 8 - Make prediction\n",
    "res = model.predict(X_test)"
   ]
  },
  {
   "cell_type": "code",
   "execution_count": 70,
   "id": "050530cd",
   "metadata": {},
   "outputs": [
    {
     "data": {
      "text/plain": [
       "'I'"
      ]
     },
     "execution_count": 70,
     "metadata": {},
     "output_type": "execute_result"
    }
   ],
   "source": [
    "actions[np.argmax(res[0])]"
   ]
  },
  {
   "cell_type": "code",
   "execution_count": 71,
   "id": "3844a38d",
   "metadata": {},
   "outputs": [
    {
     "data": {
      "text/plain": [
       "'I'"
      ]
     },
     "execution_count": 71,
     "metadata": {},
     "output_type": "execute_result"
    }
   ],
   "source": [
    "actions[np.argmax(y_test[0])]"
   ]
  },
  {
   "cell_type": "code",
   "execution_count": 16,
   "id": "880c4b32",
   "metadata": {},
   "outputs": [],
   "source": [
    "from sklearn.metrics import multilabel_confusion_matrix, confusion_matrix, accuracy_score, precision_recall_fscore_support"
   ]
  },
  {
   "cell_type": "code",
   "execution_count": 73,
   "id": "490d85d0",
   "metadata": {},
   "outputs": [
    {
     "data": {
      "image/png": "[encoded data removed]",
      "text/plain": [
       "<Figure size 1440x720 with 2 Axes>"
      ]
     },
     "metadata": {},
     "output_type": "display_data"
    }
   ],
   "source": [
    "import seaborn as sns\n",
    "yhat = model.predict(X_test)\n",
    "ytrue = np.argmax(y_test, axis=1)\n",
    "yhat = np.argmax(yhat, axis=1)\n",
    "\n",
    "cf_matr = confusion_matrix(ytrue, yhat)\n",
    "sns.set(rc = {'figure.figsize':(20, 10)})\n",
    "hmap = sns.heatmap(cf_matr,xticklabels=actions,yticklabels=actions)\n",
    "hmap\n",
    "figure = hmap.get_figure()  \n",
    "#figure\n",
    "#figure.savefig('Confusion_matrix.pdf', dpi=700)"
   ]
  },
  {
   "cell_type": "code",
   "execution_count": 74,
   "id": "3ee1d088",
   "metadata": {},
   "outputs": [
    {
     "name": "stdout",
     "output_type": "stream",
     "text": [
      "Precision Score: 0.9527930402930403\n",
      "Recall Score: 0.9489926739926738\n",
      "F1 Score: 0.945421860693354\n",
      "F Beta Score for Beta as 0.5 = 0.9483468855680387\n"
     ]
    }
   ],
   "source": [
    "from sklearn.metrics import fbeta_score \n",
    "(precision, recall, f1_score, _) = precision_recall_fscore_support(ytrue, yhat, average='macro')\n",
    "print(\"Precision Score: {}\\nRecall Score: {}\\nF1 Score: {}\".format(precision, recall, f1_score))\n",
    "print(\"F Beta Score for Beta as 0.5 = {}\".format(fbeta_score(ytrue, yhat, average='macro', beta=0.5)))"
   ]
  },
  {
   "cell_type": "code",
   "execution_count": 75,
   "id": "66772715",
   "metadata": {},
   "outputs": [
    {
     "name": "stdout",
     "output_type": "stream",
     "text": [
      "              precision    recall  f1-score   support\n",
      "\n",
      "           A       1.00      1.00      1.00         4\n",
      "           B       1.00      1.00      1.00         5\n",
      "           C       0.60      0.86      0.71         7\n",
      "           D       1.00      1.00      1.00         9\n",
      "           E       1.00      1.00      1.00         8\n",
      "           F       1.00      1.00      1.00         8\n",
      "           G       1.00      1.00      1.00        12\n",
      "           H       1.00      1.00      1.00         2\n",
      "           I       0.86      1.00      0.92         6\n",
      "           J       0.83      0.83      0.83         6\n",
      "           K       1.00      1.00      1.00         6\n",
      "           L       1.00      1.00      1.00         7\n",
      "           M       1.00      1.00      1.00         8\n",
      "           N       1.00      1.00      1.00         5\n",
      "           O       1.00      0.60      0.75        10\n",
      "           P       0.86      1.00      0.92         6\n",
      "           Q       0.75      1.00      0.86         3\n",
      "           R       1.00      1.00      1.00         5\n",
      "           S       1.00      1.00      1.00         3\n",
      "           T       1.00      0.80      0.89         5\n",
      "           U       1.00      0.75      0.86         4\n",
      "           V       0.88      1.00      0.93         7\n",
      "           W       1.00      1.00      1.00         2\n",
      "           X       1.00      1.00      1.00         7\n",
      "           Y       1.00      0.83      0.91         6\n",
      "           Z       1.00      1.00      1.00         5\n",
      "\n",
      "    accuracy                           0.94       156\n",
      "   macro avg       0.95      0.95      0.95       156\n",
      "weighted avg       0.95      0.94      0.94       156\n",
      "\n"
     ]
    }
   ],
   "source": [
    "from sklearn.metrics import classification_report\n",
    "print(classification_report(ytrue, yhat, target_names=actions))"
   ]
  },
  {
   "cell_type": "code",
   "execution_count": 76,
   "id": "44f72c9f",
   "metadata": {},
   "outputs": [
    {
     "name": "stdout",
     "output_type": "stream",
     "text": [
      "Hamming Loss: 0.057692307692307696\n"
     ]
    }
   ],
   "source": [
    "from sklearn.metrics import hamming_loss\n",
    "print(\"Hamming Loss: {}\".format(hamming_loss(ytrue, yhat)))"
   ]
  },
  {
   "cell_type": "code",
   "execution_count": 77,
   "id": "c1b71974",
   "metadata": {},
   "outputs": [
    {
     "name": "stdout",
     "output_type": "stream",
     "text": [
      "Jaccard Score: 0.9070138195138195\n",
      "Matthews correlation coefficient: 0.9403164913771194\n"
     ]
    }
   ],
   "source": [
    "from sklearn.metrics import jaccard_score, matthews_corrcoef\n",
    "print(\"Jaccard Score: {}\".format(jaccard_score(ytrue, yhat, average='macro')))\n",
    "print(\"Matthews correlation coefficient: {}\".format(matthews_corrcoef(ytrue, yhat)))"
   ]
  },
  {
   "cell_type": "code",
   "execution_count": 78,
   "id": "6245c168",
   "metadata": {},
   "outputs": [],
   "source": [
    "import pandas as pd\n",
    "import matplotlib.pyplot as plt\n",
    "\n",
    "\n",
    "def print_confusion_matrix(confusion_matrix, axes, class_label, class_names, fontsize=14):\n",
    "\n",
    "    df_cm = pd.DataFrame(\n",
    "        confusion_matrix, index=class_names, columns=class_names,\n",
    "    )\n",
    "\n",
    "    try:\n",
    "        heatmap = sns.heatmap(df_cm, annot=True, fmt=\"d\", cbar=False, ax=axes)\n",
    "    except ValueError:\n",
    "        raise ValueError(\"Confusion matrix values must be integers.\")\n",
    "    heatmap.yaxis.set_ticklabels(heatmap.yaxis.get_ticklabels(), rotation=0, ha='right', fontsize=fontsize)\n",
    "    heatmap.xaxis.set_ticklabels(heatmap.xaxis.get_ticklabels(), rotation=45, ha='right', fontsize=fontsize)\n",
    "    axes.set_ylabel('True label')\n",
    "    axes.set_xlabel('Predicted label')\n",
    "    axes.set_title(\"Confusion Matrix for the class - \" + class_label)"
   ]
  },
  {
   "cell_type": "code",
   "execution_count": 79,
   "id": "be42467e",
   "metadata": {},
   "outputs": [
    {
     "data": {
      "text/plain": [
       "array(['M', 'N', 'O', 'P', 'Q', 'R', 'S', 'T', 'U', 'V', 'W', 'X', 'Y',\n",
       "       'Z'], dtype='<U1')"
      ]
     },
     "execution_count": 79,
     "metadata": {},
     "output_type": "execute_result"
    }
   ],
   "source": [
    "actions[12:]"
   ]
  },
  {
   "cell_type": "code",
   "execution_count": 81,
   "id": "cc684288",
   "metadata": {},
   "outputs": [
    {
     "data": {
      "image/png": "[encoded data removed]",
      "text/plain": [
       "<Figure size 720x1440 with 12 Axes>"
      ]
     },
     "metadata": {},
     "output_type": "display_data"
    }
   ],
   "source": [
    "fig, ax = plt.subplots(6, 2, figsize=(10, 20))\n",
    "conf_matrix = multilabel_confusion_matrix(ytrue, yhat)\n",
    "    \n",
    "for axes, cfs_matrix, label in zip(ax.flatten(), conf_matrix[0:12], actions[0:12]):\n",
    "    print_confusion_matrix(cfs_matrix, axes, label, [\"F\", \"T\"])\n",
    "\n",
    "fig.tight_layout()\n",
    "plt.show()\n",
    "#plt.savefig('conf_mat.pdf', dpi = 700)"
   ]
  },
  {
   "cell_type": "code",
   "execution_count": 82,
   "id": "7bdbc5a8",
   "metadata": {},
   "outputs": [
    {
     "data": {
      "image/png": "[encoded data removed]",
      "text/plain": [
       "<Figure size 720x1728 with 14 Axes>"
      ]
     },
     "metadata": {},
     "output_type": "display_data"
    }
   ],
   "source": [
    "fig, ax = plt.subplots(7, 2, figsize=(10, 24))\n",
    "    \n",
    "for axes, cfs_matrix, label in zip(ax.flatten(), conf_matrix[12:], actions[12:]):\n",
    "    print_confusion_matrix(cfs_matrix, axes, label, [\"F\", \"T\"])\n",
    "\n",
    "fig.tight_layout()\n",
    "plt.show()\n",
    "#plt.savefig('conf_mat2.pdf', dpi = 700)"
   ]
  },
  {
   "cell_type": "code",
   "execution_count": 83,
   "id": "fa10e646",
   "metadata": {},
   "outputs": [],
   "source": [
    "# Uncomment to save your model\n",
    "model.save('weights_custom.h5')"
   ]
  },
  {
   "cell_type": "code",
   "execution_count": null,
   "id": "f8250c41",
   "metadata": {},
   "outputs": [],
   "source": [
    "import tensorflow as tf\n",
    "import tensorflow_hub as hub\n",
    "from tensorflow import lite\n",
    "\n",
    "SAVED_MODEL = \"saved_models\"\n",
    "tf.saved_model.save(model, SAVED_MODEL)"
   ]
  },
  {
   "cell_type": "code",
   "execution_count": null,
   "id": "47dd0e88",
   "metadata": {},
   "outputs": [],
   "source": [
    "#sigmodel = hub.load(SAVED_MODEL)\n",
    "TFLITE_MODEL = \"tflite_models/sign.tflite\"\n",
    "TFLITE_QUANT_MODEL = \"tflite_models/sign_quant.tflite\""
   ]
  },
  {
   "cell_type": "code",
   "execution_count": null,
   "id": "c3c36a2d",
   "metadata": {},
   "outputs": [],
   "source": [
    "def convert_to_tflite():\n",
    "    converter = lite.TFLiteConverter.from_keras_model(model)\n",
    "\n",
    "    converter.optimizations = [tf.lite.Optimize.DEFAULT]\n",
    "    converter.experimental_new_converter = True\n",
    "    converter.target_spec.supported_ops = [tf.lite.OpsSet.TFLITE_BUILTINS,\n",
    "                                           tf.lite.OpsSet.SELECT_TF_OPS]\n",
    "\n",
    "    converted_tflite_model = converter.convert()\n",
    "    open(TFLITE_MODEL, \"wb\").write(converted_tflite_model)\n",
    "\n",
    "    converter = lite.TFLiteConverter.from_keras_model(model)\n",
    "    converter.optimizations = [tf.lite.Optimize.OPTIMIZE_FOR_SIZE]\n",
    "    converter.experimental_new_converter = True\n",
    "    converter.target_spec.supported_ops = [tf.lite.OpsSet.TFLITE_BUILTINS,\n",
    "                                           tf.lite.OpsSet.SELECT_TF_OPS]\n",
    "\n",
    "    tflite_quant_model = converter.convert()\n",
    "    open(TFLITE_QUANT_MODEL, \"wb\").write(tflite_quant_model)"
   ]
  },
  {
   "cell_type": "code",
   "execution_count": null,
   "id": "42a64831",
   "metadata": {},
   "outputs": [],
   "source": [
    "convert_to_tflite()"
   ]
  },
  {
   "cell_type": "code",
   "execution_count": null,
   "id": "a440220b",
   "metadata": {},
   "outputs": [],
   "source": [
    "def use_tflite(X_test, y_test):\n",
    "    X_test = np.float32(X_test)\n",
    "    y_test = np.float32(y_test)\n",
    "    \n",
    "    tflite_interpreter = tf.lite.Interpreter(model_path=TFLITE_MODEL)\n",
    "\n",
    "    input_details = tflite_interpreter.get_input_details()\n",
    "    output_details = tflite_interpreter.get_output_details()\n",
    "\n",
    "    tflite_interpreter.resize_tensor_input(\n",
    "        input_details[0]['index'], X_test.shape)\n",
    "    tflite_interpreter.resize_tensor_input(\n",
    "        output_details[0]['index'], y_test.shape)\n",
    "    tflite_interpreter.allocate_tensors()\n",
    "\n",
    "    input_details = tflite_interpreter.get_input_details()\n",
    "    output_details = tflite_interpreter.get_output_details()\n",
    "\n",
    "    # Load quantized TFLite model\n",
    "    tflite_interpreter_quant = tf.lite.Interpreter(\n",
    "        model_path=TFLITE_QUANT_MODEL)\n",
    "\n",
    "    # Learn about its input and output details\n",
    "    input_details = tflite_interpreter_quant.get_input_details()\n",
    "    output_details = tflite_interpreter_quant.get_output_details()\n",
    "\n",
    "    # Resize input and output tensors\n",
    "    tflite_interpreter_quant.resize_tensor_input(\n",
    "        input_details[0]['index'], X_test.shape)\n",
    "    tflite_interpreter_quant.resize_tensor_input(\n",
    "        output_details[0]['index'], y_test.shape)\n",
    "    tflite_interpreter_quant.allocate_tensors()\n",
    "\n",
    "    input_details = tflite_interpreter_quant.get_input_details()\n",
    "    output_details = tflite_interpreter_quant.get_output_details()\n",
    "\n",
    "    # Run inference\n",
    "    tflite_interpreter_quant.set_tensor(input_details[0]['index'], X_test)\n",
    "\n",
    "    tflite_interpreter_quant.invoke()\n",
    "\n",
    "    tflite_q_model_predictions = tflite_interpreter_quant.get_tensor(\n",
    "        output_details[0]['index'])\n",
    "#print(\"\\nPrediction results shape:\", tflite_q_model_predictions.shape)"
   ]
  },
  {
   "cell_type": "code",
   "execution_count": null,
   "id": "9f3171c2",
   "metadata": {},
   "outputs": [],
   "source": [
    "#use_tflite(X_test, y_test)"
   ]
  },
  {
   "cell_type": "code",
   "execution_count": 17,
   "id": "450d905a",
   "metadata": {},
   "outputs": [],
   "source": [
    "new_actions = np.array(['C', 'O'])\n",
    "new_label_map = {label:num for num, label in enumerate(new_actions)}\n",
    "new_label_map\n",
    "sequence_length = 30"
   ]
  },
  {
   "cell_type": "code",
   "execution_count": 18,
   "id": "ec83e673",
   "metadata": {},
   "outputs": [],
   "source": [
    "sequences, labels = [], []\n",
    "for action in new_actions:\n",
    "    for sequence in range(no_sequences):\n",
    "        window = []\n",
    "        for frame_num in range(sequence_length):\n",
    "            res = np.load(os.path.join(DATA_PATH, action, str(sequence), \"{}.npy\".format(frame_num)))\n",
    "            window.append(res)\n",
    "        sequences.append(window)\n",
    "        labels.append(new_label_map[action])"
   ]
  },
  {
   "cell_type": "code",
   "execution_count": 19,
   "id": "ebd9249b",
   "metadata": {},
   "outputs": [],
   "source": [
    "X = np.array(sequences)"
   ]
  },
  {
   "cell_type": "code",
   "execution_count": 20,
   "id": "962354ef",
   "metadata": {},
   "outputs": [],
   "source": [
    "y = to_categorical(labels).astype(int)"
   ]
  },
  {
   "cell_type": "code",
   "execution_count": 21,
   "id": "998d1020",
   "metadata": {},
   "outputs": [],
   "source": [
    "X_train, X_test, y_train, y_test = train_test_split(X, y, test_size=0.3)"
   ]
  },
  {
   "cell_type": "code",
   "execution_count": 22,
   "id": "b8359882",
   "metadata": {},
   "outputs": [
    {
     "data": {
      "text/plain": [
       "(42, 30, 126)"
      ]
     },
     "execution_count": 22,
     "metadata": {},
     "output_type": "execute_result"
    }
   ],
   "source": [
    "X_train.shape"
   ]
  },
  {
   "cell_type": "code",
   "execution_count": 23,
   "id": "6b1a5d4e",
   "metadata": {},
   "outputs": [
    {
     "data": {
      "text/plain": [
       "(42, 2)"
      ]
     },
     "execution_count": 23,
     "metadata": {},
     "output_type": "execute_result"
    }
   ],
   "source": [
    "y_train.shape"
   ]
  },
  {
   "cell_type": "code",
   "execution_count": 24,
   "id": "e9dec17d",
   "metadata": {},
   "outputs": [],
   "source": [
    "from tensorflow.keras.layers import Conv1D, MaxPool1D"
   ]
  },
  {
   "cell_type": "code",
   "execution_count": 25,
   "id": "97ff31f8",
   "metadata": {},
   "outputs": [],
   "source": [
    "# CNN Model\n",
    "model = Sequential()\n",
    "\n",
    "model.add(Conv1D(filters=32, kernel_size=3, activation='relu', input_shape=X_train.shape[1:]))\n",
    "model.add(MaxPool1D(pool_size=2, strides=None))\n",
    "\n",
    "model.add(Conv1D(filters=64, kernel_size=3, activation='relu', padding = 'same'))\n",
    "model.add(MaxPool1D(pool_size=2, strides=None))\n",
    "\n",
    "model.add(Conv1D(filters=128, kernel_size=3, activation='relu', padding = 'valid'))\n",
    "model.add(MaxPool1D(pool_size=2, strides=None))\n",
    "\n",
    "model.add(Flatten())\n",
    "\n",
    "model.add(Dense(64,activation =\"relu\"))\n",
    "model.add(Dropout(0.2))\n",
    "model.add(Dense(128,activation =\"relu\"))\n",
    "model.add(Dropout(0.3))\n",
    "model.add(Dense(new_actions.shape[0],activation =\"softmax\"))"
   ]
  },
  {
   "cell_type": "code",
   "execution_count": 26,
   "id": "de10265a",
   "metadata": {},
   "outputs": [],
   "source": [
    "model.compile(optimizer='Adam', loss='categorical_crossentropy', metrics=['categorical_accuracy'])"
   ]
  },
  {
   "cell_type": "code",
   "execution_count": 27,
   "id": "a0fa8f91",
   "metadata": {},
   "outputs": [
    {
     "name": "stdout",
     "output_type": "stream",
     "text": [
      "Epoch 1/100\n",
      "2/2 [==============================] - 3s 178ms/step - loss: 0.6896 - categorical_accuracy: 0.5476\n",
      "Epoch 2/100\n",
      "2/2 [==============================] - 0s 16ms/step - loss: 0.6844 - categorical_accuracy: 0.6429\n",
      "Epoch 3/100\n",
      "2/2 [==============================] - 0s 12ms/step - loss: 0.6819 - categorical_accuracy: 0.6667\n",
      "Epoch 4/100\n",
      "2/2 [==============================] - 0s 16ms/step - loss: 0.6746 - categorical_accuracy: 0.5952\n",
      "Epoch 5/100\n",
      "2/2 [==============================] - 0s 11ms/step - loss: 0.6625 - categorical_accuracy: 0.6190\n",
      "Epoch 6/100\n",
      "2/2 [==============================] - 0s 15ms/step - loss: 0.6433 - categorical_accuracy: 0.7143\n",
      "Epoch 7/100\n",
      "2/2 [==============================] - 0s 14ms/step - loss: 0.6426 - categorical_accuracy: 0.6667\n",
      "Epoch 8/100\n",
      "2/2 [==============================] - 0s 15ms/step - loss: 0.6219 - categorical_accuracy: 0.6905\n",
      "Epoch 9/100\n",
      "2/2 [==============================] - 0s 16ms/step - loss: 0.5975 - categorical_accuracy: 0.7381\n",
      "Epoch 10/100\n",
      "2/2 [==============================] - 0s 13ms/step - loss: 0.5603 - categorical_accuracy: 0.8333\n",
      "Epoch 11/100\n",
      "2/2 [==============================] - 0s 15ms/step - loss: 0.5166 - categorical_accuracy: 0.8571\n",
      "Epoch 12/100\n",
      "2/2 [==============================] - 0s 16ms/step - loss: 0.5040 - categorical_accuracy: 0.7857\n",
      "Epoch 13/100\n",
      "2/2 [==============================] - 0s 17ms/step - loss: 0.4409 - categorical_accuracy: 0.8333\n",
      "Epoch 14/100\n",
      "2/2 [==============================] - 0s 14ms/step - loss: 0.4039 - categorical_accuracy: 0.8571\n",
      "Epoch 15/100\n",
      "2/2 [==============================] - 0s 10ms/step - loss: 0.3338 - categorical_accuracy: 0.9048\n",
      "Epoch 16/100\n",
      "2/2 [==============================] - 0s 16ms/step - loss: 0.3433 - categorical_accuracy: 0.8571\n",
      "Epoch 17/100\n",
      "2/2 [==============================] - 0s 15ms/step - loss: 0.2915 - categorical_accuracy: 0.9048\n",
      "Epoch 18/100\n",
      "2/2 [==============================] - 0s 16ms/step - loss: 0.2773 - categorical_accuracy: 0.9048\n",
      "Epoch 19/100\n",
      "2/2 [==============================] - 0s 15ms/step - loss: 0.1833 - categorical_accuracy: 0.9286\n",
      "Epoch 20/100\n",
      "2/2 [==============================] - 0s 15ms/step - loss: 0.2364 - categorical_accuracy: 0.9048\n",
      "Epoch 21/100\n",
      "2/2 [==============================] - 0s 10ms/step - loss: 0.1460 - categorical_accuracy: 0.9286\n",
      "Epoch 22/100\n",
      "2/2 [==============================] - 0s 16ms/step - loss: 0.1890 - categorical_accuracy: 0.9048\n",
      "Epoch 23/100\n",
      "2/2 [==============================] - 0s 17ms/step - loss: 0.1078 - categorical_accuracy: 0.9762\n",
      "Epoch 24/100\n",
      "2/2 [==============================] - 0s 16ms/step - loss: 0.1250 - categorical_accuracy: 0.9524\n",
      "Epoch 25/100\n",
      "2/2 [==============================] - 0s 15ms/step - loss: 0.1532 - categorical_accuracy: 0.9286\n",
      "Epoch 26/100\n",
      "2/2 [==============================] - 0s 17ms/step - loss: 0.2476 - categorical_accuracy: 0.9048\n",
      "Epoch 27/100\n",
      "2/2 [==============================] - 0s 15ms/step - loss: 0.1605 - categorical_accuracy: 0.8810\n",
      "Epoch 28/100\n",
      "2/2 [==============================] - 0s 19ms/step - loss: 0.4738 - categorical_accuracy: 0.8333\n",
      "Epoch 29/100\n",
      "2/2 [==============================] - 0s 10ms/step - loss: 0.2144 - categorical_accuracy: 0.9048\n",
      "Epoch 30/100\n",
      "2/2 [==============================] - 0s 12ms/step - loss: 0.1525 - categorical_accuracy: 0.9286\n",
      "Epoch 31/100\n",
      "2/2 [==============================] - 0s 21ms/step - loss: 0.3225 - categorical_accuracy: 0.9048\n",
      "Epoch 32/100\n",
      "2/2 [==============================] - 0s 22ms/step - loss: 0.3188 - categorical_accuracy: 0.9048\n",
      "Epoch 33/100\n",
      "2/2 [==============================] - 0s 16ms/step - loss: 0.1887 - categorical_accuracy: 0.9286\n",
      "Epoch 34/100\n",
      "2/2 [==============================] - 0s 22ms/step - loss: 0.1003 - categorical_accuracy: 0.9762\n",
      "Epoch 35/100\n",
      "2/2 [==============================] - 0s 20ms/step - loss: 0.2002 - categorical_accuracy: 0.9048\n",
      "Epoch 36/100\n",
      "2/2 [==============================] - 0s 12ms/step - loss: 0.2427 - categorical_accuracy: 0.8571\n",
      "Epoch 37/100\n",
      "2/2 [==============================] - 0s 16ms/step - loss: 0.1633 - categorical_accuracy: 0.9286\n",
      "Epoch 38/100\n",
      "2/2 [==============================] - 0s 16ms/step - loss: 0.1479 - categorical_accuracy: 0.9286\n",
      "Epoch 39/100\n",
      "2/2 [==============================] - 0s 19ms/step - loss: 0.1114 - categorical_accuracy: 0.9762\n",
      "Epoch 40/100\n",
      "2/2 [==============================] - 0s 17ms/step - loss: 0.1529 - categorical_accuracy: 0.9524\n",
      "Epoch 41/100\n",
      "2/2 [==============================] - 0s 15ms/step - loss: 0.1894 - categorical_accuracy: 0.9524\n",
      "Epoch 42/100\n",
      "2/2 [==============================] - 0s 15ms/step - loss: 0.1701 - categorical_accuracy: 0.9524\n",
      "Epoch 43/100\n",
      "2/2 [==============================] - 0s 16ms/step - loss: 0.1153 - categorical_accuracy: 0.9524\n",
      "Epoch 44/100\n",
      "2/2 [==============================] - 0s 20ms/step - loss: 0.0875 - categorical_accuracy: 0.9524\n",
      "Epoch 45/100\n",
      "2/2 [==============================] - 0s 18ms/step - loss: 0.0729 - categorical_accuracy: 0.9762\n",
      "Epoch 46/100\n",
      "2/2 [==============================] - 0s 17ms/step - loss: 0.0965 - categorical_accuracy: 0.9762\n",
      "Epoch 47/100\n",
      "2/2 [==============================] - 0s 15ms/step - loss: 0.0836 - categorical_accuracy: 0.9762\n",
      "Epoch 48/100\n",
      "2/2 [==============================] - 0s 19ms/step - loss: 0.0609 - categorical_accuracy: 0.9762\n",
      "Epoch 49/100\n",
      "2/2 [==============================] - 0s 16ms/step - loss: 0.0643 - categorical_accuracy: 0.9762\n",
      "Epoch 50/100\n",
      "2/2 [==============================] - 0s 22ms/step - loss: 0.0706 - categorical_accuracy: 0.9524\n",
      "Epoch 51/100\n",
      "2/2 [==============================] - 0s 18ms/step - loss: 0.0571 - categorical_accuracy: 0.9762\n",
      "Epoch 52/100\n",
      "2/2 [==============================] - 0s 16ms/step - loss: 0.0509 - categorical_accuracy: 0.9762\n",
      "Epoch 53/100\n",
      "2/2 [==============================] - 0s 16ms/step - loss: 0.0422 - categorical_accuracy: 1.0000\n",
      "Epoch 54/100\n",
      "2/2 [==============================] - 0s 11ms/step - loss: 0.0292 - categorical_accuracy: 1.0000\n",
      "Epoch 55/100\n",
      "2/2 [==============================] - 0s 20ms/step - loss: 0.0259 - categorical_accuracy: 1.0000\n",
      "Epoch 56/100\n",
      "2/2 [==============================] - 0s 14ms/step - loss: 0.0161 - categorical_accuracy: 1.0000\n",
      "Epoch 57/100\n",
      "2/2 [==============================] - 0s 14ms/step - loss: 0.0208 - categorical_accuracy: 1.0000\n",
      "Epoch 58/100\n",
      "2/2 [==============================] - 0s 16ms/step - loss: 0.0133 - categorical_accuracy: 1.0000\n",
      "Epoch 59/100\n",
      "2/2 [==============================] - 0s 13ms/step - loss: 0.0103 - categorical_accuracy: 1.0000\n",
      "Epoch 60/100\n",
      "2/2 [==============================] - 0s 15ms/step - loss: 0.0050 - categorical_accuracy: 1.0000\n",
      "Epoch 61/100\n",
      "2/2 [==============================] - 0s 15ms/step - loss: 0.0106 - categorical_accuracy: 1.0000\n",
      "Epoch 62/100\n",
      "2/2 [==============================] - 0s 10ms/step - loss: 0.0068 - categorical_accuracy: 1.0000\n",
      "Epoch 63/100\n",
      "2/2 [==============================] - 0s 22ms/step - loss: 0.0063 - categorical_accuracy: 1.0000\n",
      "Epoch 64/100\n",
      "2/2 [==============================] - 0s 18ms/step - loss: 0.0045 - categorical_accuracy: 1.0000\n",
      "Epoch 65/100\n",
      "2/2 [==============================] - 0s 23ms/step - loss: 0.0060 - categorical_accuracy: 1.0000\n",
      "Epoch 66/100\n",
      "2/2 [==============================] - 0s 18ms/step - loss: 0.0021 - categorical_accuracy: 1.0000\n",
      "Epoch 67/100\n",
      "2/2 [==============================] - 0s 16ms/step - loss: 0.0049 - categorical_accuracy: 1.0000\n",
      "Epoch 68/100\n",
      "2/2 [==============================] - 0s 15ms/step - loss: 0.0021 - categorical_accuracy: 1.0000\n",
      "Epoch 69/100\n",
      "2/2 [==============================] - 0s 13ms/step - loss: 0.0020 - categorical_accuracy: 1.0000\n",
      "Epoch 70/100\n",
      "2/2 [==============================] - 0s 17ms/step - loss: 0.0022 - categorical_accuracy: 1.0000\n",
      "Epoch 71/100\n",
      "2/2 [==============================] - 0s 13ms/step - loss: 0.0014 - categorical_accuracy: 1.0000\n",
      "Epoch 72/100\n",
      "2/2 [==============================] - 0s 11ms/step - loss: 0.0014 - categorical_accuracy: 1.0000\n",
      "Epoch 73/100\n",
      "2/2 [==============================] - 0s 14ms/step - loss: 7.9918e-04 - categorical_accuracy: 1.0000\n",
      "Epoch 74/100\n"
     ]
    },
    {
     "name": "stdout",
     "output_type": "stream",
     "text": [
      "2/2 [==============================] - 0s 14ms/step - loss: 0.0013 - categorical_accuracy: 1.0000\n",
      "Epoch 75/100\n",
      "2/2 [==============================] - 0s 16ms/step - loss: 9.2544e-04 - categorical_accuracy: 1.0000\n",
      "Epoch 76/100\n",
      "2/2 [==============================] - 0s 15ms/step - loss: 9.9095e-04 - categorical_accuracy: 1.0000\n",
      "Epoch 77/100\n",
      "2/2 [==============================] - 0s 18ms/step - loss: 0.0012 - categorical_accuracy: 1.0000\n",
      "Epoch 78/100\n",
      "2/2 [==============================] - 0s 9ms/step - loss: 0.0027 - categorical_accuracy: 1.0000\n",
      "Epoch 79/100\n",
      "2/2 [==============================] - 0s 13ms/step - loss: 4.8587e-04 - categorical_accuracy: 1.0000\n",
      "Epoch 80/100\n",
      "2/2 [==============================] - 0s 15ms/step - loss: 2.6546e-04 - categorical_accuracy: 1.0000\n",
      "Epoch 81/100\n",
      "2/2 [==============================] - 0s 11ms/step - loss: 4.1788e-04 - categorical_accuracy: 1.0000\n",
      "Epoch 82/100\n",
      "2/2 [==============================] - 0s 17ms/step - loss: 8.6297e-04 - categorical_accuracy: 1.0000\n",
      "Epoch 83/100\n",
      "2/2 [==============================] - 0s 20ms/step - loss: 5.2677e-04 - categorical_accuracy: 1.0000\n",
      "Epoch 84/100\n",
      "2/2 [==============================] - 0s 15ms/step - loss: 0.0020 - categorical_accuracy: 1.0000\n",
      "Epoch 85/100\n",
      "2/2 [==============================] - 0s 17ms/step - loss: 0.0017 - categorical_accuracy: 1.0000\n",
      "Epoch 86/100\n",
      "2/2 [==============================] - 0s 12ms/step - loss: 0.0013 - categorical_accuracy: 1.0000\n",
      "Epoch 87/100\n",
      "2/2 [==============================] - 0s 15ms/step - loss: 0.0016 - categorical_accuracy: 1.0000\n",
      "Epoch 88/100\n",
      "2/2 [==============================] - 0s 16ms/step - loss: 6.4059e-04 - categorical_accuracy: 1.0000\n",
      "Epoch 89/100\n",
      "2/2 [==============================] - 0s 14ms/step - loss: 4.0651e-04 - categorical_accuracy: 1.0000\n",
      "Epoch 90/100\n",
      "2/2 [==============================] - 0s 14ms/step - loss: 9.9752e-04 - categorical_accuracy: 1.0000\n",
      "Epoch 91/100\n",
      "2/2 [==============================] - 0s 15ms/step - loss: 2.3482e-04 - categorical_accuracy: 1.0000\n",
      "Epoch 92/100\n",
      "2/2 [==============================] - 0s 19ms/step - loss: 2.1979e-04 - categorical_accuracy: 1.0000\n",
      "Epoch 93/100\n",
      "2/2 [==============================] - 0s 15ms/step - loss: 2.1381e-04 - categorical_accuracy: 1.0000\n",
      "Epoch 94/100\n",
      "2/2 [==============================] - 0s 16ms/step - loss: 1.6680e-04 - categorical_accuracy: 1.0000\n",
      "Epoch 95/100\n",
      "2/2 [==============================] - 0s 11ms/step - loss: 2.3553e-04 - categorical_accuracy: 1.0000\n",
      "Epoch 96/100\n",
      "2/2 [==============================] - 0s 16ms/step - loss: 3.5829e-04 - categorical_accuracy: 1.0000\n",
      "Epoch 97/100\n",
      "2/2 [==============================] - 0s 12ms/step - loss: 3.8763e-04 - categorical_accuracy: 1.0000\n",
      "Epoch 98/100\n",
      "2/2 [==============================] - 0s 13ms/step - loss: 2.9662e-04 - categorical_accuracy: 1.0000\n",
      "Epoch 99/100\n",
      "2/2 [==============================] - 0s 15ms/step - loss: 0.0014 - categorical_accuracy: 1.0000\n",
      "Epoch 100/100\n",
      "2/2 [==============================] - 0s 14ms/step - loss: 2.7771e-04 - categorical_accuracy: 1.0000\n"
     ]
    },
    {
     "data": {
      "text/plain": [
       "<keras.callbacks.History at 0x191e3f02c70>"
      ]
     },
     "execution_count": 27,
     "metadata": {},
     "output_type": "execute_result"
    }
   ],
   "source": [
    "model.fit(X_train, y_train, epochs=100)"
   ]
  },
  {
   "cell_type": "code",
   "execution_count": 28,
   "id": "81a6c95b",
   "metadata": {},
   "outputs": [],
   "source": [
    "#model.summary()"
   ]
  },
  {
   "cell_type": "code",
   "execution_count": 29,
   "id": "48a7a573",
   "metadata": {},
   "outputs": [
    {
     "data": {
      "text/plain": [
       "1.0"
      ]
     },
     "execution_count": 29,
     "metadata": {},
     "output_type": "execute_result"
    }
   ],
   "source": [
    "ytrue = np.argmax(y_test, axis=1).tolist()\n",
    "yhat = np.argmax(model.predict(X_test), axis=1).tolist()\n",
    "accuracy_score(ytrue, yhat)"
   ]
  },
  {
   "cell_type": "code",
   "execution_count": 30,
   "id": "48794497",
   "metadata": {},
   "outputs": [],
   "source": [
    "model.save('models/actionCO.h5')"
   ]
  },
  {
   "cell_type": "code",
   "execution_count": null,
   "id": "bacc7e9f",
   "metadata": {},
   "outputs": [],
   "source": [
    "# Step 8 - Make prediction\n",
    "#res = model.predict(X_test)"
   ]
  },
  {
   "cell_type": "code",
   "execution_count": null,
   "id": "f5d009ba",
   "metadata": {},
   "outputs": [],
   "source": [
    "# yhat = model.predict(X_test)\n",
    "# ytrue = np.argmax(y_test, axis=1)\n",
    "# yhat = np.argmax(yhat, axis=1)\n",
    "\n",
    "# cf_matr2 = confusion_matrix(ytrue, yhat)\n",
    "# sns.set(rc = {'figure.figsize':(5, 4)})\n",
    "# hmap2 = sns.heatmap(cf_matr2,xticklabels=new_actions,yticklabels=new_actions)\n",
    "# hmap2\n",
    "# figure = hmap2.get_figure()    \n",
    "# figure.savefig('Confusion_matrixCO.pdf', dpi=700)"
   ]
  },
  {
   "cell_type": "code",
   "execution_count": 31,
   "id": "4c0b23db",
   "metadata": {},
   "outputs": [
    {
     "data": {
      "text/plain": [
       "{'M': 0, 'N': 1}"
      ]
     },
     "execution_count": 31,
     "metadata": {},
     "output_type": "execute_result"
    }
   ],
   "source": [
    "new_actions = np.array(['M', 'N'])\n",
    "new_label_map = {label:num for num, label in enumerate(new_actions)}\n",
    "new_label_map"
   ]
  },
  {
   "cell_type": "code",
   "execution_count": 33,
   "id": "11974d41",
   "metadata": {},
   "outputs": [],
   "source": [
    "sequences, labels = [], []\n",
    "for action in new_actions:\n",
    "    for sequence in range(no_sequences):\n",
    "        window = []\n",
    "        for frame_num in range(sequence_length):\n",
    "            res = np.load(os.path.join(DATA_PATH, action, str(sequence), \"{}.npy\".format(frame_num)))\n",
    "            window.append(res)\n",
    "        sequences.append(window)\n",
    "        labels.append(new_label_map[action])"
   ]
  },
  {
   "cell_type": "code",
   "execution_count": 34,
   "id": "962074f3",
   "metadata": {},
   "outputs": [],
   "source": [
    "X = np.array(sequences)"
   ]
  },
  {
   "cell_type": "code",
   "execution_count": 35,
   "id": "fdaf9b7b",
   "metadata": {},
   "outputs": [],
   "source": [
    "y = to_categorical(labels).astype(int)"
   ]
  },
  {
   "cell_type": "code",
   "execution_count": 36,
   "id": "78c382a0",
   "metadata": {},
   "outputs": [],
   "source": [
    "X_train, X_test, y_train, y_test = train_test_split(X, y, test_size=0.3)"
   ]
  },
  {
   "cell_type": "code",
   "execution_count": 37,
   "id": "7c343797",
   "metadata": {},
   "outputs": [
    {
     "data": {
      "text/plain": [
       "(42, 30, 126)"
      ]
     },
     "execution_count": 37,
     "metadata": {},
     "output_type": "execute_result"
    }
   ],
   "source": [
    "X_train.shape"
   ]
  },
  {
   "cell_type": "code",
   "execution_count": 38,
   "id": "f6496cf4",
   "metadata": {},
   "outputs": [
    {
     "data": {
      "text/plain": [
       "(42, 2)"
      ]
     },
     "execution_count": 38,
     "metadata": {},
     "output_type": "execute_result"
    }
   ],
   "source": [
    "y_train.shape"
   ]
  },
  {
   "cell_type": "code",
   "execution_count": 39,
   "id": "6be788d4",
   "metadata": {},
   "outputs": [],
   "source": [
    "# # CNN Model\n",
    "# model = Sequential()\n",
    "\n",
    "# model.add(Conv1D(filters=32, kernel_size=3, activation='relu', input_shape=(30, 126)))\n",
    "# model.add(MaxPool1D(pool_size=2, strides=None))\n",
    "\n",
    "# model.add(Conv1D(filters=64, kernel_size=3, activation='relu', padding = 'same'))\n",
    "# model.add(MaxPool1D(pool_size=2, strides=None))\n",
    "\n",
    "# model.add(Conv1D(filters=128, kernel_size=3, activation='relu', padding = 'valid'))\n",
    "# model.add(MaxPool1D(pool_size=2, strides=None))\n",
    "\n",
    "# model.add(Flatten())\n",
    "\n",
    "# model.add(Dense(64,activation =\"relu\"))\n",
    "# model.add(Dropout(0.2))\n",
    "# model.add(Dense(128,activation =\"relu\"))\n",
    "# model.add(Dropout(0.3))\n",
    "# model.add(Dense(new_actions.shape[0],activation =\"softmax\"))\n",
    "model = load_model('models/actionCO.h5')"
   ]
  },
  {
   "cell_type": "code",
   "execution_count": null,
   "id": "cedc557c",
   "metadata": {},
   "outputs": [],
   "source": [
    "# model.compile(optimizer='Adam', loss='categorical_crossentropy', metrics=['categorical_accuracy'])"
   ]
  },
  {
   "cell_type": "code",
   "execution_count": 40,
   "id": "c4f59e44",
   "metadata": {},
   "outputs": [
    {
     "name": "stdout",
     "output_type": "stream",
     "text": [
      "Epoch 1/100\n",
      "2/2 [==============================] - 0s 10ms/step - loss: 17.5158 - categorical_accuracy: 0.5000\n",
      "Epoch 2/100\n",
      "2/2 [==============================] - 0s 14ms/step - loss: 9.4832 - categorical_accuracy: 0.3333\n",
      "Epoch 3/100\n",
      "2/2 [==============================] - 0s 16ms/step - loss: 8.4171 - categorical_accuracy: 0.4524\n",
      "Epoch 4/100\n",
      "2/2 [==============================] - 0s 17ms/step - loss: 1.1600 - categorical_accuracy: 0.5476\n",
      "Epoch 5/100\n",
      "2/2 [==============================] - 0s 13ms/step - loss: 0.8707 - categorical_accuracy: 0.5000\n",
      "Epoch 6/100\n",
      "2/2 [==============================] - 0s 17ms/step - loss: 0.7409 - categorical_accuracy: 0.5000\n",
      "Epoch 7/100\n",
      "2/2 [==============================] - 0s 16ms/step - loss: 0.6991 - categorical_accuracy: 0.4286\n",
      "Epoch 8/100\n",
      "2/2 [==============================] - 0s 15ms/step - loss: 0.6881 - categorical_accuracy: 0.4286\n",
      "Epoch 9/100\n",
      "2/2 [==============================] - 0s 16ms/step - loss: 0.6986 - categorical_accuracy: 0.5000\n",
      "Epoch 10/100\n",
      "2/2 [==============================] - 0s 15ms/step - loss: 0.6979 - categorical_accuracy: 0.5238\n",
      "Epoch 11/100\n",
      "2/2 [==============================] - 0s 16ms/step - loss: 0.6753 - categorical_accuracy: 0.6667\n",
      "Epoch 12/100\n",
      "2/2 [==============================] - 0s 22ms/step - loss: 0.6968 - categorical_accuracy: 0.5238\n",
      "Epoch 13/100\n",
      "2/2 [==============================] - 0s 15ms/step - loss: 0.6897 - categorical_accuracy: 0.6429\n",
      "Epoch 14/100\n",
      "2/2 [==============================] - 0s 15ms/step - loss: 0.6862 - categorical_accuracy: 0.5476\n",
      "Epoch 15/100\n",
      "2/2 [==============================] - 0s 15ms/step - loss: 0.6815 - categorical_accuracy: 0.5476\n",
      "Epoch 16/100\n",
      "2/2 [==============================] - 0s 15ms/step - loss: 0.6977 - categorical_accuracy: 0.5714\n",
      "Epoch 17/100\n",
      "2/2 [==============================] - 0s 20ms/step - loss: 0.6893 - categorical_accuracy: 0.5714\n",
      "Epoch 18/100\n",
      "2/2 [==============================] - 0s 18ms/step - loss: 0.6743 - categorical_accuracy: 0.5952\n",
      "Epoch 19/100\n",
      "2/2 [==============================] - 0s 17ms/step - loss: 0.6869 - categorical_accuracy: 0.5238\n",
      "Epoch 20/100\n",
      "2/2 [==============================] - 0s 21ms/step - loss: 0.6734 - categorical_accuracy: 0.6667\n",
      "Epoch 21/100\n",
      "2/2 [==============================] - 0s 30ms/step - loss: 0.6847 - categorical_accuracy: 0.5238\n",
      "Epoch 22/100\n",
      "2/2 [==============================] - 0s 17ms/step - loss: 0.6592 - categorical_accuracy: 0.6429\n",
      "Epoch 23/100\n",
      "2/2 [==============================] - 0s 18ms/step - loss: 0.6778 - categorical_accuracy: 0.5476\n",
      "Epoch 24/100\n",
      "2/2 [==============================] - 0s 16ms/step - loss: 0.6873 - categorical_accuracy: 0.5714\n",
      "Epoch 25/100\n",
      "2/2 [==============================] - 0s 15ms/step - loss: 0.6706 - categorical_accuracy: 0.7381\n",
      "Epoch 26/100\n",
      "2/2 [==============================] - 0s 10ms/step - loss: 0.6698 - categorical_accuracy: 0.7143\n",
      "Epoch 27/100\n",
      "2/2 [==============================] - 0s 17ms/step - loss: 0.6545 - categorical_accuracy: 0.7143\n",
      "Epoch 28/100\n",
      "2/2 [==============================] - 0s 15ms/step - loss: 0.6591 - categorical_accuracy: 0.5952\n",
      "Epoch 29/100\n",
      "2/2 [==============================] - 0s 17ms/step - loss: 0.6338 - categorical_accuracy: 0.7143\n",
      "Epoch 30/100\n",
      "2/2 [==============================] - 0s 13ms/step - loss: 0.6257 - categorical_accuracy: 0.7857\n",
      "Epoch 31/100\n",
      "2/2 [==============================] - 0s 16ms/step - loss: 0.6220 - categorical_accuracy: 0.7143\n",
      "Epoch 32/100\n",
      "2/2 [==============================] - 0s 15ms/step - loss: 0.6376 - categorical_accuracy: 0.6905\n",
      "Epoch 33/100\n",
      "2/2 [==============================] - 0s 15ms/step - loss: 0.5804 - categorical_accuracy: 0.7619\n",
      "Epoch 34/100\n",
      "2/2 [==============================] - 0s 16ms/step - loss: 0.5789 - categorical_accuracy: 0.7857\n",
      "Epoch 35/100\n",
      "2/2 [==============================] - 0s 22ms/step - loss: 0.5794 - categorical_accuracy: 0.6667\n",
      "Epoch 36/100\n",
      "2/2 [==============================] - 0s 15ms/step - loss: 0.5416 - categorical_accuracy: 0.7143\n",
      "Epoch 37/100\n",
      "2/2 [==============================] - 0s 17ms/step - loss: 0.5195 - categorical_accuracy: 0.8333\n",
      "Epoch 38/100\n",
      "2/2 [==============================] - 0s 13ms/step - loss: 0.5008 - categorical_accuracy: 0.8095\n",
      "Epoch 39/100\n",
      "2/2 [==============================] - 0s 14ms/step - loss: 0.4961 - categorical_accuracy: 0.7619\n",
      "Epoch 40/100\n",
      "2/2 [==============================] - 0s 16ms/step - loss: 0.4353 - categorical_accuracy: 0.8333\n",
      "Epoch 41/100\n",
      "2/2 [==============================] - 0s 18ms/step - loss: 0.4111 - categorical_accuracy: 0.8333\n",
      "Epoch 42/100\n",
      "2/2 [==============================] - 0s 16ms/step - loss: 0.3910 - categorical_accuracy: 0.8333\n",
      "Epoch 43/100\n",
      "2/2 [==============================] - 0s 13ms/step - loss: 0.5602 - categorical_accuracy: 0.7619\n",
      "Epoch 44/100\n",
      "2/2 [==============================] - 0s 18ms/step - loss: 0.2557 - categorical_accuracy: 0.9762\n",
      "Epoch 45/100\n",
      "2/2 [==============================] - 0s 13ms/step - loss: 0.4590 - categorical_accuracy: 0.7143\n",
      "Epoch 46/100\n",
      "2/2 [==============================] - 0s 17ms/step - loss: 0.3459 - categorical_accuracy: 0.8810\n",
      "Epoch 47/100\n",
      "2/2 [==============================] - 0s 18ms/step - loss: 0.3033 - categorical_accuracy: 0.9048\n",
      "Epoch 48/100\n",
      "2/2 [==============================] - 0s 19ms/step - loss: 0.2780 - categorical_accuracy: 0.8810\n",
      "Epoch 49/100\n",
      "2/2 [==============================] - 0s 16ms/step - loss: 0.1859 - categorical_accuracy: 0.9762\n",
      "Epoch 50/100\n",
      "2/2 [==============================] - 0s 14ms/step - loss: 0.2020 - categorical_accuracy: 0.9524\n",
      "Epoch 51/100\n",
      "2/2 [==============================] - 0s 15ms/step - loss: 0.1304 - categorical_accuracy: 0.9762\n",
      "Epoch 52/100\n",
      "2/2 [==============================] - 0s 15ms/step - loss: 0.1470 - categorical_accuracy: 0.9524\n",
      "Epoch 53/100\n",
      "2/2 [==============================] - 0s 15ms/step - loss: 0.1023 - categorical_accuracy: 0.9762\n",
      "Epoch 54/100\n",
      "2/2 [==============================] - 0s 10ms/step - loss: 0.1139 - categorical_accuracy: 0.9762\n",
      "Epoch 55/100\n",
      "2/2 [==============================] - 0s 16ms/step - loss: 0.0638 - categorical_accuracy: 0.9762\n",
      "Epoch 56/100\n",
      "2/2 [==============================] - 0s 17ms/step - loss: 0.0550 - categorical_accuracy: 1.0000\n",
      "Epoch 57/100\n",
      "2/2 [==============================] - 0s 17ms/step - loss: 0.0426 - categorical_accuracy: 1.0000\n",
      "Epoch 58/100\n",
      "2/2 [==============================] - 0s 21ms/step - loss: 0.0277 - categorical_accuracy: 1.0000\n",
      "Epoch 59/100\n",
      "2/2 [==============================] - 0s 16ms/step - loss: 0.0570 - categorical_accuracy: 0.9762\n",
      "Epoch 60/100\n",
      "2/2 [==============================] - 0s 17ms/step - loss: 0.0396 - categorical_accuracy: 1.0000\n",
      "Epoch 61/100\n",
      "2/2 [==============================] - 0s 15ms/step - loss: 0.0311 - categorical_accuracy: 1.0000\n",
      "Epoch 62/100\n",
      "2/2 [==============================] - 0s 14ms/step - loss: 0.1131 - categorical_accuracy: 0.9524\n",
      "Epoch 63/100\n",
      "2/2 [==============================] - 0s 14ms/step - loss: 0.0413 - categorical_accuracy: 0.9762\n",
      "Epoch 64/100\n",
      "2/2 [==============================] - 0s 15ms/step - loss: 0.0131 - categorical_accuracy: 1.0000\n",
      "Epoch 65/100\n",
      "2/2 [==============================] - 0s 13ms/step - loss: 0.1013 - categorical_accuracy: 0.9524\n",
      "Epoch 66/100\n",
      "2/2 [==============================] - 0s 15ms/step - loss: 0.0604 - categorical_accuracy: 0.9762\n",
      "Epoch 67/100\n",
      "2/2 [==============================] - 0s 15ms/step - loss: 0.0140 - categorical_accuracy: 1.0000\n",
      "Epoch 68/100\n",
      "2/2 [==============================] - 0s 15ms/step - loss: 0.2223 - categorical_accuracy: 0.9048\n",
      "Epoch 69/100\n",
      "2/2 [==============================] - 0s 10ms/step - loss: 0.0301 - categorical_accuracy: 0.9762\n",
      "Epoch 70/100\n",
      "2/2 [==============================] - 0s 17ms/step - loss: 0.1804 - categorical_accuracy: 0.9286\n",
      "Epoch 71/100\n",
      "2/2 [==============================] - 0s 13ms/step - loss: 0.0807 - categorical_accuracy: 0.9762\n",
      "Epoch 72/100\n",
      "2/2 [==============================] - 0s 15ms/step - loss: 0.2208 - categorical_accuracy: 0.9286\n",
      "Epoch 73/100\n",
      "2/2 [==============================] - 0s 15ms/step - loss: 0.2832 - categorical_accuracy: 0.8810\n",
      "Epoch 74/100\n"
     ]
    },
    {
     "name": "stdout",
     "output_type": "stream",
     "text": [
      "2/2 [==============================] - 0s 16ms/step - loss: 0.0510 - categorical_accuracy: 0.9762\n",
      "Epoch 75/100\n",
      "2/2 [==============================] - 0s 15ms/step - loss: 0.1497 - categorical_accuracy: 0.9524\n",
      "Epoch 76/100\n",
      "2/2 [==============================] - 0s 16ms/step - loss: 0.0174 - categorical_accuracy: 1.0000\n",
      "Epoch 77/100\n",
      "2/2 [==============================] - 0s 14ms/step - loss: 0.0524 - categorical_accuracy: 0.9762\n",
      "Epoch 78/100\n",
      "2/2 [==============================] - 0s 16ms/step - loss: 0.0403 - categorical_accuracy: 0.9762\n",
      "Epoch 79/100\n",
      "2/2 [==============================] - 0s 15ms/step - loss: 0.0188 - categorical_accuracy: 1.0000\n",
      "Epoch 80/100\n",
      "2/2 [==============================] - 0s 15ms/step - loss: 0.1177 - categorical_accuracy: 0.9286\n",
      "Epoch 81/100\n",
      "2/2 [==============================] - 0s 14ms/step - loss: 0.0165 - categorical_accuracy: 1.0000\n",
      "Epoch 82/100\n",
      "2/2 [==============================] - 0s 12ms/step - loss: 0.0378 - categorical_accuracy: 0.9762\n",
      "Epoch 83/100\n",
      "2/2 [==============================] - 0s 13ms/step - loss: 0.0118 - categorical_accuracy: 1.0000\n",
      "Epoch 84/100\n",
      "2/2 [==============================] - 0s 13ms/step - loss: 0.0370 - categorical_accuracy: 1.0000\n",
      "Epoch 85/100\n",
      "2/2 [==============================] - 0s 15ms/step - loss: 0.0596 - categorical_accuracy: 0.9762\n",
      "Epoch 86/100\n",
      "2/2 [==============================] - 0s 16ms/step - loss: 0.0046 - categorical_accuracy: 1.0000\n",
      "Epoch 87/100\n",
      "2/2 [==============================] - 0s 10ms/step - loss: 0.0102 - categorical_accuracy: 1.0000\n",
      "Epoch 88/100\n",
      "2/2 [==============================] - 0s 15ms/step - loss: 0.0159 - categorical_accuracy: 1.0000\n",
      "Epoch 89/100\n",
      "2/2 [==============================] - 0s 13ms/step - loss: 0.0224 - categorical_accuracy: 1.0000\n",
      "Epoch 90/100\n",
      "2/2 [==============================] - 0s 14ms/step - loss: 0.0073 - categorical_accuracy: 1.0000\n",
      "Epoch 91/100\n",
      "2/2 [==============================] - 0s 16ms/step - loss: 0.0088 - categorical_accuracy: 1.0000\n",
      "Epoch 92/100\n",
      "2/2 [==============================] - 0s 14ms/step - loss: 0.0225 - categorical_accuracy: 1.0000\n",
      "Epoch 93/100\n",
      "2/2 [==============================] - 0s 16ms/step - loss: 0.0280 - categorical_accuracy: 1.0000\n",
      "Epoch 94/100\n",
      "2/2 [==============================] - 0s 11ms/step - loss: 0.0035 - categorical_accuracy: 1.0000\n",
      "Epoch 95/100\n",
      "2/2 [==============================] - 0s 17ms/step - loss: 0.0094 - categorical_accuracy: 1.0000\n",
      "Epoch 96/100\n",
      "2/2 [==============================] - 0s 15ms/step - loss: 0.0054 - categorical_accuracy: 1.0000\n",
      "Epoch 97/100\n",
      "2/2 [==============================] - 0s 17ms/step - loss: 0.0063 - categorical_accuracy: 1.0000\n",
      "Epoch 98/100\n",
      "2/2 [==============================] - 0s 16ms/step - loss: 0.0052 - categorical_accuracy: 1.0000\n",
      "Epoch 99/100\n",
      "2/2 [==============================] - 0s 17ms/step - loss: 0.0022 - categorical_accuracy: 1.0000\n",
      "Epoch 100/100\n",
      "2/2 [==============================] - 0s 10ms/step - loss: 0.0054 - categorical_accuracy: 1.0000\n"
     ]
    },
    {
     "data": {
      "text/plain": [
       "<keras.callbacks.History at 0x191de0bb880>"
      ]
     },
     "execution_count": 40,
     "metadata": {},
     "output_type": "execute_result"
    }
   ],
   "source": [
    "model.fit(X_train, y_train, epochs=100)"
   ]
  },
  {
   "cell_type": "code",
   "execution_count": 42,
   "id": "ede0b9d3",
   "metadata": {},
   "outputs": [
    {
     "data": {
      "text/plain": [
       "1.0"
      ]
     },
     "execution_count": 42,
     "metadata": {},
     "output_type": "execute_result"
    }
   ],
   "source": [
    "ytrue = np.argmax(y_test, axis=1).tolist()\n",
    "yhat = np.argmax(model.predict(X_test), axis=1).tolist()\n",
    "accuracy_score(ytrue, yhat)"
   ]
  },
  {
   "cell_type": "code",
   "execution_count": 43,
   "id": "e57349a2",
   "metadata": {},
   "outputs": [],
   "source": [
    "# Uncomment to save your model\n",
    "model.save('models/actionMN.h5')"
   ]
  },
  {
   "cell_type": "code",
   "execution_count": null,
   "id": "c2357a87",
   "metadata": {},
   "outputs": [],
   "source": [
    "# Step 8 - Make prediction\n",
    "#res = model.predict(X_test)"
   ]
  },
  {
   "cell_type": "code",
   "execution_count": null,
   "id": "2f321e11",
   "metadata": {},
   "outputs": [],
   "source": [
    "# yhat = model.predict(X_test)\n",
    "# ytrue = np.argmax(y_test, axis=1)\n",
    "# yhat = np.argmax(yhat, axis=1)\n",
    "\n",
    "# cf_matr3 = confusion_matrix(ytrue, yhat)\n",
    "# sns.set(rc = {'figure.figsize':(5, 4)})\n",
    "# hmap3 = sns.heatmap(cf_matr3,xticklabels=new_actions,yticklabels=new_actions)\n",
    "# hmap3\n",
    "# figure = hmap3.get_figure()    \n",
    "# figure.savefig('Confusion_matrixMN.pdf', dpi=700)"
   ]
  },
  {
   "cell_type": "code",
   "execution_count": null,
   "id": "b4b46a1d",
   "metadata": {},
   "outputs": [],
   "source": [
    "# yhat = model.predict(X_test)\n",
    "# ytrue = np.argmax(y_test, axis=1).tolist()\n",
    "# yhat = np.argmax(model.predict(X_test), axis=1).tolist()\n",
    "# accuracy_score(ytrue, yhat)"
   ]
  },
  {
   "cell_type": "code",
   "execution_count": null,
   "id": "8ed81e62",
   "metadata": {},
   "outputs": [],
   "source": [
    "#plot_model(model, to_file='modelCO.pdf', dpi = 700, show_shapes=True)"
   ]
  },
  {
   "cell_type": "code",
   "execution_count": null,
   "id": "f0c194ec",
   "metadata": {},
   "outputs": [],
   "source": []
  }
 ],
 "metadata": {
  "kernelspec": {
   "display_name": "Python 3 (ipykernel)",
   "language": "python",
   "name": "python3"
  },
  "language_info": {
   "codemirror_mode": {
    "name": "ipython",
    "version": 3
   },
   "file_extension": ".py",
   "mimetype": "text/x-python",
   "name": "python",
   "nbconvert_exporter": "python",
   "pygments_lexer": "ipython3",
   "version": "3.9.7"
  }
 },
 "nbformat": 4,
 "nbformat_minor": 5
}
