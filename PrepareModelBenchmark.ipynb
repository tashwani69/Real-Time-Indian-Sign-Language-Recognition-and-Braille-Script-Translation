{
 "cells": [
  {
   "cell_type": "code",
   "execution_count": 1,
   "id": "9e1a73cf",
   "metadata": {},
   "outputs": [],
   "source": [
    "import cv2\n",
    "import numpy as np\n",
    "import os\n",
    "from matplotlib import pyplot as plt\n",
    "import time\n",
    "import mediapipe as mp"
   ]
  },
  {
   "cell_type": "code",
   "execution_count": 2,
   "id": "a6acf65e",
   "metadata": {},
   "outputs": [],
   "source": [
    "mp_holistic = mp.solutions.holistic # Holistic model\n",
    "mp_drawing = mp.solutions.drawing_utils\n",
    "mp_drawing_styles = mp.solutions.drawing_styles\n",
    "mp_hands = mp.solutions.hands"
   ]
  },
  {
   "cell_type": "code",
   "execution_count": 3,
   "id": "5eca98ad",
   "metadata": {},
   "outputs": [],
   "source": [
    "def mediapipe_detection(image, model):\n",
    "    image = cv2.cvtColor(image, cv2.COLOR_BGR2RGB) # COLOR CONVERSION BGR 2 RGB\n",
    "    image.flags.writeable = False                  # Image is no longer writeable\n",
    "    results = model.process(image)                 # Make prediction\n",
    "    image.flags.writeable = True                   # Image is now writeable \n",
    "    image = cv2.cvtColor(image, cv2.COLOR_RGB2BGR) # COLOR COVERSION RGB 2 BGR\n",
    "    return image, results"
   ]
  },
  {
   "cell_type": "code",
   "execution_count": 4,
   "id": "33ddfb44",
   "metadata": {},
   "outputs": [],
   "source": [
    "def draw_landmarks(image, results):\n",
    "    mp_drawing.draw_landmarks(image, results.face_landmarks, mp_holistic.FACEMESH_TESSELATION) # Draw face connections\n",
    "    mp_drawing.draw_landmarks(image, results.pose_landmarks, mp_holistic.POSE_CONNECTIONS) # Draw pose connections\n",
    "    mp_drawing.draw_landmarks(image, results.left_hand_landmarks, mp_holistic.HAND_CONNECTIONS) # Draw left hand connections\n",
    "    mp_drawing.draw_landmarks(image, results.right_hand_landmarks, mp_holistic.HAND_CONNECTIONS) # Draw right hand connections"
   ]
  },
  {
   "cell_type": "code",
   "execution_count": 5,
   "id": "2616cbe9",
   "metadata": {},
   "outputs": [],
   "source": [
    "def draw_styled_landmarks(image, results):\n",
    "    # Draw face connections\n",
    "    #mp_drawing.draw_landmarks(image, results.face_landmarks, mp_holistic.FACEMESH_TESSELATION, \n",
    "    #                         mp_drawing.DrawingSpec(color=(80,110,10), thickness=1, circle_radius=1), \n",
    "    #                         mp_drawing.DrawingSpec(color=(80,256,121), thickness=1, circle_radius=1)\n",
    "    #                         ) \n",
    "    # Draw pose connections\n",
    "    #mp_drawing.draw_landmarks(image, results.pose_landmarks, mp_holistic.POSE_CONNECTIONS,\n",
    "    #                         mp_drawing.DrawingSpec(color=(80,22,10), thickness=2, circle_radius=4), \n",
    "    #                         mp_drawing.DrawingSpec(color=(80,44,121), thickness=2, circle_radius=2)\n",
    "    #                         ) \n",
    "    # Draw left hand connections\n",
    "    mp_drawing.draw_landmarks(image, results.left_hand_landmarks, mp_holistic.HAND_CONNECTIONS, \n",
    "                             mp_drawing.DrawingSpec(color=(121,22,76), thickness=2, circle_radius=4), \n",
    "                             mp_drawing.DrawingSpec(color=(121,44,250), thickness=2, circle_radius=2)\n",
    "                             ) \n",
    "    # Draw right hand connections  \n",
    "    mp_drawing.draw_landmarks(image, results.right_hand_landmarks, mp_holistic.HAND_CONNECTIONS, \n",
    "                             mp_drawing.DrawingSpec(color=(245,117,66), thickness=2, circle_radius=4), \n",
    "                             mp_drawing.DrawingSpec(color=(245,66,230), thickness=2, circle_radius=2)\n",
    "                             )"
   ]
  },
  {
   "cell_type": "code",
   "execution_count": 6,
   "id": "627a63b9",
   "metadata": {},
   "outputs": [],
   "source": [
    "def draw_styled_hand_landmarks(image, results):\n",
    "    for hand_landmarks in results.multi_hand_landmarks:\n",
    "                  mp_drawing.draw_landmarks(\n",
    "                      image,\n",
    "                      hand_landmarks,\n",
    "                      mp_hands.HAND_CONNECTIONS,\n",
    "                      mp_drawing.DrawingSpec(color=(121,22,76), thickness=2, circle_radius=4), \n",
    "                      mp_drawing.DrawingSpec(color=(121,44,250), thickness=2, circle_radius=2))"
   ]
  },
  {
   "cell_type": "code",
   "execution_count": 7,
   "id": "321f5164",
   "metadata": {},
   "outputs": [],
   "source": [
    "def extract_keypoints(results):\n",
    "    pose = np.array([[res.x, res.y, res.z, res.visibility] for res in results.pose_landmarks.landmark]).flatten() if results.pose_landmarks else np.zeros(33*4)\n",
    "    face = np.array([[res.x, res.y, res.z] for res in results.face_landmarks.landmark]).flatten() if results.face_landmarks else np.zeros(468*3)\n",
    "    lh = np.array([[res.x, res.y, res.z] for res in results.left_hand_landmarks.landmark]).flatten() if results.left_hand_landmarks else np.zeros(21*3)\n",
    "    rh = np.array([[res.x, res.y, res.z] for res in results.right_hand_landmarks.landmark]).flatten() if results.right_hand_landmarks else np.zeros(21*3)\n",
    "    return np.concatenate([lh, rh])"
   ]
  },
  {
   "cell_type": "code",
   "execution_count": 8,
   "id": "39210a15",
   "metadata": {},
   "outputs": [],
   "source": [
    "def extract_hand_keypoints(results):\n",
    "    lh = [[res.x, res.y, res.z] for res in results.multi_hand_landmarks[0].landmark] if len(results.multi_hand_landmarks) > 0 else [[0]*3]*21\n",
    "    rh = [[res.x, res.y, res.z] for res in results.multi_hand_landmarks[1].landmark] if len(results.multi_hand_landmarks) > 1 else [[0]*3]*21\n",
    "    return np.vstack((lh,rh))"
   ]
  },
  {
   "cell_type": "code",
   "execution_count": 9,
   "id": "9ff96be5",
   "metadata": {},
   "outputs": [],
   "source": [
    "import tensorflow as tf\n",
    "gpus = tf.config.experimental.list_physical_devices('GPU')\n",
    "if gpus:\n",
    "  try:\n",
    "    tf.config.experimental.set_virtual_device_configuration(\n",
    "        gpus[0],[tf.config.experimental.VirtualDeviceConfiguration(memory_limit=512)])\n",
    "  except RuntimeError as e:\n",
    "    print(e)"
   ]
  },
  {
   "cell_type": "code",
   "execution_count": 10,
   "id": "f12f0d05",
   "metadata": {},
   "outputs": [],
   "source": [
    "# Path for exported data, numpy arrays\n",
    "# Step 4\n",
    "DATA_PATH = os.path.join('dataset','letters_data')\n",
    "actions = np.array(['A','B','C','D','E','F','G','H','I','J','K','L','M','N','O','P','Q','R','S','T','U','V','W','X','Y','Z'])\n",
    "#actions = np.array(['A','B'])\n",
    "\n",
    "# no of images\n",
    "no_sequences = 1200#00\n",
    "\n",
    "# no of frames in each video\n",
    "#sequence_length = 30"
   ]
  },
  {
   "cell_type": "code",
   "execution_count": 11,
   "id": "cc9db9ac",
   "metadata": {},
   "outputs": [],
   "source": [
    "# Step 6 - preprocess data create labels and features\n",
    "from sklearn.model_selection import train_test_split\n",
    "from tensorflow.keras.utils import to_categorical"
   ]
  },
  {
   "cell_type": "code",
   "execution_count": 12,
   "id": "860d920d",
   "metadata": {},
   "outputs": [
    {
     "data": {
      "text/plain": [
       "{'A': 0,\n",
       " 'B': 1,\n",
       " 'C': 2,\n",
       " 'D': 3,\n",
       " 'E': 4,\n",
       " 'F': 5,\n",
       " 'G': 6,\n",
       " 'H': 7,\n",
       " 'I': 8,\n",
       " 'J': 9,\n",
       " 'K': 10,\n",
       " 'L': 11,\n",
       " 'M': 12,\n",
       " 'N': 13,\n",
       " 'O': 14,\n",
       " 'P': 15,\n",
       " 'Q': 16,\n",
       " 'R': 17,\n",
       " 'S': 18,\n",
       " 'T': 19,\n",
       " 'U': 20,\n",
       " 'V': 21,\n",
       " 'W': 22,\n",
       " 'X': 23,\n",
       " 'Y': 24,\n",
       " 'Z': 25}"
      ]
     },
     "execution_count": 12,
     "metadata": {},
     "output_type": "execute_result"
    }
   ],
   "source": [
    "label_map = {label:num for num, label in enumerate(actions)}\n",
    "label_map"
   ]
  },
  {
   "cell_type": "code",
   "execution_count": 13,
   "id": "d1910039",
   "metadata": {},
   "outputs": [],
   "source": [
    "input_images, image_labels = [], []\n",
    "for action in actions:\n",
    "    for sequence in range(no_sequences):\n",
    "        path = os.path.join(DATA_PATH, action, \"{}.jpg\".format(sequence))\n",
    "        image = cv2.imread(path)\n",
    "        input_images.append(image)\n",
    "        image_labels.append(label_map[action])        "
   ]
  },
  {
   "cell_type": "code",
   "execution_count": 14,
   "id": "ba3d375e",
   "metadata": {},
   "outputs": [
    {
     "data": {
      "text/plain": [
       "31200"
      ]
     },
     "execution_count": 14,
     "metadata": {},
     "output_type": "execute_result"
    }
   ],
   "source": [
    "len(input_images)"
   ]
  },
  {
   "cell_type": "code",
   "execution_count": 15,
   "id": "7b4d65e2",
   "metadata": {
    "scrolled": false
   },
   "outputs": [],
   "source": [
    "X, y = [], []\n",
    "mapping = {}\n",
    "with mp_hands.Hands(\n",
    "    static_image_mode=True,\n",
    "    max_num_hands=2,\n",
    "    min_detection_confidence=0.5) as hands:\n",
    "    for index in range(len(input_images)):\n",
    "        img = input_images[index]\n",
    "        image = cv2.flip(img, 1)\n",
    "        results = hands.process(cv2.cvtColor(image, cv2.COLOR_BGR2RGB))\n",
    "        if results.multi_hand_landmarks:\n",
    "            draw_styled_hand_landmarks(image, results)\n",
    "            keypoints = extract_hand_keypoints(results)\n",
    "            X.append(keypoints)\n",
    "            y.append(image_labels[index])\n",
    "        else:\n",
    "            if image_labels[index] not in mapping:\n",
    "                mapping[image_labels[index]] = 0\n",
    "            else:\n",
    "                mapping[image_labels[index]] = mapping[image_labels[index]]+1"
   ]
  },
  {
   "cell_type": "code",
   "execution_count": 16,
   "id": "17c51f1b",
   "metadata": {},
   "outputs": [
    {
     "data": {
      "text/plain": [
       "(42, 3)"
      ]
     },
     "execution_count": 16,
     "metadata": {},
     "output_type": "execute_result"
    }
   ],
   "source": [
    "extract_hand_keypoints(results).shape"
   ]
  },
  {
   "cell_type": "code",
   "execution_count": 17,
   "id": "d2189301",
   "metadata": {},
   "outputs": [
    {
     "name": "stdout",
     "output_type": "stream",
     "text": [
      "{1: 20, 6: 0, 14: 35, 15: 68, 16: 357, 18: 10}\n"
     ]
    }
   ],
   "source": [
    "print(mapping)"
   ]
  },
  {
   "cell_type": "code",
   "execution_count": 189,
   "id": "f5774456",
   "metadata": {
    "scrolled": false
   },
   "outputs": [
    {
     "data": {
      "text/plain": [
       "30704"
      ]
     },
     "execution_count": 189,
     "metadata": {},
     "output_type": "execute_result"
    }
   ],
   "source": [
    "len(y)"
   ]
  },
  {
   "cell_type": "code",
   "execution_count": 190,
   "id": "130517cb",
   "metadata": {},
   "outputs": [],
   "source": [
    "X = X[:len(X)-(len(X)%30)]"
   ]
  },
  {
   "cell_type": "code",
   "execution_count": 191,
   "id": "19fcd4ea",
   "metadata": {},
   "outputs": [
    {
     "data": {
      "text/plain": [
       "30690"
      ]
     },
     "execution_count": 191,
     "metadata": {},
     "output_type": "execute_result"
    }
   ],
   "source": [
    "len(X)"
   ]
  },
  {
   "cell_type": "code",
   "execution_count": 192,
   "id": "4098afde",
   "metadata": {},
   "outputs": [],
   "source": [
    "X_total = np.array(X)"
   ]
  },
  {
   "cell_type": "code",
   "execution_count": 193,
   "id": "799eec56",
   "metadata": {},
   "outputs": [],
   "source": [
    "y_total = to_categorical(y).astype(int) # y is a 1-hot representation of output label"
   ]
  },
  {
   "cell_type": "code",
   "execution_count": 194,
   "id": "07af109c",
   "metadata": {},
   "outputs": [
    {
     "data": {
      "text/plain": [
       "(30704, 26)"
      ]
     },
     "execution_count": 194,
     "metadata": {},
     "output_type": "execute_result"
    }
   ],
   "source": [
    "y_total.shape"
   ]
  },
  {
   "cell_type": "code",
   "execution_count": 195,
   "id": "8bf41012",
   "metadata": {},
   "outputs": [
    {
     "data": {
      "text/plain": [
       "(30690, 42, 3)"
      ]
     },
     "execution_count": 195,
     "metadata": {},
     "output_type": "execute_result"
    }
   ],
   "source": [
    "X_total.shape"
   ]
  },
  {
   "cell_type": "code",
   "execution_count": 196,
   "id": "a524cb3f",
   "metadata": {},
   "outputs": [],
   "source": [
    "def batch_generate(X, Y, batch_size):\n",
    "    x = []\n",
    "    y = []\n",
    "    for i in range(0, X.shape[0], batch_size):\n",
    "        x.append(X[i:i+batch_size])\n",
    "        y.append(Y[i])\n",
    "    x = np.array(x)\n",
    "    y = np.array(y)\n",
    "    return x,y"
   ]
  },
  {
   "cell_type": "code",
   "execution_count": 197,
   "id": "b991ee9a",
   "metadata": {},
   "outputs": [],
   "source": [
    "batch_size = 30\n",
    "X_total_batch, y_total_batch = batch_generate(X_total, y_total, batch_size)"
   ]
  },
  {
   "cell_type": "code",
   "execution_count": 198,
   "id": "f59d541f",
   "metadata": {},
   "outputs": [
    {
     "data": {
      "text/plain": [
       "(1023, 30, 42, 3)"
      ]
     },
     "execution_count": 198,
     "metadata": {},
     "output_type": "execute_result"
    }
   ],
   "source": [
    "X_total_batch.shape"
   ]
  },
  {
   "cell_type": "code",
   "execution_count": 199,
   "id": "1f845381",
   "metadata": {},
   "outputs": [],
   "source": [
    "#new_X_total_batch = X_total_batch.reshape((X_total_batch.shape[0], 1, X_total_batch.shape[2], X_total_batch.shape[1]))"
   ]
  },
  {
   "cell_type": "code",
   "execution_count": 200,
   "id": "00612e36",
   "metadata": {},
   "outputs": [],
   "source": [
    "#new_X_total_batch.shape"
   ]
  },
  {
   "cell_type": "code",
   "execution_count": 201,
   "id": "118e86a9",
   "metadata": {},
   "outputs": [
    {
     "data": {
      "text/plain": [
       "(1023, 26)"
      ]
     },
     "execution_count": 201,
     "metadata": {},
     "output_type": "execute_result"
    }
   ],
   "source": [
    "y_total_batch.shape"
   ]
  },
  {
   "cell_type": "code",
   "execution_count": 202,
   "id": "f8620c6b",
   "metadata": {},
   "outputs": [],
   "source": [
    "X_train, X_test, y_train, y_test = train_test_split(X_total_batch, y_total_batch, test_size=0.2)"
   ]
  },
  {
   "cell_type": "code",
   "execution_count": 203,
   "id": "43cecf26",
   "metadata": {},
   "outputs": [],
   "source": [
    "#X_train = X_train.reshape((X_train.shape[0], 1, X_train.shape[1], X_train.shape[2], X_train.shape[3]))"
   ]
  },
  {
   "cell_type": "code",
   "execution_count": 204,
   "id": "a86cfe2b",
   "metadata": {},
   "outputs": [
    {
     "data": {
      "text/plain": [
       "(818, 30, 42, 3)"
      ]
     },
     "execution_count": 204,
     "metadata": {},
     "output_type": "execute_result"
    }
   ],
   "source": [
    "X_train.shape"
   ]
  },
  {
   "cell_type": "code",
   "execution_count": 205,
   "id": "8add1291",
   "metadata": {},
   "outputs": [],
   "source": [
    "#X_test = X_test.reshape((X_test.shape[0], 1, X_test.shape[1], X_test.shape[2], X_test.shape[3]))"
   ]
  },
  {
   "cell_type": "code",
   "execution_count": 206,
   "id": "19d57590",
   "metadata": {},
   "outputs": [
    {
     "data": {
      "text/plain": [
       "(205, 30, 42, 3)"
      ]
     },
     "execution_count": 206,
     "metadata": {},
     "output_type": "execute_result"
    }
   ],
   "source": [
    "X_test.shape"
   ]
  },
  {
   "cell_type": "code",
   "execution_count": 207,
   "id": "672571a1",
   "metadata": {},
   "outputs": [
    {
     "data": {
      "text/plain": [
       "(818, 26)"
      ]
     },
     "execution_count": 207,
     "metadata": {},
     "output_type": "execute_result"
    }
   ],
   "source": [
    "y_train.shape"
   ]
  },
  {
   "cell_type": "code",
   "execution_count": 208,
   "id": "cc3d2b9e",
   "metadata": {},
   "outputs": [
    {
     "data": {
      "text/plain": [
       "(205, 26)"
      ]
     },
     "execution_count": 208,
     "metadata": {},
     "output_type": "execute_result"
    }
   ],
   "source": [
    "y_test.shape"
   ]
  },
  {
   "cell_type": "code",
   "execution_count": 209,
   "id": "6c5b0479",
   "metadata": {},
   "outputs": [],
   "source": [
    "# Step 7 - build and train lSTM NN\n",
    "from tensorflow.keras.models import Sequential\n",
    "from tensorflow.keras.layers import LSTM, Dense, Conv2D, MaxPool2D, Flatten, Dropout\n",
    "from tensorflow.keras.callbacks import TensorBoard, EarlyStopping"
   ]
  },
  {
   "cell_type": "code",
   "execution_count": 210,
   "id": "a3dba74d",
   "metadata": {},
   "outputs": [],
   "source": [
    "# Before running this, delete the Logs folder\n",
    "log_dir = os.path.join('Logs')\n",
    "tb_callback = TensorBoard(log_dir=log_dir)"
   ]
  },
  {
   "cell_type": "code",
   "execution_count": 211,
   "id": "493e3f91",
   "metadata": {},
   "outputs": [],
   "source": [
    "from keras.models import load_model\n",
    "model = load_model('weights_custom.h5')"
   ]
  },
  {
   "cell_type": "code",
   "execution_count": 212,
   "id": "6db54471",
   "metadata": {},
   "outputs": [
    {
     "name": "stdout",
     "output_type": "stream",
     "text": [
      "Model: \"sequential_11\"\n",
      "_________________________________________________________________\n",
      " Layer (type)                Output Shape              Param #   \n",
      "=================================================================\n",
      " conv2d_44 (Conv2D)          (None, 30, 42, 32)        896       \n",
      "                                                                 \n",
      " max_pooling2d_33 (MaxPoolin  (None, 15, 21, 32)       0         \n",
      " g2D)                                                            \n",
      "                                                                 \n",
      " conv2d_45 (Conv2D)          (None, 13, 19, 64)        18496     \n",
      "                                                                 \n",
      " max_pooling2d_34 (MaxPoolin  (None, 6, 9, 64)         0         \n",
      " g2D)                                                            \n",
      "                                                                 \n",
      " conv2d_46 (Conv2D)          (None, 4, 7, 128)         73856     \n",
      "                                                                 \n",
      " conv2d_47 (Conv2D)          (None, 2, 5, 256)         295168    \n",
      "                                                                 \n",
      " max_pooling2d_35 (MaxPoolin  (None, 1, 2, 256)        0         \n",
      " g2D)                                                            \n",
      "                                                                 \n",
      " flatten_11 (Flatten)        (None, 512)               0         \n",
      "                                                                 \n",
      " dense_33 (Dense)            (None, 128)               65664     \n",
      "                                                                 \n",
      " dropout_22 (Dropout)        (None, 128)               0         \n",
      "                                                                 \n",
      " dense_34 (Dense)            (None, 64)                8256      \n",
      "                                                                 \n",
      " dropout_23 (Dropout)        (None, 64)                0         \n",
      "                                                                 \n",
      " dense_35 (Dense)            (None, 26)                1690      \n",
      "                                                                 \n",
      "=================================================================\n",
      "Total params: 464,026\n",
      "Trainable params: 464,026\n",
      "Non-trainable params: 0\n",
      "_________________________________________________________________\n"
     ]
    }
   ],
   "source": [
    "model.summary()"
   ]
  },
  {
   "cell_type": "code",
   "execution_count": 213,
   "id": "912211ea",
   "metadata": {},
   "outputs": [
    {
     "name": "stdout",
     "output_type": "stream",
     "text": [
      "Epoch 1/250\n",
      "21/21 [==============================] - 1s 27ms/step - loss: 4.6753 - categorical_accuracy: 0.1376 - val_loss: 2.6457 - val_categorical_accuracy: 0.2012\n",
      "Epoch 2/250\n",
      "21/21 [==============================] - 0s 21ms/step - loss: 2.1744 - categorical_accuracy: 0.3303 - val_loss: 1.4784 - val_categorical_accuracy: 0.5000\n",
      "Epoch 3/250\n",
      "21/21 [==============================] - 0s 20ms/step - loss: 1.4214 - categorical_accuracy: 0.5535 - val_loss: 0.8685 - val_categorical_accuracy: 0.7744\n",
      "Epoch 4/250\n",
      "21/21 [==============================] - 0s 21ms/step - loss: 1.0410 - categorical_accuracy: 0.6453 - val_loss: 0.5384 - val_categorical_accuracy: 0.8476\n",
      "Epoch 5/250\n",
      "21/21 [==============================] - 0s 20ms/step - loss: 0.7952 - categorical_accuracy: 0.7554 - val_loss: 0.3288 - val_categorical_accuracy: 0.9329\n",
      "Epoch 6/250\n",
      "21/21 [==============================] - 0s 20ms/step - loss: 0.5731 - categorical_accuracy: 0.8333 - val_loss: 0.2917 - val_categorical_accuracy: 0.9390\n",
      "Epoch 7/250\n",
      "21/21 [==============================] - 0s 20ms/step - loss: 0.4635 - categorical_accuracy: 0.8700 - val_loss: 0.1933 - val_categorical_accuracy: 0.9634\n",
      "Epoch 8/250\n",
      "21/21 [==============================] - 0s 20ms/step - loss: 0.3666 - categorical_accuracy: 0.9021 - val_loss: 0.2161 - val_categorical_accuracy: 0.9573\n",
      "Epoch 9/250\n",
      "21/21 [==============================] - 0s 20ms/step - loss: 0.3277 - categorical_accuracy: 0.9067 - val_loss: 0.1393 - val_categorical_accuracy: 0.9695\n",
      "Epoch 10/250\n",
      "21/21 [==============================] - 0s 20ms/step - loss: 0.3071 - categorical_accuracy: 0.9174 - val_loss: 0.1128 - val_categorical_accuracy: 0.9756\n",
      "Epoch 11/250\n",
      "21/21 [==============================] - 0s 20ms/step - loss: 0.2090 - categorical_accuracy: 0.9511 - val_loss: 0.1119 - val_categorical_accuracy: 0.9756\n",
      "Epoch 12/250\n",
      "21/21 [==============================] - 0s 20ms/step - loss: 0.2012 - categorical_accuracy: 0.9419 - val_loss: 0.0755 - val_categorical_accuracy: 0.9756\n",
      "Epoch 13/250\n",
      "21/21 [==============================] - 0s 20ms/step - loss: 0.1497 - categorical_accuracy: 0.9587 - val_loss: 0.1092 - val_categorical_accuracy: 0.9695\n",
      "Epoch 14/250\n",
      "21/21 [==============================] - 0s 21ms/step - loss: 0.2278 - categorical_accuracy: 0.9235 - val_loss: 0.0737 - val_categorical_accuracy: 0.9756\n",
      "Epoch 15/250\n",
      "21/21 [==============================] - 0s 20ms/step - loss: 0.1454 - categorical_accuracy: 0.9572 - val_loss: 0.1042 - val_categorical_accuracy: 0.9756\n",
      "Epoch 16/250\n",
      "21/21 [==============================] - 0s 20ms/step - loss: 0.1029 - categorical_accuracy: 0.9725 - val_loss: 0.0979 - val_categorical_accuracy: 0.9756\n",
      "Epoch 17/250\n",
      "21/21 [==============================] - 0s 20ms/step - loss: 0.1022 - categorical_accuracy: 0.9709 - val_loss: 0.1210 - val_categorical_accuracy: 0.9756\n",
      "Epoch 18/250\n",
      "21/21 [==============================] - 0s 20ms/step - loss: 0.0927 - categorical_accuracy: 0.9725 - val_loss: 0.1178 - val_categorical_accuracy: 0.9695\n",
      "Epoch 19/250\n",
      "21/21 [==============================] - 0s 20ms/step - loss: 0.1412 - categorical_accuracy: 0.9602 - val_loss: 0.1346 - val_categorical_accuracy: 0.9695\n",
      "Epoch 20/250\n",
      "21/21 [==============================] - 0s 20ms/step - loss: 0.1014 - categorical_accuracy: 0.9679 - val_loss: 0.0620 - val_categorical_accuracy: 0.9756\n",
      "Epoch 21/250\n",
      "21/21 [==============================] - 0s 20ms/step - loss: 0.1153 - categorical_accuracy: 0.9679 - val_loss: 0.0780 - val_categorical_accuracy: 0.9817\n",
      "Epoch 22/250\n",
      "21/21 [==============================] - 0s 20ms/step - loss: 0.0763 - categorical_accuracy: 0.9740 - val_loss: 0.0767 - val_categorical_accuracy: 0.9878\n",
      "Epoch 23/250\n",
      "21/21 [==============================] - 0s 20ms/step - loss: 0.0802 - categorical_accuracy: 0.9801 - val_loss: 0.0931 - val_categorical_accuracy: 0.9817\n",
      "Epoch 24/250\n",
      "21/21 [==============================] - 0s 20ms/step - loss: 0.1222 - categorical_accuracy: 0.9709 - val_loss: 0.1875 - val_categorical_accuracy: 0.9512\n",
      "Epoch 25/250\n",
      "21/21 [==============================] - 0s 20ms/step - loss: 0.0716 - categorical_accuracy: 0.9771 - val_loss: 0.0874 - val_categorical_accuracy: 0.9817\n",
      "Epoch 26/250\n",
      "21/21 [==============================] - 0s 20ms/step - loss: 0.0851 - categorical_accuracy: 0.9740 - val_loss: 0.0924 - val_categorical_accuracy: 0.9817\n",
      "Epoch 27/250\n",
      "21/21 [==============================] - 0s 20ms/step - loss: 0.1095 - categorical_accuracy: 0.9709 - val_loss: 0.0583 - val_categorical_accuracy: 0.9939\n",
      "Epoch 28/250\n",
      "21/21 [==============================] - 0s 20ms/step - loss: 0.0630 - categorical_accuracy: 0.9847 - val_loss: 0.0562 - val_categorical_accuracy: 0.9939\n",
      "Epoch 29/250\n",
      "21/21 [==============================] - 0s 20ms/step - loss: 0.0674 - categorical_accuracy: 0.9817 - val_loss: 0.0858 - val_categorical_accuracy: 0.9817\n",
      "Epoch 30/250\n",
      "21/21 [==============================] - 0s 20ms/step - loss: 0.0779 - categorical_accuracy: 0.9832 - val_loss: 0.0772 - val_categorical_accuracy: 0.9878\n",
      "Epoch 31/250\n",
      "21/21 [==============================] - 0s 20ms/step - loss: 0.0673 - categorical_accuracy: 0.9801 - val_loss: 0.0621 - val_categorical_accuracy: 0.9878\n",
      "Epoch 32/250\n",
      "21/21 [==============================] - 0s 20ms/step - loss: 0.0709 - categorical_accuracy: 0.9771 - val_loss: 0.1291 - val_categorical_accuracy: 0.9817\n",
      "Epoch 33/250\n",
      "21/21 [==============================] - 0s 19ms/step - loss: 0.0743 - categorical_accuracy: 0.9755 - val_loss: 0.0685 - val_categorical_accuracy: 0.9939\n",
      "Epoch 34/250\n",
      "21/21 [==============================] - 0s 20ms/step - loss: 0.0478 - categorical_accuracy: 0.9862 - val_loss: 0.0719 - val_categorical_accuracy: 0.9939\n",
      "Epoch 35/250\n",
      "21/21 [==============================] - 0s 20ms/step - loss: 0.0363 - categorical_accuracy: 0.9878 - val_loss: 0.0731 - val_categorical_accuracy: 0.9939\n",
      "Epoch 36/250\n",
      "21/21 [==============================] - 0s 21ms/step - loss: 0.0515 - categorical_accuracy: 0.9817 - val_loss: 0.0741 - val_categorical_accuracy: 0.9878\n",
      "Epoch 37/250\n",
      "21/21 [==============================] - 0s 20ms/step - loss: 0.0343 - categorical_accuracy: 0.9924 - val_loss: 0.0616 - val_categorical_accuracy: 0.9817\n",
      "Epoch 38/250\n",
      "21/21 [==============================] - 0s 22ms/step - loss: 0.0554 - categorical_accuracy: 0.9832 - val_loss: 0.0856 - val_categorical_accuracy: 0.9878\n",
      "Epoch 39/250\n",
      "21/21 [==============================] - 0s 22ms/step - loss: 0.0505 - categorical_accuracy: 0.9832 - val_loss: 0.0812 - val_categorical_accuracy: 0.9939\n",
      "Epoch 40/250\n",
      "21/21 [==============================] - 0s 23ms/step - loss: 0.0379 - categorical_accuracy: 0.9893 - val_loss: 0.0344 - val_categorical_accuracy: 0.9939\n",
      "Epoch 41/250\n",
      "21/21 [==============================] - 0s 23ms/step - loss: 0.0406 - categorical_accuracy: 0.9878 - val_loss: 0.0495 - val_categorical_accuracy: 0.9939\n",
      "Epoch 42/250\n",
      "21/21 [==============================] - 0s 23ms/step - loss: 0.0403 - categorical_accuracy: 0.9878 - val_loss: 0.0668 - val_categorical_accuracy: 0.9939\n",
      "Epoch 43/250\n",
      "21/21 [==============================] - 0s 23ms/step - loss: 0.0370 - categorical_accuracy: 0.9847 - val_loss: 0.0847 - val_categorical_accuracy: 0.9939\n",
      "Epoch 44/250\n",
      "21/21 [==============================] - 0s 23ms/step - loss: 0.0381 - categorical_accuracy: 0.9862 - val_loss: 0.1021 - val_categorical_accuracy: 0.9817\n",
      "Epoch 45/250\n",
      "21/21 [==============================] - 0s 23ms/step - loss: 0.0377 - categorical_accuracy: 0.9908 - val_loss: 0.0968 - val_categorical_accuracy: 0.9939\n",
      "Epoch 46/250\n",
      "21/21 [==============================] - 1s 25ms/step - loss: 0.0148 - categorical_accuracy: 0.9985 - val_loss: 0.0932 - val_categorical_accuracy: 0.9939\n",
      "Epoch 47/250\n",
      "21/21 [==============================] - 1s 26ms/step - loss: 0.0438 - categorical_accuracy: 0.9878 - val_loss: 0.0893 - val_categorical_accuracy: 0.9939\n",
      "Epoch 48/250\n",
      "21/21 [==============================] - 1s 25ms/step - loss: 0.0438 - categorical_accuracy: 0.9924 - val_loss: 0.0675 - val_categorical_accuracy: 0.9939\n",
      "Epoch 49/250\n",
      "21/21 [==============================] - 1s 25ms/step - loss: 0.0518 - categorical_accuracy: 0.9893 - val_loss: 0.1233 - val_categorical_accuracy: 0.9817\n",
      "Epoch 50/250\n"
     ]
    },
    {
     "name": "stdout",
     "output_type": "stream",
     "text": [
      "21/21 [==============================] - 1s 24ms/step - loss: 0.0270 - categorical_accuracy: 0.9893 - val_loss: 0.1287 - val_categorical_accuracy: 0.9695\n",
      "Epoch 51/250\n",
      "21/21 [==============================] - 1s 24ms/step - loss: 0.0348 - categorical_accuracy: 0.9878 - val_loss: 0.0805 - val_categorical_accuracy: 0.9939\n",
      "Epoch 52/250\n",
      "21/21 [==============================] - 1s 24ms/step - loss: 0.0147 - categorical_accuracy: 0.9985 - val_loss: 0.0802 - val_categorical_accuracy: 0.9939\n",
      "Epoch 53/250\n",
      "21/21 [==============================] - 1s 24ms/step - loss: 0.0190 - categorical_accuracy: 0.9954 - val_loss: 0.0764 - val_categorical_accuracy: 0.9939\n",
      "Epoch 54/250\n",
      "21/21 [==============================] - 1s 24ms/step - loss: 0.0326 - categorical_accuracy: 0.9878 - val_loss: 0.0891 - val_categorical_accuracy: 0.9939\n",
      "Epoch 55/250\n",
      "21/21 [==============================] - 0s 23ms/step - loss: 0.0547 - categorical_accuracy: 0.9862 - val_loss: 0.0930 - val_categorical_accuracy: 0.9939\n",
      "Epoch 56/250\n",
      "21/21 [==============================] - 0s 22ms/step - loss: 0.0323 - categorical_accuracy: 0.9862 - val_loss: 0.0790 - val_categorical_accuracy: 0.9939\n",
      "Epoch 57/250\n",
      "21/21 [==============================] - 0s 22ms/step - loss: 0.0134 - categorical_accuracy: 0.9985 - val_loss: 0.0741 - val_categorical_accuracy: 0.9939\n",
      "Epoch 58/250\n",
      "21/21 [==============================] - 0s 23ms/step - loss: 0.0179 - categorical_accuracy: 0.9924 - val_loss: 0.0830 - val_categorical_accuracy: 0.9939\n",
      "Epoch 59/250\n",
      "21/21 [==============================] - 0s 23ms/step - loss: 0.0213 - categorical_accuracy: 0.9939 - val_loss: 0.0606 - val_categorical_accuracy: 0.9939\n",
      "Epoch 60/250\n",
      "21/21 [==============================] - 0s 23ms/step - loss: 0.0114 - categorical_accuracy: 0.9985 - val_loss: 0.0742 - val_categorical_accuracy: 0.9939\n",
      "Epoch 61/250\n",
      "21/21 [==============================] - 1s 27ms/step - loss: 0.0119 - categorical_accuracy: 0.9954 - val_loss: 0.0870 - val_categorical_accuracy: 0.9939\n",
      "Epoch 62/250\n",
      "21/21 [==============================] - 0s 24ms/step - loss: 0.0154 - categorical_accuracy: 0.9939 - val_loss: 0.0885 - val_categorical_accuracy: 0.9939\n",
      "Epoch 63/250\n",
      "21/21 [==============================] - 0s 23ms/step - loss: 0.0267 - categorical_accuracy: 0.9924 - val_loss: 0.0693 - val_categorical_accuracy: 0.9939\n",
      "Epoch 64/250\n",
      "21/21 [==============================] - 0s 23ms/step - loss: 0.0240 - categorical_accuracy: 0.9939 - val_loss: 0.0932 - val_categorical_accuracy: 0.9939\n",
      "Epoch 65/250\n",
      "21/21 [==============================] - 0s 23ms/step - loss: 0.0457 - categorical_accuracy: 0.9893 - val_loss: 0.1096 - val_categorical_accuracy: 0.9939\n",
      "Epoch 66/250\n",
      "21/21 [==============================] - 0s 22ms/step - loss: 0.0145 - categorical_accuracy: 0.9969 - val_loss: 0.0980 - val_categorical_accuracy: 0.9939\n",
      "Epoch 67/250\n",
      "21/21 [==============================] - 0s 23ms/step - loss: 0.0340 - categorical_accuracy: 0.9908 - val_loss: 0.1239 - val_categorical_accuracy: 0.9939\n",
      "Epoch 68/250\n",
      "21/21 [==============================] - 0s 23ms/step - loss: 0.0268 - categorical_accuracy: 0.9939 - val_loss: 0.1003 - val_categorical_accuracy: 0.9939\n",
      "Epoch 69/250\n",
      "21/21 [==============================] - 0s 22ms/step - loss: 0.0312 - categorical_accuracy: 0.9908 - val_loss: 0.1616 - val_categorical_accuracy: 0.9878\n",
      "Epoch 70/250\n",
      "21/21 [==============================] - 0s 23ms/step - loss: 0.0254 - categorical_accuracy: 0.9939 - val_loss: 0.1507 - val_categorical_accuracy: 0.9817\n",
      "Epoch 71/250\n",
      "21/21 [==============================] - 0s 22ms/step - loss: 0.0226 - categorical_accuracy: 0.9924 - val_loss: 0.1071 - val_categorical_accuracy: 0.9817\n",
      "Epoch 72/250\n",
      "21/21 [==============================] - 0s 23ms/step - loss: 0.0128 - categorical_accuracy: 0.9985 - val_loss: 0.1196 - val_categorical_accuracy: 0.9878\n",
      "Epoch 73/250\n",
      "21/21 [==============================] - 0s 22ms/step - loss: 0.0182 - categorical_accuracy: 0.9939 - val_loss: 0.1136 - val_categorical_accuracy: 0.9878\n",
      "Epoch 74/250\n",
      "21/21 [==============================] - 0s 23ms/step - loss: 0.0371 - categorical_accuracy: 0.9924 - val_loss: 0.1059 - val_categorical_accuracy: 0.9939\n",
      "Epoch 75/250\n",
      "21/21 [==============================] - 0s 22ms/step - loss: 0.0278 - categorical_accuracy: 0.9908 - val_loss: 0.1367 - val_categorical_accuracy: 0.9817\n",
      "Epoch 76/250\n",
      "21/21 [==============================] - 0s 22ms/step - loss: 0.0129 - categorical_accuracy: 0.9969 - val_loss: 0.1133 - val_categorical_accuracy: 0.9939\n",
      "Epoch 77/250\n",
      "21/21 [==============================] - 0s 23ms/step - loss: 0.0201 - categorical_accuracy: 0.9893 - val_loss: 0.1258 - val_categorical_accuracy: 0.9939\n",
      "Epoch 78/250\n",
      "21/21 [==============================] - 0s 22ms/step - loss: 0.0386 - categorical_accuracy: 0.9908 - val_loss: 0.0941 - val_categorical_accuracy: 0.9939\n",
      "Epoch 79/250\n",
      "21/21 [==============================] - 0s 22ms/step - loss: 0.0331 - categorical_accuracy: 0.9893 - val_loss: 0.1139 - val_categorical_accuracy: 0.9939\n",
      "Epoch 80/250\n",
      "21/21 [==============================] - 0s 23ms/step - loss: 0.0229 - categorical_accuracy: 0.9939 - val_loss: 0.1056 - val_categorical_accuracy: 0.9939\n",
      "Epoch 81/250\n",
      "21/21 [==============================] - 0s 22ms/step - loss: 0.0151 - categorical_accuracy: 0.9954 - val_loss: 0.1155 - val_categorical_accuracy: 0.9939\n",
      "Epoch 82/250\n",
      "21/21 [==============================] - 0s 22ms/step - loss: 0.0128 - categorical_accuracy: 0.9954 - val_loss: 0.1143 - val_categorical_accuracy: 0.9939\n",
      "Epoch 83/250\n",
      "21/21 [==============================] - 0s 22ms/step - loss: 0.0113 - categorical_accuracy: 0.9954 - val_loss: 0.1231 - val_categorical_accuracy: 0.9878\n",
      "Epoch 84/250\n",
      "21/21 [==============================] - 0s 22ms/step - loss: 0.0187 - categorical_accuracy: 0.9954 - val_loss: 0.1516 - val_categorical_accuracy: 0.9939\n",
      "Epoch 85/250\n",
      "21/21 [==============================] - 0s 23ms/step - loss: 0.0162 - categorical_accuracy: 0.9939 - val_loss: 0.0847 - val_categorical_accuracy: 0.9878\n",
      "Epoch 86/250\n",
      "21/21 [==============================] - 0s 22ms/step - loss: 0.0317 - categorical_accuracy: 0.9939 - val_loss: 0.1167 - val_categorical_accuracy: 0.9939\n",
      "Epoch 87/250\n",
      "21/21 [==============================] - 0s 23ms/step - loss: 0.0140 - categorical_accuracy: 0.9939 - val_loss: 0.1161 - val_categorical_accuracy: 0.9939\n",
      "Epoch 88/250\n",
      "21/21 [==============================] - 0s 23ms/step - loss: 0.0090 - categorical_accuracy: 0.9969 - val_loss: 0.0994 - val_categorical_accuracy: 0.9939\n",
      "Epoch 89/250\n",
      "21/21 [==============================] - 0s 22ms/step - loss: 0.0052 - categorical_accuracy: 0.9985 - val_loss: 0.0970 - val_categorical_accuracy: 0.9939\n",
      "Epoch 90/250\n",
      "21/21 [==============================] - 0s 22ms/step - loss: 0.0173 - categorical_accuracy: 0.9969 - val_loss: 0.1058 - val_categorical_accuracy: 0.9939\n",
      "Epoch 91/250\n",
      "21/21 [==============================] - 0s 22ms/step - loss: 0.0303 - categorical_accuracy: 0.9878 - val_loss: 0.1047 - val_categorical_accuracy: 0.9939\n",
      "Epoch 92/250\n",
      "21/21 [==============================] - 0s 22ms/step - loss: 0.0510 - categorical_accuracy: 0.9862 - val_loss: 0.0961 - val_categorical_accuracy: 0.9939\n",
      "Epoch 93/250\n",
      "21/21 [==============================] - 0s 22ms/step - loss: 0.0165 - categorical_accuracy: 0.9924 - val_loss: 0.4173 - val_categorical_accuracy: 0.9695\n",
      "Epoch 94/250\n",
      "21/21 [==============================] - 0s 22ms/step - loss: 0.0388 - categorical_accuracy: 0.9893 - val_loss: 0.1276 - val_categorical_accuracy: 0.9817\n",
      "Epoch 95/250\n",
      "21/21 [==============================] - 0s 22ms/step - loss: 0.0363 - categorical_accuracy: 0.9878 - val_loss: 0.1374 - val_categorical_accuracy: 0.9939\n",
      "Epoch 96/250\n",
      "21/21 [==============================] - 0s 22ms/step - loss: 0.0094 - categorical_accuracy: 0.9969 - val_loss: 0.1458 - val_categorical_accuracy: 0.9939\n",
      "Epoch 97/250\n",
      "21/21 [==============================] - 0s 23ms/step - loss: 0.0334 - categorical_accuracy: 0.9908 - val_loss: 0.1358 - val_categorical_accuracy: 0.9878\n",
      "Epoch 98/250\n",
      "21/21 [==============================] - 0s 23ms/step - loss: 0.0257 - categorical_accuracy: 0.9924 - val_loss: 0.1164 - val_categorical_accuracy: 0.9939\n",
      "Epoch 99/250\n"
     ]
    },
    {
     "name": "stdout",
     "output_type": "stream",
     "text": [
      "21/21 [==============================] - 0s 22ms/step - loss: 0.0230 - categorical_accuracy: 0.9924 - val_loss: 0.1264 - val_categorical_accuracy: 0.9939\n",
      "Epoch 100/250\n",
      "21/21 [==============================] - 0s 21ms/step - loss: 0.0294 - categorical_accuracy: 0.9893 - val_loss: 0.1468 - val_categorical_accuracy: 0.9817\n",
      "Epoch 101/250\n",
      "21/21 [==============================] - 0s 23ms/step - loss: 0.0435 - categorical_accuracy: 0.9908 - val_loss: 0.0916 - val_categorical_accuracy: 0.9939\n",
      "Epoch 102/250\n",
      "21/21 [==============================] - 0s 23ms/step - loss: 0.0173 - categorical_accuracy: 0.9939 - val_loss: 0.0876 - val_categorical_accuracy: 0.9939\n",
      "Epoch 103/250\n",
      "21/21 [==============================] - 0s 22ms/step - loss: 0.0290 - categorical_accuracy: 0.9924 - val_loss: 0.1046 - val_categorical_accuracy: 0.9939\n",
      "Epoch 104/250\n",
      "21/21 [==============================] - 0s 22ms/step - loss: 0.0137 - categorical_accuracy: 0.9939 - val_loss: 0.1239 - val_categorical_accuracy: 0.9939\n",
      "Epoch 105/250\n",
      "21/21 [==============================] - 0s 21ms/step - loss: 0.0076 - categorical_accuracy: 0.9969 - val_loss: 0.1281 - val_categorical_accuracy: 0.9939\n",
      "Epoch 106/250\n",
      "21/21 [==============================] - 0s 22ms/step - loss: 0.0061 - categorical_accuracy: 1.0000 - val_loss: 0.1243 - val_categorical_accuracy: 0.9939\n",
      "Epoch 107/250\n",
      "21/21 [==============================] - 0s 21ms/step - loss: 0.0170 - categorical_accuracy: 0.9939 - val_loss: 0.1173 - val_categorical_accuracy: 0.9939\n",
      "Epoch 108/250\n",
      "21/21 [==============================] - 0s 23ms/step - loss: 0.0184 - categorical_accuracy: 0.9939 - val_loss: 0.1115 - val_categorical_accuracy: 0.9878\n",
      "Epoch 109/250\n",
      "21/21 [==============================] - 0s 23ms/step - loss: 0.0061 - categorical_accuracy: 1.0000 - val_loss: 0.0961 - val_categorical_accuracy: 0.9939\n",
      "Epoch 110/250\n",
      "21/21 [==============================] - 0s 23ms/step - loss: 0.0064 - categorical_accuracy: 0.9985 - val_loss: 0.1043 - val_categorical_accuracy: 0.9939\n",
      "Epoch 111/250\n",
      "21/21 [==============================] - 0s 22ms/step - loss: 0.0071 - categorical_accuracy: 0.9985 - val_loss: 0.1195 - val_categorical_accuracy: 0.9939\n",
      "Epoch 112/250\n",
      "21/21 [==============================] - 0s 22ms/step - loss: 0.0060 - categorical_accuracy: 0.9985 - val_loss: 0.1090 - val_categorical_accuracy: 0.9939\n",
      "Epoch 113/250\n",
      "21/21 [==============================] - 0s 22ms/step - loss: 0.0082 - categorical_accuracy: 0.9954 - val_loss: 0.1145 - val_categorical_accuracy: 0.9939\n",
      "Epoch 114/250\n",
      "21/21 [==============================] - 0s 23ms/step - loss: 0.0072 - categorical_accuracy: 0.9969 - val_loss: 0.1223 - val_categorical_accuracy: 0.9939\n",
      "Epoch 115/250\n",
      "21/21 [==============================] - 0s 23ms/step - loss: 0.0075 - categorical_accuracy: 0.9969 - val_loss: 0.1037 - val_categorical_accuracy: 0.9939\n",
      "Epoch 116/250\n",
      "21/21 [==============================] - 0s 23ms/step - loss: 0.0082 - categorical_accuracy: 0.9969 - val_loss: 0.1276 - val_categorical_accuracy: 0.9939\n",
      "Epoch 117/250\n",
      "21/21 [==============================] - 0s 22ms/step - loss: 0.0071 - categorical_accuracy: 0.9954 - val_loss: 0.1536 - val_categorical_accuracy: 0.9939\n",
      "Epoch 118/250\n",
      "21/21 [==============================] - 0s 23ms/step - loss: 0.0061 - categorical_accuracy: 0.9969 - val_loss: 0.1503 - val_categorical_accuracy: 0.9939\n",
      "Epoch 119/250\n",
      "21/21 [==============================] - 0s 23ms/step - loss: 0.0079 - categorical_accuracy: 0.9954 - val_loss: 0.1236 - val_categorical_accuracy: 0.9878\n",
      "Epoch 120/250\n",
      "21/21 [==============================] - 0s 23ms/step - loss: 0.0283 - categorical_accuracy: 0.9924 - val_loss: 0.1070 - val_categorical_accuracy: 0.9939\n",
      "Epoch 121/250\n",
      "21/21 [==============================] - 0s 22ms/step - loss: 0.0123 - categorical_accuracy: 0.9985 - val_loss: 0.1416 - val_categorical_accuracy: 0.9878\n",
      "Epoch 122/250\n",
      "21/21 [==============================] - 0s 23ms/step - loss: 0.0204 - categorical_accuracy: 0.9924 - val_loss: 0.1228 - val_categorical_accuracy: 0.9939\n",
      "Epoch 123/250\n",
      "21/21 [==============================] - 0s 22ms/step - loss: 0.0157 - categorical_accuracy: 0.9985 - val_loss: 0.1296 - val_categorical_accuracy: 0.9939\n",
      "Epoch 124/250\n",
      "21/21 [==============================] - 0s 23ms/step - loss: 0.0132 - categorical_accuracy: 0.9969 - val_loss: 0.1487 - val_categorical_accuracy: 0.9817\n",
      "Epoch 125/250\n",
      "21/21 [==============================] - 0s 22ms/step - loss: 0.0299 - categorical_accuracy: 0.9939 - val_loss: 0.1009 - val_categorical_accuracy: 0.9939\n",
      "Epoch 126/250\n",
      "21/21 [==============================] - 0s 22ms/step - loss: 0.0180 - categorical_accuracy: 0.9924 - val_loss: 0.1266 - val_categorical_accuracy: 0.9878\n",
      "Epoch 127/250\n",
      "21/21 [==============================] - 0s 22ms/step - loss: 0.0433 - categorical_accuracy: 0.9893 - val_loss: 0.1893 - val_categorical_accuracy: 0.9573\n",
      "Epoch 128/250\n",
      "21/21 [==============================] - 0s 22ms/step - loss: 0.0432 - categorical_accuracy: 0.9847 - val_loss: 0.0870 - val_categorical_accuracy: 0.9939\n",
      "Epoch 129/250\n",
      "21/21 [==============================] - 0s 23ms/step - loss: 0.0160 - categorical_accuracy: 0.9939 - val_loss: 0.0741 - val_categorical_accuracy: 0.9939\n",
      "Epoch 130/250\n",
      "21/21 [==============================] - 0s 23ms/step - loss: 0.0086 - categorical_accuracy: 0.9985 - val_loss: 0.0897 - val_categorical_accuracy: 0.9939\n",
      "Epoch 131/250\n",
      "21/21 [==============================] - 0s 22ms/step - loss: 0.0107 - categorical_accuracy: 0.9954 - val_loss: 0.1041 - val_categorical_accuracy: 0.9939\n",
      "Epoch 132/250\n",
      "21/21 [==============================] - 0s 22ms/step - loss: 0.0052 - categorical_accuracy: 0.9969 - val_loss: 0.1087 - val_categorical_accuracy: 0.9939\n",
      "Epoch 133/250\n",
      "21/21 [==============================] - 0s 23ms/step - loss: 0.0250 - categorical_accuracy: 0.9939 - val_loss: 0.1108 - val_categorical_accuracy: 0.9939\n",
      "Epoch 134/250\n",
      "21/21 [==============================] - 0s 23ms/step - loss: 0.0978 - categorical_accuracy: 0.9740 - val_loss: 0.0604 - val_categorical_accuracy: 0.9878\n",
      "Epoch 135/250\n",
      "21/21 [==============================] - 0s 23ms/step - loss: 0.0846 - categorical_accuracy: 0.9786 - val_loss: 0.0618 - val_categorical_accuracy: 0.9939\n",
      "Epoch 136/250\n",
      "21/21 [==============================] - 0s 23ms/step - loss: 0.0148 - categorical_accuracy: 0.9924 - val_loss: 0.1069 - val_categorical_accuracy: 0.9878\n",
      "Epoch 137/250\n",
      "21/21 [==============================] - 0s 23ms/step - loss: 0.0163 - categorical_accuracy: 0.9939 - val_loss: 0.0956 - val_categorical_accuracy: 0.9939\n",
      "Epoch 138/250\n",
      "21/21 [==============================] - 0s 23ms/step - loss: 0.0167 - categorical_accuracy: 0.9954 - val_loss: 0.0737 - val_categorical_accuracy: 0.9939\n",
      "Epoch 139/250\n",
      "21/21 [==============================] - 0s 23ms/step - loss: 0.0207 - categorical_accuracy: 0.9939 - val_loss: 0.1197 - val_categorical_accuracy: 0.9939\n",
      "Epoch 140/250\n",
      "21/21 [==============================] - 0s 22ms/step - loss: 0.0085 - categorical_accuracy: 0.9985 - val_loss: 0.0774 - val_categorical_accuracy: 0.9939\n",
      "Epoch 141/250\n",
      "21/21 [==============================] - 0s 22ms/step - loss: 0.0050 - categorical_accuracy: 0.9985 - val_loss: 0.0734 - val_categorical_accuracy: 0.9939\n",
      "Epoch 142/250\n",
      "21/21 [==============================] - 0s 23ms/step - loss: 0.0021 - categorical_accuracy: 1.0000 - val_loss: 0.0776 - val_categorical_accuracy: 0.9939\n",
      "Epoch 143/250\n",
      "21/21 [==============================] - 0s 23ms/step - loss: 0.0108 - categorical_accuracy: 0.9954 - val_loss: 0.0840 - val_categorical_accuracy: 0.9939\n",
      "Epoch 144/250\n",
      "21/21 [==============================] - 0s 23ms/step - loss: 0.0102 - categorical_accuracy: 0.9969 - val_loss: 0.0833 - val_categorical_accuracy: 0.9939\n",
      "Epoch 145/250\n",
      "21/21 [==============================] - 0s 20ms/step - loss: 0.0026 - categorical_accuracy: 1.0000 - val_loss: 0.0914 - val_categorical_accuracy: 0.9939\n",
      "Epoch 146/250\n",
      "21/21 [==============================] - 0s 20ms/step - loss: 0.0074 - categorical_accuracy: 0.9969 - val_loss: 0.1087 - val_categorical_accuracy: 0.9939\n",
      "Epoch 147/250\n",
      "21/21 [==============================] - 0s 21ms/step - loss: 0.0045 - categorical_accuracy: 0.9985 - val_loss: 0.1306 - val_categorical_accuracy: 0.9939\n"
     ]
    },
    {
     "name": "stdout",
     "output_type": "stream",
     "text": [
      "Epoch 148/250\n",
      "21/21 [==============================] - 0s 21ms/step - loss: 0.0058 - categorical_accuracy: 0.9985 - val_loss: 0.1310 - val_categorical_accuracy: 0.9939\n",
      "Epoch 149/250\n",
      "21/21 [==============================] - 0s 23ms/step - loss: 0.0095 - categorical_accuracy: 0.9954 - val_loss: 0.1051 - val_categorical_accuracy: 0.9939\n",
      "Epoch 150/250\n",
      "21/21 [==============================] - 0s 23ms/step - loss: 0.0056 - categorical_accuracy: 0.9985 - val_loss: 0.1097 - val_categorical_accuracy: 0.9939\n",
      "Epoch 151/250\n",
      "21/21 [==============================] - 0s 23ms/step - loss: 0.0114 - categorical_accuracy: 0.9985 - val_loss: 0.1114 - val_categorical_accuracy: 0.9939\n",
      "Epoch 152/250\n",
      "21/21 [==============================] - 0s 23ms/step - loss: 0.0066 - categorical_accuracy: 0.9969 - val_loss: 0.1130 - val_categorical_accuracy: 0.9939\n",
      "Epoch 153/250\n",
      "21/21 [==============================] - 0s 23ms/step - loss: 0.0082 - categorical_accuracy: 0.9969 - val_loss: 0.1206 - val_categorical_accuracy: 0.9939\n",
      "Epoch 154/250\n",
      "21/21 [==============================] - 0s 23ms/step - loss: 0.0070 - categorical_accuracy: 0.9985 - val_loss: 0.1300 - val_categorical_accuracy: 0.9939\n",
      "Epoch 155/250\n",
      "21/21 [==============================] - 0s 22ms/step - loss: 0.0059 - categorical_accuracy: 0.9969 - val_loss: 0.1240 - val_categorical_accuracy: 0.9939\n",
      "Epoch 156/250\n",
      "21/21 [==============================] - 0s 22ms/step - loss: 0.0121 - categorical_accuracy: 0.9939 - val_loss: 0.0963 - val_categorical_accuracy: 0.9878\n",
      "Epoch 157/250\n",
      "21/21 [==============================] - 0s 22ms/step - loss: 0.0095 - categorical_accuracy: 0.9969 - val_loss: 0.1109 - val_categorical_accuracy: 0.9939\n",
      "Epoch 158/250\n",
      "21/21 [==============================] - 0s 22ms/step - loss: 0.0172 - categorical_accuracy: 0.9969 - val_loss: 0.1056 - val_categorical_accuracy: 0.9939\n",
      "Epoch 159/250\n",
      "21/21 [==============================] - 0s 22ms/step - loss: 0.0122 - categorical_accuracy: 0.9954 - val_loss: 0.1513 - val_categorical_accuracy: 0.9878\n",
      "Epoch 160/250\n",
      "21/21 [==============================] - 0s 23ms/step - loss: 0.0080 - categorical_accuracy: 0.9969 - val_loss: 0.1221 - val_categorical_accuracy: 0.9878\n",
      "Epoch 161/250\n",
      "21/21 [==============================] - 0s 22ms/step - loss: 0.0096 - categorical_accuracy: 0.9939 - val_loss: 0.0719 - val_categorical_accuracy: 0.9878\n",
      "Epoch 162/250\n",
      "21/21 [==============================] - 0s 23ms/step - loss: 0.0018 - categorical_accuracy: 1.0000 - val_loss: 0.1046 - val_categorical_accuracy: 0.9878\n",
      "Epoch 163/250\n",
      "21/21 [==============================] - 0s 22ms/step - loss: 0.0200 - categorical_accuracy: 0.9924 - val_loss: 0.1591 - val_categorical_accuracy: 0.9756\n",
      "Epoch 164/250\n",
      "21/21 [==============================] - 0s 22ms/step - loss: 0.0284 - categorical_accuracy: 0.9924 - val_loss: 0.1361 - val_categorical_accuracy: 0.9939\n",
      "Epoch 165/250\n",
      "21/21 [==============================] - 0s 22ms/step - loss: 0.0846 - categorical_accuracy: 0.9908 - val_loss: 0.1693 - val_categorical_accuracy: 0.9878\n",
      "Epoch 166/250\n",
      "21/21 [==============================] - 0s 22ms/step - loss: 0.0143 - categorical_accuracy: 0.9954 - val_loss: 0.1736 - val_categorical_accuracy: 0.9817\n",
      "Epoch 167/250\n",
      "21/21 [==============================] - 0s 22ms/step - loss: 0.0399 - categorical_accuracy: 0.9893 - val_loss: 0.1058 - val_categorical_accuracy: 0.9878\n",
      "Epoch 168/250\n",
      "21/21 [==============================] - 0s 22ms/step - loss: 0.0138 - categorical_accuracy: 0.9954 - val_loss: 0.1145 - val_categorical_accuracy: 0.9939\n",
      "Epoch 169/250\n",
      "21/21 [==============================] - 0s 22ms/step - loss: 0.0323 - categorical_accuracy: 0.9908 - val_loss: 0.1037 - val_categorical_accuracy: 0.9939\n",
      "Epoch 170/250\n",
      "21/21 [==============================] - 0s 22ms/step - loss: 0.0258 - categorical_accuracy: 0.9939 - val_loss: 0.1600 - val_categorical_accuracy: 0.9878\n",
      "Epoch 171/250\n",
      "21/21 [==============================] - 0s 22ms/step - loss: 0.0263 - categorical_accuracy: 0.9924 - val_loss: 0.0855 - val_categorical_accuracy: 0.9939\n",
      "Epoch 172/250\n",
      "21/21 [==============================] - 0s 23ms/step - loss: 0.0387 - categorical_accuracy: 0.9908 - val_loss: 0.1221 - val_categorical_accuracy: 0.9878\n",
      "Epoch 173/250\n",
      "21/21 [==============================] - 0s 22ms/step - loss: 0.0401 - categorical_accuracy: 0.9893 - val_loss: 0.1790 - val_categorical_accuracy: 0.9878\n",
      "Epoch 174/250\n",
      "21/21 [==============================] - 0s 22ms/step - loss: 0.0286 - categorical_accuracy: 0.9939 - val_loss: 0.1067 - val_categorical_accuracy: 0.9939\n",
      "Epoch 175/250\n",
      "21/21 [==============================] - 0s 23ms/step - loss: 0.0211 - categorical_accuracy: 0.9924 - val_loss: 0.1365 - val_categorical_accuracy: 0.9939\n",
      "Epoch 176/250\n",
      "21/21 [==============================] - 0s 23ms/step - loss: 0.0193 - categorical_accuracy: 0.9908 - val_loss: 0.1344 - val_categorical_accuracy: 0.9939\n",
      "Epoch 177/250\n",
      "21/21 [==============================] - 0s 23ms/step - loss: 0.0088 - categorical_accuracy: 0.9969 - val_loss: 0.1204 - val_categorical_accuracy: 0.9939\n",
      "Epoch 178/250\n",
      "21/21 [==============================] - 0s 23ms/step - loss: 0.0178 - categorical_accuracy: 0.9939 - val_loss: 0.2118 - val_categorical_accuracy: 0.9878\n",
      "Epoch 179/250\n",
      "21/21 [==============================] - 0s 22ms/step - loss: 0.0221 - categorical_accuracy: 0.9924 - val_loss: 0.1493 - val_categorical_accuracy: 0.9939\n",
      "Epoch 180/250\n",
      "21/21 [==============================] - 0s 22ms/step - loss: 0.0076 - categorical_accuracy: 0.9969 - val_loss: 0.1397 - val_categorical_accuracy: 0.9939\n",
      "Epoch 181/250\n",
      "21/21 [==============================] - 0s 22ms/step - loss: 0.0124 - categorical_accuracy: 0.9954 - val_loss: 0.1299 - val_categorical_accuracy: 0.9939\n",
      "Epoch 182/250\n",
      "21/21 [==============================] - 0s 22ms/step - loss: 0.0049 - categorical_accuracy: 0.9985 - val_loss: 0.1444 - val_categorical_accuracy: 0.9939\n",
      "Epoch 183/250\n",
      "21/21 [==============================] - 0s 22ms/step - loss: 0.0032 - categorical_accuracy: 1.0000 - val_loss: 0.1428 - val_categorical_accuracy: 0.9939\n",
      "Epoch 184/250\n",
      "21/21 [==============================] - 0s 23ms/step - loss: 0.0131 - categorical_accuracy: 0.9969 - val_loss: 0.1441 - val_categorical_accuracy: 0.9939\n",
      "Epoch 185/250\n",
      "21/21 [==============================] - 0s 22ms/step - loss: 0.0029 - categorical_accuracy: 0.9985 - val_loss: 0.1407 - val_categorical_accuracy: 0.9939\n",
      "Epoch 186/250\n",
      "21/21 [==============================] - 0s 23ms/step - loss: 0.0022 - categorical_accuracy: 1.0000 - val_loss: 0.1421 - val_categorical_accuracy: 0.9939\n",
      "Epoch 187/250\n",
      "21/21 [==============================] - 0s 22ms/step - loss: 0.0074 - categorical_accuracy: 0.9985 - val_loss: 0.1231 - val_categorical_accuracy: 0.9939\n",
      "Epoch 188/250\n",
      "21/21 [==============================] - 0s 22ms/step - loss: 0.0142 - categorical_accuracy: 0.9969 - val_loss: 0.1514 - val_categorical_accuracy: 0.9939\n",
      "Epoch 189/250\n",
      "21/21 [==============================] - 0s 22ms/step - loss: 0.0013 - categorical_accuracy: 1.0000 - val_loss: 0.1550 - val_categorical_accuracy: 0.9939\n",
      "Epoch 190/250\n",
      "21/21 [==============================] - 0s 22ms/step - loss: 0.0106 - categorical_accuracy: 0.9954 - val_loss: 0.1372 - val_categorical_accuracy: 0.9939\n",
      "Epoch 191/250\n",
      "21/21 [==============================] - 0s 23ms/step - loss: 0.0080 - categorical_accuracy: 0.9985 - val_loss: 0.1553 - val_categorical_accuracy: 0.9939\n",
      "Epoch 192/250\n",
      "21/21 [==============================] - 0s 23ms/step - loss: 0.0031 - categorical_accuracy: 0.9985 - val_loss: 0.1572 - val_categorical_accuracy: 0.9939\n",
      "Epoch 193/250\n",
      "21/21 [==============================] - 0s 22ms/step - loss: 0.0015 - categorical_accuracy: 1.0000 - val_loss: 0.1534 - val_categorical_accuracy: 0.9939\n",
      "Epoch 194/250\n",
      "21/21 [==============================] - 0s 22ms/step - loss: 0.0020 - categorical_accuracy: 1.0000 - val_loss: 0.1585 - val_categorical_accuracy: 0.9939\n",
      "Epoch 195/250\n",
      "21/21 [==============================] - 0s 23ms/step - loss: 0.0023 - categorical_accuracy: 0.9985 - val_loss: 0.1529 - val_categorical_accuracy: 0.9939\n",
      "Epoch 196/250\n",
      "21/21 [==============================] - 0s 22ms/step - loss: 8.8536e-04 - categorical_accuracy: 1.0000 - val_loss: 0.1535 - val_categorical_accuracy: 0.9939\n"
     ]
    },
    {
     "name": "stdout",
     "output_type": "stream",
     "text": [
      "Epoch 197/250\n",
      "21/21 [==============================] - 0s 22ms/step - loss: 0.0105 - categorical_accuracy: 0.9969 - val_loss: 0.1592 - val_categorical_accuracy: 0.9939\n",
      "Epoch 198/250\n",
      "21/21 [==============================] - 0s 23ms/step - loss: 0.0027 - categorical_accuracy: 1.0000 - val_loss: 0.1630 - val_categorical_accuracy: 0.9939\n",
      "Epoch 199/250\n",
      "21/21 [==============================] - 0s 22ms/step - loss: 0.0031 - categorical_accuracy: 0.9985 - val_loss: 0.1547 - val_categorical_accuracy: 0.9939\n",
      "Epoch 200/250\n",
      "21/21 [==============================] - 0s 22ms/step - loss: 0.0031 - categorical_accuracy: 0.9985 - val_loss: 0.1599 - val_categorical_accuracy: 0.9939\n",
      "Epoch 201/250\n",
      "21/21 [==============================] - 0s 21ms/step - loss: 0.0056 - categorical_accuracy: 0.9985 - val_loss: 0.1568 - val_categorical_accuracy: 0.9939\n",
      "Epoch 202/250\n",
      "21/21 [==============================] - 0s 22ms/step - loss: 0.0056 - categorical_accuracy: 0.9969 - val_loss: 0.1463 - val_categorical_accuracy: 0.9939\n",
      "Epoch 203/250\n",
      "21/21 [==============================] - 0s 22ms/step - loss: 0.0029 - categorical_accuracy: 1.0000 - val_loss: 0.1515 - val_categorical_accuracy: 0.9939\n",
      "Epoch 204/250\n",
      "21/21 [==============================] - 0s 22ms/step - loss: 0.0026 - categorical_accuracy: 1.0000 - val_loss: 0.1615 - val_categorical_accuracy: 0.9939\n",
      "Epoch 205/250\n",
      "21/21 [==============================] - 0s 22ms/step - loss: 0.0018 - categorical_accuracy: 0.9985 - val_loss: 0.1610 - val_categorical_accuracy: 0.9939\n",
      "Epoch 206/250\n",
      "21/21 [==============================] - 0s 22ms/step - loss: 0.0065 - categorical_accuracy: 0.9969 - val_loss: 0.1598 - val_categorical_accuracy: 0.9939\n",
      "Epoch 207/250\n",
      "21/21 [==============================] - 0s 22ms/step - loss: 0.0104 - categorical_accuracy: 0.9969 - val_loss: 0.1415 - val_categorical_accuracy: 0.9939\n",
      "Epoch 208/250\n",
      "21/21 [==============================] - 0s 22ms/step - loss: 0.0015 - categorical_accuracy: 1.0000 - val_loss: 0.1369 - val_categorical_accuracy: 0.9939\n",
      "Epoch 209/250\n",
      "21/21 [==============================] - 0s 23ms/step - loss: 0.0029 - categorical_accuracy: 0.9985 - val_loss: 0.1447 - val_categorical_accuracy: 0.9939\n",
      "Epoch 210/250\n",
      "21/21 [==============================] - 0s 22ms/step - loss: 0.0038 - categorical_accuracy: 0.9985 - val_loss: 0.1477 - val_categorical_accuracy: 0.9939\n",
      "Epoch 211/250\n",
      "21/21 [==============================] - 0s 22ms/step - loss: 0.0015 - categorical_accuracy: 1.0000 - val_loss: 0.1497 - val_categorical_accuracy: 0.9939\n",
      "Epoch 212/250\n",
      "21/21 [==============================] - 0s 22ms/step - loss: 4.7441e-04 - categorical_accuracy: 1.0000 - val_loss: 0.1505 - val_categorical_accuracy: 0.9939\n",
      "Epoch 213/250\n",
      "21/21 [==============================] - 0s 22ms/step - loss: 0.0010 - categorical_accuracy: 1.0000 - val_loss: 0.1521 - val_categorical_accuracy: 0.9939\n",
      "Epoch 214/250\n",
      "21/21 [==============================] - 0s 22ms/step - loss: 0.0056 - categorical_accuracy: 0.9985 - val_loss: 0.1537 - val_categorical_accuracy: 0.9939\n",
      "Epoch 215/250\n",
      "21/21 [==============================] - 0s 22ms/step - loss: 0.0016 - categorical_accuracy: 1.0000 - val_loss: 0.1490 - val_categorical_accuracy: 0.9939\n",
      "Epoch 216/250\n",
      "21/21 [==============================] - 0s 23ms/step - loss: 9.8606e-04 - categorical_accuracy: 1.0000 - val_loss: 0.1531 - val_categorical_accuracy: 0.9939\n",
      "Epoch 217/250\n",
      "21/21 [==============================] - 0s 23ms/step - loss: 9.3355e-04 - categorical_accuracy: 1.0000 - val_loss: 0.1545 - val_categorical_accuracy: 0.9939\n",
      "Epoch 218/250\n",
      "21/21 [==============================] - 0s 22ms/step - loss: 0.0022 - categorical_accuracy: 0.9985 - val_loss: 0.1585 - val_categorical_accuracy: 0.9939\n",
      "Epoch 219/250\n",
      "21/21 [==============================] - 0s 23ms/step - loss: 0.0064 - categorical_accuracy: 0.9969 - val_loss: 0.1647 - val_categorical_accuracy: 0.9939\n",
      "Epoch 220/250\n",
      "21/21 [==============================] - 0s 23ms/step - loss: 0.0050 - categorical_accuracy: 0.9969 - val_loss: 0.1683 - val_categorical_accuracy: 0.9939\n",
      "Epoch 221/250\n",
      "21/21 [==============================] - 0s 23ms/step - loss: 0.0166 - categorical_accuracy: 0.9985 - val_loss: 0.1976 - val_categorical_accuracy: 0.9939\n",
      "Epoch 222/250\n",
      "21/21 [==============================] - 0s 22ms/step - loss: 0.0023 - categorical_accuracy: 1.0000 - val_loss: 0.1993 - val_categorical_accuracy: 0.9939\n",
      "Epoch 223/250\n",
      "21/21 [==============================] - 0s 22ms/step - loss: 0.0013 - categorical_accuracy: 1.0000 - val_loss: 0.1955 - val_categorical_accuracy: 0.9939\n",
      "Epoch 224/250\n",
      "21/21 [==============================] - 0s 22ms/step - loss: 0.0011 - categorical_accuracy: 1.0000 - val_loss: 0.1903 - val_categorical_accuracy: 0.9939\n",
      "Epoch 225/250\n",
      "21/21 [==============================] - 0s 23ms/step - loss: 4.5904e-04 - categorical_accuracy: 1.0000 - val_loss: 0.1929 - val_categorical_accuracy: 0.9939\n",
      "Epoch 226/250\n",
      "21/21 [==============================] - 0s 23ms/step - loss: 0.0092 - categorical_accuracy: 0.9985 - val_loss: 0.1935 - val_categorical_accuracy: 0.9939\n",
      "Epoch 227/250\n",
      "21/21 [==============================] - 0s 23ms/step - loss: 0.0035 - categorical_accuracy: 0.9985 - val_loss: 0.1906 - val_categorical_accuracy: 0.9939\n",
      "Epoch 228/250\n",
      "21/21 [==============================] - 0s 22ms/step - loss: 0.0230 - categorical_accuracy: 0.9954 - val_loss: 0.1608 - val_categorical_accuracy: 0.9878\n",
      "Epoch 229/250\n",
      "21/21 [==============================] - 0s 23ms/step - loss: 0.0803 - categorical_accuracy: 0.9832 - val_loss: 0.1490 - val_categorical_accuracy: 0.9878\n",
      "Epoch 230/250\n",
      "21/21 [==============================] - 0s 23ms/step - loss: 0.1270 - categorical_accuracy: 0.9648 - val_loss: 0.2334 - val_categorical_accuracy: 0.9756\n",
      "Epoch 231/250\n",
      "21/21 [==============================] - 0s 23ms/step - loss: 0.0672 - categorical_accuracy: 0.9862 - val_loss: 0.2304 - val_categorical_accuracy: 0.9756\n",
      "Epoch 232/250\n",
      "21/21 [==============================] - 0s 23ms/step - loss: 0.0497 - categorical_accuracy: 0.9878 - val_loss: 0.0514 - val_categorical_accuracy: 0.9939\n",
      "Epoch 233/250\n",
      "21/21 [==============================] - 0s 23ms/step - loss: 0.0306 - categorical_accuracy: 0.9908 - val_loss: 0.1223 - val_categorical_accuracy: 0.9817\n",
      "Epoch 234/250\n",
      "21/21 [==============================] - 0s 22ms/step - loss: 0.0222 - categorical_accuracy: 0.9924 - val_loss: 0.0935 - val_categorical_accuracy: 0.9939\n",
      "Epoch 235/250\n",
      "21/21 [==============================] - 0s 23ms/step - loss: 0.0317 - categorical_accuracy: 0.9908 - val_loss: 0.0832 - val_categorical_accuracy: 0.9939\n",
      "Epoch 236/250\n",
      "21/21 [==============================] - 0s 22ms/step - loss: 0.0249 - categorical_accuracy: 0.9939 - val_loss: 0.0937 - val_categorical_accuracy: 0.9939\n",
      "Epoch 237/250\n",
      "21/21 [==============================] - 0s 22ms/step - loss: 0.0053 - categorical_accuracy: 1.0000 - val_loss: 0.1026 - val_categorical_accuracy: 0.9878\n",
      "Epoch 238/250\n",
      "21/21 [==============================] - 0s 23ms/step - loss: 0.0056 - categorical_accuracy: 0.9985 - val_loss: 0.0613 - val_categorical_accuracy: 0.9939\n",
      "Epoch 239/250\n",
      "21/21 [==============================] - 0s 22ms/step - loss: 0.0119 - categorical_accuracy: 0.9954 - val_loss: 0.0923 - val_categorical_accuracy: 0.9878\n",
      "Epoch 240/250\n",
      "21/21 [==============================] - 0s 23ms/step - loss: 0.0071 - categorical_accuracy: 0.9969 - val_loss: 0.0646 - val_categorical_accuracy: 0.9939\n",
      "Epoch 241/250\n",
      "21/21 [==============================] - 0s 22ms/step - loss: 0.0122 - categorical_accuracy: 0.9985 - val_loss: 0.0764 - val_categorical_accuracy: 0.9939\n",
      "Epoch 242/250\n",
      "21/21 [==============================] - 0s 23ms/step - loss: 0.0133 - categorical_accuracy: 0.9954 - val_loss: 0.0872 - val_categorical_accuracy: 0.9939\n",
      "Epoch 243/250\n",
      "21/21 [==============================] - 0s 23ms/step - loss: 0.0223 - categorical_accuracy: 0.9954 - val_loss: 0.0664 - val_categorical_accuracy: 0.9878\n",
      "Epoch 244/250\n",
      "21/21 [==============================] - 0s 23ms/step - loss: 0.0263 - categorical_accuracy: 0.9924 - val_loss: 0.1150 - val_categorical_accuracy: 0.9939\n",
      "Epoch 245/250\n",
      "21/21 [==============================] - 0s 23ms/step - loss: 0.0132 - categorical_accuracy: 0.9924 - val_loss: 0.1034 - val_categorical_accuracy: 0.9878\n"
     ]
    },
    {
     "name": "stdout",
     "output_type": "stream",
     "text": [
      "Epoch 246/250\n",
      "21/21 [==============================] - 0s 22ms/step - loss: 0.0209 - categorical_accuracy: 0.9954 - val_loss: 0.0899 - val_categorical_accuracy: 0.9878\n",
      "Epoch 247/250\n",
      "21/21 [==============================] - 0s 22ms/step - loss: 0.0042 - categorical_accuracy: 0.9985 - val_loss: 0.1323 - val_categorical_accuracy: 0.9878\n",
      "Epoch 248/250\n",
      "21/21 [==============================] - 0s 23ms/step - loss: 0.0030 - categorical_accuracy: 0.9985 - val_loss: 0.1307 - val_categorical_accuracy: 0.9878\n",
      "Epoch 249/250\n",
      "21/21 [==============================] - 0s 23ms/step - loss: 0.0049 - categorical_accuracy: 0.9985 - val_loss: 0.1247 - val_categorical_accuracy: 0.9878\n",
      "Epoch 250/250\n",
      "21/21 [==============================] - 0s 22ms/step - loss: 0.0064 - categorical_accuracy: 0.9969 - val_loss: 0.1210 - val_categorical_accuracy: 0.9878\n"
     ]
    }
   ],
   "source": [
    "history = model.fit(X_train, y_train, validation_split=0.2, epochs=250)"
   ]
  },
  {
   "cell_type": "code",
   "execution_count": 214,
   "id": "880c4b32",
   "metadata": {},
   "outputs": [],
   "source": [
    "from sklearn.metrics import multilabel_confusion_matrix, confusion_matrix, accuracy_score, precision_recall_fscore_support"
   ]
  },
  {
   "cell_type": "code",
   "execution_count": 215,
   "id": "1184301b",
   "metadata": {},
   "outputs": [
    {
     "name": "stdout",
     "output_type": "stream",
     "text": [
      "Accuracy Score: 0.9951219512195122\n"
     ]
    }
   ],
   "source": [
    "yhat = model.predict(X_test)\n",
    "ytrue = np.argmax(y_test, axis=1).tolist()\n",
    "yhat = np.argmax(yhat, axis=1).tolist()\n",
    "\n",
    "print(\"Accuracy Score: {}\".format(accuracy_score(ytrue, yhat)))"
   ]
  },
  {
   "cell_type": "code",
   "execution_count": 216,
   "id": "c600e018",
   "metadata": {},
   "outputs": [
    {
     "name": "stdout",
     "output_type": "stream",
     "text": [
      "dict_keys(['loss', 'categorical_accuracy', 'val_loss', 'val_categorical_accuracy'])\n"
     ]
    }
   ],
   "source": [
    "print(history.history.keys())"
   ]
  },
  {
   "cell_type": "code",
   "execution_count": 217,
   "id": "4730fa35",
   "metadata": {},
   "outputs": [
    {
     "data": {
      "text/plain": [
       "250"
      ]
     },
     "execution_count": 217,
     "metadata": {},
     "output_type": "execute_result"
    }
   ],
   "source": [
    "len(history.history['categorical_accuracy'])"
   ]
  },
  {
   "cell_type": "code",
   "execution_count": 220,
   "id": "3b02b8f5",
   "metadata": {},
   "outputs": [
    {
     "data": {
      "image/png": "[encoded data removed]",
      "text/plain": [
       "<Figure size 1440x720 with 1 Axes>"
      ]
     },
     "metadata": {},
     "output_type": "display_data"
    }
   ],
   "source": [
    "# summarize history for accuracy\n",
    "plt.plot(history.history['categorical_accuracy'])\n",
    "plt.plot(history.history['val_categorical_accuracy'])\n",
    "plt.title('Model accuracy')\n",
    "plt.ylabel('Accuracy')\n",
    "plt.xlabel('Epoch')\n",
    "plt.legend(['Train', 'Test'], loc='lower left')\n",
    "#plt.show()\n",
    "plt.savefig('accuracy_benchmark.pdf', dpi = 700)"
   ]
  },
  {
   "cell_type": "code",
   "execution_count": 221,
   "id": "dd6f4b76",
   "metadata": {},
   "outputs": [
    {
     "data": {
      "image/png": "[encoded data removed]",
      "text/plain": [
       "<Figure size 1440x720 with 1 Axes>"
      ]
     },
     "metadata": {},
     "output_type": "display_data"
    }
   ],
   "source": [
    "# summarize history for loss\n",
    "plt.plot(history.history['loss'])\n",
    "plt.plot(history.history['val_loss'])\n",
    "plt.title('Model loss')\n",
    "plt.ylabel('Loss')\n",
    "plt.xlabel('Epoch')\n",
    "plt.legend(['Train', 'Test'], loc='upper left')\n",
    "#plt.show()\n",
    "plt.savefig('loss_benchmark.pdf', dpi = 700)"
   ]
  },
  {
   "cell_type": "code",
   "execution_count": 118,
   "id": "1beef07f",
   "metadata": {},
   "outputs": [
    {
     "name": "stdout",
     "output_type": "stream",
     "text": [
      "Requirement already satisfied: pydot in c:\\python310\\lib\\site-packages (1.4.2)\n",
      "Requirement already satisfied: pyparsing>=2.1.4 in c:\\python310\\lib\\site-packages (from pydot) (3.0.9)\n"
     ]
    },
    {
     "name": "stderr",
     "output_type": "stream",
     "text": [
      "WARNING: You are using pip version 22.0.4; however, version 22.2.2 is available.\n",
      "You should consider upgrading via the 'C:\\Python310\\python.exe -m pip install --upgrade pip' command.\n"
     ]
    }
   ],
   "source": [
    "! pip install pydot"
   ]
  },
  {
   "cell_type": "code",
   "execution_count": 222,
   "id": "41873402",
   "metadata": {},
   "outputs": [],
   "source": [
    "from tensorflow.keras.utils import plot_model\n",
    "\n",
    "#model = ResNet50(weights='imagenet')\n",
    "plot_model(model, to_file='model_benchmark.pdf', dpi = 700, show_shapes=True)"
   ]
  },
  {
   "cell_type": "code",
   "execution_count": 223,
   "id": "f73c99f3",
   "metadata": {},
   "outputs": [],
   "source": [
    "# Step 8 - Make prediction\n",
    "res = model.predict(X_test)"
   ]
  },
  {
   "cell_type": "code",
   "execution_count": 224,
   "id": "050530cd",
   "metadata": {},
   "outputs": [
    {
     "data": {
      "text/plain": [
       "'D'"
      ]
     },
     "execution_count": 224,
     "metadata": {},
     "output_type": "execute_result"
    }
   ],
   "source": [
    "actions[np.argmax(res[0])]"
   ]
  },
  {
   "cell_type": "code",
   "execution_count": 225,
   "id": "3844a38d",
   "metadata": {},
   "outputs": [
    {
     "data": {
      "text/plain": [
       "'D'"
      ]
     },
     "execution_count": 225,
     "metadata": {},
     "output_type": "execute_result"
    }
   ],
   "source": [
    "actions[np.argmax(y_test[0])]"
   ]
  },
  {
   "cell_type": "code",
   "execution_count": 226,
   "id": "490d85d0",
   "metadata": {},
   "outputs": [
    {
     "data": {
      "image/png": "[encoded data removed]",
      "text/plain": [
       "<Figure size 1440x720 with 2 Axes>"
      ]
     },
     "metadata": {},
     "output_type": "display_data"
    }
   ],
   "source": [
    "import seaborn as sns\n",
    "yhat = model.predict(X_test)\n",
    "ytrue = np.argmax(y_test, axis=1)\n",
    "yhat = np.argmax(yhat, axis=1)\n",
    "\n",
    "cf_matr = confusion_matrix(ytrue, yhat)\n",
    "sns.set(rc = {'figure.figsize':(20, 10)})\n",
    "hmap = sns.heatmap(cf_matr,xticklabels=actions,yticklabels=actions)\n",
    "hmap\n",
    "figure = hmap.get_figure()  \n",
    "#figure\n",
    "#figure.savefig('Confusion_matrix.pdf', dpi=700)"
   ]
  },
  {
   "cell_type": "code",
   "execution_count": 227,
   "id": "3ee1d088",
   "metadata": {},
   "outputs": [
    {
     "name": "stdout",
     "output_type": "stream",
     "text": [
      "Precision Score: 0.9967948717948717\n",
      "Recall Score: 0.9945054945054945\n",
      "F1 Score: 0.9953691793156676\n",
      "F Beta Score for Beta as 0.5 = 0.9961517432813223\n"
     ]
    }
   ],
   "source": [
    "from sklearn.metrics import fbeta_score \n",
    "(precision, recall, f1_score, _) = precision_recall_fscore_support(ytrue, yhat, average='macro')\n",
    "print(\"Precision Score: {}\\nRecall Score: {}\\nF1 Score: {}\".format(precision, recall, f1_score))\n",
    "print(\"F Beta Score for Beta as 0.5 = {}\".format(fbeta_score(ytrue, yhat, average='macro', beta=0.5)))"
   ]
  },
  {
   "cell_type": "code",
   "execution_count": 228,
   "id": "66772715",
   "metadata": {},
   "outputs": [
    {
     "name": "stdout",
     "output_type": "stream",
     "text": [
      "              precision    recall  f1-score   support\n",
      "\n",
      "           A       1.00      1.00      1.00         4\n",
      "           B       1.00      1.00      1.00         8\n",
      "           C       1.00      1.00      1.00         4\n",
      "           D       1.00      1.00      1.00        12\n",
      "           E       1.00      1.00      1.00         5\n",
      "           F       1.00      1.00      1.00        10\n",
      "           G       0.92      1.00      0.96        11\n",
      "           H       1.00      1.00      1.00         8\n",
      "           I       1.00      1.00      1.00        10\n",
      "           J       1.00      1.00      1.00         8\n",
      "           K       1.00      1.00      1.00         9\n",
      "           L       1.00      1.00      1.00         9\n",
      "           M       1.00      1.00      1.00         8\n",
      "           N       1.00      1.00      1.00         7\n",
      "           O       1.00      1.00      1.00         8\n",
      "           P       1.00      1.00      1.00         8\n",
      "           Q       1.00      1.00      1.00         6\n",
      "           R       1.00      1.00      1.00        10\n",
      "           S       1.00      0.86      0.92         7\n",
      "           T       1.00      1.00      1.00         7\n",
      "           U       1.00      1.00      1.00         8\n",
      "           V       1.00      1.00      1.00        11\n",
      "           W       1.00      1.00      1.00         5\n",
      "           X       1.00      1.00      1.00         4\n",
      "           Y       1.00      1.00      1.00         7\n",
      "           Z       1.00      1.00      1.00        11\n",
      "\n",
      "    accuracy                           1.00       205\n",
      "   macro avg       1.00      0.99      1.00       205\n",
      "weighted avg       1.00      1.00      1.00       205\n",
      "\n"
     ]
    }
   ],
   "source": [
    "from sklearn.metrics import classification_report\n",
    "print(classification_report(ytrue, yhat, target_names=actions))"
   ]
  },
  {
   "cell_type": "code",
   "execution_count": 229,
   "id": "44f72c9f",
   "metadata": {},
   "outputs": [
    {
     "name": "stdout",
     "output_type": "stream",
     "text": [
      "Hamming Loss: 0.004878048780487805\n"
     ]
    }
   ],
   "source": [
    "from sklearn.metrics import hamming_loss\n",
    "print(\"Hamming Loss: {}\".format(hamming_loss(ytrue, yhat)))"
   ]
  },
  {
   "cell_type": "code",
   "execution_count": 230,
   "id": "c1b71974",
   "metadata": {},
   "outputs": [
    {
     "name": "stdout",
     "output_type": "stream",
     "text": [
      "Jaccard Score: 0.9913003663003663\n",
      "Matthews correlation coefficient: 0.9949345792170793\n"
     ]
    }
   ],
   "source": [
    "from sklearn.metrics import jaccard_score, matthews_corrcoef\n",
    "print(\"Jaccard Score: {}\".format(jaccard_score(ytrue, yhat, average='macro')))\n",
    "print(\"Matthews correlation coefficient: {}\".format(matthews_corrcoef(ytrue, yhat)))"
   ]
  },
  {
   "cell_type": "code",
   "execution_count": 231,
   "id": "6245c168",
   "metadata": {},
   "outputs": [],
   "source": [
    "import pandas as pd\n",
    "import matplotlib.pyplot as plt\n",
    "\n",
    "\n",
    "def print_confusion_matrix(confusion_matrix, axes, class_label, class_names, fontsize=14):\n",
    "\n",
    "    df_cm = pd.DataFrame(\n",
    "        confusion_matrix, index=class_names, columns=class_names,\n",
    "    )\n",
    "\n",
    "    try:\n",
    "        heatmap = sns.heatmap(df_cm, annot=True, fmt=\"d\", cbar=False, ax=axes)\n",
    "    except ValueError:\n",
    "        raise ValueError(\"Confusion matrix values must be integers.\")\n",
    "    heatmap.yaxis.set_ticklabels(heatmap.yaxis.get_ticklabels(), rotation=0, ha='right', fontsize=fontsize)\n",
    "    heatmap.xaxis.set_ticklabels(heatmap.xaxis.get_ticklabels(), rotation=45, ha='right', fontsize=fontsize)\n",
    "    axes.set_ylabel('True label')\n",
    "    axes.set_xlabel('Predicted label')\n",
    "    axes.set_title(\"Confusion Matrix for the class - \" + class_label)"
   ]
  },
  {
   "cell_type": "code",
   "execution_count": 232,
   "id": "be42467e",
   "metadata": {},
   "outputs": [
    {
     "data": {
      "text/plain": [
       "array(['M', 'N', 'O', 'P', 'Q', 'R', 'S', 'T', 'U', 'V', 'W', 'X', 'Y',\n",
       "       'Z'], dtype='<U1')"
      ]
     },
     "execution_count": 232,
     "metadata": {},
     "output_type": "execute_result"
    }
   ],
   "source": [
    "actions[12:]"
   ]
  },
  {
   "cell_type": "code",
   "execution_count": 233,
   "id": "cc684288",
   "metadata": {},
   "outputs": [
    {
     "data": {
      "image/png": "[encoded data removed]",
      "text/plain": [
       "<Figure size 720x1440 with 12 Axes>"
      ]
     },
     "metadata": {},
     "output_type": "display_data"
    }
   ],
   "source": [
    "fig, ax = plt.subplots(6, 2, figsize=(10, 20))\n",
    "conf_matrix = multilabel_confusion_matrix(ytrue, yhat)\n",
    "    \n",
    "for axes, cfs_matrix, label in zip(ax.flatten(), conf_matrix[0:12], actions[0:12]):\n",
    "    print_confusion_matrix(cfs_matrix, axes, label, [\"F\", \"T\"])\n",
    "\n",
    "fig.tight_layout()\n",
    "plt.show()\n",
    "#plt.savefig('conf_mat.pdf', dpi = 700)"
   ]
  },
  {
   "cell_type": "code",
   "execution_count": 234,
   "id": "7bdbc5a8",
   "metadata": {},
   "outputs": [
    {
     "data": {
      "image/png": "[encoded data removed]",
      "text/plain": [
       "<Figure size 720x1728 with 14 Axes>"
      ]
     },
     "metadata": {},
     "output_type": "display_data"
    }
   ],
   "source": [
    "fig, ax = plt.subplots(7, 2, figsize=(10, 24))\n",
    "    \n",
    "for axes, cfs_matrix, label in zip(ax.flatten(), conf_matrix[12:], actions[12:]):\n",
    "    print_confusion_matrix(cfs_matrix, axes, label, [\"F\", \"T\"])\n",
    "\n",
    "fig.tight_layout()\n",
    "plt.show()\n",
    "#plt.savefig('conf_mat2.pdf', dpi = 700)"
   ]
  },
  {
   "cell_type": "code",
   "execution_count": 235,
   "id": "fa10e646",
   "metadata": {},
   "outputs": [],
   "source": [
    "# Uncomment to save your model\n",
    "model.save('weights_benchmark.h5')"
   ]
  },
  {
   "cell_type": "code",
   "execution_count": 236,
   "id": "f8250c41",
   "metadata": {},
   "outputs": [
    {
     "name": "stdout",
     "output_type": "stream",
     "text": [
      "INFO:tensorflow:Assets written to: saved_models_benchmark\\assets\n"
     ]
    }
   ],
   "source": [
    "import tensorflow as tf\n",
    "import tensorflow_hub as hub\n",
    "from tensorflow import lite\n",
    "\n",
    "SAVED_MODEL = \"saved_models_benchmark\"\n",
    "tf.saved_model.save(model, SAVED_MODEL)"
   ]
  },
  {
   "cell_type": "code",
   "execution_count": 237,
   "id": "47dd0e88",
   "metadata": {},
   "outputs": [],
   "source": [
    "#sigmodel = hub.load(SAVED_MODEL)\n",
    "TFLITE_MODEL = \"tflite_models/sign.tflite\"\n",
    "TFLITE_QUANT_MODEL = \"tflite_models/sign_quant.tflite\""
   ]
  },
  {
   "cell_type": "code",
   "execution_count": 238,
   "id": "c3c36a2d",
   "metadata": {},
   "outputs": [],
   "source": [
    "def convert_to_tflite():\n",
    "    converter = lite.TFLiteConverter.from_keras_model(model)\n",
    "\n",
    "    converter.optimizations = [tf.lite.Optimize.DEFAULT]\n",
    "    converter.experimental_new_converter = True\n",
    "    converter.target_spec.supported_ops = [tf.lite.OpsSet.TFLITE_BUILTINS,\n",
    "                                           tf.lite.OpsSet.SELECT_TF_OPS]\n",
    "\n",
    "    converted_tflite_model = converter.convert()\n",
    "    open(TFLITE_MODEL, \"wb\").write(converted_tflite_model)\n",
    "\n",
    "    converter = lite.TFLiteConverter.from_keras_model(model)\n",
    "    converter.optimizations = [tf.lite.Optimize.OPTIMIZE_FOR_SIZE]\n",
    "    converter.experimental_new_converter = True\n",
    "    converter.target_spec.supported_ops = [tf.lite.OpsSet.TFLITE_BUILTINS,\n",
    "                                           tf.lite.OpsSet.SELECT_TF_OPS]\n",
    "\n",
    "    tflite_quant_model = converter.convert()\n",
    "    open(TFLITE_QUANT_MODEL, \"wb\").write(tflite_quant_model)"
   ]
  },
  {
   "cell_type": "code",
   "execution_count": 239,
   "id": "42a64831",
   "metadata": {},
   "outputs": [
    {
     "name": "stdout",
     "output_type": "stream",
     "text": [
      "INFO:tensorflow:Assets written to: C:\\Users\\SHUBHAM\\AppData\\Local\\Temp\\tmpl7nu4ca2\\assets\n"
     ]
    },
    {
     "name": "stderr",
     "output_type": "stream",
     "text": [
      "WARNING:absl:Buffer deduplication procedure will be skipped when flatbuffer library is not properly loaded\n",
      "WARNING:absl:Optimization option OPTIMIZE_FOR_SIZE is deprecated, please use optimizations=[Optimize.DEFAULT] instead.\n"
     ]
    },
    {
     "name": "stdout",
     "output_type": "stream",
     "text": [
      "INFO:tensorflow:Assets written to: C:\\Users\\SHUBHAM\\AppData\\Local\\Temp\\tmp6jt9dkh4\\assets\n"
     ]
    },
    {
     "name": "stderr",
     "output_type": "stream",
     "text": [
      "INFO:tensorflow:Assets written to: C:\\Users\\SHUBHAM\\AppData\\Local\\Temp\\tmp6jt9dkh4\\assets\n",
      "WARNING:absl:Optimization option OPTIMIZE_FOR_SIZE is deprecated, please use optimizations=[Optimize.DEFAULT] instead.\n",
      "WARNING:absl:Optimization option OPTIMIZE_FOR_SIZE is deprecated, please use optimizations=[Optimize.DEFAULT] instead.\n",
      "WARNING:absl:Buffer deduplication procedure will be skipped when flatbuffer library is not properly loaded\n"
     ]
    }
   ],
   "source": [
    "convert_to_tflite()"
   ]
  },
  {
   "cell_type": "code",
   "execution_count": 240,
   "id": "a440220b",
   "metadata": {},
   "outputs": [],
   "source": [
    "def use_tflite(X_test, y_test):\n",
    "    X_test = np.float32(X_test)\n",
    "    y_test = np.float32(y_test)\n",
    "    \n",
    "    tflite_interpreter = tf.lite.Interpreter(model_path=TFLITE_MODEL)\n",
    "\n",
    "    input_details = tflite_interpreter.get_input_details()\n",
    "    output_details = tflite_interpreter.get_output_details()\n",
    "\n",
    "    tflite_interpreter.resize_tensor_input(\n",
    "        input_details[0]['index'], X_test.shape)\n",
    "    tflite_interpreter.resize_tensor_input(\n",
    "        output_details[0]['index'], y_test.shape)\n",
    "    tflite_interpreter.allocate_tensors()\n",
    "\n",
    "    input_details = tflite_interpreter.get_input_details()\n",
    "    output_details = tflite_interpreter.get_output_details()\n",
    "\n",
    "    # Load quantized TFLite model\n",
    "    tflite_interpreter_quant = tf.lite.Interpreter(\n",
    "        model_path=TFLITE_QUANT_MODEL)\n",
    "\n",
    "    # Learn about its input and output details\n",
    "    input_details = tflite_interpreter_quant.get_input_details()\n",
    "    output_details = tflite_interpreter_quant.get_output_details()\n",
    "\n",
    "    # Resize input and output tensors\n",
    "    tflite_interpreter_quant.resize_tensor_input(\n",
    "        input_details[0]['index'], X_test.shape)\n",
    "    tflite_interpreter_quant.resize_tensor_input(\n",
    "        output_details[0]['index'], y_test.shape)\n",
    "    tflite_interpreter_quant.allocate_tensors()\n",
    "\n",
    "    input_details = tflite_interpreter_quant.get_input_details()\n",
    "    output_details = tflite_interpreter_quant.get_output_details()\n",
    "\n",
    "    # Run inference\n",
    "    tflite_interpreter_quant.set_tensor(input_details[0]['index'], X_test)\n",
    "\n",
    "    tflite_interpreter_quant.invoke()\n",
    "\n",
    "    tflite_q_model_predictions = tflite_interpreter_quant.get_tensor(\n",
    "        output_details[0]['index'])\n",
    "#print(\"\\nPrediction results shape:\", tflite_q_model_predictions.shape)"
   ]
  },
  {
   "cell_type": "code",
   "execution_count": null,
   "id": "9f3171c2",
   "metadata": {},
   "outputs": [],
   "source": [
    "#use_tflite(X_test, y_test)"
   ]
  }
 ],
 "metadata": {
  "kernelspec": {
   "display_name": "Python 3 (ipykernel)",
   "language": "python",
   "name": "python3"
  },
  "language_info": {
   "codemirror_mode": {
    "name": "ipython",
    "version": 3
   },
   "file_extension": ".py",
   "mimetype": "text/x-python",
   "name": "python",
   "nbconvert_exporter": "python",
   "pygments_lexer": "ipython3",
   "version": "3.9.7"
  }
 },
 "nbformat": 4,
 "nbformat_minor": 5
}
