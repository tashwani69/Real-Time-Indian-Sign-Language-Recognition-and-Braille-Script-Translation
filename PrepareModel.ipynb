{
 "cells": [
  {
   "cell_type": "code",
   "execution_count": 1,
   "id": "9e1a73cf",
   "metadata": {},
   "outputs": [],
   "source": [
    "import cv2\n",
    "import numpy as np\n",
    "import os\n",
    "from matplotlib import pyplot as plt\n",
    "import time\n",
    "import mediapipe as mp"
   ]
  },
  {
   "cell_type": "code",
   "execution_count": 2,
   "id": "a6acf65e",
   "metadata": {},
   "outputs": [],
   "source": [
    "mp_holistic = mp.solutions.holistic # Holistic model\n",
    "mp_drawing = mp.solutions.drawing_utils\n",
    "mp_drawing_styles = mp.solutions.drawing_styles\n",
    "mp_hands = mp.solutions.hands"
   ]
  },
  {
   "cell_type": "code",
   "execution_count": 3,
   "id": "5eca98ad",
   "metadata": {},
   "outputs": [],
   "source": [
    "def mediapipe_detection(image, model):\n",
    "    image = cv2.cvtColor(image, cv2.COLOR_BGR2RGB) # COLOR CONVERSION BGR 2 RGB\n",
    "    image.flags.writeable = False                  # Image is no longer writeable\n",
    "    results = model.process(image)                 # Make prediction\n",
    "    image.flags.writeable = True                   # Image is now writeable \n",
    "    image = cv2.cvtColor(image, cv2.COLOR_RGB2BGR) # COLOR COVERSION RGB 2 BGR\n",
    "    return image, results"
   ]
  },
  {
   "cell_type": "code",
   "execution_count": 4,
   "id": "33ddfb44",
   "metadata": {},
   "outputs": [],
   "source": [
    "def draw_landmarks(image, results):\n",
    "    mp_drawing.draw_landmarks(image, results.face_landmarks, mp_holistic.FACEMESH_TESSELATION) # Draw face connections\n",
    "    mp_drawing.draw_landmarks(image, results.pose_landmarks, mp_holistic.POSE_CONNECTIONS) # Draw pose connections\n",
    "    mp_drawing.draw_landmarks(image, results.left_hand_landmarks, mp_holistic.HAND_CONNECTIONS) # Draw left hand connections\n",
    "    mp_drawing.draw_landmarks(image, results.right_hand_landmarks, mp_holistic.HAND_CONNECTIONS) # Draw right hand connections"
   ]
  },
  {
   "cell_type": "code",
   "execution_count": 5,
   "id": "2616cbe9",
   "metadata": {},
   "outputs": [],
   "source": [
    "def draw_styled_landmarks(image, results):\n",
    "    # Draw face connections\n",
    "    #mp_drawing.draw_landmarks(image, results.face_landmarks, mp_holistic.FACEMESH_TESSELATION, \n",
    "    #                         mp_drawing.DrawingSpec(color=(80,110,10), thickness=1, circle_radius=1), \n",
    "    #                         mp_drawing.DrawingSpec(color=(80,256,121), thickness=1, circle_radius=1)\n",
    "    #                         ) \n",
    "    # Draw pose connections\n",
    "    #mp_drawing.draw_landmarks(image, results.pose_landmarks, mp_holistic.POSE_CONNECTIONS,\n",
    "    #                         mp_drawing.DrawingSpec(color=(80,22,10), thickness=2, circle_radius=4), \n",
    "    #                         mp_drawing.DrawingSpec(color=(80,44,121), thickness=2, circle_radius=2)\n",
    "    #                         ) \n",
    "    # Draw left hand connections\n",
    "    mp_drawing.draw_landmarks(image, results.left_hand_landmarks, mp_holistic.HAND_CONNECTIONS, \n",
    "                             mp_drawing.DrawingSpec(color=(121,22,76), thickness=2, circle_radius=4), \n",
    "                             mp_drawing.DrawingSpec(color=(121,44,250), thickness=2, circle_radius=2)\n",
    "                             ) \n",
    "    # Draw right hand connections  \n",
    "    mp_drawing.draw_landmarks(image, results.right_hand_landmarks, mp_holistic.HAND_CONNECTIONS, \n",
    "                             mp_drawing.DrawingSpec(color=(245,117,66), thickness=2, circle_radius=4), \n",
    "                             mp_drawing.DrawingSpec(color=(245,66,230), thickness=2, circle_radius=2)\n",
    "                             )"
   ]
  },
  {
   "cell_type": "code",
   "execution_count": 6,
   "id": "627a63b9",
   "metadata": {},
   "outputs": [],
   "source": [
    "def draw_styled_hand_landmarks(image, results):\n",
    "    for hand_landmarks in results.multi_hand_landmarks:\n",
    "                  mp_drawing.draw_landmarks(\n",
    "                      image,\n",
    "                      hand_landmarks,\n",
    "                      mp_hands.HAND_CONNECTIONS,\n",
    "                      mp_drawing.DrawingSpec(color=(121,22,76), thickness=2, circle_radius=4), \n",
    "                      mp_drawing.DrawingSpec(color=(121,44,250), thickness=2, circle_radius=2))"
   ]
  },
  {
   "cell_type": "code",
   "execution_count": 7,
   "id": "321f5164",
   "metadata": {},
   "outputs": [],
   "source": [
    "def extract_keypoints(results):\n",
    "    pose = np.array([[res.x, res.y, res.z, res.visibility] for res in results.pose_landmarks.landmark]).flatten() if results.pose_landmarks else np.zeros(33*4)\n",
    "    face = np.array([[res.x, res.y, res.z] for res in results.face_landmarks.landmark]).flatten() if results.face_landmarks else np.zeros(468*3)\n",
    "    lh = np.array([[res.x, res.y, res.z] for res in results.left_hand_landmarks.landmark]).flatten() if results.left_hand_landmarks else np.zeros(21*3)\n",
    "    rh = np.array([[res.x, res.y, res.z] for res in results.right_hand_landmarks.landmark]).flatten() if results.right_hand_landmarks else np.zeros(21*3)\n",
    "    return np.concatenate([lh, rh])"
   ]
  },
  {
   "cell_type": "code",
   "execution_count": 8,
   "id": "39210a15",
   "metadata": {},
   "outputs": [],
   "source": [
    "def extract_hand_keypoints(results):\n",
    "    #lh = np.array([[res.x, res.y, res.z] for res in results.multi_hand_landmarks[0].landmark]).flatten() if len(results.multi_hand_landmarks) > 0 else np.zeros(21*3)\n",
    "    #rh = np.array([[res.x, res.y, res.z] for res in results.multi_hand_landmarks[1].landmark]).flatten() if len(results.multi_hand_landmarks) > 1 else np.zeros(21*3)\n",
    "    \n",
    "    #return np.concatenate([lh, rh])\n",
    "    lh = [[res.x, res.y, res.z] for res in results.multi_hand_landmarks[0].landmark] if len(results.multi_hand_landmarks) > 0 else [[0]*3]*21\n",
    "    rh = [[res.x, res.y, res.z] for res in results.multi_hand_landmarks[1].landmark] if len(results.multi_hand_landmarks) > 1 else [[0]*3]*21\n",
    "    ans = []\n",
    "    ans.append(lh)\n",
    "    ans.append(rh)\n",
    "    return np.array(ans)"
   ]
  },
  {
   "cell_type": "code",
   "execution_count": 9,
   "id": "9ff96be5",
   "metadata": {},
   "outputs": [],
   "source": [
    "import tensorflow as tf\n",
    "gpus = tf.config.experimental.list_physical_devices('GPU')\n",
    "if gpus:\n",
    "  try:\n",
    "    tf.config.experimental.set_virtual_device_configuration(\n",
    "        gpus[0],[tf.config.experimental.VirtualDeviceConfiguration(memory_limit=512)])\n",
    "  except RuntimeError as e:\n",
    "    print(e)"
   ]
  },
  {
   "cell_type": "code",
   "execution_count": 10,
   "id": "f12f0d05",
   "metadata": {},
   "outputs": [],
   "source": [
    "# Path for exported data, numpy arrays\n",
    "# Step 4\n",
    "DATA_PATH = os.path.join('dataset','letters_data')\n",
    "actions = np.array(['A','B','C','D','E','F','G','H','I','J','K','L','M','N','O','P','Q','R','S','T','U','V','W','X','Y','Z'])\n",
    "#actions = np.array(['A','B'])\n",
    "\n",
    "# no of images\n",
    "no_sequences = 1200#00\n",
    "\n",
    "# no of frames in each video\n",
    "#sequence_length = 30"
   ]
  },
  {
   "cell_type": "code",
   "execution_count": 11,
   "id": "cc9db9ac",
   "metadata": {},
   "outputs": [],
   "source": [
    "# Step 6 - preprocess data create labels and features\n",
    "from sklearn.model_selection import train_test_split\n",
    "from tensorflow.keras.utils import to_categorical"
   ]
  },
  {
   "cell_type": "code",
   "execution_count": 12,
   "id": "860d920d",
   "metadata": {},
   "outputs": [
    {
     "data": {
      "text/plain": [
       "{'A': 0,\n",
       " 'B': 1,\n",
       " 'C': 2,\n",
       " 'D': 3,\n",
       " 'E': 4,\n",
       " 'F': 5,\n",
       " 'G': 6,\n",
       " 'H': 7,\n",
       " 'I': 8,\n",
       " 'J': 9,\n",
       " 'K': 10,\n",
       " 'L': 11,\n",
       " 'M': 12,\n",
       " 'N': 13,\n",
       " 'O': 14,\n",
       " 'P': 15,\n",
       " 'Q': 16,\n",
       " 'R': 17,\n",
       " 'S': 18,\n",
       " 'T': 19,\n",
       " 'U': 20,\n",
       " 'V': 21,\n",
       " 'W': 22,\n",
       " 'X': 23,\n",
       " 'Y': 24,\n",
       " 'Z': 25}"
      ]
     },
     "execution_count": 12,
     "metadata": {},
     "output_type": "execute_result"
    }
   ],
   "source": [
    "label_map = {label:num for num, label in enumerate(actions)}\n",
    "label_map"
   ]
  },
  {
   "cell_type": "code",
   "execution_count": 13,
   "id": "d1910039",
   "metadata": {},
   "outputs": [],
   "source": [
    "input_images, image_labels = [], []\n",
    "for action in actions:\n",
    "    for sequence in range(no_sequences):\n",
    "        path = os.path.join(DATA_PATH, action, \"{}.jpg\".format(sequence))\n",
    "        image = cv2.imread(path)\n",
    "        input_images.append(image)\n",
    "        image_labels.append(label_map[action])        "
   ]
  },
  {
   "cell_type": "code",
   "execution_count": 14,
   "id": "ba3d375e",
   "metadata": {},
   "outputs": [
    {
     "data": {
      "text/plain": [
       "31200"
      ]
     },
     "execution_count": 14,
     "metadata": {},
     "output_type": "execute_result"
    }
   ],
   "source": [
    "len(input_images)"
   ]
  },
  {
   "cell_type": "code",
   "execution_count": 15,
   "id": "7b4d65e2",
   "metadata": {
    "scrolled": false
   },
   "outputs": [],
   "source": [
    "X, y = [], []\n",
    "mapping = {}\n",
    "with mp_hands.Hands(\n",
    "    static_image_mode=True,\n",
    "    max_num_hands=2,\n",
    "    min_detection_confidence=0.5) as hands:\n",
    "    for index in range(len(input_images)):\n",
    "        img = input_images[index]\n",
    "        image = cv2.flip(img, 1)\n",
    "        results = hands.process(cv2.cvtColor(image, cv2.COLOR_BGR2RGB))\n",
    "        if results.multi_hand_landmarks:\n",
    "            draw_styled_hand_landmarks(image, results)\n",
    "            keypoints = extract_hand_keypoints(results)\n",
    "            X.append(keypoints)\n",
    "            y.append(image_labels[index])\n",
    "        else:\n",
    "            if image_labels[index] not in mapping:\n",
    "                mapping[image_labels[index]] = 0\n",
    "            else:\n",
    "                mapping[image_labels[index]] = mapping[image_labels[index]]+1"
   ]
  },
  {
   "cell_type": "code",
   "execution_count": 16,
   "id": "d2189301",
   "metadata": {},
   "outputs": [
    {
     "name": "stdout",
     "output_type": "stream",
     "text": [
      "{1: 20, 6: 0, 14: 35, 15: 68, 16: 357, 18: 10}\n"
     ]
    }
   ],
   "source": [
    "print(mapping)"
   ]
  },
  {
   "cell_type": "code",
   "execution_count": 17,
   "id": "712eda4c",
   "metadata": {},
   "outputs": [],
   "source": [
    "#results.multi_hand_landmarks[0].landmark"
   ]
  },
  {
   "cell_type": "code",
   "execution_count": 18,
   "id": "19fcd4ea",
   "metadata": {},
   "outputs": [
    {
     "data": {
      "text/plain": [
       "30704"
      ]
     },
     "execution_count": 18,
     "metadata": {},
     "output_type": "execute_result"
    }
   ],
   "source": [
    "len(X)"
   ]
  },
  {
   "cell_type": "code",
   "execution_count": 19,
   "id": "f5774456",
   "metadata": {
    "scrolled": false
   },
   "outputs": [
    {
     "data": {
      "text/plain": [
       "30704"
      ]
     },
     "execution_count": 19,
     "metadata": {},
     "output_type": "execute_result"
    }
   ],
   "source": [
    "len(y)"
   ]
  },
  {
   "cell_type": "code",
   "execution_count": 20,
   "id": "4098afde",
   "metadata": {},
   "outputs": [],
   "source": [
    "X_total = np.array(X)"
   ]
  },
  {
   "cell_type": "code",
   "execution_count": 21,
   "id": "799eec56",
   "metadata": {},
   "outputs": [],
   "source": [
    "y_total = to_categorical(y).astype(int) # y is a 1-hot representation of output label"
   ]
  },
  {
   "cell_type": "code",
   "execution_count": 22,
   "id": "8bf41012",
   "metadata": {},
   "outputs": [
    {
     "data": {
      "text/plain": [
       "(30704, 2, 21, 3)"
      ]
     },
     "execution_count": 22,
     "metadata": {},
     "output_type": "execute_result"
    }
   ],
   "source": [
    "X_total.shape"
   ]
  },
  {
   "cell_type": "code",
   "execution_count": 23,
   "id": "07af109c",
   "metadata": {},
   "outputs": [
    {
     "data": {
      "text/plain": [
       "(30704, 26)"
      ]
     },
     "execution_count": 23,
     "metadata": {},
     "output_type": "execute_result"
    }
   ],
   "source": [
    "y_total.shape"
   ]
  },
  {
   "cell_type": "code",
   "execution_count": 24,
   "id": "a524cb3f",
   "metadata": {},
   "outputs": [],
   "source": [
    "def batch_generate(X, Y, batch_size):\n",
    "    x = []\n",
    "    y = []\n",
    "    for i in range(0, X.shape[0], batch_size):\n",
    "        x.append(X[i:i+batch_size])\n",
    "        y.append(Y[i])\n",
    "    x = np.array(x)\n",
    "    y = np.array(y)\n",
    "    return x,y"
   ]
  },
  {
   "cell_type": "code",
   "execution_count": 25,
   "id": "b991ee9a",
   "metadata": {},
   "outputs": [],
   "source": [
    "#batch_size = 16\n",
    "#X_total_batch, y_total_batch = batch_generate(X_total, y_total, batch_size)"
   ]
  },
  {
   "cell_type": "code",
   "execution_count": 26,
   "id": "f59d541f",
   "metadata": {},
   "outputs": [],
   "source": [
    "#X_total_batch.shape"
   ]
  },
  {
   "cell_type": "code",
   "execution_count": 27,
   "id": "1f845381",
   "metadata": {},
   "outputs": [],
   "source": [
    "#new_X_total_batch = X_total_batch.reshape((X_total_batch.shape[0], 1, X_total_batch.shape[2], X_total_batch.shape[1]))"
   ]
  },
  {
   "cell_type": "code",
   "execution_count": 28,
   "id": "00612e36",
   "metadata": {},
   "outputs": [],
   "source": [
    "#new_X_total_batch.shape"
   ]
  },
  {
   "cell_type": "code",
   "execution_count": 29,
   "id": "118e86a9",
   "metadata": {},
   "outputs": [],
   "source": [
    "#y_total_batch.shape"
   ]
  },
  {
   "cell_type": "code",
   "execution_count": 30,
   "id": "f8620c6b",
   "metadata": {},
   "outputs": [],
   "source": [
    "X_train, X_test, y_train, y_test = train_test_split(X_total, y_total, test_size=0.2)"
   ]
  },
  {
   "cell_type": "code",
   "execution_count": 31,
   "id": "a86cfe2b",
   "metadata": {},
   "outputs": [
    {
     "data": {
      "text/plain": [
       "(24563, 2, 21, 3)"
      ]
     },
     "execution_count": 31,
     "metadata": {},
     "output_type": "execute_result"
    }
   ],
   "source": [
    "X_train.shape"
   ]
  },
  {
   "cell_type": "code",
   "execution_count": 32,
   "id": "19d57590",
   "metadata": {},
   "outputs": [
    {
     "data": {
      "text/plain": [
       "(6141, 2, 21, 3)"
      ]
     },
     "execution_count": 32,
     "metadata": {},
     "output_type": "execute_result"
    }
   ],
   "source": [
    "X_test.shape"
   ]
  },
  {
   "cell_type": "code",
   "execution_count": 33,
   "id": "672571a1",
   "metadata": {},
   "outputs": [
    {
     "data": {
      "text/plain": [
       "(24563, 26)"
      ]
     },
     "execution_count": 33,
     "metadata": {},
     "output_type": "execute_result"
    }
   ],
   "source": [
    "y_train.shape"
   ]
  },
  {
   "cell_type": "code",
   "execution_count": 34,
   "id": "cc3d2b9e",
   "metadata": {},
   "outputs": [
    {
     "data": {
      "text/plain": [
       "(6141, 26)"
      ]
     },
     "execution_count": 34,
     "metadata": {},
     "output_type": "execute_result"
    }
   ],
   "source": [
    "y_test.shape"
   ]
  },
  {
   "cell_type": "code",
   "execution_count": 44,
   "id": "6c5b0479",
   "metadata": {},
   "outputs": [],
   "source": [
    "# Step 7 - build and train lSTM NN\n",
    "from tensorflow.keras.models import Sequential\n",
    "from tensorflow.keras.layers import LSTM, Dense, Conv2D, MaxPool2D, Flatten, Dropout\n",
    "from tensorflow.keras.callbacks import TensorBoard, EarlyStopping"
   ]
  },
  {
   "cell_type": "code",
   "execution_count": 45,
   "id": "a3dba74d",
   "metadata": {},
   "outputs": [],
   "source": [
    "# Before running this, delete the Logs folder\n",
    "log_dir = os.path.join('Logs')\n",
    "tb_callback = TensorBoard(log_dir=log_dir)"
   ]
  },
  {
   "cell_type": "code",
   "execution_count": 46,
   "id": "9533039b",
   "metadata": {},
   "outputs": [],
   "source": [
    "#from keras.layers import Activation, Dense, Flatten, BatchNormalization, Conv1D, MaxPool1D, Dropout, TimeDistributed, RepeatVector"
   ]
  },
  {
   "cell_type": "code",
   "execution_count": 47,
   "id": "493e3f91",
   "metadata": {},
   "outputs": [],
   "source": [
    "model = Sequential()\n",
    "\n",
    "model.add(Conv2D(filters=32, kernel_size=(1,2), activation='relu', padding = 'same', input_shape=X_train.shape[1:]))\n",
    "\n",
    "model.add(Conv2D(filters=64, kernel_size=(1,2), activation='relu'))\n",
    "model.add(MaxPool2D(pool_size=(1,2), strides=None))\n",
    "\n",
    "model.add(Conv2D(filters=128, kernel_size=(1,2), activation='relu', padding = 'valid'))\n",
    "model.add(MaxPool2D(pool_size=(1,2), strides=None))\n",
    "\n",
    "model.add(Conv2D(filters=256, kernel_size=(1,2), activation='relu', padding = 'valid'))\n",
    "model.add(MaxPool2D(pool_size=(2,2), strides=None))\n",
    "#model.add(MaxPool1D(pool_size=3, strides=None))\n",
    "\n",
    "\n",
    "\n",
    "\n",
    "model.add(Flatten())\n",
    "\n",
    "model.add(Dense(64,activation =\"relu\"))\n",
    "model.add(Dropout(0.2))\n",
    "model.add(Dense(128,activation =\"relu\"))\n",
    "model.add(Dropout(0.2))\n",
    "#model.add(Dense(128,activation =\"relu\"))\n",
    "#model.add(Dropout(0.2))\n",
    "#model.add(Dense(128,activation =\"relu\"))\n",
    "#model.add(Dropout(0.3))\n",
    "model.add(Dense(actions.shape[0],activation =\"softmax\"))"
   ]
  },
  {
   "cell_type": "code",
   "execution_count": 48,
   "id": "0e85302e",
   "metadata": {},
   "outputs": [
    {
     "name": "stdout",
     "output_type": "stream",
     "text": [
      "Model: \"sequential_2\"\n",
      "_________________________________________________________________\n",
      " Layer (type)                Output Shape              Param #   \n",
      "=================================================================\n",
      " conv2d_8 (Conv2D)           (None, 2, 21, 32)         224       \n",
      "                                                                 \n",
      " conv2d_9 (Conv2D)           (None, 2, 20, 64)         4160      \n",
      "                                                                 \n",
      " max_pooling2d_6 (MaxPooling  (None, 2, 10, 64)        0         \n",
      " 2D)                                                             \n",
      "                                                                 \n",
      " conv2d_10 (Conv2D)          (None, 2, 9, 128)         16512     \n",
      "                                                                 \n",
      " max_pooling2d_7 (MaxPooling  (None, 2, 4, 128)        0         \n",
      " 2D)                                                             \n",
      "                                                                 \n",
      " conv2d_11 (Conv2D)          (None, 2, 3, 256)         65792     \n",
      "                                                                 \n",
      " max_pooling2d_8 (MaxPooling  (None, 1, 1, 256)        0         \n",
      " 2D)                                                             \n",
      "                                                                 \n",
      " flatten_2 (Flatten)         (None, 256)               0         \n",
      "                                                                 \n",
      " dense_6 (Dense)             (None, 64)                16448     \n",
      "                                                                 \n",
      " dropout_4 (Dropout)         (None, 64)                0         \n",
      "                                                                 \n",
      " dense_7 (Dense)             (None, 128)               8320      \n",
      "                                                                 \n",
      " dropout_5 (Dropout)         (None, 128)               0         \n",
      "                                                                 \n",
      " dense_8 (Dense)             (None, 26)                3354      \n",
      "                                                                 \n",
      "=================================================================\n",
      "Total params: 114,810\n",
      "Trainable params: 114,810\n",
      "Non-trainable params: 0\n",
      "_________________________________________________________________\n"
     ]
    }
   ],
   "source": [
    "model.summary()"
   ]
  },
  {
   "cell_type": "code",
   "execution_count": 49,
   "id": "a5bbb03d",
   "metadata": {},
   "outputs": [],
   "source": [
    "model.compile(optimizer='Adam', loss='categorical_crossentropy', metrics=['categorical_accuracy'])"
   ]
  },
  {
   "cell_type": "code",
   "execution_count": 50,
   "id": "912211ea",
   "metadata": {},
   "outputs": [
    {
     "name": "stdout",
     "output_type": "stream",
     "text": [
      "Epoch 1/5\n",
      "615/615 [==============================] - 16s 19ms/step - loss: 0.7937 - categorical_accuracy: 0.7590 - val_loss: 0.0452 - val_categorical_accuracy: 0.9876\n",
      "Epoch 2/5\n",
      "615/615 [==============================] - 12s 20ms/step - loss: 0.0800 - categorical_accuracy: 0.9765 - val_loss: 0.0093 - val_categorical_accuracy: 0.9980\n",
      "Epoch 3/5\n",
      "615/615 [==============================] - 12s 20ms/step - loss: 0.0423 - categorical_accuracy: 0.9871 - val_loss: 0.0084 - val_categorical_accuracy: 0.9990\n",
      "Epoch 4/5\n",
      "615/615 [==============================] - 12s 19ms/step - loss: 0.0286 - categorical_accuracy: 0.9918 - val_loss: 0.0047 - val_categorical_accuracy: 0.9988\n",
      "Epoch 5/5\n",
      "615/615 [==============================] - 12s 19ms/step - loss: 0.0264 - categorical_accuracy: 0.9923 - val_loss: 0.0067 - val_categorical_accuracy: 0.9990\n"
     ]
    }
   ],
   "source": [
    "history = model.fit(X_train, y_train, validation_split=0.2, epochs=5)"
   ]
  },
  {
   "cell_type": "code",
   "execution_count": 51,
   "id": "c600e018",
   "metadata": {},
   "outputs": [
    {
     "name": "stdout",
     "output_type": "stream",
     "text": [
      "dict_keys(['loss', 'categorical_accuracy', 'val_loss', 'val_categorical_accuracy'])\n"
     ]
    }
   ],
   "source": [
    "print(history.history.keys())"
   ]
  },
  {
   "cell_type": "code",
   "execution_count": 52,
   "id": "1184301b",
   "metadata": {},
   "outputs": [
    {
     "name": "stdout",
     "output_type": "stream",
     "text": [
      "Model: \"sequential_2\"\n",
      "_________________________________________________________________\n",
      " Layer (type)                Output Shape              Param #   \n",
      "=================================================================\n",
      " conv2d_8 (Conv2D)           (None, 2, 21, 32)         224       \n",
      "                                                                 \n",
      " conv2d_9 (Conv2D)           (None, 2, 20, 64)         4160      \n",
      "                                                                 \n",
      " max_pooling2d_6 (MaxPooling  (None, 2, 10, 64)        0         \n",
      " 2D)                                                             \n",
      "                                                                 \n",
      " conv2d_10 (Conv2D)          (None, 2, 9, 128)         16512     \n",
      "                                                                 \n",
      " max_pooling2d_7 (MaxPooling  (None, 2, 4, 128)        0         \n",
      " 2D)                                                             \n",
      "                                                                 \n",
      " conv2d_11 (Conv2D)          (None, 2, 3, 256)         65792     \n",
      "                                                                 \n",
      " max_pooling2d_8 (MaxPooling  (None, 1, 1, 256)        0         \n",
      " 2D)                                                             \n",
      "                                                                 \n",
      " flatten_2 (Flatten)         (None, 256)               0         \n",
      "                                                                 \n",
      " dense_6 (Dense)             (None, 64)                16448     \n",
      "                                                                 \n",
      " dropout_4 (Dropout)         (None, 64)                0         \n",
      "                                                                 \n",
      " dense_7 (Dense)             (None, 128)               8320      \n",
      "                                                                 \n",
      " dropout_5 (Dropout)         (None, 128)               0         \n",
      "                                                                 \n",
      " dense_8 (Dense)             (None, 26)                3354      \n",
      "                                                                 \n",
      "=================================================================\n",
      "Total params: 114,810\n",
      "Trainable params: 114,810\n",
      "Non-trainable params: 0\n",
      "_________________________________________________________________\n"
     ]
    }
   ],
   "source": [
    "model.summary()"
   ]
  },
  {
   "cell_type": "code",
   "execution_count": 53,
   "id": "4730fa35",
   "metadata": {},
   "outputs": [
    {
     "data": {
      "text/plain": [
       "5"
      ]
     },
     "execution_count": 53,
     "metadata": {},
     "output_type": "execute_result"
    }
   ],
   "source": [
    "len(history.history['categorical_accuracy'])"
   ]
  },
  {
   "cell_type": "code",
   "execution_count": 56,
   "id": "3b02b8f5",
   "metadata": {},
   "outputs": [
    {
     "data": {
      "image/png": "[encoded data removed]",
      "text/plain": [
       "<Figure size 432x288 with 1 Axes>"
      ]
     },
     "metadata": {
      "needs_background": "light"
     },
     "output_type": "display_data"
    }
   ],
   "source": [
    "# summarize history for accuracy\n",
    "plt.plot(history.history['categorical_accuracy'])\n",
    "plt.plot(history.history['val_categorical_accuracy'])\n",
    "plt.title('Model accuracy')\n",
    "plt.ylabel('Accuracy')\n",
    "plt.xlabel('Epoch')\n",
    "plt.legend(['Train', 'Test'], loc='lower left')\n",
    "#plt.show()\n",
    "plt.savefig('accuracy.pdf', dpi = 700)"
   ]
  },
  {
   "cell_type": "code",
   "execution_count": 57,
   "id": "dd6f4b76",
   "metadata": {},
   "outputs": [
    {
     "data": {
      "image/png": "[encoded data removed]",
      "text/plain": [
       "<Figure size 432x288 with 1 Axes>"
      ]
     },
     "metadata": {
      "needs_background": "light"
     },
     "output_type": "display_data"
    }
   ],
   "source": [
    "# summarize history for loss\n",
    "plt.plot(history.history['loss'])\n",
    "plt.plot(history.history['val_loss'])\n",
    "plt.title('Model loss')\n",
    "plt.ylabel('Loss')\n",
    "plt.xlabel('Epoch')\n",
    "plt.legend(['Train', 'Test'], loc='upper left')\n",
    "#plt.show()\n",
    "plt.savefig('loss.pdf', dpi = 700)"
   ]
  },
  {
   "cell_type": "code",
   "execution_count": 58,
   "id": "1beef07f",
   "metadata": {},
   "outputs": [
    {
     "name": "stdout",
     "output_type": "stream",
     "text": [
      "Requirement already satisfied: pydot in c:\\python310\\lib\\site-packages (1.4.2)\n",
      "Requirement already satisfied: pyparsing>=2.1.4 in c:\\python310\\lib\\site-packages (from pydot) (3.0.9)\n"
     ]
    },
    {
     "name": "stderr",
     "output_type": "stream",
     "text": [
      "WARNING: You are using pip version 22.0.4; however, version 22.2.2 is available.\n",
      "You should consider upgrading via the 'C:\\Python310\\python.exe -m pip install --upgrade pip' command.\n"
     ]
    }
   ],
   "source": [
    "! pip install pydot"
   ]
  },
  {
   "cell_type": "code",
   "execution_count": 60,
   "id": "41873402",
   "metadata": {},
   "outputs": [],
   "source": [
    "from tensorflow.keras.utils import plot_model\n",
    "\n",
    "#model = ResNet50(weights='imagenet')\n",
    "plot_model(model, to_file='model.pdf', dpi = 700, show_shapes=True)"
   ]
  },
  {
   "cell_type": "code",
   "execution_count": 61,
   "id": "f73c99f3",
   "metadata": {},
   "outputs": [],
   "source": [
    "# Step 8 - Make prediction\n",
    "res = model.predict(X_test)"
   ]
  },
  {
   "cell_type": "code",
   "execution_count": 62,
   "id": "050530cd",
   "metadata": {},
   "outputs": [
    {
     "data": {
      "text/plain": [
       "'Y'"
      ]
     },
     "execution_count": 62,
     "metadata": {},
     "output_type": "execute_result"
    }
   ],
   "source": [
    "actions[np.argmax(res[0])]"
   ]
  },
  {
   "cell_type": "code",
   "execution_count": 63,
   "id": "3844a38d",
   "metadata": {},
   "outputs": [
    {
     "data": {
      "text/plain": [
       "'Y'"
      ]
     },
     "execution_count": 63,
     "metadata": {},
     "output_type": "execute_result"
    }
   ],
   "source": [
    "actions[np.argmax(y_test[0])]"
   ]
  },
  {
   "cell_type": "code",
   "execution_count": 64,
   "id": "880c4b32",
   "metadata": {},
   "outputs": [],
   "source": [
    "from sklearn.metrics import multilabel_confusion_matrix, confusion_matrix, accuracy_score, precision_recall_fscore_support"
   ]
  },
  {
   "cell_type": "code",
   "execution_count": 65,
   "id": "490d85d0",
   "metadata": {},
   "outputs": [
    {
     "data": {
      "image/png": "[encoded data removed]",
      "text/plain": [
       "<Figure size 1440x720 with 2 Axes>"
      ]
     },
     "metadata": {},
     "output_type": "display_data"
    }
   ],
   "source": [
    "import seaborn as sns\n",
    "yhat = model.predict(X_test)\n",
    "ytrue = np.argmax(y_test, axis=1)\n",
    "yhat = np.argmax(yhat, axis=1)\n",
    "\n",
    "cf_matr = confusion_matrix(ytrue, yhat)\n",
    "sns.set(rc = {'figure.figsize':(20, 10)})\n",
    "hmap = sns.heatmap(cf_matr,xticklabels=actions,yticklabels=actions)\n",
    "hmap\n",
    "figure = hmap.get_figure()    \n",
    "figure.savefig('Confusion_matrix.pdf', dpi=700)"
   ]
  },
  {
   "cell_type": "code",
   "execution_count": 66,
   "id": "6a666a0d",
   "metadata": {},
   "outputs": [],
   "source": [
    "yhat = model.predict(X_test)\n",
    "ytrue = np.argmax(y_test, axis=1).tolist()\n",
    "yhat = np.argmax(yhat, axis=1).tolist()"
   ]
  },
  {
   "cell_type": "code",
   "execution_count": 67,
   "id": "73f546f5",
   "metadata": {},
   "outputs": [
    {
     "name": "stdout",
     "output_type": "stream",
     "text": [
      "Accuracy Score: 0.9986972805731965\n"
     ]
    }
   ],
   "source": [
    "conf_matrix = multilabel_confusion_matrix(ytrue, yhat)\n",
    "print(\"Accuracy Score: {}\".format(accuracy_score(ytrue, yhat)))"
   ]
  },
  {
   "cell_type": "code",
   "execution_count": 68,
   "id": "3ee1d088",
   "metadata": {},
   "outputs": [
    {
     "name": "stdout",
     "output_type": "stream",
     "text": [
      "Precision Score: 0.998735053012562\n",
      "Recall Score: 0.9986834347079618\n",
      "F1 Score: 0.9987030558719275\n",
      "F Beta Score for Beta as 0.5 = 0.9987207683566124\n"
     ]
    }
   ],
   "source": [
    "from sklearn.metrics import fbeta_score \n",
    "(precision, recall, f1_score, _) = precision_recall_fscore_support(ytrue, yhat, average='macro')\n",
    "print(\"Precision Score: {}\\nRecall Score: {}\\nF1 Score: {}\".format(precision, recall, f1_score))\n",
    "print(\"F Beta Score for Beta as 0.5 = {}\".format(fbeta_score(ytrue, yhat, average='macro', beta=0.5)))"
   ]
  },
  {
   "cell_type": "code",
   "execution_count": 69,
   "id": "66772715",
   "metadata": {},
   "outputs": [
    {
     "name": "stdout",
     "output_type": "stream",
     "text": [
      "              precision    recall  f1-score   support\n",
      "\n",
      "           A       1.00      1.00      1.00       227\n",
      "           B       1.00      1.00      1.00       235\n",
      "           C       1.00      1.00      1.00       246\n",
      "           D       1.00      1.00      1.00       231\n",
      "           E       1.00      1.00      1.00       260\n",
      "           F       1.00      1.00      1.00       229\n",
      "           G       1.00      0.98      0.99       243\n",
      "           H       1.00      1.00      1.00       252\n",
      "           I       1.00      1.00      1.00       247\n",
      "           J       1.00      1.00      1.00       231\n",
      "           K       1.00      1.00      1.00       239\n",
      "           L       1.00      1.00      1.00       234\n",
      "           M       1.00      1.00      1.00       248\n",
      "           N       1.00      1.00      1.00       226\n",
      "           O       1.00      1.00      1.00       219\n",
      "           P       1.00      1.00      1.00       214\n",
      "           Q       1.00      1.00      1.00       172\n",
      "           R       1.00      1.00      1.00       269\n",
      "           S       0.98      1.00      0.99       244\n",
      "           T       1.00      1.00      1.00       234\n",
      "           U       1.00      1.00      1.00       238\n",
      "           V       1.00      1.00      1.00       256\n",
      "           W       1.00      1.00      1.00       245\n",
      "           X       1.00      1.00      1.00       239\n",
      "           Y       1.00      1.00      1.00       250\n",
      "           Z       1.00      1.00      1.00       213\n",
      "\n",
      "    accuracy                           1.00      6141\n",
      "   macro avg       1.00      1.00      1.00      6141\n",
      "weighted avg       1.00      1.00      1.00      6141\n",
      "\n"
     ]
    }
   ],
   "source": [
    "from sklearn.metrics import classification_report\n",
    "print(classification_report(ytrue, yhat, target_names=actions))"
   ]
  },
  {
   "cell_type": "code",
   "execution_count": 70,
   "id": "44f72c9f",
   "metadata": {},
   "outputs": [
    {
     "name": "stdout",
     "output_type": "stream",
     "text": [
      "Hamming Loss: 0.0013027194268034523\n"
     ]
    }
   ],
   "source": [
    "from sklearn.metrics import hamming_loss\n",
    "print(\"Hamming Loss: {}\".format(hamming_loss(ytrue, yhat)))"
   ]
  },
  {
   "cell_type": "code",
   "execution_count": 71,
   "id": "c1b71974",
   "metadata": {},
   "outputs": [
    {
     "name": "stdout",
     "output_type": "stream",
     "text": [
      "Jaccard Score: 0.9974200842974631\n",
      "Matthews correlation coefficient: 0.9986453647824621\n"
     ]
    }
   ],
   "source": [
    "from sklearn.metrics import jaccard_score, matthews_corrcoef\n",
    "print(\"Jaccard Score: {}\".format(jaccard_score(ytrue, yhat, average='macro')))\n",
    "print(\"Matthews correlation coefficient: {}\".format(matthews_corrcoef(ytrue, yhat)))"
   ]
  },
  {
   "cell_type": "code",
   "execution_count": 72,
   "id": "6245c168",
   "metadata": {},
   "outputs": [],
   "source": [
    "import pandas as pd\n",
    "import matplotlib.pyplot as plt\n",
    "\n",
    "\n",
    "def print_confusion_matrix(confusion_matrix, axes, class_label, class_names, fontsize=14):\n",
    "\n",
    "    df_cm = pd.DataFrame(\n",
    "        confusion_matrix, index=class_names, columns=class_names,\n",
    "    )\n",
    "\n",
    "    try:\n",
    "        heatmap = sns.heatmap(df_cm, annot=True, fmt=\"d\", cbar=False, ax=axes)\n",
    "    except ValueError:\n",
    "        raise ValueError(\"Confusion matrix values must be integers.\")\n",
    "    heatmap.yaxis.set_ticklabels(heatmap.yaxis.get_ticklabels(), rotation=0, ha='right', fontsize=fontsize)\n",
    "    heatmap.xaxis.set_ticklabels(heatmap.xaxis.get_ticklabels(), rotation=45, ha='right', fontsize=fontsize)\n",
    "    axes.set_ylabel('True label')\n",
    "    axes.set_xlabel('Predicted label')\n",
    "    axes.set_title(\"Confusion Matrix for the class - \" + class_label)"
   ]
  },
  {
   "cell_type": "code",
   "execution_count": 73,
   "id": "be42467e",
   "metadata": {},
   "outputs": [
    {
     "data": {
      "text/plain": [
       "array(['M', 'N', 'O', 'P', 'Q', 'R', 'S', 'T', 'U', 'V', 'W', 'X', 'Y',\n",
       "       'Z'], dtype='<U1')"
      ]
     },
     "execution_count": 73,
     "metadata": {},
     "output_type": "execute_result"
    }
   ],
   "source": [
    "actions[12:]"
   ]
  },
  {
   "cell_type": "code",
   "execution_count": 74,
   "id": "cc684288",
   "metadata": {},
   "outputs": [
    {
     "data": {
      "image/png": "[encoded data removed]",
      "text/plain": [
       "<Figure size 720x1440 with 12 Axes>"
      ]
     },
     "metadata": {},
     "output_type": "display_data"
    }
   ],
   "source": [
    "fig, ax = plt.subplots(6, 2, figsize=(10, 20))\n",
    "    \n",
    "for axes, cfs_matrix, label in zip(ax.flatten(), conf_matrix[0:12], actions[0:12]):\n",
    "    print_confusion_matrix(cfs_matrix, axes, label, [\"F\", \"T\"])\n",
    "\n",
    "fig.tight_layout()\n",
    "#plt.show()\n",
    "plt.savefig('conf_mat.pdf', dpi = 700)"
   ]
  },
  {
   "cell_type": "code",
   "execution_count": 75,
   "id": "7bdbc5a8",
   "metadata": {},
   "outputs": [
    {
     "data": {
      "image/png": "[encoded data removed]",
      "text/plain": [
       "<Figure size 720x1728 with 14 Axes>"
      ]
     },
     "metadata": {},
     "output_type": "display_data"
    }
   ],
   "source": [
    "fig, ax = plt.subplots(7, 2, figsize=(10, 24))\n",
    "    \n",
    "for axes, cfs_matrix, label in zip(ax.flatten(), conf_matrix[12:], actions[12:]):\n",
    "    print_confusion_matrix(cfs_matrix, axes, label, [\"F\", \"T\"])\n",
    "\n",
    "fig.tight_layout()\n",
    "#plt.show()\n",
    "plt.savefig('conf_mat2.pdf', dpi = 700)"
   ]
  },
  {
   "cell_type": "code",
   "execution_count": 76,
   "id": "fa10e646",
   "metadata": {},
   "outputs": [],
   "source": [
    "# Uncomment to save your model\n",
    "model.save('final_weights.h5')"
   ]
  },
  {
   "cell_type": "code",
   "execution_count": null,
   "id": "450d905a",
   "metadata": {},
   "outputs": [],
   "source": [
    "new_actions = np.array(['C', 'O'])\n",
    "new_label_map = {label:num for num, label in enumerate(new_actions)}\n",
    "new_label_map"
   ]
  },
  {
   "cell_type": "code",
   "execution_count": null,
   "id": "97ff31f8",
   "metadata": {},
   "outputs": [],
   "source": [
    "# CNN Model\n",
    "model = Sequential()\n",
    "\n",
    "model.add(Conv1D(filters=32, kernel_size=3, activation='relu', input_shape=(30, 126)))\n",
    "model.add(MaxPool1D(pool_size=2, strides=None))\n",
    "\n",
    "model.add(Conv1D(filters=64, kernel_size=3, activation='relu', padding = 'same'))\n",
    "model.add(MaxPool1D(pool_size=2, strides=None))\n",
    "\n",
    "model.add(Conv1D(filters=128, kernel_size=3, activation='relu', padding = 'valid'))\n",
    "model.add(MaxPool1D(pool_size=2, strides=None))\n",
    "\n",
    "model.add(Flatten())\n",
    "\n",
    "model.add(Dense(64,activation =\"relu\"))\n",
    "model.add(Dropout(0.2))\n",
    "model.add(Dense(128,activation =\"relu\"))\n",
    "model.add(Dropout(0.3))\n",
    "model.add(Dense(new_actions.shape[0],activation =\"softmax\"))"
   ]
  },
  {
   "cell_type": "code",
   "execution_count": null,
   "id": "de10265a",
   "metadata": {},
   "outputs": [],
   "source": [
    "model.compile(optimizer='Adam', loss='categorical_crossentropy', metrics=['categorical_accuracy'])"
   ]
  },
  {
   "cell_type": "code",
   "execution_count": null,
   "id": "ec83e673",
   "metadata": {},
   "outputs": [],
   "source": [
    "sequences, labels = [], []\n",
    "for action in new_actions:\n",
    "    for sequence in range(no_sequences):\n",
    "        window = []\n",
    "        for frame_num in range(sequence_length):\n",
    "            res = np.load(os.path.join(DATA_PATH, action, str(sequence), \"{}.npy\".format(frame_num)))\n",
    "            window.append(res)\n",
    "        sequences.append(window)\n",
    "        labels.append(new_label_map[action])"
   ]
  },
  {
   "cell_type": "code",
   "execution_count": null,
   "id": "ebd9249b",
   "metadata": {},
   "outputs": [],
   "source": [
    "X = np.array(sequences)"
   ]
  },
  {
   "cell_type": "code",
   "execution_count": null,
   "id": "962354ef",
   "metadata": {},
   "outputs": [],
   "source": [
    "y = to_categorical(labels).astype(int)"
   ]
  },
  {
   "cell_type": "code",
   "execution_count": null,
   "id": "998d1020",
   "metadata": {},
   "outputs": [],
   "source": [
    "X_train, X_test, y_train, y_test = train_test_split(X, y, test_size=0.3)"
   ]
  },
  {
   "cell_type": "code",
   "execution_count": null,
   "id": "b8359882",
   "metadata": {},
   "outputs": [],
   "source": [
    "X_train.shape"
   ]
  },
  {
   "cell_type": "code",
   "execution_count": null,
   "id": "6b1a5d4e",
   "metadata": {},
   "outputs": [],
   "source": [
    "y_train.shape"
   ]
  },
  {
   "cell_type": "code",
   "execution_count": null,
   "id": "a0fa8f91",
   "metadata": {},
   "outputs": [],
   "source": [
    "model.fit(X_train, y_train, epochs=100)"
   ]
  },
  {
   "cell_type": "code",
   "execution_count": null,
   "id": "81a6c95b",
   "metadata": {},
   "outputs": [],
   "source": [
    "model.summary()"
   ]
  },
  {
   "cell_type": "code",
   "execution_count": null,
   "id": "bacc7e9f",
   "metadata": {},
   "outputs": [],
   "source": [
    "# Step 8 - Make prediction\n",
    "res = model.predict(X_test)"
   ]
  },
  {
   "cell_type": "code",
   "execution_count": null,
   "id": "f5d009ba",
   "metadata": {},
   "outputs": [],
   "source": [
    "yhat = model.predict(X_test)\n",
    "ytrue = np.argmax(y_test, axis=1)\n",
    "yhat = np.argmax(yhat, axis=1)\n",
    "\n",
    "cf_matr2 = confusion_matrix(ytrue, yhat)\n",
    "sns.set(rc = {'figure.figsize':(5, 4)})\n",
    "hmap2 = sns.heatmap(cf_matr2,xticklabels=new_actions,yticklabels=new_actions)\n",
    "hmap2\n",
    "figure = hmap2.get_figure()    \n",
    "figure.savefig('Confusion_matrixCO.pdf', dpi=700)"
   ]
  },
  {
   "cell_type": "code",
   "execution_count": null,
   "id": "48a7a573",
   "metadata": {},
   "outputs": [],
   "source": [
    "ytrue = np.argmax(y_test, axis=1).tolist()\n",
    "yhat = np.argmax(model.predict(X_test), axis=1).tolist()\n",
    "accuracy_score(ytrue, yhat)"
   ]
  },
  {
   "cell_type": "code",
   "execution_count": null,
   "id": "48794497",
   "metadata": {},
   "outputs": [],
   "source": [
    "# Uncomment to save your model\n",
    "model.save('actionCO.h5')"
   ]
  },
  {
   "cell_type": "code",
   "execution_count": null,
   "id": "4c0b23db",
   "metadata": {},
   "outputs": [],
   "source": [
    "new_actions = np.array(['M', 'N'])\n",
    "new_label_map = {label:num for num, label in enumerate(new_actions)}\n",
    "new_label_map"
   ]
  },
  {
   "cell_type": "code",
   "execution_count": null,
   "id": "6be788d4",
   "metadata": {},
   "outputs": [],
   "source": [
    "# CNN Model\n",
    "model = Sequential()\n",
    "\n",
    "model.add(Conv1D(filters=32, kernel_size=3, activation='relu', input_shape=(30, 126)))\n",
    "model.add(MaxPool1D(pool_size=2, strides=None))\n",
    "\n",
    "model.add(Conv1D(filters=64, kernel_size=3, activation='relu', padding = 'same'))\n",
    "model.add(MaxPool1D(pool_size=2, strides=None))\n",
    "\n",
    "model.add(Conv1D(filters=128, kernel_size=3, activation='relu', padding = 'valid'))\n",
    "model.add(MaxPool1D(pool_size=2, strides=None))\n",
    "\n",
    "model.add(Flatten())\n",
    "\n",
    "model.add(Dense(64,activation =\"relu\"))\n",
    "model.add(Dropout(0.2))\n",
    "model.add(Dense(128,activation =\"relu\"))\n",
    "model.add(Dropout(0.3))\n",
    "model.add(Dense(new_actions.shape[0],activation =\"softmax\"))"
   ]
  },
  {
   "cell_type": "code",
   "execution_count": null,
   "id": "cedc557c",
   "metadata": {},
   "outputs": [],
   "source": [
    "model.compile(optimizer='Adam', loss='categorical_crossentropy', metrics=['categorical_accuracy'])"
   ]
  },
  {
   "cell_type": "code",
   "execution_count": null,
   "id": "11974d41",
   "metadata": {},
   "outputs": [],
   "source": [
    "sequences, labels = [], []\n",
    "for action in new_actions:\n",
    "    for sequence in range(no_sequences):\n",
    "        window = []\n",
    "        for frame_num in range(sequence_length):\n",
    "            res = np.load(os.path.join(DATA_PATH, action, str(sequence), \"{}.npy\".format(frame_num)))\n",
    "            window.append(res)\n",
    "        sequences.append(window)\n",
    "        labels.append(new_label_map[action])"
   ]
  },
  {
   "cell_type": "code",
   "execution_count": null,
   "id": "962074f3",
   "metadata": {},
   "outputs": [],
   "source": [
    "X = np.array(sequences)"
   ]
  },
  {
   "cell_type": "code",
   "execution_count": null,
   "id": "fdaf9b7b",
   "metadata": {},
   "outputs": [],
   "source": [
    "y = to_categorical(labels).astype(int)"
   ]
  },
  {
   "cell_type": "code",
   "execution_count": null,
   "id": "78c382a0",
   "metadata": {},
   "outputs": [],
   "source": [
    "X_train, X_test, y_train, y_test = train_test_split(X, y, test_size=0.3)"
   ]
  },
  {
   "cell_type": "code",
   "execution_count": null,
   "id": "7c343797",
   "metadata": {},
   "outputs": [],
   "source": [
    "X_train.shape"
   ]
  },
  {
   "cell_type": "code",
   "execution_count": null,
   "id": "f6496cf4",
   "metadata": {},
   "outputs": [],
   "source": [
    "y_train.shape"
   ]
  },
  {
   "cell_type": "code",
   "execution_count": null,
   "id": "c4f59e44",
   "metadata": {},
   "outputs": [],
   "source": [
    "model.fit(X_train, y_train, epochs=100)"
   ]
  },
  {
   "cell_type": "code",
   "execution_count": null,
   "id": "ede0b9d3",
   "metadata": {},
   "outputs": [],
   "source": [
    "model.summary()"
   ]
  },
  {
   "cell_type": "code",
   "execution_count": null,
   "id": "c2357a87",
   "metadata": {},
   "outputs": [],
   "source": [
    "# Step 8 - Make prediction\n",
    "res = model.predict(X_test)"
   ]
  },
  {
   "cell_type": "code",
   "execution_count": null,
   "id": "2f321e11",
   "metadata": {},
   "outputs": [],
   "source": [
    "yhat = model.predict(X_test)\n",
    "ytrue = np.argmax(y_test, axis=1)\n",
    "yhat = np.argmax(yhat, axis=1)\n",
    "\n",
    "cf_matr3 = confusion_matrix(ytrue, yhat)\n",
    "sns.set(rc = {'figure.figsize':(5, 4)})\n",
    "hmap3 = sns.heatmap(cf_matr3,xticklabels=new_actions,yticklabels=new_actions)\n",
    "hmap3\n",
    "figure = hmap3.get_figure()    \n",
    "figure.savefig('Confusion_matrixMN.pdf', dpi=700)"
   ]
  },
  {
   "cell_type": "code",
   "execution_count": null,
   "id": "b4b46a1d",
   "metadata": {},
   "outputs": [],
   "source": [
    "yhat = model.predict(X_test)\n",
    "ytrue = np.argmax(y_test, axis=1).tolist()\n",
    "yhat = np.argmax(model.predict(X_test), axis=1).tolist()\n",
    "accuracy_score(ytrue, yhat)"
   ]
  },
  {
   "cell_type": "code",
   "execution_count": null,
   "id": "8ed81e62",
   "metadata": {},
   "outputs": [],
   "source": [
    "plot_model(model, to_file='modelCO.pdf', dpi = 700, show_shapes=True)"
   ]
  },
  {
   "cell_type": "code",
   "execution_count": null,
   "id": "e57349a2",
   "metadata": {},
   "outputs": [],
   "source": [
    "# Uncomment to save your model\n",
    "model.save('actionMN.h5')"
   ]
  },
  {
   "cell_type": "code",
   "execution_count": null,
   "id": "f0c194ec",
   "metadata": {},
   "outputs": [],
   "source": []
  }
 ],
 "metadata": {
  "kernelspec": {
   "display_name": "Python 3 (ipykernel)",
   "language": "python",
   "name": "python3"
  },
  "language_info": {
   "codemirror_mode": {
    "name": "ipython",
    "version": 3
   },
   "file_extension": ".py",
   "mimetype": "text/x-python",
   "name": "python",
   "nbconvert_exporter": "python",
   "pygments_lexer": "ipython3",
   "version": "3.9.7"
  }
 },
 "nbformat": 4,
 "nbformat_minor": 5
}
