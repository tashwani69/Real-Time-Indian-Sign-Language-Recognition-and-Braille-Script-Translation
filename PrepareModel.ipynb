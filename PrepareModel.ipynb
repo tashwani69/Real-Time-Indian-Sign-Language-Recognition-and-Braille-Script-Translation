{
 "cells": [
  {
   "cell_type": "code",
   "execution_count": 1,
   "id": "9e1a73cf",
   "metadata": {},
   "outputs": [],
   "source": [
    "import cv2\n",
    "import numpy as np\n",
    "import os\n",
    "from matplotlib import pyplot as plt\n",
    "import time\n",
    "import mediapipe as mp"
   ]
  },
  {
   "cell_type": "code",
   "execution_count": 2,
   "id": "a6acf65e",
   "metadata": {},
   "outputs": [],
   "source": [
    "mp_holistic = mp.solutions.holistic # Holistic model\n",
    "mp_drawing = mp.solutions.drawing_utils\n",
    "mp_drawing_styles = mp.solutions.drawing_styles\n",
    "mp_hands = mp.solutions.hands"
   ]
  },
  {
   "cell_type": "code",
   "execution_count": 3,
   "id": "5eca98ad",
   "metadata": {},
   "outputs": [],
   "source": [
    "def mediapipe_detection(image, model):\n",
    "    image = cv2.cvtColor(image, cv2.COLOR_BGR2RGB) # COLOR CONVERSION BGR 2 RGB\n",
    "    image.flags.writeable = False                  # Image is no longer writeable\n",
    "    results = model.process(image)                 # Make prediction\n",
    "    image.flags.writeable = True                   # Image is now writeable \n",
    "    image = cv2.cvtColor(image, cv2.COLOR_RGB2BGR) # COLOR COVERSION RGB 2 BGR\n",
    "    return image, results"
   ]
  },
  {
   "cell_type": "code",
   "execution_count": 4,
   "id": "33ddfb44",
   "metadata": {},
   "outputs": [],
   "source": [
    "def draw_landmarks(image, results):\n",
    "    mp_drawing.draw_landmarks(image, results.face_landmarks, mp_holistic.FACEMESH_TESSELATION) # Draw face connections\n",
    "    mp_drawing.draw_landmarks(image, results.pose_landmarks, mp_holistic.POSE_CONNECTIONS) # Draw pose connections\n",
    "    mp_drawing.draw_landmarks(image, results.left_hand_landmarks, mp_holistic.HAND_CONNECTIONS) # Draw left hand connections\n",
    "    mp_drawing.draw_landmarks(image, results.right_hand_landmarks, mp_holistic.HAND_CONNECTIONS) # Draw right hand connections"
   ]
  },
  {
   "cell_type": "code",
   "execution_count": 5,
   "id": "2616cbe9",
   "metadata": {},
   "outputs": [],
   "source": [
    "def draw_styled_landmarks(image, results):\n",
    "    # Draw face connections\n",
    "    #mp_drawing.draw_landmarks(image, results.face_landmarks, mp_holistic.FACEMESH_TESSELATION, \n",
    "    #                         mp_drawing.DrawingSpec(color=(80,110,10), thickness=1, circle_radius=1), \n",
    "    #                         mp_drawing.DrawingSpec(color=(80,256,121), thickness=1, circle_radius=1)\n",
    "    #                         ) \n",
    "    # Draw pose connections\n",
    "    #mp_drawing.draw_landmarks(image, results.pose_landmarks, mp_holistic.POSE_CONNECTIONS,\n",
    "    #                         mp_drawing.DrawingSpec(color=(80,22,10), thickness=2, circle_radius=4), \n",
    "    #                         mp_drawing.DrawingSpec(color=(80,44,121), thickness=2, circle_radius=2)\n",
    "    #                         ) \n",
    "    # Draw left hand connections\n",
    "    mp_drawing.draw_landmarks(image, results.left_hand_landmarks, mp_holistic.HAND_CONNECTIONS, \n",
    "                             mp_drawing.DrawingSpec(color=(121,22,76), thickness=2, circle_radius=4), \n",
    "                             mp_drawing.DrawingSpec(color=(121,44,250), thickness=2, circle_radius=2)\n",
    "                             ) \n",
    "    # Draw right hand connections  \n",
    "    mp_drawing.draw_landmarks(image, results.right_hand_landmarks, mp_holistic.HAND_CONNECTIONS, \n",
    "                             mp_drawing.DrawingSpec(color=(245,117,66), thickness=2, circle_radius=4), \n",
    "                             mp_drawing.DrawingSpec(color=(245,66,230), thickness=2, circle_radius=2)\n",
    "                             )"
   ]
  },
  {
   "cell_type": "code",
   "execution_count": 6,
   "id": "627a63b9",
   "metadata": {},
   "outputs": [],
   "source": [
    "def draw_styled_hand_landmarks(image, results):\n",
    "    for hand_landmarks in results.multi_hand_landmarks:\n",
    "                  mp_drawing.draw_landmarks(\n",
    "                      image,\n",
    "                      hand_landmarks,\n",
    "                      mp_hands.HAND_CONNECTIONS,\n",
    "                      mp_drawing.DrawingSpec(color=(121,22,76), thickness=2, circle_radius=4), \n",
    "                      mp_drawing.DrawingSpec(color=(121,44,250), thickness=2, circle_radius=2))"
   ]
  },
  {
   "cell_type": "code",
   "execution_count": 7,
   "id": "321f5164",
   "metadata": {},
   "outputs": [],
   "source": [
    "def extract_keypoints(results):\n",
    "    pose = np.array([[res.x, res.y, res.z, res.visibility] for res in results.pose_landmarks.landmark]).flatten() if results.pose_landmarks else np.zeros(33*4)\n",
    "    face = np.array([[res.x, res.y, res.z] for res in results.face_landmarks.landmark]).flatten() if results.face_landmarks else np.zeros(468*3)\n",
    "    lh = np.array([[res.x, res.y, res.z] for res in results.left_hand_landmarks.landmark]).flatten() if results.left_hand_landmarks else np.zeros(21*3)\n",
    "    rh = np.array([[res.x, res.y, res.z] for res in results.right_hand_landmarks.landmark]).flatten() if results.right_hand_landmarks else np.zeros(21*3)\n",
    "    return np.concatenate([lh, rh])"
   ]
  },
  {
   "cell_type": "code",
   "execution_count": 8,
   "id": "39210a15",
   "metadata": {},
   "outputs": [],
   "source": [
    "def extract_hand_keypoints(results):\n",
    "    lh = np.array([[res.x, res.y, res.z] for res in results.multi_hand_landmarks[0].landmark]).flatten() if len(results.multi_hand_landmarks) > 0 else np.zeros(21*3)\n",
    "    rh = np.array([[res.x, res.y, res.z] for res in results.multi_hand_landmarks[1].landmark]).flatten() if len(results.multi_hand_landmarks) > 1 else np.zeros(21*3)\n",
    "    \n",
    "    return np.concatenate([lh, rh])"
   ]
  },
  {
   "cell_type": "code",
   "execution_count": 9,
   "id": "f12f0d05",
   "metadata": {},
   "outputs": [],
   "source": [
    "# Path for exported data, numpy arrays\n",
    "# Step 4\n",
    "DATA_PATH = os.path.join('dataset','letters_data')\n",
    "actions = np.array(['A','B','C','D','E','F','G','H','I','J','K','L','M','N','O','P','Q','R','S','T','U','V','W','X','Y','Z'])\n",
    "#actions = np.array(['A','B'])\n",
    "\n",
    "# no of images\n",
    "no_sequences = 1200#00\n",
    "\n",
    "# no of frames in each video\n",
    "#sequence_length = 30"
   ]
  },
  {
   "cell_type": "code",
   "execution_count": 10,
   "id": "cc9db9ac",
   "metadata": {},
   "outputs": [],
   "source": [
    "# Step 6 - preprocess data create labels and features\n",
    "from sklearn.model_selection import train_test_split\n",
    "from tensorflow.keras.utils import to_categorical"
   ]
  },
  {
   "cell_type": "code",
   "execution_count": 11,
   "id": "860d920d",
   "metadata": {},
   "outputs": [
    {
     "data": {
      "text/plain": [
       "{'A': 0,\n",
       " 'B': 1,\n",
       " 'C': 2,\n",
       " 'D': 3,\n",
       " 'E': 4,\n",
       " 'F': 5,\n",
       " 'G': 6,\n",
       " 'H': 7,\n",
       " 'I': 8,\n",
       " 'J': 9,\n",
       " 'K': 10,\n",
       " 'L': 11,\n",
       " 'M': 12,\n",
       " 'N': 13,\n",
       " 'O': 14,\n",
       " 'P': 15,\n",
       " 'Q': 16,\n",
       " 'R': 17,\n",
       " 'S': 18,\n",
       " 'T': 19,\n",
       " 'U': 20,\n",
       " 'V': 21,\n",
       " 'W': 22,\n",
       " 'X': 23,\n",
       " 'Y': 24,\n",
       " 'Z': 25}"
      ]
     },
     "execution_count": 11,
     "metadata": {},
     "output_type": "execute_result"
    }
   ],
   "source": [
    "label_map = {label:num for num, label in enumerate(actions)}\n",
    "label_map"
   ]
  },
  {
   "cell_type": "code",
   "execution_count": 12,
   "id": "d1910039",
   "metadata": {},
   "outputs": [],
   "source": [
    "input_images, image_labels = [], []\n",
    "for action in actions:\n",
    "    for sequence in range(no_sequences):\n",
    "        path = os.path.join(DATA_PATH, action, \"{}.jpg\".format(sequence))\n",
    "        image = cv2.imread(path)\n",
    "        input_images.append(image)\n",
    "        image_labels.append(label_map[action])        "
   ]
  },
  {
   "cell_type": "code",
   "execution_count": 13,
   "id": "ba3d375e",
   "metadata": {},
   "outputs": [
    {
     "data": {
      "text/plain": [
       "31200"
      ]
     },
     "execution_count": 13,
     "metadata": {},
     "output_type": "execute_result"
    }
   ],
   "source": [
    "len(input_images)"
   ]
  },
  {
   "cell_type": "code",
   "execution_count": 15,
   "id": "7b4d65e2",
   "metadata": {
    "scrolled": false
   },
   "outputs": [
    {
     "name": "stdout",
     "output_type": "stream",
     "text": [
      "1\n",
      "1\n",
      "1\n",
      "1\n",
      "1\n",
      "1\n",
      "1\n",
      "1\n",
      "1\n",
      "1\n",
      "1\n",
      "1\n",
      "1\n",
      "1\n",
      "1\n",
      "1\n",
      "1\n",
      "1\n",
      "1\n",
      "1\n",
      "1\n",
      "6\n",
      "14\n",
      "14\n",
      "14\n",
      "14\n",
      "14\n",
      "14\n",
      "14\n",
      "14\n",
      "14\n",
      "14\n",
      "14\n",
      "14\n",
      "14\n",
      "14\n",
      "14\n",
      "14\n",
      "14\n",
      "14\n",
      "14\n",
      "14\n",
      "14\n",
      "14\n",
      "14\n",
      "14\n",
      "14\n",
      "14\n",
      "14\n",
      "14\n",
      "14\n",
      "14\n",
      "14\n",
      "14\n",
      "14\n",
      "14\n",
      "14\n",
      "14\n",
      "15\n",
      "15\n",
      "15\n",
      "15\n",
      "15\n",
      "15\n",
      "15\n",
      "15\n",
      "15\n",
      "15\n",
      "15\n",
      "15\n",
      "15\n",
      "15\n",
      "15\n",
      "15\n",
      "15\n",
      "15\n",
      "15\n",
      "15\n",
      "15\n",
      "15\n",
      "15\n",
      "15\n",
      "15\n",
      "15\n",
      "15\n",
      "15\n",
      "15\n",
      "15\n",
      "15\n",
      "15\n",
      "15\n",
      "15\n",
      "15\n",
      "15\n",
      "15\n",
      "15\n",
      "15\n",
      "15\n",
      "15\n",
      "15\n",
      "15\n",
      "15\n",
      "15\n",
      "15\n",
      "15\n",
      "15\n",
      "15\n",
      "15\n",
      "15\n",
      "15\n",
      "15\n",
      "15\n",
      "15\n",
      "15\n",
      "15\n",
      "15\n",
      "15\n",
      "15\n",
      "15\n",
      "15\n",
      "15\n",
      "15\n",
      "15\n",
      "15\n",
      "15\n",
      "15\n",
      "15\n",
      "16\n",
      "16\n",
      "16\n",
      "16\n",
      "16\n",
      "16\n",
      "16\n",
      "16\n",
      "16\n",
      "16\n",
      "16\n",
      "16\n",
      "16\n",
      "16\n",
      "16\n",
      "16\n",
      "16\n",
      "16\n",
      "16\n",
      "16\n",
      "16\n",
      "16\n",
      "16\n",
      "16\n",
      "16\n",
      "16\n",
      "16\n",
      "16\n",
      "16\n",
      "16\n",
      "16\n",
      "16\n",
      "16\n",
      "16\n",
      "16\n",
      "16\n",
      "16\n",
      "16\n",
      "16\n",
      "16\n",
      "16\n",
      "16\n",
      "16\n",
      "16\n",
      "16\n",
      "16\n",
      "16\n",
      "16\n",
      "16\n",
      "16\n",
      "16\n",
      "16\n",
      "16\n",
      "16\n",
      "16\n",
      "16\n",
      "16\n",
      "16\n",
      "16\n",
      "16\n",
      "16\n",
      "16\n",
      "16\n",
      "16\n",
      "16\n",
      "16\n",
      "16\n",
      "16\n",
      "16\n",
      "16\n",
      "16\n",
      "16\n",
      "16\n",
      "16\n",
      "16\n",
      "16\n",
      "16\n",
      "16\n",
      "16\n",
      "16\n",
      "16\n",
      "16\n",
      "16\n",
      "16\n",
      "16\n",
      "16\n",
      "16\n",
      "16\n",
      "16\n",
      "16\n",
      "16\n",
      "16\n",
      "16\n",
      "16\n",
      "16\n",
      "16\n",
      "16\n",
      "16\n",
      "16\n",
      "16\n",
      "16\n",
      "16\n",
      "16\n",
      "16\n",
      "16\n",
      "16\n",
      "16\n",
      "16\n",
      "16\n",
      "16\n",
      "16\n",
      "16\n",
      "16\n",
      "16\n",
      "16\n",
      "16\n",
      "16\n",
      "16\n",
      "16\n",
      "16\n",
      "16\n",
      "16\n",
      "16\n",
      "16\n",
      "16\n",
      "16\n",
      "16\n",
      "16\n",
      "16\n",
      "16\n",
      "16\n",
      "16\n",
      "16\n",
      "16\n",
      "16\n",
      "16\n",
      "16\n",
      "16\n",
      "16\n",
      "16\n",
      "16\n",
      "16\n",
      "16\n",
      "16\n",
      "16\n",
      "16\n",
      "16\n",
      "16\n",
      "16\n",
      "16\n",
      "16\n",
      "16\n",
      "16\n",
      "16\n",
      "16\n",
      "16\n",
      "16\n",
      "16\n",
      "16\n",
      "16\n",
      "16\n",
      "16\n",
      "16\n",
      "16\n",
      "16\n",
      "16\n",
      "16\n",
      "16\n",
      "16\n",
      "16\n",
      "16\n",
      "16\n",
      "16\n",
      "16\n",
      "16\n",
      "16\n",
      "16\n",
      "16\n",
      "16\n",
      "16\n",
      "16\n",
      "16\n",
      "16\n",
      "16\n",
      "16\n",
      "16\n",
      "16\n",
      "16\n",
      "16\n",
      "16\n",
      "16\n",
      "16\n",
      "16\n",
      "16\n",
      "16\n",
      "16\n",
      "16\n",
      "16\n",
      "16\n",
      "16\n",
      "16\n",
      "16\n",
      "16\n",
      "16\n",
      "16\n",
      "16\n",
      "16\n",
      "16\n",
      "16\n",
      "16\n",
      "16\n",
      "16\n",
      "16\n",
      "16\n",
      "16\n",
      "16\n",
      "16\n",
      "16\n",
      "16\n",
      "16\n",
      "16\n",
      "16\n",
      "16\n",
      "16\n",
      "16\n",
      "16\n",
      "16\n",
      "16\n",
      "16\n",
      "16\n",
      "16\n",
      "16\n",
      "16\n",
      "16\n",
      "16\n",
      "16\n",
      "16\n",
      "16\n",
      "16\n",
      "16\n",
      "16\n",
      "16\n",
      "16\n",
      "16\n",
      "16\n",
      "16\n",
      "16\n",
      "16\n",
      "16\n",
      "16\n",
      "16\n",
      "16\n",
      "16\n",
      "16\n",
      "16\n",
      "16\n",
      "16\n",
      "16\n",
      "16\n",
      "16\n",
      "16\n",
      "16\n",
      "16\n",
      "16\n",
      "16\n",
      "16\n",
      "16\n",
      "16\n",
      "16\n",
      "16\n",
      "16\n",
      "16\n",
      "16\n",
      "16\n",
      "16\n",
      "16\n",
      "16\n",
      "16\n",
      "16\n",
      "16\n",
      "16\n",
      "16\n",
      "16\n",
      "16\n",
      "16\n",
      "16\n",
      "16\n",
      "16\n",
      "16\n",
      "16\n",
      "16\n",
      "16\n",
      "16\n",
      "16\n",
      "16\n",
      "16\n",
      "16\n",
      "16\n",
      "16\n",
      "16\n",
      "16\n",
      "16\n",
      "16\n",
      "16\n",
      "16\n",
      "16\n",
      "16\n",
      "16\n",
      "16\n",
      "16\n",
      "16\n",
      "16\n",
      "16\n",
      "16\n",
      "16\n",
      "16\n",
      "16\n",
      "16\n",
      "16\n",
      "16\n",
      "16\n",
      "16\n",
      "16\n",
      "16\n",
      "16\n",
      "16\n",
      "16\n",
      "16\n",
      "16\n",
      "16\n",
      "16\n",
      "16\n",
      "16\n",
      "16\n",
      "16\n",
      "16\n",
      "16\n",
      "16\n",
      "16\n",
      "16\n",
      "16\n",
      "16\n",
      "16\n",
      "16\n",
      "16\n",
      "16\n",
      "16\n",
      "16\n",
      "16\n",
      "16\n",
      "16\n",
      "16\n",
      "16\n",
      "16\n",
      "16\n",
      "16\n",
      "16\n",
      "16\n",
      "18\n",
      "18\n",
      "18\n",
      "18\n",
      "18\n",
      "18\n",
      "18\n",
      "18\n",
      "18\n",
      "18\n",
      "18\n"
     ]
    }
   ],
   "source": [
    "X, y = [], []\n",
    "count=0\n",
    "with mp_hands.Hands(\n",
    "    static_image_mode=True,\n",
    "    max_num_hands=2,\n",
    "    min_detection_confidence=0.5) as hands:\n",
    "    for index in range(len(input_images)):\n",
    "        img = input_images[index]\n",
    "        image = cv2.flip(img, 1)\n",
    "        results = hands.process(cv2.cvtColor(image, cv2.COLOR_BGR2RGB))\n",
    "        if results.multi_hand_landmarks:\n",
    "            draw_styled_hand_landmarks(image, results)\n",
    "            keypoints = extract_hand_keypoints(results)\n",
    "            X.append(keypoints)\n",
    "            y.append(image_labels[index])\n",
    "        else:\n",
    "            print(image_labels[index])\n",
    "            count = count+1"
   ]
  },
  {
   "cell_type": "code",
   "execution_count": 16,
   "id": "d2189301",
   "metadata": {},
   "outputs": [
    {
     "name": "stdout",
     "output_type": "stream",
     "text": [
      "496\n"
     ]
    }
   ],
   "source": [
    "print(count)"
   ]
  },
  {
   "cell_type": "code",
   "execution_count": 17,
   "id": "19fcd4ea",
   "metadata": {},
   "outputs": [
    {
     "data": {
      "text/plain": [
       "30704"
      ]
     },
     "execution_count": 17,
     "metadata": {},
     "output_type": "execute_result"
    }
   ],
   "source": [
    "len(X)"
   ]
  },
  {
   "cell_type": "code",
   "execution_count": 18,
   "id": "f5774456",
   "metadata": {
    "scrolled": false
   },
   "outputs": [
    {
     "data": {
      "text/plain": [
       "30704"
      ]
     },
     "execution_count": 18,
     "metadata": {},
     "output_type": "execute_result"
    }
   ],
   "source": [
    "len(y)"
   ]
  },
  {
   "cell_type": "code",
   "execution_count": 19,
   "id": "4098afde",
   "metadata": {},
   "outputs": [],
   "source": [
    "X_total = np.array(X)"
   ]
  },
  {
   "cell_type": "code",
   "execution_count": 20,
   "id": "799eec56",
   "metadata": {},
   "outputs": [],
   "source": [
    "y_total = to_categorical(y).astype(int) # y is a 1-hot representation of output label"
   ]
  },
  {
   "cell_type": "code",
   "execution_count": 21,
   "id": "8bf41012",
   "metadata": {},
   "outputs": [
    {
     "data": {
      "text/plain": [
       "(30704, 126)"
      ]
     },
     "execution_count": 21,
     "metadata": {},
     "output_type": "execute_result"
    }
   ],
   "source": [
    "X_total.shape"
   ]
  },
  {
   "cell_type": "code",
   "execution_count": 22,
   "id": "07af109c",
   "metadata": {},
   "outputs": [
    {
     "data": {
      "text/plain": [
       "(30704, 26)"
      ]
     },
     "execution_count": 22,
     "metadata": {},
     "output_type": "execute_result"
    }
   ],
   "source": [
    "y_total.shape"
   ]
  },
  {
   "cell_type": "code",
   "execution_count": 23,
   "id": "a524cb3f",
   "metadata": {},
   "outputs": [],
   "source": [
    "def batch_generate(X, Y, batch_size):\n",
    "    x = []\n",
    "    y = []\n",
    "    for i in range(0, X.shape[0], batch_size):\n",
    "        x.append(X[i:i+batch_size])\n",
    "        y.append(Y[i])\n",
    "    x = np.array(x)\n",
    "    y = np.array(y)\n",
    "    return x,y"
   ]
  },
  {
   "cell_type": "code",
   "execution_count": 24,
   "id": "b991ee9a",
   "metadata": {},
   "outputs": [],
   "source": [
    "batch_size = 16\n",
    "X_total_batch, y_total_batch = batch_generate(X_total, y_total, batch_size)"
   ]
  },
  {
   "cell_type": "code",
   "execution_count": 25,
   "id": "f59d541f",
   "metadata": {},
   "outputs": [
    {
     "data": {
      "text/plain": [
       "(1919, 16, 126)"
      ]
     },
     "execution_count": 25,
     "metadata": {},
     "output_type": "execute_result"
    }
   ],
   "source": [
    "X_total_batch.shape"
   ]
  },
  {
   "cell_type": "code",
   "execution_count": 26,
   "id": "118e86a9",
   "metadata": {},
   "outputs": [
    {
     "data": {
      "text/plain": [
       "(1919, 26)"
      ]
     },
     "execution_count": 26,
     "metadata": {},
     "output_type": "execute_result"
    }
   ],
   "source": [
    "y_total_batch.shape"
   ]
  },
  {
   "cell_type": "code",
   "execution_count": 27,
   "id": "f8620c6b",
   "metadata": {},
   "outputs": [],
   "source": [
    "X_train, X_test, y_train, y_test = train_test_split(X_total_batch, y_total_batch, test_size=0.2)"
   ]
  },
  {
   "cell_type": "code",
   "execution_count": 28,
   "id": "a86cfe2b",
   "metadata": {},
   "outputs": [
    {
     "data": {
      "text/plain": [
       "(1535, 16, 126)"
      ]
     },
     "execution_count": 28,
     "metadata": {},
     "output_type": "execute_result"
    }
   ],
   "source": [
    "X_train.shape"
   ]
  },
  {
   "cell_type": "code",
   "execution_count": 29,
   "id": "19d57590",
   "metadata": {},
   "outputs": [
    {
     "data": {
      "text/plain": [
       "(384, 16, 126)"
      ]
     },
     "execution_count": 29,
     "metadata": {},
     "output_type": "execute_result"
    }
   ],
   "source": [
    "X_test.shape"
   ]
  },
  {
   "cell_type": "code",
   "execution_count": 30,
   "id": "672571a1",
   "metadata": {},
   "outputs": [
    {
     "data": {
      "text/plain": [
       "(1535, 26)"
      ]
     },
     "execution_count": 30,
     "metadata": {},
     "output_type": "execute_result"
    }
   ],
   "source": [
    "y_train.shape"
   ]
  },
  {
   "cell_type": "code",
   "execution_count": 31,
   "id": "cc3d2b9e",
   "metadata": {},
   "outputs": [
    {
     "data": {
      "text/plain": [
       "(384, 26)"
      ]
     },
     "execution_count": 31,
     "metadata": {},
     "output_type": "execute_result"
    }
   ],
   "source": [
    "y_test.shape"
   ]
  },
  {
   "cell_type": "markdown",
   "id": "399101ed",
   "metadata": {},
   "source": [
    "X_train"
   ]
  },
  {
   "cell_type": "markdown",
   "id": "3859f983",
   "metadata": {},
   "source": [
    "def batch_generator(X,Y,batch_size,steps):\n",
    "    idx=1\n",
    "    while True: \n",
    "        yield load_data(X,Y,idx-1,batch_size)## Yields data\n",
    "        if idx<steps:\n",
    "            idx+=1\n",
    "        else:\n",
    "            idx=1"
   ]
  },
  {
   "cell_type": "markdown",
   "id": "1dd6e550",
   "metadata": {},
   "source": [
    "def load_data(X,Y,idx,batch_size):\n",
    "    #df = pd.read_csv(Train_df, skiprows=idx*batch_size,nrows=batch_size)\n",
    "    start = idx*batch_size\n",
    "    end = start + batch_size\n",
    "    x = X[start:end+1]    \n",
    "    y = Y[start:end+1]\n",
    "    print(x.shape)\n",
    "    print(y.shape)\n",
    "    return (x, y)"
   ]
  },
  {
   "cell_type": "markdown",
   "id": "e05382c9",
   "metadata": {},
   "source": [
    "my_training_batch_generator = batch_generator(X_train,y_train,batch_size,steps_per_epoch)\n",
    "my_validation_batch_generator = batch_generator(X_test,y_test,batch_size,validation_steps)"
   ]
  },
  {
   "cell_type": "code",
   "execution_count": 32,
   "id": "6c5b0479",
   "metadata": {},
   "outputs": [],
   "source": [
    "# Step 7 - build and train lSTM NN\n",
    "from tensorflow.keras.models import Sequential\n",
    "from tensorflow.keras.layers import LSTM, Dense\n",
    "from tensorflow.keras.callbacks import TensorBoard, EarlyStopping"
   ]
  },
  {
   "cell_type": "code",
   "execution_count": 33,
   "id": "a3dba74d",
   "metadata": {},
   "outputs": [],
   "source": [
    "# Before running this, delete the Logs folder\n",
    "log_dir = os.path.join('Logs')\n",
    "tb_callback = TensorBoard(log_dir=log_dir)"
   ]
  },
  {
   "cell_type": "code",
   "execution_count": 34,
   "id": "9533039b",
   "metadata": {},
   "outputs": [],
   "source": [
    "from keras.layers import Activation, Dense, Flatten, BatchNormalization, Conv1D, MaxPool1D, Dropout, TimeDistributed, RepeatVector"
   ]
  },
  {
   "cell_type": "code",
   "execution_count": 40,
   "id": "493e3f91",
   "metadata": {},
   "outputs": [],
   "source": [
    "model = Sequential()\n",
    "\n",
    "model.add(Conv1D(filters=32, kernel_size=1, activation='relu', input_shape=X_train.shape[1:]))\n",
    "model.add(MaxPool1D(pool_size=2, strides=None))\n",
    "\n",
    "#model.add(Conv1D(filters=64, kernel_size=3, activation='relu', padding = 'same'))\n",
    "model.add(MaxPool1D(pool_size=2, strides=None))\n",
    "\n",
    "model.add(Conv1D(filters=128, kernel_size=3, activation='relu', padding = 'valid'))\n",
    "model.add(MaxPool1D(pool_size=2, strides=None))\n",
    "\n",
    "model.add(Flatten())\n",
    "\n",
    "model.add(Dense(64,activation =\"relu\"))\n",
    "model.add(Dropout(0.2))\n",
    "model.add(Dense(64,activation =\"relu\"))\n",
    "model.add(Dropout(0.2))\n",
    "model.add(Dense(128,activation =\"relu\"))\n",
    "model.add(Dropout(0.2))\n",
    "model.add(Dense(128,activation =\"relu\"))\n",
    "model.add(Dropout(0.3))\n",
    "model.add(Dense(actions.shape[0],activation =\"softmax\"))"
   ]
  },
  {
   "cell_type": "code",
   "execution_count": 41,
   "id": "a5bbb03d",
   "metadata": {},
   "outputs": [],
   "source": [
    "model.compile(optimizer='Adam', loss='categorical_crossentropy', metrics=['categorical_accuracy'])"
   ]
  },
  {
   "cell_type": "code",
   "execution_count": 42,
   "id": "0e85302e",
   "metadata": {},
   "outputs": [
    {
     "name": "stdout",
     "output_type": "stream",
     "text": [
      "Model: \"sequential_1\"\n",
      "_________________________________________________________________\n",
      " Layer (type)                Output Shape              Param #   \n",
      "=================================================================\n",
      " conv1d_2 (Conv1D)           (None, 16, 32)            4064      \n",
      "                                                                 \n",
      " max_pooling1d_3 (MaxPooling  (None, 8, 32)            0         \n",
      " 1D)                                                             \n",
      "                                                                 \n",
      " max_pooling1d_4 (MaxPooling  (None, 4, 32)            0         \n",
      " 1D)                                                             \n",
      "                                                                 \n",
      " conv1d_3 (Conv1D)           (None, 2, 128)            12416     \n",
      "                                                                 \n",
      " max_pooling1d_5 (MaxPooling  (None, 1, 128)           0         \n",
      " 1D)                                                             \n",
      "                                                                 \n",
      " flatten_1 (Flatten)         (None, 128)               0         \n",
      "                                                                 \n",
      " dense_5 (Dense)             (None, 64)                8256      \n",
      "                                                                 \n",
      " dropout_4 (Dropout)         (None, 64)                0         \n",
      "                                                                 \n",
      " dense_6 (Dense)             (None, 64)                4160      \n",
      "                                                                 \n",
      " dropout_5 (Dropout)         (None, 64)                0         \n",
      "                                                                 \n",
      " dense_7 (Dense)             (None, 128)               8320      \n",
      "                                                                 \n",
      " dropout_6 (Dropout)         (None, 128)               0         \n",
      "                                                                 \n",
      " dense_8 (Dense)             (None, 128)               16512     \n",
      "                                                                 \n",
      " dropout_7 (Dropout)         (None, 128)               0         \n",
      "                                                                 \n",
      " dense_9 (Dense)             (None, 26)                3354      \n",
      "                                                                 \n",
      "=================================================================\n",
      "Total params: 57,082\n",
      "Trainable params: 57,082\n",
      "Non-trainable params: 0\n",
      "_________________________________________________________________\n"
     ]
    }
   ],
   "source": [
    "model.summary()"
   ]
  },
  {
   "cell_type": "code",
   "execution_count": null,
   "id": "6635367c",
   "metadata": {},
   "outputs": [],
   "source": [
    "#my_training_batch_generator.type_spec"
   ]
  },
  {
   "cell_type": "code",
   "execution_count": 43,
   "id": "912211ea",
   "metadata": {},
   "outputs": [
    {
     "name": "stdout",
     "output_type": "stream",
     "text": [
      "Epoch 1/50\n",
      "39/39 [==============================] - 9s 135ms/step - loss: 3.1934 - categorical_accuracy: 0.0489 - val_loss: 3.0306 - val_categorical_accuracy: 0.0782\n",
      "Epoch 2/50\n",
      "39/39 [==============================] - 4s 103ms/step - loss: 2.9504 - categorical_accuracy: 0.0993 - val_loss: 2.6465 - val_categorical_accuracy: 0.1564\n",
      "Epoch 3/50\n",
      "39/39 [==============================] - 2s 40ms/step - loss: 2.6106 - categorical_accuracy: 0.1564 - val_loss: 2.2363 - val_categorical_accuracy: 0.3322\n",
      "Epoch 4/50\n",
      "39/39 [==============================] - 2s 53ms/step - loss: 2.1950 - categorical_accuracy: 0.2524 - val_loss: 1.7264 - val_categorical_accuracy: 0.3909\n",
      "Epoch 5/50\n",
      "39/39 [==============================] - 2s 45ms/step - loss: 1.8193 - categorical_accuracy: 0.3436 - val_loss: 1.2171 - val_categorical_accuracy: 0.6938\n",
      "Epoch 6/50\n",
      "39/39 [==============================] - 1s 34ms/step - loss: 1.4983 - categorical_accuracy: 0.4463 - val_loss: 1.0378 - val_categorical_accuracy: 0.6906\n",
      "Epoch 7/50\n",
      "39/39 [==============================] - 1s 35ms/step - loss: 1.3267 - categorical_accuracy: 0.5049 - val_loss: 0.7150 - val_categorical_accuracy: 0.8111\n",
      "Epoch 8/50\n",
      "39/39 [==============================] - 1s 33ms/step - loss: 1.1082 - categorical_accuracy: 0.6140 - val_loss: 0.6793 - val_categorical_accuracy: 0.7687\n",
      "Epoch 9/50\n",
      "39/39 [==============================] - 2s 44ms/step - loss: 0.9275 - categorical_accuracy: 0.6743 - val_loss: 0.4691 - val_categorical_accuracy: 0.8534\n",
      "Epoch 10/50\n",
      "39/39 [==============================] - 3s 66ms/step - loss: 0.8473 - categorical_accuracy: 0.6938 - val_loss: 0.6089 - val_categorical_accuracy: 0.7883\n",
      "Epoch 11/50\n",
      "39/39 [==============================] - 2s 45ms/step - loss: 0.7716 - categorical_accuracy: 0.7158 - val_loss: 0.2971 - val_categorical_accuracy: 0.8925\n",
      "Epoch 12/50\n",
      "39/39 [==============================] - 2s 55ms/step - loss: 0.6124 - categorical_accuracy: 0.7842 - val_loss: 0.2339 - val_categorical_accuracy: 0.9316\n",
      "Epoch 13/50\n",
      "39/39 [==============================] - 2s 44ms/step - loss: 0.5235 - categorical_accuracy: 0.7940 - val_loss: 0.2745 - val_categorical_accuracy: 0.9055\n",
      "Epoch 14/50\n",
      "39/39 [==============================] - 2s 48ms/step - loss: 0.5045 - categorical_accuracy: 0.8314 - val_loss: 0.1938 - val_categorical_accuracy: 0.9349\n",
      "Epoch 15/50\n",
      "39/39 [==============================] - 2s 41ms/step - loss: 0.4409 - categorical_accuracy: 0.8388 - val_loss: 0.1728 - val_categorical_accuracy: 0.9349\n",
      "Epoch 16/50\n",
      "39/39 [==============================] - 2s 40ms/step - loss: 0.4443 - categorical_accuracy: 0.8502 - val_loss: 0.1477 - val_categorical_accuracy: 0.9577\n",
      "Epoch 17/50\n",
      "39/39 [==============================] - 2s 55ms/step - loss: 0.3049 - categorical_accuracy: 0.9039 - val_loss: 0.0811 - val_categorical_accuracy: 0.9772\n",
      "Epoch 18/50\n",
      "39/39 [==============================] - 2s 65ms/step - loss: 0.2888 - categorical_accuracy: 0.9072 - val_loss: 0.1175 - val_categorical_accuracy: 0.9609\n",
      "Epoch 19/50\n",
      "39/39 [==============================] - 2s 40ms/step - loss: 0.2512 - categorical_accuracy: 0.9178 - val_loss: 0.0922 - val_categorical_accuracy: 0.9837\n",
      "Epoch 20/50\n",
      "39/39 [==============================] - 2s 58ms/step - loss: 0.2367 - categorical_accuracy: 0.9251 - val_loss: 0.0984 - val_categorical_accuracy: 0.9577\n",
      "Epoch 21/50\n",
      "39/39 [==============================] - 3s 66ms/step - loss: 0.2094 - categorical_accuracy: 0.9275 - val_loss: 0.0911 - val_categorical_accuracy: 0.9837\n",
      "Epoch 22/50\n",
      "39/39 [==============================] - 2s 40ms/step - loss: 0.2142 - categorical_accuracy: 0.9251 - val_loss: 0.0602 - val_categorical_accuracy: 0.9805\n",
      "Epoch 23/50\n",
      "39/39 [==============================] - 2s 43ms/step - loss: 0.2521 - categorical_accuracy: 0.9218 - val_loss: 0.1009 - val_categorical_accuracy: 0.9674\n",
      "Epoch 24/50\n",
      "39/39 [==============================] - 3s 67ms/step - loss: 0.1993 - categorical_accuracy: 0.9332 - val_loss: 0.0825 - val_categorical_accuracy: 0.9674\n",
      "Epoch 25/50\n",
      "39/39 [==============================] - 3s 66ms/step - loss: 0.1920 - categorical_accuracy: 0.9422 - val_loss: 0.0436 - val_categorical_accuracy: 0.9870\n",
      "Epoch 26/50\n",
      "39/39 [==============================] - 2s 44ms/step - loss: 0.1817 - categorical_accuracy: 0.9414 - val_loss: 0.0585 - val_categorical_accuracy: 0.9870\n",
      "Epoch 27/50\n",
      "39/39 [==============================] - 2s 40ms/step - loss: 0.1632 - categorical_accuracy: 0.9544 - val_loss: 0.0261 - val_categorical_accuracy: 0.9837\n",
      "Epoch 28/50\n",
      "39/39 [==============================] - 2s 57ms/step - loss: 0.1471 - categorical_accuracy: 0.9463 - val_loss: 0.0467 - val_categorical_accuracy: 0.9870\n",
      "Epoch 29/50\n",
      "39/39 [==============================] - 1s 39ms/step - loss: 0.1048 - categorical_accuracy: 0.9707 - val_loss: 0.0319 - val_categorical_accuracy: 0.9902\n",
      "Epoch 30/50\n",
      "39/39 [==============================] - 2s 48ms/step - loss: 0.1280 - categorical_accuracy: 0.9634 - val_loss: 0.0459 - val_categorical_accuracy: 0.9870\n",
      "Epoch 31/50\n",
      "39/39 [==============================] - 2s 43ms/step - loss: 0.1123 - categorical_accuracy: 0.9625 - val_loss: 0.0552 - val_categorical_accuracy: 0.9870\n",
      "Epoch 32/50\n",
      "39/39 [==============================] - 2s 47ms/step - loss: 0.1282 - categorical_accuracy: 0.9577 - val_loss: 0.0356 - val_categorical_accuracy: 0.9870\n",
      "Epoch 33/50\n",
      "39/39 [==============================] - 2s 65ms/step - loss: 0.1024 - categorical_accuracy: 0.9634 - val_loss: 0.0262 - val_categorical_accuracy: 0.9902\n",
      "Epoch 34/50\n",
      "39/39 [==============================] - 2s 57ms/step - loss: 0.1665 - categorical_accuracy: 0.9446 - val_loss: 0.0531 - val_categorical_accuracy: 0.9805\n",
      "Epoch 35/50\n",
      "39/39 [==============================] - 2s 40ms/step - loss: 0.1757 - categorical_accuracy: 0.9454 - val_loss: 0.0296 - val_categorical_accuracy: 0.9935\n",
      "Epoch 36/50\n",
      "39/39 [==============================] - 3s 66ms/step - loss: 0.1295 - categorical_accuracy: 0.9536 - val_loss: 0.0510 - val_categorical_accuracy: 0.9902\n",
      "Epoch 37/50\n",
      "39/39 [==============================] - 1s 38ms/step - loss: 0.1082 - categorical_accuracy: 0.9691 - val_loss: 0.0475 - val_categorical_accuracy: 0.9870\n",
      "Epoch 38/50\n",
      "39/39 [==============================] - 2s 61ms/step - loss: 0.0776 - categorical_accuracy: 0.9723 - val_loss: 0.0378 - val_categorical_accuracy: 0.9902\n",
      "Epoch 39/50\n",
      "39/39 [==============================] - 2s 42ms/step - loss: 0.1079 - categorical_accuracy: 0.9634 - val_loss: 0.0390 - val_categorical_accuracy: 0.9967\n",
      "Epoch 40/50\n",
      "39/39 [==============================] - 2s 39ms/step - loss: 0.0876 - categorical_accuracy: 0.9715 - val_loss: 0.0311 - val_categorical_accuracy: 0.9935\n",
      "Epoch 41/50\n",
      "39/39 [==============================] - 2s 40ms/step - loss: 0.0672 - categorical_accuracy: 0.9748 - val_loss: 0.0324 - val_categorical_accuracy: 0.9902\n",
      "Epoch 42/50\n",
      "39/39 [==============================] - 3s 66ms/step - loss: 0.0752 - categorical_accuracy: 0.9780 - val_loss: 0.0463 - val_categorical_accuracy: 0.9870\n",
      "Epoch 43/50\n",
      "39/39 [==============================] - 2s 61ms/step - loss: 0.0777 - categorical_accuracy: 0.9731 - val_loss: 0.0527 - val_categorical_accuracy: 0.9902\n",
      "Epoch 44/50\n",
      "39/39 [==============================] - 2s 57ms/step - loss: 0.1001 - categorical_accuracy: 0.9707 - val_loss: 0.0568 - val_categorical_accuracy: 0.9870\n",
      "Epoch 45/50\n",
      "39/39 [==============================] - 2s 51ms/step - loss: 0.1090 - categorical_accuracy: 0.9666 - val_loss: 0.0295 - val_categorical_accuracy: 0.9902\n",
      "Epoch 46/50\n",
      "39/39 [==============================] - 1s 39ms/step - loss: 0.0985 - categorical_accuracy: 0.9658 - val_loss: 0.0366 - val_categorical_accuracy: 0.9870\n",
      "Epoch 47/50\n",
      "39/39 [==============================] - 1s 39ms/step - loss: 0.1002 - categorical_accuracy: 0.9666 - val_loss: 0.0339 - val_categorical_accuracy: 0.9967\n",
      "Epoch 48/50\n",
      "39/39 [==============================] - 1s 39ms/step - loss: 0.0724 - categorical_accuracy: 0.9788 - val_loss: 0.0393 - val_categorical_accuracy: 0.9935\n",
      "Epoch 49/50\n",
      "39/39 [==============================] - 1s 39ms/step - loss: 0.0906 - categorical_accuracy: 0.9699 - val_loss: 0.0476 - val_categorical_accuracy: 0.9902\n",
      "Epoch 50/50\n"
     ]
    },
    {
     "name": "stdout",
     "output_type": "stream",
     "text": [
      "39/39 [==============================] - 2s 49ms/step - loss: 0.0752 - categorical_accuracy: 0.9805 - val_loss: 0.0172 - val_categorical_accuracy: 0.9967\n"
     ]
    }
   ],
   "source": [
    "history = model.fit(X_train, y_train, validation_split=0.2, epochs=50)"
   ]
  },
  {
   "cell_type": "code",
   "execution_count": 44,
   "id": "c600e018",
   "metadata": {},
   "outputs": [
    {
     "name": "stdout",
     "output_type": "stream",
     "text": [
      "dict_keys(['loss', 'categorical_accuracy', 'val_loss', 'val_categorical_accuracy'])\n"
     ]
    }
   ],
   "source": [
    "print(history.history.keys())"
   ]
  },
  {
   "cell_type": "code",
   "execution_count": 45,
   "id": "1184301b",
   "metadata": {},
   "outputs": [
    {
     "name": "stdout",
     "output_type": "stream",
     "text": [
      "Model: \"sequential_1\"\n",
      "_________________________________________________________________\n",
      " Layer (type)                Output Shape              Param #   \n",
      "=================================================================\n",
      " conv1d_2 (Conv1D)           (None, 16, 32)            4064      \n",
      "                                                                 \n",
      " max_pooling1d_3 (MaxPooling  (None, 8, 32)            0         \n",
      " 1D)                                                             \n",
      "                                                                 \n",
      " max_pooling1d_4 (MaxPooling  (None, 4, 32)            0         \n",
      " 1D)                                                             \n",
      "                                                                 \n",
      " conv1d_3 (Conv1D)           (None, 2, 128)            12416     \n",
      "                                                                 \n",
      " max_pooling1d_5 (MaxPooling  (None, 1, 128)           0         \n",
      " 1D)                                                             \n",
      "                                                                 \n",
      " flatten_1 (Flatten)         (None, 128)               0         \n",
      "                                                                 \n",
      " dense_5 (Dense)             (None, 64)                8256      \n",
      "                                                                 \n",
      " dropout_4 (Dropout)         (None, 64)                0         \n",
      "                                                                 \n",
      " dense_6 (Dense)             (None, 64)                4160      \n",
      "                                                                 \n",
      " dropout_5 (Dropout)         (None, 64)                0         \n",
      "                                                                 \n",
      " dense_7 (Dense)             (None, 128)               8320      \n",
      "                                                                 \n",
      " dropout_6 (Dropout)         (None, 128)               0         \n",
      "                                                                 \n",
      " dense_8 (Dense)             (None, 128)               16512     \n",
      "                                                                 \n",
      " dropout_7 (Dropout)         (None, 128)               0         \n",
      "                                                                 \n",
      " dense_9 (Dense)             (None, 26)                3354      \n",
      "                                                                 \n",
      "=================================================================\n",
      "Total params: 57,082\n",
      "Trainable params: 57,082\n",
      "Non-trainable params: 0\n",
      "_________________________________________________________________\n"
     ]
    }
   ],
   "source": [
    "model.summary()"
   ]
  },
  {
   "cell_type": "code",
   "execution_count": 46,
   "id": "4730fa35",
   "metadata": {},
   "outputs": [
    {
     "data": {
      "text/plain": [
       "50"
      ]
     },
     "execution_count": 46,
     "metadata": {},
     "output_type": "execute_result"
    }
   ],
   "source": [
    "len(history.history['categorical_accuracy'])"
   ]
  },
  {
   "cell_type": "code",
   "execution_count": 70,
   "id": "3b02b8f5",
   "metadata": {},
   "outputs": [
    {
     "data": {
      "image/png": "[encoded data removed]",
      "text/plain": [
       "<Figure size 1440x720 with 1 Axes>"
      ]
     },
     "metadata": {},
     "output_type": "display_data"
    }
   ],
   "source": [
    "# summarize history for accuracy\n",
    "plt.plot(history.history['categorical_accuracy'])\n",
    "plt.plot(history.history['val_categorical_accuracy'])\n",
    "plt.title('Model accuracy')\n",
    "plt.ylabel('Accuracy')\n",
    "plt.xlabel('Epoch')\n",
    "plt.legend(['Train', 'Test'], loc='lower left')\n",
    "#plt.show()\n",
    "plt.savefig('accuracy.pdf', dpi = 700)"
   ]
  },
  {
   "cell_type": "code",
   "execution_count": 71,
   "id": "dd6f4b76",
   "metadata": {},
   "outputs": [
    {
     "data": {
      "image/png": "[encoded data removed]",
      "text/plain": [
       "<Figure size 1440x720 with 1 Axes>"
      ]
     },
     "metadata": {},
     "output_type": "display_data"
    }
   ],
   "source": [
    "# summarize history for loss\n",
    "plt.plot(history.history['loss'])\n",
    "plt.plot(history.history['val_loss'])\n",
    "plt.title('Model loss')\n",
    "plt.ylabel('Loss')\n",
    "plt.xlabel('Epoch')\n",
    "plt.legend(['Train', 'Test'], loc='upper left')\n",
    "#plt.show()\n",
    "plt.savefig('loss.pdf', dpi = 700)"
   ]
  },
  {
   "cell_type": "code",
   "execution_count": null,
   "id": "1beef07f",
   "metadata": {},
   "outputs": [],
   "source": [
    "! pip install pydot"
   ]
  },
  {
   "cell_type": "code",
   "execution_count": 72,
   "id": "41873402",
   "metadata": {},
   "outputs": [],
   "source": [
    "from tensorflow.keras.utils import plot_model\n",
    "\n",
    "#model = ResNet50(weights='imagenet')\n",
    "plot_model(model, to_file='model.pdf', dpi = 700, show_shapes=True)"
   ]
  },
  {
   "cell_type": "code",
   "execution_count": 50,
   "id": "f73c99f3",
   "metadata": {},
   "outputs": [],
   "source": [
    "# Step 8 - Make prediction\n",
    "res = model.predict(X_test)"
   ]
  },
  {
   "cell_type": "code",
   "execution_count": 51,
   "id": "050530cd",
   "metadata": {},
   "outputs": [
    {
     "data": {
      "text/plain": [
       "'L'"
      ]
     },
     "execution_count": 51,
     "metadata": {},
     "output_type": "execute_result"
    }
   ],
   "source": [
    "actions[np.argmax(res[0])]"
   ]
  },
  {
   "cell_type": "code",
   "execution_count": 52,
   "id": "3844a38d",
   "metadata": {},
   "outputs": [
    {
     "data": {
      "text/plain": [
       "'L'"
      ]
     },
     "execution_count": 52,
     "metadata": {},
     "output_type": "execute_result"
    }
   ],
   "source": [
    "actions[np.argmax(y_test[0])]"
   ]
  },
  {
   "cell_type": "code",
   "execution_count": 53,
   "id": "880c4b32",
   "metadata": {},
   "outputs": [],
   "source": [
    "from sklearn.metrics import multilabel_confusion_matrix, confusion_matrix, accuracy_score, precision_recall_fscore_support"
   ]
  },
  {
   "cell_type": "code",
   "execution_count": 74,
   "id": "490d85d0",
   "metadata": {},
   "outputs": [
    {
     "data": {
      "image/png": "[encoded data removed]",
      "text/plain": [
       "<Figure size 1440x720 with 2 Axes>"
      ]
     },
     "metadata": {},
     "output_type": "display_data"
    }
   ],
   "source": [
    "import seaborn as sns\n",
    "yhat = model.predict(X_test)\n",
    "ytrue = np.argmax(y_test, axis=1)\n",
    "yhat = np.argmax(yhat, axis=1)\n",
    "\n",
    "cf_matr = confusion_matrix(ytrue, yhat)\n",
    "sns.set(rc = {'figure.figsize':(20, 10)})\n",
    "hmap = sns.heatmap(cf_matr,xticklabels=actions,yticklabels=actions)\n",
    "hmap\n",
    "figure = hmap.get_figure()    \n",
    "figure.savefig('Confusion_matrix.pdf', dpi=700)"
   ]
  },
  {
   "cell_type": "code",
   "execution_count": 55,
   "id": "6a666a0d",
   "metadata": {},
   "outputs": [],
   "source": [
    "yhat = model.predict(X_test)\n",
    "ytrue = np.argmax(y_test, axis=1).tolist()\n",
    "yhat = np.argmax(yhat, axis=1).tolist()"
   ]
  },
  {
   "cell_type": "code",
   "execution_count": 56,
   "id": "73f546f5",
   "metadata": {},
   "outputs": [
    {
     "name": "stdout",
     "output_type": "stream",
     "text": [
      "Accuracy Score: 0.9947916666666666\n"
     ]
    }
   ],
   "source": [
    "conf_matrix = multilabel_confusion_matrix(ytrue, yhat)\n",
    "print(\"Accuracy Score: {}\".format(accuracy_score(ytrue, yhat)))"
   ]
  },
  {
   "cell_type": "code",
   "execution_count": 57,
   "id": "3ee1d088",
   "metadata": {},
   "outputs": [
    {
     "name": "stdout",
     "output_type": "stream",
     "text": [
      "Precision Score: 0.9914529914529915\n",
      "Recall Score: 0.9949903038138331\n",
      "F1 Score: 0.9926023051023051\n",
      "F Beta Score for Beta as 0.5 = 0.9917867805464705\n"
     ]
    }
   ],
   "source": [
    "from sklearn.metrics import fbeta_score \n",
    "(precision, recall, f1_score, _) = precision_recall_fscore_support(ytrue, yhat, average='macro')\n",
    "print(\"Precision Score: {}\\nRecall Score: {}\\nF1 Score: {}\".format(precision, recall, f1_score))\n",
    "print(\"F Beta Score for Beta as 0.5 = {}\".format(fbeta_score(ytrue, yhat, average='macro', beta=0.5)))"
   ]
  },
  {
   "cell_type": "code",
   "execution_count": 58,
   "id": "66772715",
   "metadata": {},
   "outputs": [
    {
     "name": "stdout",
     "output_type": "stream",
     "text": [
      "              precision    recall  f1-score   support\n",
      "\n",
      "           A       1.00      1.00      1.00        22\n",
      "           B       1.00      1.00      1.00        12\n",
      "           C       1.00      1.00      1.00        13\n",
      "           D       1.00      1.00      1.00        18\n",
      "           E       1.00      1.00      1.00        17\n",
      "           F       1.00      1.00      1.00        13\n",
      "           G       1.00      1.00      1.00        12\n",
      "           H       1.00      1.00      1.00        15\n",
      "           I       1.00      0.93      0.96        14\n",
      "           J       1.00      0.94      0.97        17\n",
      "           K       1.00      1.00      1.00        18\n",
      "           L       1.00      1.00      1.00        14\n",
      "           M       1.00      1.00      1.00        19\n",
      "           N       1.00      1.00      1.00        17\n",
      "           O       1.00      1.00      1.00        15\n",
      "           P       1.00      1.00      1.00        17\n",
      "           Q       1.00      1.00      1.00         9\n",
      "           R       1.00      1.00      1.00        18\n",
      "           S       1.00      1.00      1.00        13\n",
      "           T       1.00      1.00      1.00        15\n",
      "           U       1.00      1.00      1.00        13\n",
      "           V       1.00      1.00      1.00        13\n",
      "           W       0.78      1.00      0.88         7\n",
      "           X       1.00      1.00      1.00        11\n",
      "           Y       1.00      1.00      1.00        11\n",
      "           Z       1.00      1.00      1.00        21\n",
      "\n",
      "    accuracy                           0.99       384\n",
      "   macro avg       0.99      0.99      0.99       384\n",
      "weighted avg       1.00      0.99      1.00       384\n",
      "\n"
     ]
    }
   ],
   "source": [
    "from sklearn.metrics import classification_report\n",
    "print(classification_report(ytrue, yhat, target_names=actions))"
   ]
  },
  {
   "cell_type": "code",
   "execution_count": 59,
   "id": "44f72c9f",
   "metadata": {},
   "outputs": [
    {
     "name": "stdout",
     "output_type": "stream",
     "text": [
      "Hamming Loss: 0.005208333333333333\n"
     ]
    }
   ],
   "source": [
    "from sklearn.metrics import hamming_loss\n",
    "print(\"Hamming Loss: {}\".format(hamming_loss(ytrue, yhat)))"
   ]
  },
  {
   "cell_type": "code",
   "execution_count": 60,
   "id": "c1b71974",
   "metadata": {},
   "outputs": [
    {
     "name": "stdout",
     "output_type": "stream",
     "text": [
      "Jaccard Score: 0.9864432952668246\n",
      "Matthews correlation coefficient: 0.9945930330561241\n"
     ]
    }
   ],
   "source": [
    "from sklearn.metrics import jaccard_score, matthews_corrcoef\n",
    "print(\"Jaccard Score: {}\".format(jaccard_score(ytrue, yhat, average='macro')))\n",
    "print(\"Matthews correlation coefficient: {}\".format(matthews_corrcoef(ytrue, yhat)))"
   ]
  },
  {
   "cell_type": "code",
   "execution_count": 61,
   "id": "6245c168",
   "metadata": {},
   "outputs": [],
   "source": [
    "import pandas as pd\n",
    "import matplotlib.pyplot as plt\n",
    "\n",
    "\n",
    "def print_confusion_matrix(confusion_matrix, axes, class_label, class_names, fontsize=14):\n",
    "\n",
    "    df_cm = pd.DataFrame(\n",
    "        confusion_matrix, index=class_names, columns=class_names,\n",
    "    )\n",
    "\n",
    "    try:\n",
    "        heatmap = sns.heatmap(df_cm, annot=True, fmt=\"d\", cbar=False, ax=axes)\n",
    "    except ValueError:\n",
    "        raise ValueError(\"Confusion matrix values must be integers.\")\n",
    "    heatmap.yaxis.set_ticklabels(heatmap.yaxis.get_ticklabels(), rotation=0, ha='right', fontsize=fontsize)\n",
    "    heatmap.xaxis.set_ticklabels(heatmap.xaxis.get_ticklabels(), rotation=45, ha='right', fontsize=fontsize)\n",
    "    axes.set_ylabel('True label')\n",
    "    axes.set_xlabel('Predicted label')\n",
    "    axes.set_title(\"Confusion Matrix for the class - \" + class_label)"
   ]
  },
  {
   "cell_type": "code",
   "execution_count": 62,
   "id": "be42467e",
   "metadata": {},
   "outputs": [
    {
     "data": {
      "text/plain": [
       "array(['M', 'N', 'O', 'P', 'Q', 'R', 'S', 'T', 'U', 'V', 'W', 'X', 'Y',\n",
       "       'Z'], dtype='<U1')"
      ]
     },
     "execution_count": 62,
     "metadata": {},
     "output_type": "execute_result"
    }
   ],
   "source": [
    "actions[12:]"
   ]
  },
  {
   "cell_type": "code",
   "execution_count": 75,
   "id": "cc684288",
   "metadata": {},
   "outputs": [
    {
     "data": {
      "image/png": "[encoded data removed]",
      "text/plain": [
       "<Figure size 720x1440 with 12 Axes>"
      ]
     },
     "metadata": {},
     "output_type": "display_data"
    }
   ],
   "source": [
    "fig, ax = plt.subplots(6, 2, figsize=(10, 20))\n",
    "    \n",
    "for axes, cfs_matrix, label in zip(ax.flatten(), conf_matrix[0:12], actions[0:12]):\n",
    "    print_confusion_matrix(cfs_matrix, axes, label, [\"F\", \"T\"])\n",
    "\n",
    "fig.tight_layout()\n",
    "#plt.show()\n",
    "plt.savefig('conf_mat.pdf', dpi = 700)"
   ]
  },
  {
   "cell_type": "code",
   "execution_count": 76,
   "id": "7bdbc5a8",
   "metadata": {},
   "outputs": [
    {
     "data": {
      "image/png": "[encoded data removed]",
      "text/plain": [
       "<Figure size 720x1728 with 14 Axes>"
      ]
     },
     "metadata": {},
     "output_type": "display_data"
    }
   ],
   "source": [
    "fig, ax = plt.subplots(7, 2, figsize=(10, 24))\n",
    "    \n",
    "for axes, cfs_matrix, label in zip(ax.flatten(), conf_matrix[12:], actions[12:]):\n",
    "    print_confusion_matrix(cfs_matrix, axes, label, [\"F\", \"T\"])\n",
    "\n",
    "fig.tight_layout()\n",
    "#plt.show()\n",
    "plt.savefig('conf_mat2.pdf', dpi = 700)"
   ]
  },
  {
   "cell_type": "code",
   "execution_count": 65,
   "id": "fa10e646",
   "metadata": {},
   "outputs": [],
   "source": [
    "# Uncomment to save your model\n",
    "model.save('actionA_to_ZBenchmark.h5')"
   ]
  },
  {
   "cell_type": "code",
   "execution_count": null,
   "id": "450d905a",
   "metadata": {},
   "outputs": [],
   "source": [
    "new_actions = np.array(['C', 'O'])\n",
    "new_label_map = {label:num for num, label in enumerate(new_actions)}\n",
    "new_label_map"
   ]
  },
  {
   "cell_type": "code",
   "execution_count": null,
   "id": "97ff31f8",
   "metadata": {},
   "outputs": [],
   "source": [
    "# CNN Model\n",
    "model = Sequential()\n",
    "\n",
    "model.add(Conv1D(filters=32, kernel_size=3, activation='relu', input_shape=(30, 126)))\n",
    "model.add(MaxPool1D(pool_size=2, strides=None))\n",
    "\n",
    "model.add(Conv1D(filters=64, kernel_size=3, activation='relu', padding = 'same'))\n",
    "model.add(MaxPool1D(pool_size=2, strides=None))\n",
    "\n",
    "model.add(Conv1D(filters=128, kernel_size=3, activation='relu', padding = 'valid'))\n",
    "model.add(MaxPool1D(pool_size=2, strides=None))\n",
    "\n",
    "model.add(Flatten())\n",
    "\n",
    "model.add(Dense(64,activation =\"relu\"))\n",
    "model.add(Dropout(0.2))\n",
    "model.add(Dense(128,activation =\"relu\"))\n",
    "model.add(Dropout(0.3))\n",
    "model.add(Dense(new_actions.shape[0],activation =\"softmax\"))"
   ]
  },
  {
   "cell_type": "code",
   "execution_count": null,
   "id": "de10265a",
   "metadata": {},
   "outputs": [],
   "source": [
    "model.compile(optimizer='Adam', loss='categorical_crossentropy', metrics=['categorical_accuracy'])"
   ]
  },
  {
   "cell_type": "code",
   "execution_count": null,
   "id": "ec83e673",
   "metadata": {},
   "outputs": [],
   "source": [
    "sequences, labels = [], []\n",
    "for action in new_actions:\n",
    "    for sequence in range(no_sequences):\n",
    "        window = []\n",
    "        for frame_num in range(sequence_length):\n",
    "            res = np.load(os.path.join(DATA_PATH, action, str(sequence), \"{}.npy\".format(frame_num)))\n",
    "            window.append(res)\n",
    "        sequences.append(window)\n",
    "        labels.append(new_label_map[action])"
   ]
  },
  {
   "cell_type": "code",
   "execution_count": null,
   "id": "ebd9249b",
   "metadata": {},
   "outputs": [],
   "source": [
    "X = np.array(sequences)"
   ]
  },
  {
   "cell_type": "code",
   "execution_count": null,
   "id": "962354ef",
   "metadata": {},
   "outputs": [],
   "source": [
    "y = to_categorical(labels).astype(int)"
   ]
  },
  {
   "cell_type": "code",
   "execution_count": null,
   "id": "998d1020",
   "metadata": {},
   "outputs": [],
   "source": [
    "X_train, X_test, y_train, y_test = train_test_split(X, y, test_size=0.3)"
   ]
  },
  {
   "cell_type": "code",
   "execution_count": null,
   "id": "b8359882",
   "metadata": {},
   "outputs": [],
   "source": [
    "X_train.shape"
   ]
  },
  {
   "cell_type": "code",
   "execution_count": null,
   "id": "6b1a5d4e",
   "metadata": {},
   "outputs": [],
   "source": [
    "y_train.shape"
   ]
  },
  {
   "cell_type": "code",
   "execution_count": null,
   "id": "a0fa8f91",
   "metadata": {},
   "outputs": [],
   "source": [
    "model.fit(X_train, y_train, epochs=100)"
   ]
  },
  {
   "cell_type": "code",
   "execution_count": null,
   "id": "81a6c95b",
   "metadata": {},
   "outputs": [],
   "source": [
    "model.summary()"
   ]
  },
  {
   "cell_type": "code",
   "execution_count": null,
   "id": "bacc7e9f",
   "metadata": {},
   "outputs": [],
   "source": [
    "# Step 8 - Make prediction\n",
    "res = model.predict(X_test)"
   ]
  },
  {
   "cell_type": "code",
   "execution_count": null,
   "id": "f5d009ba",
   "metadata": {},
   "outputs": [],
   "source": [
    "yhat = model.predict(X_test)\n",
    "ytrue = np.argmax(y_test, axis=1)\n",
    "yhat = np.argmax(yhat, axis=1)\n",
    "\n",
    "cf_matr2 = confusion_matrix(ytrue, yhat)\n",
    "sns.set(rc = {'figure.figsize':(5, 4)})\n",
    "hmap2 = sns.heatmap(cf_matr2,xticklabels=new_actions,yticklabels=new_actions)\n",
    "hmap2\n",
    "figure = hmap2.get_figure()    \n",
    "figure.savefig('Confusion_matrixCO.pdf', dpi=700)"
   ]
  },
  {
   "cell_type": "code",
   "execution_count": null,
   "id": "48a7a573",
   "metadata": {},
   "outputs": [],
   "source": [
    "ytrue = np.argmax(y_test, axis=1).tolist()\n",
    "yhat = np.argmax(model.predict(X_test), axis=1).tolist()\n",
    "accuracy_score(ytrue, yhat)"
   ]
  },
  {
   "cell_type": "code",
   "execution_count": null,
   "id": "48794497",
   "metadata": {},
   "outputs": [],
   "source": [
    "# Uncomment to save your model\n",
    "model.save('actionCO.h5')"
   ]
  },
  {
   "cell_type": "code",
   "execution_count": null,
   "id": "4c0b23db",
   "metadata": {},
   "outputs": [],
   "source": [
    "new_actions = np.array(['M', 'N'])\n",
    "new_label_map = {label:num for num, label in enumerate(new_actions)}\n",
    "new_label_map"
   ]
  },
  {
   "cell_type": "code",
   "execution_count": null,
   "id": "6be788d4",
   "metadata": {},
   "outputs": [],
   "source": [
    "# CNN Model\n",
    "model = Sequential()\n",
    "\n",
    "model.add(Conv1D(filters=32, kernel_size=3, activation='relu', input_shape=(30, 126)))\n",
    "model.add(MaxPool1D(pool_size=2, strides=None))\n",
    "\n",
    "model.add(Conv1D(filters=64, kernel_size=3, activation='relu', padding = 'same'))\n",
    "model.add(MaxPool1D(pool_size=2, strides=None))\n",
    "\n",
    "model.add(Conv1D(filters=128, kernel_size=3, activation='relu', padding = 'valid'))\n",
    "model.add(MaxPool1D(pool_size=2, strides=None))\n",
    "\n",
    "model.add(Flatten())\n",
    "\n",
    "model.add(Dense(64,activation =\"relu\"))\n",
    "model.add(Dropout(0.2))\n",
    "model.add(Dense(128,activation =\"relu\"))\n",
    "model.add(Dropout(0.3))\n",
    "model.add(Dense(new_actions.shape[0],activation =\"softmax\"))"
   ]
  },
  {
   "cell_type": "code",
   "execution_count": null,
   "id": "cedc557c",
   "metadata": {},
   "outputs": [],
   "source": [
    "model.compile(optimizer='Adam', loss='categorical_crossentropy', metrics=['categorical_accuracy'])"
   ]
  },
  {
   "cell_type": "code",
   "execution_count": null,
   "id": "11974d41",
   "metadata": {},
   "outputs": [],
   "source": [
    "sequences, labels = [], []\n",
    "for action in new_actions:\n",
    "    for sequence in range(no_sequences):\n",
    "        window = []\n",
    "        for frame_num in range(sequence_length):\n",
    "            res = np.load(os.path.join(DATA_PATH, action, str(sequence), \"{}.npy\".format(frame_num)))\n",
    "            window.append(res)\n",
    "        sequences.append(window)\n",
    "        labels.append(new_label_map[action])"
   ]
  },
  {
   "cell_type": "code",
   "execution_count": null,
   "id": "962074f3",
   "metadata": {},
   "outputs": [],
   "source": [
    "X = np.array(sequences)"
   ]
  },
  {
   "cell_type": "code",
   "execution_count": null,
   "id": "fdaf9b7b",
   "metadata": {},
   "outputs": [],
   "source": [
    "y = to_categorical(labels).astype(int)"
   ]
  },
  {
   "cell_type": "code",
   "execution_count": null,
   "id": "78c382a0",
   "metadata": {},
   "outputs": [],
   "source": [
    "X_train, X_test, y_train, y_test = train_test_split(X, y, test_size=0.3)"
   ]
  },
  {
   "cell_type": "code",
   "execution_count": null,
   "id": "7c343797",
   "metadata": {},
   "outputs": [],
   "source": [
    "X_train.shape"
   ]
  },
  {
   "cell_type": "code",
   "execution_count": null,
   "id": "f6496cf4",
   "metadata": {},
   "outputs": [],
   "source": [
    "y_train.shape"
   ]
  },
  {
   "cell_type": "code",
   "execution_count": null,
   "id": "c4f59e44",
   "metadata": {},
   "outputs": [],
   "source": [
    "model.fit(X_train, y_train, epochs=100)"
   ]
  },
  {
   "cell_type": "code",
   "execution_count": null,
   "id": "ede0b9d3",
   "metadata": {},
   "outputs": [],
   "source": [
    "model.summary()"
   ]
  },
  {
   "cell_type": "code",
   "execution_count": null,
   "id": "c2357a87",
   "metadata": {},
   "outputs": [],
   "source": [
    "# Step 8 - Make prediction\n",
    "res = model.predict(X_test)"
   ]
  },
  {
   "cell_type": "code",
   "execution_count": null,
   "id": "2f321e11",
   "metadata": {},
   "outputs": [],
   "source": [
    "yhat = model.predict(X_test)\n",
    "ytrue = np.argmax(y_test, axis=1)\n",
    "yhat = np.argmax(yhat, axis=1)\n",
    "\n",
    "cf_matr3 = confusion_matrix(ytrue, yhat)\n",
    "sns.set(rc = {'figure.figsize':(5, 4)})\n",
    "hmap3 = sns.heatmap(cf_matr3,xticklabels=new_actions,yticklabels=new_actions)\n",
    "hmap3\n",
    "figure = hmap3.get_figure()    \n",
    "figure.savefig('Confusion_matrixMN.pdf', dpi=700)"
   ]
  },
  {
   "cell_type": "code",
   "execution_count": null,
   "id": "b4b46a1d",
   "metadata": {},
   "outputs": [],
   "source": [
    "yhat = model.predict(X_test)\n",
    "ytrue = np.argmax(y_test, axis=1).tolist()\n",
    "yhat = np.argmax(model.predict(X_test), axis=1).tolist()\n",
    "accuracy_score(ytrue, yhat)"
   ]
  },
  {
   "cell_type": "code",
   "execution_count": null,
   "id": "8ed81e62",
   "metadata": {},
   "outputs": [],
   "source": [
    "plot_model(model, to_file='modelCO.pdf', dpi = 700, show_shapes=True)"
   ]
  },
  {
   "cell_type": "code",
   "execution_count": null,
   "id": "e57349a2",
   "metadata": {},
   "outputs": [],
   "source": [
    "# Uncomment to save your model\n",
    "model.save('actionMN.h5')"
   ]
  },
  {
   "cell_type": "code",
   "execution_count": null,
   "id": "f0c194ec",
   "metadata": {},
   "outputs": [],
   "source": []
  }
 ],
 "metadata": {
  "kernelspec": {
   "display_name": "Python 3 (ipykernel)",
   "language": "python",
   "name": "python3"
  },
  "language_info": {
   "codemirror_mode": {
    "name": "ipython",
    "version": 3
   },
   "file_extension": ".py",
   "mimetype": "text/x-python",
   "name": "python",
   "nbconvert_exporter": "python",
   "pygments_lexer": "ipython3",
   "version": "3.9.7"
  }
 },
 "nbformat": 4,
 "nbformat_minor": 5
}
